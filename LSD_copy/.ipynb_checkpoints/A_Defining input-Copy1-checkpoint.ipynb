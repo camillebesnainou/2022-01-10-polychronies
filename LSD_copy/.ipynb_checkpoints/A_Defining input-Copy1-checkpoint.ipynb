{
 "cells": [
  {
   "cell_type": "code",
   "execution_count": 1,
   "metadata": {
    "ExecuteTime": {
     "end_time": "2018-11-27T10:40:23.336073Z",
     "start_time": "2018-11-27T10:40:23.198269Z"
    }
   },
   "outputs": [],
   "source": [
    "%load_ext autoreload\n",
    "%autoreload 2\n",
    "%matplotlib inline"
   ]
  },
  {
   "cell_type": "markdown",
   "metadata": {},
   "source": [
    "Le but est de créer un réseau de neurones à Spike et de tester l'effet de l'introduction de délai  hétéro synaptique sur la sortie du réseau. L'idée de base est de créer des délais qui sont fixées de telle sorte qu'un pattern du signal va créer une synchronie au niveau postsynaptique et donc une sensibilité plus élevé pour les pattern qui sont appris apr rapport au bruit.\n",
    "\n",
    "\n",
    "Pour simplifier le problème on va considérer une topologie mono dimensionnelle en anneau. Un certain nombre de neurones vont couvrir uniformément le cercle unitaire, ce qui est une bonne approximation de la représentation des orientations dans une macro colonne du cortex visuel primaire. Toujours pour simplifier on va connecter ses neurones d'entrée avec des neurones de sortie organisée suivant la même topologie. \n",
    "\n",
    "\n",
    "# generating a synthetic input with an activity dependent delay\n",
    "\n",
    "Dans un premier temps on va modéliser une entrée synaptique avec une sélectivité à l'orientation comme une gaussienne sur l'espace circulaire, c'est-à-dire une distribution de von Mises. Comme montré dans les résultats de Celebrini, une entrée plus forte génère une latence plus courte. La relation est connue analytiquement et permet de générer un front d'activation aussi bien au niveau de l'activité que de la latence de décharge.\n"
   ]
  },
  {
   "cell_type": "code",
   "execution_count": 2,
   "metadata": {},
   "outputs": [],
   "source": [
    "%mkdir -p LSD"
   ]
  },
  {
   "cell_type": "code",
   "execution_count": 3,
   "metadata": {},
   "outputs": [
    {
     "name": "stdout",
     "output_type": "stream",
     "text": [
      "Overwriting LSD/__init__.py\n"
     ]
    }
   ],
   "source": [
    "%%writefile LSD/__init__.py\n",
    "\n",
    "import warnings\n",
    "warnings.filterwarnings('ignore')\n",
    "import numpy as np\n",
    "import matplotlib.pyplot as plt\n",
    "\n",
    "import pyNN.nest as sim\n",
    "from pyNN.utility import init_logging\n",
    "init_logging(logfile=None, level=35)\n",
    "from pyNN.random import RandomDistribution, NumpyRNG\n",
    "\n",
    "# === Define parameters ========================================================\n",
    "dt         = 0.5           # (ms)\n",
    "simtime    = 3000.0        # (ms)\n",
    "simtime    = 20000.0        # (ms)\n",
    "simtime_show = 900.0      # (ms)\n",
    "\n",
    "N_inputs = 60\n",
    "N_inputs = 180\n",
    "t_start = simtime_show/10.\n",
    "tau_stim = 250. # interval between two stimulations\n",
    "N_starts = simtime // tau_stim\n",
    "\n",
    "t_starts = np.linspace(t_start, simtime-tau_stim-t_start, int(N_starts))\n",
    "\n",
    "N_scan = 9\n",
    "N_scan = 5\n",
    "\n",
    "lambda_n = 10. # (Hz) rate of poisson noise\n",
    "weight_0, delay_0, delay_min = 10.0, 25., 1.\n",
    "inh_gain = 1.\n",
    "\n",
    "theta = .50 # in units of a period\n",
    "A_true = 1.5\n",
    "B_true = .5 # tuning of the input signal\n",
    "tau = 25.\n",
    "\n",
    "figsize = (21, 13)\n",
    "figsize = (15, 8)"
   ]
  },
  {
   "cell_type": "code",
   "execution_count": 4,
   "metadata": {},
   "outputs": [],
   "source": [
    "import LSD"
   ]
  },
  {
   "cell_type": "markdown",
   "metadata": {},
   "source": [
    "## tuning curves on circular space: von Mises + latency code"
   ]
  },
  {
   "cell_type": "code",
   "execution_count": 5,
   "metadata": {},
   "outputs": [
    {
     "name": "stdout",
     "output_type": "stream",
     "text": [
      "Overwriting LSD/tuning.py\n"
     ]
    }
   ],
   "source": [
    "%%writefile LSD/tuning.py\n",
    "\n",
    "from .__init__ import *\n",
    "\n",
    "def vonmises(N_inputs, theta=theta, B=B_true):\n",
    "    return np.exp((np.cos(2*np.pi*(np.linspace(0, 1, N_inputs)-theta))-1)/B**2)\n",
    "\n",
    "# TODO : show analog synaptic input\n",
    "# https://en.wikipedia.org/wiki/Von_Mises_distribution\n",
    "\n",
    "# TODO : compute latencies from a DC current injection\n",
    "# TODO : move the patterns / use dynamic patterns ?\n",
    "def get_latency(spike_times, current, tau=tau, t_start=100.):\n",
    "    N_inputs = current.size\n",
    "    if spike_times is None:\n",
    "        spike_times = []\n",
    "        for i_input in range(N_inputs):\n",
    "            spike_times.append([])\n",
    "            \n",
    "    for i_input in range(N_inputs):\n",
    "        if current[i_input] > 1:\n",
    "            spike_time = t_start + tau * np.log(1/(1 - 1/current[i_input]))\n",
    "            spike_times[i_input].append(spike_time)\n",
    "            \n",
    "    return spike_times\n",
    "\n",
    "def celebrini(N_inputs, A=A_true, theta=theta, B=B_true, tau=tau, t_starts=t_starts, verbose=False):\n",
    "    # https://www.cambridge.org/core/journals/visual-neuroscience/article/dynamics-of-orientation-coding-in-area-v1-of-the-awake-primate/906FA662AD71B432EB6D4F10795A397A\n",
    "    \n",
    "    current = A * vonmises(N_inputs, theta=theta, B=B)\n",
    "    if verbose : print('current.max()', current.max())\n",
    "\n",
    "    spike_times = None\n",
    "    for t_start in t_starts:\n",
    "        spike_times = get_latency(spike_times, current, tau=tau, t_start=t_start)\n",
    "    if verbose : print('spike_times', spike_times)\n",
    "    spike_source = sim.SpikeSourceArray(spike_times=spike_times)\n",
    "    \n",
    "    return spike_source\n",
    "\n"
   ]
  },
  {
   "cell_type": "code",
   "execution_count": 6,
   "metadata": {
    "tags": []
   },
   "outputs": [],
   "source": [
    "from LSD.tuning import *\n",
    "spike_source = celebrini(N_inputs, verbose=False)"
   ]
  },
  {
   "cell_type": "markdown",
   "metadata": {},
   "source": [
    "## simulating using pyNN + nest\n",
    "\n",
    "A dummy simulation to check the representation of input spikes within pyNN:"
   ]
  },
  {
   "cell_type": "code",
   "execution_count": 7,
   "metadata": {},
   "outputs": [],
   "source": [
    "# === Build the network ========================================================\n",
    "sim.setup(timestep=dt)\n",
    "spike_source = celebrini(N_inputs, verbose=False)\n",
    "spike_in = sim.Population(N_inputs, spike_source, label='input')\n",
    "spike_in.record('spikes')\n",
    "\n",
    "# === Run simulation ===========================================================\n",
    "sim.run(simtime)\n",
    "sim.end()\n",
    "    "
   ]
  },
  {
   "cell_type": "code",
   "execution_count": 8,
   "metadata": {},
   "outputs": [],
   "source": [
    "sts = spike_in.get_data().segments[0].spiketrains\n",
    "st = sts[0]"
   ]
  },
  {
   "cell_type": "code",
   "execution_count": 9,
   "metadata": {},
   "outputs": [
    {
     "data": {
      "text/plain": [
       "SpikeTrain\n",
       "annotations: {'source_population': 'input',\n",
       "  'source_id': 183,\n",
       "  'source_index': 0}"
      ]
     },
     "execution_count": 9,
     "metadata": {},
     "output_type": "execute_result"
    }
   ],
   "source": [
    "st"
   ]
  },
  {
   "cell_type": "markdown",
   "metadata": {},
   "source": [
    "## plotting code"
   ]
  },
  {
   "cell_type": "code",
   "execution_count": 10,
   "metadata": {},
   "outputs": [
    {
     "name": "stdout",
     "output_type": "stream",
     "text": [
      "Overwriting LSD/plot.py\n"
     ]
    }
   ],
   "source": [
    "%%writefile LSD/plot.py\n",
    "\n",
    "from .__init__ import *\n",
    "\n",
    "def plot_spiketrains(spiketrains, simtime=None, simtime_show=None, fig=None, ax=None, \n",
    "                     marker='|', color='r', linelengths=0.9, alpha=1, verbose=False):\n",
    "    \"\"\"\n",
    "    Plot all spike trains from a Segment into a raster plot.\n",
    "    \n",
    "    marker size is in points.\n",
    "    \n",
    "    \"\"\"\n",
    "    if fig is None:\n",
    "        fig, ax = plt.subplots(figsize = (12, 8))\n",
    "    if ax is None:\n",
    "        ax = fig.subplot(1, 1)\n",
    "    \n",
    "    if simtime is None:\n",
    "        from quantities import ms\n",
    "        simtime = spiketrains[0].t_stop / ms\n",
    "    if simtime_show is None:\n",
    "        simtime_show = simtime\n",
    "\n",
    "    ax.eventplot([np.array(spiketrain) for spiketrain in spiketrains], \n",
    "          colors=color, lineoffsets=1, linelengths=linelengths, alpha=alpha);\n",
    "    ax.set_ylabel(\"Neuron index\")\n",
    "    ax.set_xlabel('Time(ms)')\n",
    "    ax.set_xlim(0, simtime_show)\n",
    "    min_index, max_index = 0, len(spiketrains)\n",
    "    ax.set_yticks(np.linspace(min_index, max_index, 7, endpoint=True))\n",
    "    ax.set_ylim(-0.5 + min_index, max_index + 0.5)\n",
    "    return fig, ax\n",
    "\n",
    "\n",
    "def spike_count_per_neuron(pop):\n",
    "    sc = pop.get_spike_counts()\n",
    "    return np.array([sc[i] for i in pop.all_cells])\n",
    "\n",
    "def color(i=0, sat=1):\n",
    "    c = [0, 0, 0]\n",
    "    c[i] = sat \n",
    "    return c\n",
    "\n",
    "def histogram(output, fig=None, ax=None, sat=1, lw=1, label='tc_cells'):\n",
    "    if fig is None:\n",
    "        fig, ax = plt.subplots(figsize = (12,8))\n",
    "    if ax is None:\n",
    "        ax = fig.subplot(1, 1)\n",
    "    ax.plot(spike_count_per_neuron(output['noise_E'])/simtime, color=color(0, sat/2), lw=lw)\n",
    "    ax.plot(spike_count_per_neuron(output['noise_I'])/simtime, color=color(0, 1/2+ sat/2), lw=lw)\n",
    "    ax.plot(spike_count_per_neuron(output['spike_input'])/simtime, color=color(1, sat), lw=lw)\n",
    "    ax.plot(spike_count_per_neuron(output['tc_cells'])/simtime, color=color(2, sat), lw=lw, label=label)\n",
    "    ax.set_xticks(np.linspace(0, N_inputs, 7, endpoint=True))\n",
    "    return fig, ax\n"
   ]
  },
  {
   "cell_type": "code",
   "execution_count": 11,
   "metadata": {},
   "outputs": [
    {
     "data": {
      "image/png": "[encoded data removed]",
      "text/plain": [
       "<Figure size 864x576 with 1 Axes>"
      ]
     },
     "metadata": {
      "needs_background": "light"
     },
     "output_type": "display_data"
    }
   ],
   "source": [
    "from LSD.plot import *\n",
    "spiketrains = spike_in.get_data().segments[0].spiketrains\n",
    "fig, ax = plot_spiketrains(spiketrains, simtime_show=simtime_show, color='r')"
   ]
  },
  {
   "cell_type": "markdown",
   "metadata": {},
   "source": [
    "## effect of input's amplitude"
   ]
  },
  {
   "cell_type": "code",
   "execution_count": 12,
   "metadata": {},
   "outputs": [
    {
     "name": "stdout",
     "output_type": "stream",
     "text": [
      "A=0.871\n",
      "A=1.253\n",
      "A=1.803\n",
      "A=2.594\n",
      "A=3.732\n",
      "A=5.370\n",
      "A=7.727\n",
      "A=11.119\n",
      "A=16.000\n"
     ]
    },
    {
     "data": {
      "image/png": "[encoded data removed]",
      "text/plain": [
       "<Figure size 864x576 with 1 Axes>"
      ]
     },
     "metadata": {
      "needs_background": "light"
     },
     "output_type": "display_data"
    }
   ],
   "source": [
    "fig, ax = plt.subplots(figsize = (12,8))\n",
    "N_scan = 9\n",
    "for i_scan, A in enumerate(np.logspace(-.1, 2, N_scan, base=4)):\n",
    "    sim.setup(timestep=dt)\n",
    "    print(f'{A=:.3f}')\n",
    "    spike_source = celebrini(N_inputs, A=A)\n",
    "    spike_in = sim.Population(N_inputs, spike_source)\n",
    "    spike_in.record('spikes')\n",
    "\n",
    "    # === Run simulation ===========================================================\n",
    "\n",
    "    sim.run(simtime)\n",
    "    sim.end()\n",
    "    spiketrains = spike_in.get_data().segments[0].spiketrains\n",
    "    fig, ax = plot_spiketrains(spiketrains, color=(i_scan/N_scan, 0, 0), simtime_show=simtime_show, fig=fig, ax=ax)\n"
   ]
  },
  {
   "cell_type": "markdown",
   "metadata": {},
   "source": [
    "Dans notre modèle d'entrée, chaque pattern génère un spike et un seul par neurone. Par contre, la forme du front de Spike dépend de l'amplitude de cette entrée."
   ]
  },
  {
   "cell_type": "markdown",
   "metadata": {},
   "source": [
    "## effect of input's tuning"
   ]
  },
  {
   "cell_type": "code",
   "execution_count": 13,
   "metadata": {},
   "outputs": [
    {
     "name": "stdout",
     "output_type": "stream",
     "text": [
      "B=0.250\n",
      "B=0.354\n",
      "B=0.500\n",
      "B=0.707\n",
      "B=1.000\n",
      "B=1.414\n",
      "B=2.000\n",
      "B=2.828\n",
      "B=4.000\n"
     ]
    },
    {
     "data": {
      "image/png": "[encoded data removed]",
      "text/plain": [
       "<Figure size 864x576 with 1 Axes>"
      ]
     },
     "metadata": {
      "needs_background": "light"
     },
     "output_type": "display_data"
    }
   ],
   "source": [
    "fig, ax = plt.subplots(figsize = (12,8))\n",
    "for i_scan, B in enumerate(np.logspace(-1, 1, N_scan, base=4)):\n",
    "    sim.setup(timestep=dt)\n",
    "    print(f'{B=:.3f}')\n",
    "    spike_source = celebrini(N_inputs, B=B, verbose=False)\n",
    "    spike_in = sim.Population(N_inputs, spike_source)\n",
    "    spike_in.record('spikes')\n",
    "\n",
    "    # === Run simulation ===========================================================\n",
    "    sim.run(simtime)\n",
    "    sim.end()\n",
    "    spiketrains = spike_in.get_data().segments[0].spiketrains\n",
    "    fig, ax = plot_spiketrains(spiketrains, color=(i_scan/N_scan, 0, 0), simtime_show=simtime_show, fig=fig, ax=ax)\n"
   ]
  },
  {
   "cell_type": "markdown",
   "metadata": {},
   "source": [
    "## effect of input's mode (central orientation)"
   ]
  },
  {
   "cell_type": "code",
   "execution_count": 14,
   "metadata": {},
   "outputs": [
    {
     "name": "stdout",
     "output_type": "stream",
     "text": [
      "theta=0.000\n",
      "theta=0.125\n",
      "theta=0.250\n",
      "theta=0.375\n",
      "theta=0.500\n",
      "theta=0.625\n",
      "theta=0.750\n",
      "theta=0.875\n",
      "theta=1.000\n"
     ]
    },
    {
     "data": {
      "image/png": "[encoded data removed]",
      "text/plain": [
       "<Figure size 864x576 with 1 Axes>"
      ]
     },
     "metadata": {
      "needs_background": "light"
     },
     "output_type": "display_data"
    }
   ],
   "source": [
    "fig, ax = plt.subplots(figsize = (12,8))\n",
    "for i_scan, theta in enumerate(np.linspace(0, 1, N_scan)):\n",
    "    sim.setup(timestep=dt)\n",
    "    print(f'{theta=:.3f}')\n",
    "    spike_source = celebrini(N_inputs, theta=theta, verbose=False)\n",
    "    spike_in = sim.Population(N_inputs, spike_source)\n",
    "    spike_in.record('spikes')\n",
    "\n",
    "    # === Run simulation ===========================================================\n",
    "    sim.run(simtime)\n",
    "    sim.end()\n",
    "    spiketrains = spike_in.get_data().segments[0].spiketrains\n",
    "    fig, ax = plot_spiketrains(spiketrains, color=(i_scan/N_scan, 0, 0), simtime_show=simtime_show, fig=fig, ax=ax)\n"
   ]
  },
  {
   "cell_type": "markdown",
   "metadata": {},
   "source": [
    "## changing starting time"
   ]
  },
  {
   "cell_type": "code",
   "execution_count": 15,
   "metadata": {},
   "outputs": [
    {
     "name": "stdout",
     "output_type": "stream",
     "text": [
      "t_start=0.0\n",
      "t_start=112.5\n",
      "t_start=225.0\n",
      "t_start=337.5\n",
      "t_start=450.0\n",
      "t_start=562.5\n",
      "t_start=675.0\n",
      "t_start=787.5\n",
      "t_start=900.0\n"
     ]
    },
    {
     "data": {
      "image/png": "[encoded data removed]",
      "text/plain": [
       "<Figure size 864x576 with 1 Axes>"
      ]
     },
     "metadata": {
      "needs_background": "light"
     },
     "output_type": "display_data"
    }
   ],
   "source": [
    "fig, ax = plt.subplots(figsize = (12,8))\n",
    "for i_scan, t_start in enumerate(np.linspace(0, simtime_show, N_scan)):\n",
    "    sim.setup(timestep=dt)\n",
    "    print(f'{t_start=:.1f}')\n",
    "    spike_source = celebrini(N_inputs, t_starts=[t_start], theta=i_scan/N_scan+1/2, verbose=False)\n",
    "    spike_in = sim.Population(N_inputs, spike_source)\n",
    "    spike_in.record('spikes')\n",
    "\n",
    "    # === Run simulation ===========================================================\n",
    "    sim.run(simtime)\n",
    "    sim.end()\n",
    "    spiketrains = spike_in.get_data().segments[0].spiketrains\n",
    "    fig, ax = plot_spiketrains(spiketrains, color=(i_scan/N_scan, 0, 0), simtime_show=simtime_show, fig=fig, ax=ax)\n"
   ]
  },
  {
   "cell_type": "markdown",
   "metadata": {},
   "source": [
    "## adding more stimulations"
   ]
  },
  {
   "cell_type": "code",
   "execution_count": 16,
   "metadata": {},
   "outputs": [
    {
     "name": "stdout",
     "output_type": "stream",
     "text": [
      "t_start=0.0\n",
      "t_start=112.5\n",
      "t_start=225.0\n",
      "t_start=337.5\n",
      "t_start=450.0\n",
      "t_start=562.5\n",
      "t_start=675.0\n",
      "t_start=787.5\n",
      "t_start=900.0\n"
     ]
    },
    {
     "data": {
      "image/png": "[encoded data removed]",
      "text/plain": [
       "<Figure size 864x576 with 1 Axes>"
      ]
     },
     "metadata": {
      "needs_background": "light"
     },
     "output_type": "display_data"
    }
   ],
   "source": [
    "fig, ax = plt.subplots(figsize = (12,8))\n",
    "for i_scan, t_start in enumerate(np.linspace(0, simtime_show, N_scan)):\n",
    "    sim.setup(timestep=dt)\n",
    "    print(f'{t_start=:.1f}')\n",
    "    spike_source = celebrini(N_inputs, t_starts=[t_start], theta=i_scan/N_scan+1/2, verbose=False)\n",
    "    spike_in = sim.Population(N_inputs, spike_source)\n",
    "    spike_in.record('spikes')\n",
    "\n",
    "    # === Run simulation ===========================================================\n",
    "    sim.run(simtime)\n",
    "    sim.end()\n",
    "    spiketrains = spike_in.get_data().segments[0].spiketrains\n",
    "    fig, ax = plot_spiketrains(spiketrains, color=(i_scan/N_scan, 0, 0), simtime_show=simtime_show, fig=fig, ax=ax)\n"
   ]
  }
 ],
 "metadata": {
  "kernelspec": {
   "display_name": "Python 3 (ipykernel)",
   "language": "python",
   "name": "python3"
  },
  "language_info": {
   "codemirror_mode": {
    "name": "ipython",
    "version": 3
   },
   "file_extension": ".py",
   "mimetype": "text/x-python",
   "name": "python",
   "nbconvert_exporter": "python",
   "pygments_lexer": "ipython3",
   "version": "3.9.7"
  },
  "toc": {
   "base_numbering": 1,
   "nav_menu": {},
   "number_sections": true,
   "sideBar": true,
   "skip_h1_title": false,
   "title_cell": "Table of Contents",
   "title_sidebar": "Contents",
   "toc_cell": false,
   "toc_position": {},
   "toc_section_display": true,
   "toc_window_display": false
  },
  "toc-showmarkdowntxt": false
 },
 "nbformat": 4,
 "nbformat_minor": 4
}
