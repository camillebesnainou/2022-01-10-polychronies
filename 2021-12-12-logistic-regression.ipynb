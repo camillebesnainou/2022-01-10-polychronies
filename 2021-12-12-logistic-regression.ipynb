{
 "cells": [
  {
   "cell_type": "markdown",
   "metadata": {},
   "source": [
    "In a previous notebook, we have shown how to [fit a psychometric curve using pyTorch](https://laurentperrinet.github.io/sciblog/posts/2020-04-08-fitting-a-psychometric-curve-using-pytorch.html). Here, I would like to review some nice properies of the logistic regression model (WORK IN PROGRESS). \n",
    "\n",
    "<!-- TEASER_END -->\n",
    "\n",
    "Let's first initialize the notebook:"
   ]
  },
  {
   "cell_type": "markdown",
   "metadata": {},
   "source": [
    "# quelques définitions"
   ]
  },
  {
   "cell_type": "markdown",
   "metadata": {},
   "source": [
    "## initialisation du notebook"
   ]
  },
  {
   "cell_type": "markdown",
   "metadata": {},
   "source": [
    "Nous allons importer quelques librairies qui seront utilisées pour la manipulation numérique de matrices et l'affichage:"
   ]
  },
  {
   "cell_type": "code",
   "execution_count": 1,
   "metadata": {},
   "outputs": [],
   "source": [
    "import time\n",
    "import os\n",
    "import datetime\n",
    "import numpy as np\n",
    "import matplotlib.pyplot as plt"
   ]
  },
  {
   "cell_type": "markdown",
   "metadata": {},
   "source": [
    "## Définition des variables et fonctions\n",
    "\n",
    "... utiles pour réaliser une classification  de données synthétiques selon une régression logistique"
   ]
  },
  {
   "cell_type": "code",
   "execution_count": 2,
   "metadata": {},
   "outputs": [],
   "source": [
    "N = 256 # nombre de valeurs de l'entrée\n",
    "n_classes = 10 # nombre de classes\n",
    "N_batch = 100 # nombre d'entrée\n",
    "seed = 1973\n",
    "\n",
    "np.random.seed(seed)\n",
    "W = np.random.randn(N+1, n_classes) # FIXED design matrix of weights (w) according to classes\n",
    "\n",
    "# Definition de l'évidence (e) \n",
    "def evidence(W, X):\n",
    "    e = ( X @ W[:-1, :]) + W[-1, :] # W[:-1, :] = N-1 poids pour n_classes /// W[-1, :] = 1 biais pour chaque classe\n",
    "    return e\n",
    "\n",
    "# Transformation de l'entrée (e) en probabilité (p) selon une courbe de regression logistique\n",
    "def psychometric_function(W, X):\n",
    "    #e = ( X @ W[:-1, :]) + W[-1, :]\n",
    "    e = evidence(W, X)\n",
    "    return 1 / (1 + np.exp(-e))\n",
    "\n",
    "# Tirage de Bernoulli : si p > à random => 1, si p < à random = 0 \n",
    "def get_data(W, seed, N_batch):\n",
    "    N, n_classes = W.shape[0]-1, W.shape[1]\n",
    "    np.random.seed(seed)\n",
    "    X = np.random.randn(N_batch, N) #nos entrées (X) n_batc entrées comprenant chacune N valeurs\n",
    "    p = psychometric_function(W, X)\n",
    "    y = p > 0.5# Bernoulli, generate data \n",
    "    \n",
    "    return X, p, y"
   ]
  },
  {
   "cell_type": "code",
   "execution_count": 3,
   "metadata": {
    "tags": []
   },
   "outputs": [],
   "source": [
    "X, p, y = get_data(W, seed, N_batch)\n",
    "#e = (X @ W[:-1, :]) + W[-1, :]\n",
    "e = evidence(W, X)"
   ]
  },
  {
   "cell_type": "code",
   "execution_count": 4,
   "metadata": {},
   "outputs": [
    {
     "data": {
      "text/plain": [
       "((100, 256), (100, 10), (100, 10), (100, 10))"
      ]
     },
     "execution_count": 4,
     "metadata": {},
     "output_type": "execute_result"
    }
   ],
   "source": [
    "X, p, y = get_data(W, seed, N_batch) \n",
    "#e = ( X @ W[:-1, :]) + W[-1, :]\n",
    "X.shape, e.shape, p.shape, y.shape"
   ]
  },
  {
   "cell_type": "markdown",
   "metadata": {},
   "source": [
    "Avec __X,p,y = get_data(W, seed, N_batch)__ on appelle la fct get_data, qui appelle la fonction psychometric_function, qui appelle la fonction evidence afin de nous renvoyer les entrées X (100 entrées, comprenant chacune 256 valeures), les probabilités de classification de ces différentes entrées dans les différentes classes (p), et la classification après tirage de bernoulli (y = succès si p > 0.5, echcec si p < 0.5). Pour visualiser les sorties (p et y) en fonction des entrées (X et e), on les stock dans des arrays. "
   ]
  },
  {
   "cell_type": "markdown",
   "metadata": {},
   "source": [
    "## Visualisation des données"
   ]
  },
  {
   "cell_type": "markdown",
   "metadata": {},
   "source": [
    "Visualisation de p en fonction de e pour une classe :"
   ]
  },
  {
   "cell_type": "code",
   "execution_count": 5,
   "metadata": {},
   "outputs": [
    {
     "data": {
      "text/plain": [
       "<matplotlib.collections.PathCollection at 0x10df166d0>"
      ]
     },
     "execution_count": 5,
     "metadata": {},
     "output_type": "execute_result"
    },
    {
     "data": {
      "image/png": "[encoded data removed]",
      "text/plain": [
       "<Figure size 432x288 with 1 Axes>"
      ]
     },
     "metadata": {
      "needs_background": "light"
     },
     "output_type": "display_data"
    }
   ],
   "source": [
    "plt.scatter(e[:,1],p[:,1]) "
   ]
  },
  {
   "cell_type": "markdown",
   "metadata": {},
   "source": [
    "Visualisation de p en fonction de e pour une classe + de la sortie (tirage de Bernoulli = y) "
   ]
  },
  {
   "cell_type": "code",
   "execution_count": 6,
   "metadata": {},
   "outputs": [
    {
     "data": {
      "text/plain": [
       "<matplotlib.collections.PathCollection at 0x10de8e580>"
      ]
     },
     "execution_count": 6,
     "metadata": {},
     "output_type": "execute_result"
    },
    {
     "data": {
      "image/png": "[encoded data removed]",
      "text/plain": [
       "<Figure size 432x288 with 1 Axes>"
      ]
     },
     "metadata": {
      "needs_background": "light"
     },
     "output_type": "display_data"
    }
   ],
   "source": [
    "plt.scatter(e[:,1],p[:,1], alpha=.2) #proba de e d'être classifié dans classe 1\n",
    "plt.scatter(e[:,1],y[:,1], alpha=.2, marker=\"x\", color=\"red\") #Sortie de Bernoulli "
   ]
  },
  {
   "cell_type": "markdown",
   "metadata": {},
   "source": [
    "Visualisation de la distribution des probabilités de classification "
   ]
  },
  {
   "cell_type": "code",
   "execution_count": 7,
   "metadata": {},
   "outputs": [
    {
     "data": {
      "text/plain": [
       "(array([432.,  14.,  13.,  11.,   8.,   9.,   8.,  15.,  20., 470.]),\n",
       " array([2.91404343e-24, 1.00000000e-01, 2.00000000e-01, 3.00000000e-01,\n",
       "        4.00000000e-01, 5.00000000e-01, 6.00000000e-01, 7.00000000e-01,\n",
       "        8.00000000e-01, 9.00000000e-01, 1.00000000e+00]),\n",
       " <BarContainer object of 10 artists>)"
      ]
     },
     "execution_count": 7,
     "metadata": {},
     "output_type": "execute_result"
    },
    {
     "data": {
      "image/png": "[encoded data removed]",
      "text/plain": [
       "<Figure size 432x288 with 1 Axes>"
      ]
     },
     "metadata": {
      "needs_background": "light"
     },
     "output_type": "display_data"
    }
   ],
   "source": [
    "plt.hist(p.ravel(), bins=10)"
   ]
  },
  {
   "cell_type": "markdown",
   "metadata": {},
   "source": [
    "Visualisation de p en fonction de chaque entrée X + de la sortie y  'permise' par l'ajout des w et biais "
   ]
  },
  {
   "cell_type": "code",
   "execution_count": 8,
   "metadata": {},
   "outputs": [
    {
     "data": {
      "text/plain": [
       "<matplotlib.collections.PathCollection at 0x10e10b850>"
      ]
     },
     "execution_count": 8,
     "metadata": {},
     "output_type": "execute_result"
    },
    {
     "data": {
      "image/png": "[encoded data removed]",
      "text/plain": [
       "<Figure size 432x288 with 1 Axes>"
      ]
     },
     "metadata": {
      "needs_background": "light"
     },
     "output_type": "display_data"
    }
   ],
   "source": [
    "X_1 = np.average(X.reshape(-1, 256), axis=1)\n",
    "plt.scatter(X_1,p[:,1]) \n",
    "plt.scatter(X_1,y[:,1],marker=\"x\", color=\"red\")"
   ]
  },
  {
   "cell_type": "markdown",
   "metadata": {},
   "source": [
    "... la situation est plus confuse... est-ce quon va arriver à distinguer les différents cas?"
   ]
  },
  {
   "cell_type": "markdown",
   "metadata": {},
   "source": [
    "# Inversion"
   ]
  },
  {
   "cell_type": "markdown",
   "metadata": {},
   "source": [
    "## Définition du réseau d'inversion"
   ]
  },
  {
   "cell_type": "code",
   "execution_count": 9,
   "metadata": {},
   "outputs": [],
   "source": [
    "import torch\n",
    "from torch.utils.data import TensorDataset, DataLoader\n",
    "\n",
    "torch.set_default_tensor_type(\"torch.DoubleTensor\") # -> torch.tensor([1.2, 3]).dtype = torch.float64\n",
    "# see https://sebastianraschka.com/faq/docs/pytorch-crossentropy.html#pytorch-loss-input-confusion-cheatsheet\n",
    "criterion = torch.nn.BCELoss(reduction=\"mean\") # loss divided by output size//the sum of the output will be divided by the number of elements in the output\n",
    "#criterion = torch.nn.NLLLoss(reduction=\"mean\") # loss divided by output \n",
    "\n",
    "class LogisticRegressionModel(torch.nn.Module):\n",
    "    \n",
    "    # voir ce que signifie self \n",
    "    # voir ce que signifie super \n",
    "    \n",
    "    def __init__(self, N, n_classes, bias=True): # (self, input_dim, output_dim)\n",
    "        super(LogisticRegressionModel, self).__init__() \n",
    "        \n",
    "        # 1ere couche : self.linear = torch.nn.Linear(input_dim, output_dim, bias=true) bias = true pour apprentissage\n",
    "        self.linear = torch.nn.Linear(N, n_classes, bias=bias) \n",
    "        \n",
    "        # 2e couche : self.nl = torch.nn.Sigmoid() = ouputs \n",
    "        # autre possibilité : self.nl = torch.nn.LogSoftmax(n_classes)\n",
    "        self.nl = torch.nn.Sigmoid()\n",
    "    \n",
    "    # maintenant qu'on a difinit les couches, on \n",
    "    # self.nl me donne la sigmoïde de e \n",
    "    # X = (N, n_batch) là on est dans 1 batch donc X = 256 = N \n",
    "    \n",
    "    def forward(self, X):\n",
    "        return self.nl(self.linear(X))"
   ]
  },
  {
   "cell_type": "markdown",
   "metadata": {},
   "source": [
    " __init__ permet de définir notre NN, les couches, leur role, la dimention des entrées et sorties\n",
    " \n",
    "On a un réseau composé de deux couches : \n",
    "- la première (self.linear) réalise une transformation linéaire de nos entrées X (de dimention N =  256) de sorte à ce que la sortie y = (w*x)+biais = e (de dimention n_classes = 10). Une entrée sera associée aux différentes classes avec un w et un biais associé pour chacune des classes. Après plusieurs batch, on obtiendra plusieurs e pour la même ent alors plusieurs e pour chaque classes.\n",
    "    \n",
    "- la deuxième (self.nl) transforme ces sorties (e) pour leur donner une distribution sigmoïde. On obtient ainsi la probabilité de classification de l'entrée X, associée à un poid w et au biais. On aura n_classes sigmoïdes, représentant la probabilité de classification de l'entrée dans chacune des classes en fonction du w et du biais associé. \n",
    "\n",
    "La fonction __forward__ permet de construire le réseau en connectant les couches selon un modèle forward : self.nl(self.linear(X))\n",
    "\n",
    "Par la suite, le réseau va modifier ses paramètres : w et biais de sorte à ce que la classification des X se fasse de la même manière que pendant l'initialisation\n",
    "\n",
    "-> Pour cela, on demande à notre réseau de calculer la loss function entre la classification réalisée par self.nl(self.linear(X)) et celle réalisée par y \n",
    "\n",
    "-> Plus la différence est grande, plus la loss function l'est aussi et plus le réseau va modifier ses paramètres (W et biais) pour classifier de la même façon que pdt l'initialisation \n",
    "\n",
    "-> On devrait donc retrouver à la fin des W et des biais similaires entre ceux fixés par nous pendant l'initialisation et ceux déterminés par le réseau pdt l'inversion \n"
   ]
  },
  {
   "cell_type": "code",
   "execution_count": 10,
   "metadata": {},
   "outputs": [],
   "source": [
    "logistic_model = LogisticRegressionModel(N,n_classes) #(input_dim, output_dim)"
   ]
  },
  {
   "cell_type": "code",
   "execution_count": 11,
   "metadata": {},
   "outputs": [],
   "source": [
    "bias_before_training = logistic_model.linear.bias\n",
    "w_before_training = logistic_model.linear.weight\n",
    "#bias_before_training.shape # shape = 10 car 1 biais associé à une classe, pour tous les x \n",
    "#w_before_training.shape # shape =  ([10, 256]) car pour chaque classe, on attribue 1 poid à chaque X"
   ]
  },
  {
   "cell_type": "markdown",
   "metadata": {},
   "source": [
    "## Définition des variables d'apprentissage, d'entrée et de sortie"
   ]
  },
  {
   "cell_type": "code",
   "execution_count": 12,
   "metadata": {},
   "outputs": [],
   "source": [
    "learning_rate = 0.005\n",
    "beta1, beta2 = 0.9, 0.999\n",
    "betas = (beta1, beta2)\n",
    "num_epochs = 2 ** 9 + 1 # epoch = le nombre de passages dans l'ensemble des données d'entraînement que le réseau a effectués, ici 513 max\n",
    "amsgrad = False # gives similar results\n",
    "amsgrad = True  # gives similar results\n",
    "\n",
    "batch_size = 100\n",
    "n_classes= 10\n",
    "\n",
    "X = torch.randn(N_batch, N)\n",
    "outputs = logistic_model(X)\n"
   ]
  },
  {
   "cell_type": "markdown",
   "metadata": {},
   "source": [
    "## Défition des fonctions pour l'apprentissage des w et biais pour classification"
   ]
  },
  {
   "cell_type": "code",
   "execution_count": 13,
   "metadata": {},
   "outputs": [],
   "source": [
    "def fit_data(X, y, learning_rate=learning_rate,batch_size=batch_size,num_epochs=num_epochs,betas=betas,verbose=False, **kwargs):\n",
    "\n",
    "    X_0 = torch.Tensor(X[:, None]) # rajoute une dimention de taille 1 : pk ? \n",
    "    labels = torch.Tensor(y[:, None]) # remplace les True/False par des 1 et 0, rajoute une dimention de taille 1 : pk ? \n",
    "    \n",
    "    loader = DataLoader(TensorDataset(X_0, labels), batch_size=batch_size, shuffle=True)\n",
    "\n",
    "    device = torch.device(\"cuda\" if torch.cuda.is_available() else \"cpu\")\n",
    "\n",
    "    N_batch = X.shape[0] # = 100\n",
    "    N = X.shape[1] # = 256 \n",
    "    n_classes = y.shape[1] # = 10\n",
    "    \n",
    "    logistic_model = LogisticRegressionModel(N, n_classes)\n",
    "    logistic_model = logistic_model.to(device)\n",
    "    logistic_model.train()\n",
    "    \n",
    "    optimizer = torch.optim.Adam(logistic_model.parameters(), lr=learning_rate, betas=betas, amsgrad=amsgrad) # diminue le learning rate petit à petit de sorte à atteindre le minimum de la loss function / Adam utilise une moyenne à décroissance exponentielle des gradients passés afin de fournir une fréquence d'apprentissage adaptative. \n",
    "    \n",
    "    for epoch in range(int(num_epochs)): # on commence à 1 jusq'à 513 epoch, cad qu'il passe par tous les X_ 513 fois\n",
    "        logistic_model.train()\n",
    "        losses = [] \n",
    "        for X_, labels_ in loader: \n",
    "            X_, labels_ = X_.to(device), labels_.to(device)\n",
    "            outputs = logistic_model(X_)  \n",
    "            loss = criterion(outputs, labels_) #calcul de la différence entre l'outpul de logistic_model et la classification effectuée pdt l'initialisation (PROBLEME ? on compare des proba à y=true/false)\n",
    "                                               \n",
    "            optimizer.zero_grad()\n",
    "            loss.backward()\n",
    "            optimizer.step() \n",
    "        \n",
    "            \n",
    "            losses.append(loss.item())   \n",
    "\n",
    "        if verbose and (epoch % (num_epochs // 32) == 0):\n",
    "            print(f\"Iteration: {epoch} - Loss: {np.mean(losses):.5f}\") \n",
    "\n",
    "    logistic_model.eval()\n",
    "    X_0, labels = torch.Tensor(X[:, None]), torch.Tensor(y[:, None]) #utile ? \n",
    "    outputs = logistic_model(X_0) #utile ? \n",
    "    loss = criterion(outputs, labels).item()\n",
    "    return logistic_model, loss"
   ]
  },
  {
   "cell_type": "markdown",
   "metadata": {},
   "source": [
    "Dans la fonction __fit_data__ :\n",
    "- On commence par __définir les variables d'intéret et l'optimizer__. Lors de la définition de l'optimizer, on lui indique __quel paramètre il doit modfier__ pendant l'apprentissage et le learning rate. Ici les paramètres modifiés par l'optimizer sont les poids et biais associés aux entrées pour les différentes classes. L'optimizer Adam va modifier le poid et le biais des différentes classes pour que la classfication des entrées soit similaire à celle obtenue pendant l'initialisation. Pour cela, il fait ........... . La particularité de cet optimizer est qu'il diminue le learning rate en même temps que la différence diminue. Le learning rate correspond au nombre de pas necessaire pour atteindre le minimum de loss function- à approfondir - \n",
    "\n",
    "- En suite, __on commence l'entrainement__ à partir des données comprises dans loader (= X_0, labels // équivalent à : N_batch entrées de N valeurs (= X) et N_batch sorties de n_classes valeurs (= y)). Dans un premier temps, on prend les X, on les fait passer dans le logistic_model et on récupère dans outputs les probabilités de classification des N_batch entrées. Ensuite, on compare la classification effectuée par le logistic_model avec celle effectuée dans l'iniitialisation. Le criterion calcule la différence entre les deux par le calcule de la BCE et on stock cette différence dans loss. L'optimizer va modifier les w et biais associés aux entrées pour les différentes classes de sorte à diminuer au plus possible la loss function au cours de différentes iterations. \n",
    "\n",
    "- On demande d'imprimer les loss_function toutes les itérations multiples de 32 \n",
    "\n",
    "- ensuite on passe au __test du logistic_model__ et on renvoit la probabilté de classification des n_batch entrées ainsi que la loss_function après apprentissage des poids et biais optimaux pour que la classification se fasse comme dans l'initialisation. \n",
    "\n",
    "__On devrait ainsi obtenir des poids et biais similaires à ceux définis dans l'inialisation : C'est l'inversion__ \n",
    "\n",
    "On appelle la fonction get_data pour qu'elle nous renvoit les X, p et y.\n",
    "On appelle la fonction fit_data pour réaliser l'apprentissage des w et biais et la classification et qu'elle nous renvoit le modele logistic entrainé et les pertes au cours de l'apprentissage et après l'apprentissage. "
   ]
  },
  {
   "cell_type": "code",
   "execution_count": null,
   "metadata": {},
   "outputs": [
    {
     "name": "stdout",
     "output_type": "stream",
     "text": [
      "Iteration: 0 - Loss: 0.41905\n",
      "Iteration: 16 - Loss: 0.07458\n",
      "Iteration: 32 - Loss: 0.05485\n",
      "Iteration: 48 - Loss: 0.04590\n",
      "Iteration: 64 - Loss: 0.04062\n",
      "Iteration: 80 - Loss: 0.03696\n",
      "Iteration: 96 - Loss: 0.03422\n",
      "Iteration: 112 - Loss: 0.03206\n",
      "Iteration: 128 - Loss: 0.03028\n",
      "Iteration: 144 - Loss: 0.02881\n",
      "Iteration: 160 - Loss: 0.02756\n",
      "Iteration: 176 - Loss: 0.02643\n"
     ]
    }
   ],
   "source": [
    "X, p, y = get_data(W, seed=seed, N_batch=10000)\n",
    "logistic_model, loss = fit_data(X, y, verbose=True)\n",
    "print(\"Final loss =\", loss)"
   ]
  },
  {
   "cell_type": "code",
   "execution_count": null,
   "metadata": {},
   "outputs": [],
   "source": [
    "bias_after_training = logistic_model.linear.bias\n",
    "w_after_training = logistic_model.linear.weight"
   ]
  },
  {
   "cell_type": "code",
   "execution_count": null,
   "metadata": {},
   "outputs": [],
   "source": [
    "print('BIAIS')\n",
    "print('before training,', bias_before_training)\n",
    "print('after training,', bias_after_training) \n",
    "print('initialisation', W[-1, :])"
   ]
  },
  {
   "cell_type": "code",
   "execution_count": null,
   "metadata": {},
   "outputs": [],
   "source": [
    "import matplotlib.pyplot as plt\n",
    "fig, ax = plt.subplots(figsize=(13, 5))\n",
    "ax.plot(logistic_model.linear.bias.detach().numpy(), 'r')\n",
    "ax.plot(W[-1, :], 'b--')"
   ]
  },
  {
   "cell_type": "code",
   "execution_count": null,
   "metadata": {},
   "outputs": [],
   "source": [
    "print('WEIGHT')\n",
    "print('before training,', w_before_training)\n",
    "print('after training,', w_after_training) \n",
    "print('initialisation : ', W[:-1,:].T)"
   ]
  },
  {
   "cell_type": "code",
   "execution_count": null,
   "metadata": {},
   "outputs": [],
   "source": [
    "i_digit = 2\n",
    "fig, ax = plt.subplots(figsize=(13, 5))\n",
    "ax.plot(W[:, i_digit], 'b--', lw=3)\n",
    "ax.plot(logistic_model.linear.weight[i_digit, :].detach().numpy(), 'r')"
   ]
  },
  {
   "cell_type": "markdown",
   "metadata": {},
   "source": [
    "On voit que les biais et les poids ont changé après l'apprentissage pour se rapprocher de ceux de l'intialisation"
   ]
  }
 ],
 "metadata": {
  "kernelspec": {
   "display_name": "Python 3 (ipykernel)",
   "language": "python",
   "name": "python3"
  },
  "language_info": {
   "codemirror_mode": {
    "name": "ipython",
    "version": 3
   },
   "file_extension": ".py",
   "mimetype": "text/x-python",
   "name": "python",
   "nbconvert_exporter": "python",
   "pygments_lexer": "ipython3",
   "version": "3.9.9"
  }
 },
 "nbformat": 4,
 "nbformat_minor": 4
}
