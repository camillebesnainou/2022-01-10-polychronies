{
 "cells": [
  {
   "cell_type": "code",
   "execution_count": 2,
   "id": "1b6196d0-44eb-456f-864a-494b8ac8ba2b",
   "metadata": {},
   "outputs": [],
   "source": [
    "import torch\n",
    "from torch import nn\n",
    "from torch.utils.data import DataLoader\n",
    "from torchvision import datasets, transforms"
   ]
  },
  {
   "cell_type": "code",
   "execution_count": 3,
   "id": "4a8277a8-c510-47fd-8f12-4837bb52cea8",
   "metadata": {},
   "outputs": [
    {
     "name": "stdout",
     "output_type": "stream",
     "text": [
      "tensor([[0.1545, 0.3078, 0.3657]])\n"
     ]
    }
   ],
   "source": [
    "#Définir les entrées \n",
    "x = torch.rand(1,3)\n",
    "print(x)"
   ]
  },
  {
   "cell_type": "code",
   "execution_count": 4,
   "id": "e7bfc5b6-02a5-4d87-8b95-b06235799623",
   "metadata": {},
   "outputs": [],
   "source": [
    "#Définir le module de la couche \n",
    "lin = torch.nn.Linear(3,2)"
   ]
  },
  {
   "cell_type": "code",
   "execution_count": 5,
   "id": "bb580ef7-7278-420b-ae61-ca01fe121c75",
   "metadata": {},
   "outputs": [
    {
     "name": "stdout",
     "output_type": "stream",
     "text": [
      "Parameter containing:\n",
      "tensor([[-0.4111, -0.5456, -0.5027],\n",
      "        [ 0.3959,  0.4189, -0.5005]], requires_grad=True)\n",
      "Parameter containing:\n",
      "tensor([0.1731, 0.1723], requires_grad=True)\n"
     ]
    }
   ],
   "source": [
    "#Visualiser les paramètres qui ont été définis par défaut \n",
    "for param in lin.parameters():\n",
    "    print(param) #w pour le 1e, biais pour le 2e"
   ]
  },
  {
   "cell_type": "code",
   "execution_count": 6,
   "id": "d115cbe5-4f07-45b3-b8ac-4691ccb91616",
   "metadata": {},
   "outputs": [
    {
     "name": "stdout",
     "output_type": "stream",
     "text": [
      "tensor([[-0.2422,  0.1794]], grad_fn=<AddmmBackward0>)\n"
     ]
    }
   ],
   "source": [
    "#Définir la sortie de la couche \n",
    "y = lin(x) \n",
    "print(y)"
   ]
  },
  {
   "cell_type": "code",
   "execution_count": 15,
   "id": "0bf9b948-9a9f-4463-a9f6-0e72abe5888d",
   "metadata": {},
   "outputs": [
    {
     "data": {
      "text/plain": [
       "-0.24218801999999998"
      ]
     },
     "execution_count": 15,
     "metadata": {},
     "output_type": "execute_result"
    }
   ],
   "source": [
    "#Vérification que y = x@w + biais \n",
    "#Pour trois entrées, 1 sortie : (x1*wy1,1+...+x3*wy1,3)+biais = y1 \n",
    "(0.1545*-0.4111+0.3078*-0.5456+0.3657* -0.5027)+0.1731"
   ]
  },
  {
   "cell_type": "code",
   "execution_count": null,
   "id": "929f3eef-14f7-49ce-af6a-2c834c554c2d",
   "metadata": {},
   "outputs": [],
   "source": []
  }
 ],
 "metadata": {
  "kernelspec": {
   "display_name": "Python 3 (ipykernel)",
   "language": "python",
   "name": "python3"
  },
  "language_info": {
   "codemirror_mode": {
    "name": "ipython",
    "version": 3
   },
   "file_extension": ".py",
   "mimetype": "text/x-python",
   "name": "python",
   "nbconvert_exporter": "python",
   "pygments_lexer": "ipython3",
   "version": "3.9.7"
  }
 },
 "nbformat": 4,
 "nbformat_minor": 5
}
