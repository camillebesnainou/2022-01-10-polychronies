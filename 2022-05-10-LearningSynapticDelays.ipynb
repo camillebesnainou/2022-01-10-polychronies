{
 "cells": [
  {
   "cell_type": "markdown",
   "id": "e1bbd110-e96a-40ef-8fe6-abcd8d632d40",
   "metadata": {},
   "source": [
    "# PGs generation, detection & recognition via learning delays"
   ]
  },
  {
   "cell_type": "code",
   "execution_count": 1,
   "id": "03a3c2f7-9459-4e3e-9865-387d3a7fb84d",
   "metadata": {},
   "outputs": [
    {
     "name": "stdout",
     "output_type": "stream",
     "text": [
      "\u001b[33mDEPRECATION: Configuring installation scheme with distutils config files is deprecated and will no longer work in the near future. If you are using a Homebrew or Linuxbrew Python, please see discussion at https://github.com/Homebrew/homebrew-core/issues/76621\u001b[0m\u001b[33m\n",
      "\u001b[0mRequirement already satisfied: brian2 in /usr/local/lib/python3.9/site-packages (2.5.0.3)\n",
      "Requirement already satisfied: cython>=0.29 in /usr/local/lib/python3.9/site-packages (from brian2) (0.29.28)\n",
      "Requirement already satisfied: pyparsing in /usr/local/lib/python3.9/site-packages (from brian2) (2.4.7)\n",
      "Requirement already satisfied: numpy>=1.17 in /usr/local/lib/python3.9/site-packages (from brian2) (1.22.3)\n",
      "Requirement already satisfied: jinja2>=2.7 in /usr/local/lib/python3.9/site-packages (from brian2) (3.1.1)\n",
      "Requirement already satisfied: setuptools>=24.2 in /usr/local/lib/python3.9/site-packages (from brian2) (60.10.0)\n",
      "Requirement already satisfied: sympy>=1.2 in /usr/local/lib/python3.9/site-packages (from brian2) (1.8)\n",
      "Requirement already satisfied: MarkupSafe>=2.0 in /usr/local/lib/python3.9/site-packages (from jinja2>=2.7->brian2) (2.0.1)\n",
      "Requirement already satisfied: mpmath>=0.19 in /usr/local/lib/python3.9/site-packages (from sympy>=1.2->brian2) (1.2.1)\n",
      "\u001b[33mDEPRECATION: Configuring installation scheme with distutils config files is deprecated and will no longer work in the near future. If you are using a Homebrew or Linuxbrew Python, please see discussion at https://github.com/Homebrew/homebrew-core/issues/76621\u001b[0m\u001b[33m\n",
      "\u001b[0mNote: you may need to restart the kernel to use updated packages.\n"
     ]
    }
   ],
   "source": [
    "%pip install brian2"
   ]
  },
  {
   "cell_type": "code",
   "execution_count": 2,
   "id": "3d70a0bd-6391-48ba-aa74-2982f6bec826",
   "metadata": {},
   "outputs": [],
   "source": [
    "from brian2 import *\n",
    "%matplotlib inline\n",
    "from brian2 import SpikeGeneratorGroup\n",
    "from brian2 import NeuronGroup\n",
    "import numpy as np\n",
    "import random\n",
    "import pandas as pd"
   ]
  },
  {
   "cell_type": "markdown",
   "id": "3b3e42a4-4096-4644-ad75-3d8eec4b92ba",
   "metadata": {},
   "source": [
    "On s'intéresse ici à la génération, la détection et l'apprentissage de patterns temporels grâce à l'apprentissage des délais de manière à ce qu'un pattern temporel d'intéret s'articule en groupe polychrone (PG). Un groupe polychrone est définit par un groupe de neurone qui déchargent de manière asycnhrone, à différents moments, mais qui, grâce à leurs délais, transmettent l'information à un neurone post synaptique de façon sychrone."
   ]
  },
  {
   "cell_type": "markdown",
   "id": "cf9d21e3-338b-47a7-bef6-d484c7445484",
   "metadata": {},
   "source": [
    "L'idée ici est dans un premier temps de réaliser un modèle génératif de pattern temporel et un modèle de détection de groupes polychrones en Brian. Pour celà, on utilise un réseau de neurone à spike de trois couches : \n",
    "- la première couche est constituée de neurones du SpikeGeneratorGroup A et sert à la génération.\n",
    "- la deuxième couche est constituée de neurones appartenant au NeuronGroup B et sert à la génération. \n",
    "- la troisième couche est constituée de neurones appartenant au NueronGroup C et sert à la détection.\n",
    "\n",
    "Les neurones de la couche A vont émettrent un spike à un moment donné de la simulation. Chaque neurone de cette couche projette sur au moins trois neurones de la couche B, selon un certain poid et un certain delais. Si un neurone de la couche A spike, alors les neurones de la couche B sur lesquels il projette vont emettrent un spike (en fonction de leur poid et de leur délai). Tous les neurones de la couche B qui déchargent en réponse au spike du neurone de la couche A consitituent un groupe polychrone. \n",
    "Avec cette organisation, on génère un rasterplot artificiel (actvité des neurones de la couche B) dans lequel on voudrait détecter des groupes polychrones. Les spikes appartenant à un même groupe sont déterminés en fonction du neurone de la couche A qui a engendré leur décharge. L'activité de la couche B correspond donc à notre entrée et l'activité des neurones de la couche A correspond à notre ground truth, ce que l'on voudrait détecter. Un spike d'un neurone dans la couche A correspond à l'occurence d'un groupe polychrone. \n",
    "Puisque l'on connait les connections a->b, les poids et les délais, il est facile d'organiser un groupe de neurone en groupe polychrones en réalisant une troisièmpe couche, équivalente à la couche a. On construit des connections b->c de la même manière que a->b, avec les mêmes poids. On ajuste les délais de sorte à ce que les spikes d'un groupe de neurones polychrone arrivent de façon synchrone sur un neurone de la couche c et induisent leur décharge. Lorsqu'un neurone c spike ça veut dire que les neurones projettant sur lui spike avec une certaine séquence temporelle. On detecte donc une séquence temporelle d'intéret à un moment dans le temps. En récupérant les délais on peut connaitre cette séquence temporelle. "
   ]
  },
  {
   "cell_type": "markdown",
   "id": "d90951a9-9f05-419a-ae9c-dab2eb171004",
   "metadata": {},
   "source": [
    "### variable definition"
   ]
  },
  {
   "cell_type": "code",
   "execution_count": 3,
   "id": "1677c537-eeda-417f-9ed9-6dfd7f1ca9ac",
   "metadata": {},
   "outputs": [],
   "source": [
    "Ni = 3 #nb de PGs différents\n",
    "Nj = 10 #nb d'adresses en entrée \n",
    "n_pattern = 50 # nb d'occurrence des PGs \n",
    "duration = 10*second\n",
    "\n",
    "PGs_pattern = {}\n",
    "PGs_id_tps = {}\n",
    "detection = {}\n",
    "state_b = {}\n",
    "\n",
    "a = np.arange(Ni)\n",
    "cmap = plt.cm.get_cmap(\"plasma\")\n",
    "color_dict = pd.Series({i:cmap(i/len(a)) for i,k in enumerate(a)})"
   ]
  },
  {
   "cell_type": "code",
   "execution_count": 4,
   "id": "dd45472f-90f9-4a97-a34b-8b3377bc82b9",
   "metadata": {},
   "outputs": [],
   "source": [
    "# --- def du moment d'occurence des PGs -------------------------------------------------------------------------------------------------\n",
    "\n",
    "i_indices = np.random.randint(0, 3, size = n_pattern) # nombre de PG observé (n_pattern), de Ni sortes différentes\n",
    "i_temps = np.random.uniform(0, duration, size = n_pattern)*second # temps d'occurence des n_pattern PG \n",
    "\n",
    "\n",
    "# --- def des projections des neurones pré-syn (i.e. des PGs) -----------------------------------------------------------------------\n",
    "\n",
    "i_syn=[]\n",
    "n_syn = []\n",
    "nn_j = []\n",
    "W = []\n",
    "n_j_quick =[]\n",
    "\n",
    "for k in range(Ni) : \n",
    "    n_j = (np.random.randint(3, Nj, size = 1)) # nombre de neurone qu'un Ni va connecter : au moins 3 neurones impliqués dans un PG\n",
    "    i_syn.append(random.sample(range(Nj), int(n_j))) # def des j connectés aux i, pas de repetition (pas de delais heterosynaptique)\n",
    "    n_syn.append(len(i_syn[k])) # def du nb de synapses pour set des poids et délais aléatoires, voir ci-après \n",
    "    W.append(list(np.random.rand(int(n_j))))\n",
    "    W[k] /= sum(W[k])\n",
    "    i_syn_bruit = np.linspace\n",
    "n_syn = sum(n_syn) \n",
    "\n",
    "# --- def des poids et delais synaptiques -----------------------------------------------------------------------------------------------\n",
    "\n",
    "#weight = np.random.rand(n_syn) # des fois les poids générés pour 1 gp sont trop faibles pour que la detection marche, faudrait il faire en sorte que la somme des poids générés pour 1 gp soit = 1 \n",
    "delay = np.random.rand(n_syn)*0.1*second # là entre 0 et 100 "
   ]
  },
  {
   "cell_type": "markdown",
   "id": "5ec675ed-0fb7-49dd-a4b2-0006fcbf6f23",
   "metadata": {},
   "source": [
    "### NN simulation for PGs generation and detection"
   ]
  },
  {
   "cell_type": "code",
   "execution_count": 5,
   "id": "d4cdaa1d-49b0-4115-a5ef-e142f07a9bf2",
   "metadata": {},
   "outputs": [],
   "source": [
    "def generator_terminator(nn_j, i_syn, i_indices, i_temps):\n",
    "    \n",
    "    start_scope()\n",
    "\n",
    "    e_in = []\n",
    "    e_true_t= []\n",
    "    e_true_i= []\n",
    "    e_true = []  \n",
    "    import time\n",
    "\n",
    "    start = time.time()\n",
    "\n",
    "# --- generation de e_in ----------------------------------------------------------------------------------------------------------\n",
    "    \n",
    "    for i in range(n_pattern) :    \n",
    "        \n",
    "        a = SpikeGeneratorGroup(Ni, [i_indices[i]], [i_temps[i]/ms*msecond])\n",
    "        a_spike = SpikeMonitor(a)\n",
    "    \n",
    "        b = NeuronGroup(Nj, ''' dv/dt = -v/tau : volt\n",
    "                                tau : second''',\n",
    "                        threshold= 'v > 0.02000*volt',\n",
    "                        reset= 'v = 0*volt',\n",
    "                       method = 'exact')\n",
    "        b.v = 0*volt\n",
    "        b.tau = 0.001*second\n",
    "        b_spike = SpikeMonitor(b)\n",
    "        #b_state = StateMonitor(b, 'v', record = True)\n",
    "\n",
    "        s = Synapses(a,b, on_pre='v+=(0.01*volt*w)', model = 'w:1')\n",
    "    \n",
    "        for k in range(Ni):\n",
    "            s.connect(i = k , j = i_syn[k])\n",
    "            s.w[k,:] = W[k]*20 \n",
    "            \n",
    "        s.delay[:,:] = delay\n",
    "    \n",
    "    # --- generation de e_true/detectorrr_terminator ----------------------------------------------------------------------------------\n",
    "       \n",
    "        c =  NeuronGroup(Ni, ''' dv/dt = -v/tau : volt\n",
    "                                tau : second''',\n",
    "                        threshold= 'v > 0.005*volt',\n",
    "                        reset= 'v = 0*volt',\n",
    "                        method = 'exact')\n",
    "    \n",
    "        c.v = 0*volt\n",
    "        c.tau = 0.001*second\n",
    "        c_spike = SpikeMonitor(c)\n",
    "    \n",
    "        syn = Synapses(b,c, on_pre='v+=(0.01*volt*w)', model = 'w:1')\n",
    "    \n",
    "        for k in range(Ni):\n",
    "            syn.connect(i = i_syn[k], j = k)         \n",
    "            syn.w[:,k] = W[k]\n",
    "            syn.delay[:,k] = max(s.delay[k,:])-s.delay[k,:]\n",
    "    \n",
    "    \n",
    "        net_g = Network(collect())\n",
    "        net_g.add(a, a_spike, b, b_spike, c, c_spike, s, syn)\n",
    "        net_g.run(duration)\n",
    "    \n",
    "        print('generation : ', time.time() - start)\n",
    "        \n",
    "        \n",
    "        \n",
    "    # --- stock dans des variables ----------------------------------------------------------------------------------------------------\n",
    "        \n",
    "        PGs_id_tps[i] = (a_spike.t, a_spike.i) # generator\n",
    "        PGs_pattern[i] = (b_spike.t, b_spike.i) # generator\n",
    "        detection[i] = (c_spike.t, c_spike.i) # generator, detector (-max(syn.delay[:,[c_spike.i]]) pour que ce soit le premier spike que l'on detecte, peut etre pas essentiel\n",
    "        \n",
    "        print('stock : ', time.time() - start)\n",
    "        \n",
    "        for k in range(len(PGs_pattern[i][0])):\n",
    "            e_in.append(tuple((round(PGs_pattern[i][0][k]*1000/second), PGs_pattern[i][1][k])))\n",
    "    \n",
    "        for ele in detection[i][0] : \n",
    "            e_true_t.append(ele)\n",
    "        for ele in detection[i][1] : \n",
    "            e_true_i.append(ele)\n",
    "\n",
    "    for i in range(len(e_true_i)):\n",
    "        e_true.append(tuple((e_true_t[i],e_true_i[i])))\n",
    "        \n",
    "        \n",
    "    e_in.sort(key=lambda y: y[0]) #pour trier de tmin à tmax\n",
    "    e_true.sort(key=lambda y: y[0]) #pour trier de tmin à tmax\n",
    "        \n",
    "    return s, syn, PGs_id_tps, PGs_pattern, detection, e_in, e_true\n",
    "\n",
    "\n",
    "# --- visualisation -----------------------------------------------------------------------------------------------\n",
    "\n",
    "    # --- de l'activité ---------------------------------------------------------------------------------------------------------\n",
    "\n",
    "def plot_generator(lolo) : \n",
    "    plt.figure(figsize=(10,5))\n",
    "    for i in range(n_pattern) :\n",
    "        plt.scatter(lolo[i][0], lolo[i][1], color = color_dict[i_indices[i]], marker = \"|\")\n",
    "        \n",
    "    # --- des connections ----------------------------------------------------------------------------------------------------\n",
    "        \n",
    "def visualise_connectivity(s): # ajouter les delays\n",
    "    Ns= len(s.source)\n",
    "    Nt = len(s.target)\n",
    "    figure(figsize=(15,8))\n",
    "    \n",
    "    subplot(141)\n",
    "    plot(zeros(Ns), arange(Ns), 'ok', ms=7)\n",
    "    plot(ones(Nt), arange(Nt), 'ok', ms=7)\n",
    "    for i, j in zip(s.i, s.j):\n",
    "        plot([0, 1], [i, j], '-k')\n",
    "    xticks([0, 1], ['Source', 'Target'])\n",
    "    ylabel('Neuron index')\n",
    "    xlim(-0.1, 1.1)\n",
    "    ylim(-1, max(Ns, Nt))\n",
    "    \n",
    "    subplot(142)\n",
    "    plot(s.i, s.j, 'ok')\n",
    "    xlim(-1, Ns)\n",
    "    ylim(-1, Nt)\n",
    "    xlabel('Source neuron index')\n",
    "    ylabel('Target neuron index')\n",
    "    \n",
    "    subplot(143) \n",
    "    scatter(s.i, s.j, s.w*30 )\n",
    "    xlabel('Source neuron index')\n",
    "    ylabel('Target neuron index')\n",
    "    \n",
    "    subplot(144) \n",
    "    scatter(s.i, s.j, s.delay*300)\n",
    "    xlabel('Source neuron index')\n",
    "    ylabel('Target neuron index')"
   ]
  },
  {
   "cell_type": "code",
   "execution_count": 6,
   "id": "93d40ebe-0136-4132-866d-5441d56d08f0",
   "metadata": {},
   "outputs": [
    {
     "ename": "NameError",
     "evalue": "name 's' is not defined",
     "output_type": "error",
     "traceback": [
      "\u001b[0;31m---------------------------------------------------------------------------\u001b[0m",
      "\u001b[0;31mNameError\u001b[0m                                 Traceback (most recent call last)",
      "Input \u001b[0;32mIn [6]\u001b[0m, in \u001b[0;36m<cell line: 1>\u001b[0;34m()\u001b[0m\n\u001b[0;32m----> 1\u001b[0m \u001b[38;5;28;01mfor\u001b[39;00m i \u001b[38;5;129;01min\u001b[39;00m \u001b[43ms\u001b[49m\u001b[38;5;241m.\u001b[39mi :\n\u001b[1;32m      2\u001b[0m     \u001b[38;5;28mprint\u001b[39m(i\u001b[38;5;241m==\u001b[39m\u001b[38;5;241m0\u001b[39m)\n",
      "\u001b[0;31mNameError\u001b[0m: name 's' is not defined"
     ]
    }
   ],
   "source": [
    "for i in s.i :\n",
    "    print(i==0)"
   ]
  },
  {
   "cell_type": "code",
   "execution_count": null,
   "id": "0d8f40b2-cb55-4767-b9da-d2694980e545",
   "metadata": {},
   "outputs": [],
   "source": [
    "start_scope()\n",
    "s, syn, PGs_id_tps, PGs_pattern, detection, e_in, e_true = generator_terminator(nn_j, i_syn, i_indices, i_temps)"
   ]
  },
  {
   "cell_type": "code",
   "execution_count": null,
   "id": "4d2dc1e9-514c-4994-b750-27620272ceed",
   "metadata": {},
   "outputs": [],
   "source": [
    "s, syn, a_spike, b_spike, e_in, e_true = quick_generator()"
   ]
  },
  {
   "cell_type": "code",
   "execution_count": null,
   "id": "14cfea88-9939-4212-a80d-2157020f3d14",
   "metadata": {},
   "outputs": [],
   "source": [
    "occurence_PGs = plot_generator(PGs_id_tps)\n",
    "xlabel('Time (s)')\n",
    "ylabel('PGs')\n",
    "title('occurence of PGs')"
   ]
  },
  {
   "cell_type": "code",
   "execution_count": null,
   "id": "7f38af0d-75ef-43c3-a6b0-9a5a4a5bc925",
   "metadata": {},
   "outputs": [],
   "source": [
    "raster_plot = plot_generator(PGs_pattern)\n",
    "xlabel('Time (s)')\n",
    "ylabel('neuron adress')\n",
    "title('e_in')"
   ]
  },
  {
   "cell_type": "code",
   "execution_count": null,
   "id": "761ac2f9-100a-4398-a37c-01b1c6d903bf",
   "metadata": {},
   "outputs": [],
   "source": [
    "detection_PGs = plot_generator(detection)\n",
    "xlabel('Time (s)')\n",
    "ylabel('PGs')\n",
    "title('detection of PGs')"
   ]
  },
  {
   "cell_type": "code",
   "execution_count": null,
   "id": "01a344ac-3352-4f99-930a-b28090dee188",
   "metadata": {},
   "outputs": [],
   "source": [
    "visualise_connectivity(s)"
   ]
  },
  {
   "cell_type": "code",
   "execution_count": null,
   "id": "c3d1dfd4-2492-4816-9a7d-e03f67ba4021",
   "metadata": {},
   "outputs": [],
   "source": [
    "visualise_connectivity(syn)"
   ]
  },
  {
   "cell_type": "markdown",
   "id": "abdbce78-1174-4fd1-ac92-c67d4d931305",
   "metadata": {},
   "source": [
    "ici, ce sont les connections b->c qui déterminent les neurones impliqués dans un PG, les poids sont donc obsolètes pour la détection des PGs. Ils décervent même un peu, par exemple pour la détection du PG 2, la somme des poids est faible et donc la synchronisation des décharges des neurones le composant ne permet pas de dépasser le seuil de 0.02, j'ai du l'abaisser à 0.01. \n",
    "Il faudrait plutot faire une couche de détections où tous les b connectent tous les c et où les poids sont importants pour les neurones où a->c existe et faibles pour les connections où a->c n'existe pas. (ici b->c n'existe que si a->c existe, les poids ne servent donc à rien)"
   ]
  },
  {
   "cell_type": "markdown",
   "id": "f15f06c3-83db-4542-a6d3-127f03cbaa1d",
   "metadata": {},
   "source": [
    "# supervised learning of weight and unsupervised learning of delay for recognition of PGs"
   ]
  },
  {
   "cell_type": "markdown",
   "id": "d530a42e-a919-4313-a0c7-30edbe3be530",
   "metadata": {},
   "source": [
    "l'idée serait d'apprendre dans un premier temps les poids, pour selectionner les neurones impliqués dans une séquence temporelle. Pour cela, il faut dans un premier temps, créer mon e_out (couche de Ni neurones, qui servent à detecter les groupes polychrones, W aléatoires, d = 1ms), ensuite, réaliser mon detecteur de synchronie (x = all_spike_time_x ; y_true = all_spike_time_y ; y = e_out).\n",
    "C'est dans le detecteur de synchronie que va se réaliser l'apprentissage : comparaison de x et y_true, plus ils sont synchrones, plus on détermine un w grand, ce w sera appliqué a e_out. si x arrive après y_true : poids négatifs, si x arrive avant : poids positifs. \n",
    "Avant apprentissage, e_out va spiker n'importe comment, après l'apprentissage, il va spiker que pour la detection de PG. \n",
    "Commencer par e_out = 1 pour detection de 1 PG au milieu des autres qui représenteront le bruit. Determiner un seuil ni trop grand, ni trop petit pour que ça soit ok (peut etre se référer au seuil de detection si les poids sont du meme ordre de grandeur que syn.w)\n",
    "Avec n run = n epoch on devrait apprendre. \n",
    "Tout ça se fait en numpy.\n",
    "\n",
    "Ensuite, on apprendrait les délais necessaires pour synchroniser les neurones de ce groupe. En récupérant les poids on pourrait connaitre les neurones impliqués dans un groupe et en récupérant les délais necessaire à la synchronisation, on pourrait connaitre la séquence temporelle qu'ils constituent.\n"
   ]
  },
  {
   "cell_type": "markdown",
   "id": "3c98473f-c945-432e-a6ff-a4e92e129900",
   "metadata": {},
   "source": [
    "## supervised STDP for weight learning"
   ]
  },
  {
   "cell_type": "markdown",
   "id": "347eadf5-0109-4fb2-bd52-6b7d7ca4e018",
   "metadata": {},
   "source": [
    "### generation"
   ]
  },
  {
   "cell_type": "markdown",
   "id": "ed37263b-d7b3-4beb-9663-39c8dd6bae34",
   "metadata": {},
   "source": [
    "#### variable defenition "
   ]
  },
  {
   "cell_type": "code",
   "execution_count": 10,
   "id": "593ed375-c016-44b6-bb1a-3dc549a10e2a",
   "metadata": {},
   "outputs": [],
   "source": [
    "Ni = 1 #nb de PGs différents\n",
    "Nj = 10 #nb d'adresses en entrée \n",
    "n_pattern = 30 # nb d'occurrence des PGs \n",
    "duration = 10*second\n",
    "\n",
    "PGs_pattern = {}\n",
    "PGs_id_tps = {}\n",
    "detection = {}\n",
    "state_b = {}\n",
    "\n",
    "a = np.arange(Ni)\n",
    "cmap = plt.cm.get_cmap(\"plasma\")\n",
    "color_dict = pd.Series({i:cmap(i/len(a)) for i,k in enumerate(a)})"
   ]
  },
  {
   "cell_type": "code",
   "execution_count": 44,
   "id": "7b79b1cf-e4e0-4939-afd0-659a4531e249",
   "metadata": {},
   "outputs": [],
   "source": [
    "# --- def du moment d'occurence des PGs -------------------------------------------------------------------------------------------------\n",
    "\n",
    "i_indices = np.random.randint(0, Ni, size = n_pattern) # nombre de PG observé (n_pattern), de Ni sortes différentes\n",
    "i_temps = np.random.uniform(0, duration, size = n_pattern)*second # temps d'occurence des n_pattern PG \n",
    "\n",
    "\n",
    "# --- def des projections des neurones pré-syn (i.e. des PGs) -----------------------------------------------------------------------\n",
    "\n",
    "i_syn=[]\n",
    "n_syn = []\n",
    "nn_j = []\n",
    "W = []\n",
    "n_j_quick =[]\n",
    "\n",
    "kappa = 1.5\n",
    "for k in range(Ni) : \n",
    "    n_j = (np.random.randint(3, Nj, size = 1)) # nombre de neurone qu'un Ni va connecter : au moins 3 neurones impliqués dans un PG\n",
    "    i_syn.append(random.sample(range(Nj), int(n_j))) # def des j connectés aux i, pas de repetition (pas de delais heterosynaptique)\n",
    "    n_syn.append(len(i_syn[k])) # def du nb de synapses pour set des poids et délais aléatoires, voir ci-après \n",
    "    #W.append(list(np.random.rand(int(n_j))))\n",
    "    W.append(list(np.exp(kappa*np.cos(2*np.pi * (np.linspace(0, 1, int(n_j), endpoint=True) - k/Ni )))))\n",
    "    W[k] /= sum(W[k])\n",
    "    i_syn_bruit = np.linspace\n",
    "n_syn = sum(n_syn) \n",
    "\n",
    "# --- def des poids et delais synaptiques -----------------------------------------------------------------------------------------------\n",
    "\n",
    "#weight = np.random.rand(n_syn) # des fois les poids générés pour 1 gp sont trop faibles pour que la detection marche, faudrait il faire en sorte que la somme des poids générés pour 1 gp soit = 1 \n",
    "delay = np.random.rand(n_syn)*0.1*second # là entre 0 et 100 "
   ]
  },
  {
   "cell_type": "code",
   "execution_count": 45,
   "id": "f7094009-1ff5-4fab-ae40-f1688a8730c3",
   "metadata": {},
   "outputs": [
    {
     "data": {
      "text/plain": [
       "array([4.48168907, 1.        , 0.22313016, 1.        , 4.48168907])"
      ]
     },
     "execution_count": 45,
     "metadata": {},
     "output_type": "execute_result"
    }
   ],
   "source": [
    "np.exp(kappa*np.cos(2*np.pi * (np.linspace(0, 1, int(n_j), endpoint=True) - k/Ni )))"
   ]
  },
  {
   "cell_type": "code",
   "execution_count": 46,
   "id": "f3a61c98-408c-4e33-9061-5b02b5513db2",
   "metadata": {},
   "outputs": [
    {
     "data": {
      "text/plain": [
       "[array([0.40063342, 0.0893934 , 0.01994636, 0.0893934 , 0.40063342])]"
      ]
     },
     "execution_count": 46,
     "metadata": {},
     "output_type": "execute_result"
    }
   ],
   "source": [
    "W\n"
   ]
  },
  {
   "cell_type": "markdown",
   "id": "c55f5a6e-fc08-473f-a3fa-f4c4c1b7b70d",
   "metadata": {
    "tags": []
   },
   "source": [
    "#### quick"
   ]
  },
  {
   "cell_type": "code",
   "execution_count": 47,
   "id": "a3e23111-ead9-4226-880a-5387b51395b0",
   "metadata": {},
   "outputs": [],
   "source": [
    "def quick_generator(Ni, Nj, n_pattern, i_indices, i_temps, i_syn, W, delay, sigma):\n",
    "    start_scope()\n",
    "    start = time.time()\n",
    "    \n",
    "    a = SpikeGeneratorGroup(Ni, i_indices, i_temps)\n",
    "    a_spike = SpikeMonitor(a)\n",
    "    \n",
    "    b = NeuronGroup(Nj, ''' dv/dt = -v/tau + sigma*sqrt(2/tau)*xi  : volt\n",
    "                                tau : second''',\n",
    "                       threshold= 'v > 0.02000*volt',\n",
    "                        reset= 'v = 0*volt',\n",
    "                        method = 'euler')\n",
    "#+ sigma*sqrt(2/tau)*xi \n",
    "    b.v = 0*volt\n",
    "    b.tau = 0.01*second\n",
    "\n",
    "    b_spike = SpikeMonitor(b)\n",
    "        #b_state = StateMonitor(b, 'v', record = True)\n",
    "\n",
    "    s = Synapses(a,b, on_pre='v+=(0.01*volt*w)', model = 'w:1')\n",
    "    \n",
    "    for k in range(Ni):\n",
    "        s.connect(i = k , j = i_syn[k])\n",
    "        s.w[k,:] = W[k]*20 \n",
    "            \n",
    "    s.delay[:,:] = delay\n",
    "    \n",
    "    # --- generation de e_true/detectorrr_terminator ----------------------------------------------------------------------------------\n",
    "    \n",
    "    \n",
    "    c =  NeuronGroup(Ni, ''' dv/dt = -v/tau : volt\n",
    "                                tau : second''',\n",
    "                        threshold= 'v > 0.005*volt',\n",
    "                        reset= 'v = 0*volt', \n",
    "                        method = 'exact')\n",
    "    \n",
    "    c.v = 0*volt\n",
    "    c.tau = 0.1*second\n",
    "    c_spike = SpikeMonitor(c)\n",
    "    \n",
    "    syn = Synapses(b,c, on_pre='v+=(0.01*volt*w)', model = 'w:1')\n",
    "    \n",
    "    for k in range(Ni):\n",
    "        syn.connect(i = i_syn[k], j = k)         \n",
    "        syn.w[:,k] = W[k]\n",
    "        syn.delay[:,k] = max(s.delay[k,:])-s.delay[k,:]\n",
    "    \n",
    "    \n",
    "    net_quick = Network(collect())\n",
    "    net_quick.add(a, a_spike, b, b_spike, c, c_spike, s, syn)\n",
    "    net_quick.run(duration)\n",
    "    \n",
    "    e_in_ = (b_spike.t, b_spike.i)\n",
    "    e_true_ = (c_spike.t, c_spike.i) #plutot a_spike ? \n",
    "    \n",
    "    e_in=[]\n",
    "    e_true=[]\n",
    "    \n",
    "    for i in range(len(e_in_[0])):\n",
    "        e_in.append(tuple((e_in_[0][i]*1000/second, e_in_[1][i])))\n",
    "    \n",
    "    for i in range(len(e_true_[0])):\n",
    "        e_true.append(tuple((e_true_[0][i]*1000/second, e_true_[1][i])))\n",
    "        \n",
    "    print('generation time: ', time.time() - start)\n",
    "    \n",
    "    return s, syn, a_spike, b_spike, c_spike, e_in, e_true\n",
    "        "
   ]
  },
  {
   "cell_type": "markdown",
   "id": "9ccfb94d-7053-49ec-8f62-b7d26b515052",
   "metadata": {},
   "source": [
    "#### each seq"
   ]
  },
  {
   "cell_type": "code",
   "execution_count": 48,
   "id": "90c6ba98-9dfd-44f0-bf84-441ddd2bcd8c",
   "metadata": {},
   "outputs": [],
   "source": [
    "def i_want_to_see_each_sequence (Ni, duration, W, delay, i_syn) : \n",
    "    \n",
    "    start_scope()\n",
    "    start = time.time()\n",
    "    \n",
    "    \n",
    "    x = SpikeGeneratorGroup(Ni, linspace(0,Ni-1, num = Ni, dtype = int), linspace(0,Ni-1, num = Ni, dtype = int)*second)\n",
    "    x_s = SpikeMonitor(x)\n",
    "        \n",
    "    y = NeuronGroup(Nj, ''' dv/dt = -v/tau : volt\n",
    "                                tau : second''',\n",
    "                        threshold= 'v > 0.02*volt',\n",
    "                        reset= 'v = 0*volt', \n",
    "                        method = 'exact')\n",
    "    y_s = SpikeMonitor(y)\n",
    "    \n",
    "    y.v = 0*volt\n",
    "    y.tau = 0.01*second\n",
    "    \n",
    "    z = Synapses(x,y, on_pre='v+=(0.01*volt*w)', model = 'w:1')\n",
    "    \n",
    "    for k in range(Ni):\n",
    "        z.connect(i = k , j = i_syn[k])\n",
    "        z.w[k,:] = W[k]*20 \n",
    "             \n",
    "    z.delay[:,:] = delay        \n",
    "    \n",
    "    net_see_seq = Network(collect())\n",
    "    net_see_seq.add(x, x_s, y, y_s, z)\n",
    "    net_see_seq.run(3*second)\n",
    "    \n",
    "    plt.figure(figsize =(10,4))\n",
    "    plt.scatter(x_s.t, x_s.i, marker = '|')\n",
    "    \n",
    "    plt.figure(figsize =(10,4))\n",
    "    plt.scatter(y_s.t, y_s.i, marker = '|')\n",
    "    print('each seq time :', time.time() - start )\n",
    "    return x_s, y_s, z"
   ]
  },
  {
   "cell_type": "code",
   "execution_count": 49,
   "id": "36650044-0795-4d4f-8c78-80d2fcef91ce",
   "metadata": {},
   "outputs": [
    {
     "name": "stdout",
     "output_type": "stream",
     "text": [
      "each seq time : 14.896978855133057\n"
     ]
    },
    {
     "data": {
      "image/png": "[encoded data removed]",
      "text/plain": [
       "<Figure size 720x288 with 1 Axes>"
      ]
     },
     "metadata": {
      "needs_background": "light"
     },
     "output_type": "display_data"
    },
    {
     "data": {
      "image/png": "[encoded data removed]",
      "text/plain": [
       "<Figure size 720x288 with 1 Axes>"
      ]
     },
     "metadata": {
      "needs_background": "light"
     },
     "output_type": "display_data"
    }
   ],
   "source": [
    " x_s, y_s, z = i_want_to_see_each_sequence (Ni, duration, W, delay, i_syn) "
   ]
  },
  {
   "cell_type": "code",
   "execution_count": 50,
   "id": "e93c3c62-049c-4657-9487-49c5beb9da83",
   "metadata": {},
   "outputs": [
    {
     "data": {
      "text/plain": [
       "(<spikemonitor_1.t: array([32.4, 52.2]) * msecond>,\n",
       " <spikemonitor_1.i: array([1, 0], dtype=int32)>)"
      ]
     },
     "execution_count": 50,
     "metadata": {},
     "output_type": "execute_result"
    }
   ],
   "source": [
    "y_s.t, y_s.i"
   ]
  },
  {
   "cell_type": "code",
   "execution_count": 51,
   "id": "18385af8-7ff6-402d-a7f5-35931362720d",
   "metadata": {},
   "outputs": [
    {
     "data": {
      "text/plain": [
       "array([0])"
      ]
     },
     "execution_count": 51,
     "metadata": {},
     "output_type": "execute_result"
    }
   ],
   "source": [
    "linspace(0, Ni-1, num = Ni, dtype = int)"
   ]
  },
  {
   "cell_type": "raw",
   "id": "bb936700-7f32-495a-b218-31e277ccc4d5",
   "metadata": {},
   "source": [
    "len(s.i[0,:])"
   ]
  },
  {
   "cell_type": "markdown",
   "id": "b30a8fe8-e595-4ee4-8ef8-af9224b01b87",
   "metadata": {
    "tags": []
   },
   "source": [
    "### STDP"
   ]
  },
  {
   "cell_type": "code",
   "execution_count": 52,
   "id": "51623478-31bc-4d75-903a-a41529b5cbde",
   "metadata": {
    "tags": []
   },
   "outputs": [],
   "source": [
    "def synchro_detector_terminator(Ni, e_true, e_in, delta_w, N, do_plot=False):\n",
    "    \n",
    "    start = time.time()\n",
    "    \n",
    "    tau_pre = tau_post = 100*ms\n",
    "    A_pre = 0.1\n",
    "    A_post = -A_pre*1.05\n",
    "    # --- STDP entre e_in et e_true ----------------------------------------------------------------------------------------------------------------------------------------------------\n",
    "    \n",
    "    e_in.sort(key=lambda y: y[1]) #pour trier de N\n",
    "    e_true.sort(key=lambda y: y[1]) #pour trier de tmin à tmax\n",
    "    \n",
    "    delta_T = []\n",
    "    comparaison = []\n",
    "    delta_T_comp = []\n",
    "    w_per_spike_pair = [] #shape(Nj,Ni)\n",
    "    w_per_spike_pair_with_comp = []\n",
    "    w_per_synapse_mean = {}\n",
    "    \n",
    "    \n",
    "    for i in range(len(e_in)):\n",
    "        for k in range(len(e_true)):  \n",
    "            comparaison.append(tuple((e_in[i][1], e_true[k][1]))) #Nj,Ni\n",
    "            delta_T.append(e_true[k][0]*ms - e_in[i][0]*ms)\n",
    "    \n",
    "    for i in range(len(delta_T)):       \n",
    "        w_per_spike_pair.append((where(delta_T[i]>0, A_pre*exp(-delta_T[i]/tau_pre), A_post*exp(delta_T[i]/tau_post))))\n",
    "        w_per_spike_pair_with_comp.append(tuple((w_per_spike_pair[i], comparaison[i])))\n",
    "    # print(w_per_spike_pair_with_comp)\n",
    "    w_per_spike_pair_0 = {}\n",
    "    w_per_synapse = {}\n",
    "    w_per_synapse_list = []\n",
    "    \n",
    "    for k in range(Nj):\n",
    "        for c in range(Ni):\n",
    "            w_per_spike_pair_0[k,c] = []\n",
    "            \n",
    "    for i in range(len(w_per_spike_pair_with_comp)):\n",
    "        for k in range(Nj): \n",
    "            for c in range(Ni): \n",
    "                if w_per_spike_pair_with_comp[i][1]==(k,c):\n",
    "                    \n",
    "                    w_per_spike_pair_0[k,c].append(w_per_spike_pair_with_comp[i][0])\n",
    "                w_per_synapse[k,c] = sum(w_per_spike_pair_0[k,c])\n",
    "        \n",
    "    for k in range(Nj):\n",
    "        for c in range(Ni):\n",
    "            w_per_synapse_list.append(w_per_synapse[k,c])\n",
    "    w_per_synapse_list = np.array(w_per_synapse_list)+np.array(delta_w)\n",
    "    w_per_synapse_list = np.nan_to_num(w_per_synapse_list, -.1*10e-50)\n",
    "    \n",
    "    print('synchro_detector time : ', time.time() - start)\n",
    "    \n",
    "    if do_plot:\n",
    "\n",
    "        # --- STDP théorique ---------------------------------------------------------------------------------------------------------------------------------------------------------------\n",
    "        tau_pre = tau_post = 100*ms\n",
    "        A_pre = 0.1\n",
    "        A_post = -A_pre*1.05\n",
    "        delta_t = linspace(-10000, 10000, 20000)*msecond\n",
    "\n",
    "        w_stdp = where(delta_t>=0, A_pre*exp(-delta_t/tau_pre), A_post*exp(delta_t/tau_post))\n",
    "\n",
    "        plt.figure(figsize=(10,4))\n",
    "        plot(delta_t/ms, w_stdp)\n",
    "        xlabel(r'$\\Delta t$ (ms)')\n",
    "        ylabel('W')\n",
    "        axhline(0, ls='-', c='k');\n",
    "\n",
    "        plt.figure(figsize=(10,4))\n",
    "        plt.scatter(delta_T/ms, w_per_spike_pair)\n",
    "        xlabel(r'$\\Delta t$ (ms)')\n",
    "        ylabel('W')\n",
    "        axhline(0, ls='-', c='k');\n",
    "        print(w_per_synapse_list)\n",
    "    else:\n",
    "\n",
    "        return w_per_synapse_list\n"
   ]
  },
  {
   "cell_type": "markdown",
   "id": "d111ba22-8029-4434-94f7-26b457593e98",
   "metadata": {},
   "source": [
    "### learn"
   ]
  },
  {
   "cell_type": "code",
   "execution_count": 53,
   "id": "481b9945-6461-40db-a1ea-90187894742e",
   "metadata": {
    "tags": []
   },
   "outputs": [],
   "source": [
    "def learn_weight (Ni, Nj, n_pattern, duration, nn_j, i_syn, N_epoch, sigma):\n",
    "    \n",
    "    start = time.time()\n",
    "    \n",
    "    delta_e_in = []\n",
    "    delta_e_true = []\n",
    "    delta_w = {}\n",
    "    delta_e_out = []\n",
    "    rapport = {}\n",
    "    signal = {}\n",
    "    bruit = {}\n",
    "    \n",
    "    for N in range(N_epoch): \n",
    "        start_3 = time.time()\n",
    "        print(N)\n",
    "        delta_w[N] = []\n",
    "        i_indices = np.random.randint(0, Ni, size = n_pattern) # nombre de PG observé (n_pattern), de Ni sortes différentes\n",
    "        i_temps = np.random.uniform(0, duration, size = n_pattern)*second # temps d'occurence des n_pattern PG \n",
    "        \n",
    "        s, syn, a_spike, b_spike, c_spike, e_in, e_true = quick_generator(Ni, Nj, n_pattern, i_indices, i_temps, i_syn, W, delay, sigma)\n",
    "        delta_e_in.append(e_in) \n",
    "        delta_e_true.append(e_true)\n",
    "    \n",
    "        if N == 0 : \n",
    "            w_per_synapse_list = synchro_detector_terminator(Ni, delta_e_true[N], delta_e_in[N], 0, N)\n",
    "            x_s, y_s, z = i_want_to_see_each_sequence (Ni, duration, W, delay, i_syn)\n",
    "\n",
    "        else : \n",
    "            w_per_synapse_list = synchro_detector_terminator(Ni, delta_e_true[N], delta_e_in[N], delta_w[N-1], N)\n",
    "      \n",
    "        delta_w[N].append(w_per_synapse_list)\n",
    "        delta_w[N] = np.reshape(delta_w[N], (1,Ni*Nj))\n",
    "        print('epoch time: ', time.time() - start_3)\n",
    "        \n",
    "    w_ = np.reshape(delta_w[N_epoch-1], (Nj,Ni))     \n",
    "    start_2 = time.time()\n",
    "    \n",
    "    plt.figure(figsize = (10,4))\n",
    "    for i in delta_e_in[N_epoch-1]:\n",
    "        plt.scatter(i[0], i[1], marker = '|')\n",
    "\n",
    "    \n",
    "    plt.figure(figsize = (10,4))\n",
    "    for i in delta_e_true[N_epoch-1]:\n",
    "        plt.scatter(i[0], i[1], marker = '|')\n",
    "\n",
    "    w_adress = {}\n",
    "    high_w = {}\n",
    "    low_w = {}\n",
    "    n_error = {}\n",
    "    \n",
    "    seuil = mean(w_)\n",
    "    \n",
    "    for k in range(Ni) :\n",
    "        w_adress[k] = []\n",
    "        high_w[k] = []\n",
    "        low_w[k] = []\n",
    "       \n",
    "        for i in s.j[k,:] :  \n",
    "            if w_[i,k] > seuil : \n",
    "                w_adress[k].append(tuple((i, w_[i,k])))\n",
    "            if s.w[k,i] > 2 and w_[i,k] < seuil : \n",
    "                low_w[k].append(tuple((i, w_[i,k])))\n",
    "            if s.w[k,i] < 2 and w_[i,k] > seuil :\n",
    "                high_w[k].append(tuple((i, w_[i,k])))\n",
    "                    \n",
    "        n_error[k] = len(low_w[k]) + len(high_w[k])\n",
    "    \n",
    "    true_adress = {}\n",
    "    true_weight = {}\n",
    "    for k in range(Ni):\n",
    "        true_adress[k] = []\n",
    "        true_weight[k] = []\n",
    "        for i in s.j[k,:] :  \n",
    "            if s.w[k,i] > 2 : \n",
    "                true_weight[k].append(s.w[k,i])\n",
    "                true_adress[k].append(i)\n",
    "        signal[k] = len(true_adress[k])*len(s.i[k,:])\n",
    "        bruit[k] = len(delta_e_in[N]) - signal[k] \n",
    "        rapport[k] = signal[k]/bruit[k]\n",
    "        \n",
    "    n_error_tot = [] \n",
    "    ratio_true = []\n",
    "\n",
    "    for k in range(Ni): \n",
    "        n_error_tot.append(n_error[k])\n",
    "    n_error_tot = sum(n_error_tot)\n",
    "    ratio_true = 100 - (n_error_tot*100/(Ni*Nj))\n",
    "   \n",
    "    \n",
    "    print('error time : ', time.time() - start_2)\n",
    "    print('learning time : ', time.time() - start)\n",
    "    \n",
    "    print('-------------------------------------------------------------------------------------------------------')\n",
    "    \n",
    "    print('signal/bruit : ', rapport)\n",
    "    print('N_ERROR : ', n_error)\n",
    "    print('error tot :', n_error_tot)\n",
    "    print('pourcentage de success :', ratio_true)\n",
    "    \n",
    "    return delta_e_out, delta_e_true, delta_e_in, delta_w, s, syn, w, n_error, w_adress, true_weight, true_adress, w_"
   ]
  },
  {
   "cell_type": "markdown",
   "id": "48069bc5-861a-4288-9915-3a8e75a159e0",
   "metadata": {},
   "source": [
    "#### for 1 adress"
   ]
  },
  {
   "cell_type": "code",
   "execution_count": 54,
   "id": "63dd3359-061f-4d94-a92d-ae2b6e8b293e",
   "metadata": {},
   "outputs": [],
   "source": [
    "Ni = 1\n",
    "N_epoch = 20\n",
    "n_pattern = 30\n",
    "duration = 10*second\n",
    "\n",
    "i_syn=[]\n",
    "n_syn = []\n",
    "nn_j = []\n",
    "W = []\n",
    "n_j_quick =[]\n",
    "\n",
    "for k in range(Ni) : \n",
    "    n_j = (np.random.randint(3, Nj, size = 1)) # nombre de neurone qu'un Ni va connecter : au moins 3 neurones impliqués dans un PG\n",
    "    i_syn.append(random.sample(range(Nj), int(n_j))) # def des j connectés aux i, pas de repetition (pas de delais heterosynaptique)\n",
    "    n_syn.append(len(i_syn[k])) # def du nb de synapses pour set des poids et délais aléatoires, voir ci-après \n",
    "    W.append(list(np.random.rand(int(n_j))))\n",
    "    W[k] /= sum(W[k])\n",
    "    i_syn_bruit = np.linspace\n",
    "n_syn = sum(n_syn) \n",
    "\n",
    "# --- def des poids et delais synaptiques -----------------------------------------------------------------------------------------------\n",
    "\n",
    "#weight = np.random.rand(n_syn) # des fois les poids générés pour 1 gp sont trop faibles pour que la detection marche, faudrait il faire en sorte que la somme des poids générés pour 1 gp soit = 1 \n",
    "delay = np.random.rand(n_syn)*0.1*second # là entre 0 et 100 "
   ]
  },
  {
   "cell_type": "code",
   "execution_count": 55,
   "id": "d2502278-5288-438d-9f4c-1d900902ad6e",
   "metadata": {},
   "outputs": [],
   "source": [
    "sigma = 6.8*mV \n",
    "#si sigma = 6.8, signal/bruit = 1.64, erreur = 0"
   ]
  },
  {
   "cell_type": "code",
   "execution_count": 56,
   "id": "b7bfb8b1-959d-44f8-baf9-935872e3cd3a",
   "metadata": {
    "tags": []
   },
   "outputs": [
    {
     "name": "stdout",
     "output_type": "stream",
     "text": [
      "0\n",
      "generation time:  30.483352661132812\n",
      "synchro_detector time :  4.326474905014038\n",
      "each seq time : 14.003439903259277\n",
      "epoch time:  48.816323041915894\n",
      "1\n",
      "generation time:  28.660515069961548\n",
      "synchro_detector time :  4.225003957748413\n",
      "epoch time:  32.889140129089355\n",
      "2\n",
      "generation time:  3.5116171836853027\n",
      "synchro_detector time :  4.904934883117676\n",
      "epoch time:  8.41954779624939\n",
      "3\n",
      "generation time:  3.510646104812622\n",
      "synchro_detector time :  4.928356885910034\n",
      "epoch time:  8.441748142242432\n",
      "4\n",
      "generation time:  21.55791187286377\n",
      "synchro_detector time :  4.522785902023315\n",
      "epoch time:  26.083773851394653\n",
      "5\n",
      "generation time:  21.839250802993774\n",
      "synchro_detector time :  4.542994976043701\n",
      "epoch time:  26.38583993911743\n",
      "6\n",
      "generation time:  21.62436294555664\n",
      "synchro_detector time :  6.074615716934204\n",
      "epoch time:  27.702495098114014\n",
      "7\n",
      "generation time:  3.510849952697754\n",
      "synchro_detector time :  6.608296871185303\n",
      "epoch time:  10.122202157974243\n",
      "8\n",
      "generation time:  3.5864319801330566\n",
      "synchro_detector time :  4.924336910247803\n",
      "epoch time:  8.513237953186035\n",
      "9\n",
      "generation time:  22.06580400466919\n",
      "synchro_detector time :  5.019412040710449\n",
      "epoch time:  27.08825397491455\n",
      "10\n",
      "generation time:  3.4830780029296875\n",
      "synchro_detector time :  5.478811979293823\n",
      "epoch time:  8.964869260787964\n",
      "11\n",
      "generation time:  3.4662227630615234\n",
      "synchro_detector time :  5.181210041046143\n",
      "epoch time:  8.65005111694336\n",
      "12\n",
      "generation time:  3.456040859222412\n",
      "synchro_detector time :  4.23288893699646\n",
      "epoch time:  7.691599130630493\n",
      "13\n",
      "generation time:  21.509954929351807\n",
      "synchro_detector time :  6.436061382293701\n",
      "epoch time:  27.94958996772766\n",
      "14\n",
      "generation time:  3.4830451011657715\n",
      "synchro_detector time :  5.644495010375977\n",
      "epoch time:  9.130629062652588\n",
      "15\n",
      "generation time:  3.5136330127716064\n",
      "synchro_detector time :  5.578864812850952\n",
      "epoch time:  9.095609188079834\n",
      "16\n",
      "generation time:  3.5396671295166016\n",
      "synchro_detector time :  4.297269105911255\n",
      "epoch time:  7.839383125305176\n",
      "17\n",
      "generation time:  3.5935862064361572\n",
      "synchro_detector time :  6.281915903091431\n",
      "epoch time:  9.87844204902649\n",
      "18\n",
      "generation time:  3.5504229068756104\n",
      "synchro_detector time :  5.01107931137085\n",
      "epoch time:  8.564373016357422\n",
      "19\n",
      "generation time:  3.660254955291748\n",
      "synchro_detector time :  4.802049875259399\n",
      "epoch time:  8.46517300605774\n",
      "error time :  0.34372615814208984\n",
      "learning time :  331.0364902019501\n",
      "-------------------------------------------------------------------------------------------------------\n",
      "signal/bruit :  {0: 0.07692307692307693}\n",
      "N_ERROR :  {0: 1}\n",
      "error tot : 1\n",
      "pourcentage de success : 90.0\n"
     ]
    },
    {
     "ename": "NameError",
     "evalue": "name 'w' is not defined",
     "output_type": "error",
     "traceback": [
      "\u001b[0;31m---------------------------------------------------------------------------\u001b[0m",
      "\u001b[0;31mNameError\u001b[0m                                 Traceback (most recent call last)",
      "Input \u001b[0;32mIn [56]\u001b[0m, in \u001b[0;36m<cell line: 1>\u001b[0;34m()\u001b[0m\n\u001b[0;32m----> 1\u001b[0m delta_e_out, delta_e_true, delta_e_in, delta_w, s, syn, w, n_error, w_adress, true_weight, true_adress, w_ \u001b[38;5;241m=\u001b[39m \u001b[43mlearn_weight\u001b[49m\u001b[43m \u001b[49m\u001b[43m(\u001b[49m\u001b[43mNi\u001b[49m\u001b[43m,\u001b[49m\u001b[43m \u001b[49m\u001b[43mNj\u001b[49m\u001b[43m,\u001b[49m\u001b[43m \u001b[49m\u001b[43mn_pattern\u001b[49m\u001b[43m,\u001b[49m\u001b[43m \u001b[49m\u001b[43mduration\u001b[49m\u001b[43m,\u001b[49m\u001b[43m \u001b[49m\u001b[43mnn_j\u001b[49m\u001b[43m,\u001b[49m\u001b[43m \u001b[49m\u001b[43mi_syn\u001b[49m\u001b[43m,\u001b[49m\u001b[43m \u001b[49m\u001b[43mN_epoch\u001b[49m\u001b[43m,\u001b[49m\u001b[43m \u001b[49m\u001b[43msigma\u001b[49m\u001b[43m)\u001b[49m\n",
      "Input \u001b[0;32mIn [53]\u001b[0m, in \u001b[0;36mlearn_weight\u001b[0;34m(Ni, Nj, n_pattern, duration, nn_j, i_syn, N_epoch, sigma)\u001b[0m\n\u001b[1;32m     98\u001b[0m \u001b[38;5;28mprint\u001b[39m(\u001b[38;5;124m'\u001b[39m\u001b[38;5;124merror tot :\u001b[39m\u001b[38;5;124m'\u001b[39m, n_error_tot)\n\u001b[1;32m     99\u001b[0m \u001b[38;5;28mprint\u001b[39m(\u001b[38;5;124m'\u001b[39m\u001b[38;5;124mpourcentage de success :\u001b[39m\u001b[38;5;124m'\u001b[39m, ratio_true)\n\u001b[0;32m--> 101\u001b[0m \u001b[38;5;28;01mreturn\u001b[39;00m delta_e_out, delta_e_true, delta_e_in, delta_w, s, syn, \u001b[43mw\u001b[49m, n_error, w_adress, true_weight, true_adress, w_\n",
      "\u001b[0;31mNameError\u001b[0m: name 'w' is not defined"
     ]
    },
    {
     "data": {
      "image/png": "[encoded data removed]",
      "text/plain": [
       "<Figure size 720x288 with 1 Axes>"
      ]
     },
     "metadata": {
      "needs_background": "light"
     },
     "output_type": "display_data"
    },
    {
     "data": {
      "image/png": "[encoded data removed]",
      "text/plain": [
       "<Figure size 720x288 with 1 Axes>"
      ]
     },
     "metadata": {
      "needs_background": "light"
     },
     "output_type": "display_data"
    },
    {
     "data": {
      "image/png": "[encoded data removed]",
      "text/plain": [
       "<Figure size 720x288 with 1 Axes>"
      ]
     },
     "metadata": {
      "needs_background": "light"
     },
     "output_type": "display_data"
    },
    {
     "data": {
      "image/png": "[encoded data removed]",
      "text/plain": [
       "<Figure size 720x288 with 1 Axes>"
      ]
     },
     "metadata": {
      "needs_background": "light"
     },
     "output_type": "display_data"
    }
   ],
   "source": [
    "delta_e_out, delta_e_true, delta_e_in, delta_w, s, syn, w, n_error, w_adress, true_weight, true_adress, w_ = learn_weight (Ni, Nj, n_pattern, duration, nn_j, i_syn, N_epoch, sigma)"
   ]
  },
  {
   "cell_type": "code",
   "execution_count": null,
   "id": "8983f775-0f70-48c5-b0ff-dcc369873a88",
   "metadata": {},
   "outputs": [],
   "source": [
    "W, w_"
   ]
  },
  {
   "cell_type": "code",
   "execution_count": null,
   "id": "c8b58159-1a25-4f00-b74a-3f9355b50d6d",
   "metadata": {},
   "outputs": [],
   "source": [
    "sigma = 6.6*mV \n",
    "#si sigma = 6.6, signal/bruit = 2.08, erreur = 0"
   ]
  },
  {
   "cell_type": "code",
   "execution_count": null,
   "id": "9ba62752-21e2-41fa-a81e-8199d37d949f",
   "metadata": {
    "tags": []
   },
   "outputs": [],
   "source": [
    "delta_e_out, delta_e_true, delta_e_in, delta_w, s, syn, w, n_error, w_adress, true_weight, true_adress, w_ = learn_weight (Ni, Nj, n_pattern, duration, nn_j, i_syn, N_epoch, sigma)"
   ]
  },
  {
   "cell_type": "code",
   "execution_count": null,
   "id": "fd314581-428d-4a28-9b67-d0a859999702",
   "metadata": {},
   "outputs": [],
   "source": [
    "sigma = 7*mV \n",
    "#si sigma = 7, signal/bruit = 1.35, erreur = 0  "
   ]
  },
  {
   "cell_type": "code",
   "execution_count": null,
   "id": "9e4cc8f4-5515-4008-9de3-5719f4d059b7",
   "metadata": {
    "tags": []
   },
   "outputs": [],
   "source": [
    "delta_e_out, delta_e_true, delta_e_in, delta_w, s, syn, w, n_error, w_adress, true_weight, true_adress, w_ = learn_weight (Ni, Nj, n_pattern, duration, nn_j, i_syn, N_epoch, sigma)"
   ]
  },
  {
   "cell_type": "code",
   "execution_count": null,
   "id": "0857c834-cb86-4495-8882-e134292a1af5",
   "metadata": {},
   "outputs": [],
   "source": [
    "sigma = 7.2*mV \n",
    "#si sigma = 7.2, signal/bruit = 0.97, erreur = 0  "
   ]
  },
  {
   "cell_type": "code",
   "execution_count": null,
   "id": "0a95faba-3efc-4733-84c1-c30ec75cd52d",
   "metadata": {
    "tags": []
   },
   "outputs": [],
   "source": [
    "delta_e_out, delta_e_true, delta_e_in, delta_w, s, syn, w, n_error, w_adress, true_weight, true_adress, w_ = learn_weight (Ni, Nj, n_pattern, duration, nn_j, i_syn, N_epoch, sigma)"
   ]
  },
  {
   "cell_type": "code",
   "execution_count": null,
   "id": "355097fd-1b19-470c-bdc8-57c1561a7628",
   "metadata": {},
   "outputs": [],
   "source": [
    "sigma = 7.5*mV \n",
    "#si sigma = 7.5, signal/bruit = 0.7, erreur = 0  "
   ]
  },
  {
   "cell_type": "code",
   "execution_count": null,
   "id": "3a1371d7-051a-4670-8ee7-08054b71dca4",
   "metadata": {
    "tags": []
   },
   "outputs": [],
   "source": [
    "delta_e_out, delta_e_true, delta_e_in, delta_w, s, syn, w, n_error, w_adress, true_weight, true_adress, w_ = learn_weight (Ni, Nj, n_pattern, duration, nn_j, i_syn, N_epoch, sigma)"
   ]
  },
  {
   "cell_type": "code",
   "execution_count": null,
   "id": "f796e9ae-9508-4e07-bf36-5803d65e333f",
   "metadata": {},
   "outputs": [],
   "source": [
    "sigma = 7.8*mV \n",
    "#si sigma = 7.8, signal/bruit = 0.5, erreur = 0  "
   ]
  },
  {
   "cell_type": "code",
   "execution_count": null,
   "id": "9032e150-b5c1-4e31-ad73-03333af8c446",
   "metadata": {
    "tags": []
   },
   "outputs": [],
   "source": [
    "delta_e_out, delta_e_true, delta_e_in, delta_w, s, syn, w, n_error, w_adress, true_weight, true_adress, w_ = learn_weight (Ni, Nj, n_pattern, duration, nn_j, i_syn, N_epoch, sigma)"
   ]
  },
  {
   "cell_type": "code",
   "execution_count": null,
   "id": "6f19550c-5a1c-4b2f-8352-6d58ad4e30c0",
   "metadata": {},
   "outputs": [],
   "source": [
    "sigma = 8*mV \n",
    "#si sigma = 8, signal/bruit = 0.51, erreur = 0  "
   ]
  },
  {
   "cell_type": "code",
   "execution_count": null,
   "id": "0dd1f86d-2f5e-4b62-aa37-d99ba50b2b3c",
   "metadata": {
    "tags": []
   },
   "outputs": [],
   "source": [
    "delta_e_out, delta_e_true, delta_e_in, delta_w, s, syn, w, n_error, w_adress, true_weight, true_adress, w_ = learn_weight (Ni, Nj, n_pattern, duration, nn_j, i_syn, N_epoch, sigma)"
   ]
  },
  {
   "cell_type": "code",
   "execution_count": null,
   "id": "b129d4fc-c086-4502-9a5f-d5605a87904f",
   "metadata": {},
   "outputs": [],
   "source": [
    "sigma = 8.3*mV \n",
    "#si sigma = 8, signal/bruit = 0.3, erreur = 0  "
   ]
  },
  {
   "cell_type": "code",
   "execution_count": null,
   "id": "03a54eeb-01d7-4268-9dc2-cd74c46fdbce",
   "metadata": {
    "tags": []
   },
   "outputs": [],
   "source": [
    "delta_e_out, delta_e_true, delta_e_in, delta_w, s, syn, w, n_error, w_adress, true_weight, true_adress, w_ = learn_weight (Ni, Nj, n_pattern, duration, nn_j, i_syn, N_epoch, sigma)"
   ]
  },
  {
   "cell_type": "markdown",
   "id": "3be8a953-bbc7-4841-86fe-b3302620917b",
   "metadata": {},
   "source": [
    "avec un ration signal/bruit = 0.2 (bcp de bruit) on a 1 erreur sur 10\n",
    "si on augmente le ration signal/bruit (=0.5) on a 0 erreur sur 10 \n",
    "si on diminue sigma "
   ]
  },
  {
   "cell_type": "markdown",
   "id": "59f064b2-8c74-4b51-ab10-479afc35f424",
   "metadata": {},
   "source": [
    "#### for several adresses"
   ]
  },
  {
   "cell_type": "code",
   "execution_count": null,
   "id": "e50c5c14-1160-4c7c-9d4f-32f1b8f9beeb",
   "metadata": {},
   "outputs": [],
   "source": [
    "Ni = 3\n",
    "N_epoch = 20\n",
    "n_pattern = 50\n",
    "duration = 10*second\n",
    "\n",
    "i_syn=[]\n",
    "n_syn = []\n",
    "nn_j = []\n",
    "W = []\n",
    "n_j_quick =[]\n",
    "\n",
    "for k in range(Ni) : \n",
    "    n_j = (np.random.randint(3, Nj, size = 1)) # nombre de neurone qu'un Ni va connecter : au moins 3 neurones impliqués dans un PG\n",
    "    i_syn.append(random.sample(range(Nj), int(n_j))) # def des j connectés aux i, pas de repetition (pas de delais heterosynaptique)\n",
    "    n_syn.append(len(i_syn[k])) # def du nb de synapses pour set des poids et délais aléatoires, voir ci-après \n",
    "    W.append(list(np.random.rand(int(n_j))))\n",
    "    W[k] /= sum(W[k])\n",
    "    i_syn_bruit = np.linspace\n",
    "n_syn = sum(n_syn) \n",
    "\n",
    "# --- def des poids et delais synaptiques -----------------------------------------------------------------------------------------------\n",
    "\n",
    "#weight = np.random.rand(n_syn) # des fois les poids générés pour 1 gp sont trop faibles pour que la detection marche, faudrait il faire en sorte que la somme des poids générés pour 1 gp soit = 1 \n",
    "delay = np.random.rand(n_syn)*0.1*second # là entre 0 et 100 "
   ]
  },
  {
   "cell_type": "markdown",
   "id": "de6f8a16-93fc-4229-b800-264d564fbce2",
   "metadata": {},
   "source": [
    "but : trouver le rapport signal/bruit minimal pour avoir 0 erreur \n",
    "-> 0.05 - 0.15 "
   ]
  },
  {
   "cell_type": "code",
   "execution_count": null,
   "id": "bee301fa-d6aa-4960-9497-1d297b442707",
   "metadata": {},
   "outputs": [],
   "source": [
    "sigma = 4*mV \n",
    "#si sigma = 4, signal/bruit = 0.05 < 0.15 , erreur = 0"
   ]
  },
  {
   "cell_type": "code",
   "execution_count": null,
   "id": "ab753ca3-4749-40c6-a3f2-1b1438bcf1d1",
   "metadata": {
    "tags": []
   },
   "outputs": [],
   "source": [
    "delta_e_out, delta_e_true, delta_e_in, delta_w, s, syn, w, n_error, w_adress, true_weight, true_adress, w_ = learn_weight (Ni, Nj, n_pattern, duration, nn_j, i_syn, N_epoch, sigma)"
   ]
  },
  {
   "cell_type": "code",
   "execution_count": null,
   "id": "aca58abc-0d13-472f-ac49-4115714e4999",
   "metadata": {},
   "outputs": [],
   "source": [
    "sigma = 5*mV \n",
    "#si sigma = 5, signal/bruit = 0.1 , erreur = 1"
   ]
  },
  {
   "cell_type": "code",
   "execution_count": null,
   "id": "8673f34a-ce1b-4dc9-b298-85f00705eca3",
   "metadata": {
    "tags": []
   },
   "outputs": [],
   "source": [
    "delta_e_out, delta_e_true, delta_e_in, delta_w, s, syn, w, n_error, w_adress, true_weight, true_adress, w_ = learn_weight (Ni, Nj, n_pattern, duration, nn_j, i_syn, N_epoch, sigma)"
   ]
  },
  {
   "cell_type": "code",
   "execution_count": null,
   "id": "18329780-053f-4aa2-9fba-2a1933a33bbe",
   "metadata": {},
   "outputs": [],
   "source": [
    "sigma = 5.8*mV \n",
    "#si sigma = 5.8, signal/bruit = 0.1 , erreur = 1"
   ]
  },
  {
   "cell_type": "code",
   "execution_count": null,
   "id": "4949d6ed-080b-4b03-8bdb-0660fab47a6e",
   "metadata": {
    "tags": []
   },
   "outputs": [],
   "source": [
    "delta_e_out, delta_e_true, delta_e_in, delta_w, s, syn, w, n_error, w_adress, true_weight, true_adress, w_ = learn_weight (Ni, Nj, n_pattern, duration, nn_j, i_syn, N_epoch, sigma)"
   ]
  },
  {
   "cell_type": "code",
   "execution_count": null,
   "id": "e73763f2-0d0c-47fd-93c9-bedaaa551478",
   "metadata": {},
   "outputs": [],
   "source": [
    "sigma = 6.3*mV \n",
    "#si sigma = 6.3, signal/bruit = 0.1 , erreur = 1"
   ]
  },
  {
   "cell_type": "code",
   "execution_count": null,
   "id": "eaf9a45d-9459-47a9-9feb-e3b0082eb33b",
   "metadata": {
    "tags": []
   },
   "outputs": [],
   "source": [
    "delta_e_out, delta_e_true, delta_e_in, delta_w, s, syn, w, n_error, w_adress, true_weight, true_adress, w_ = learn_weight (Ni, Nj, n_pattern, duration, nn_j, i_syn, N_epoch, sigma)"
   ]
  },
  {
   "cell_type": "code",
   "execution_count": null,
   "id": "2b5e9c78-fb04-4a12-9c37-ad4e3aec40cc",
   "metadata": {},
   "outputs": [],
   "source": [
    "sigma = 6.6*mV \n",
    "#si sigma = 6.6, signal/bruit = < 0.1 , erreur = 1"
   ]
  },
  {
   "cell_type": "code",
   "execution_count": null,
   "id": "cc3e6ffc-3965-4be4-8df7-ae94d355e60a",
   "metadata": {
    "tags": []
   },
   "outputs": [],
   "source": [
    "delta_e_out, delta_e_true, delta_e_in, delta_w, s, syn, w, n_error, w_adress, true_weight, true_adress, w_ = learn_weight (Ni, Nj, n_pattern, duration, nn_j, i_syn, N_epoch, sigma)"
   ]
  },
  {
   "cell_type": "code",
   "execution_count": null,
   "id": "dcd77147-e125-446c-b61f-dd2c9ee49053",
   "metadata": {},
   "outputs": [],
   "source": [
    "sigma = 6.8*mV \n",
    "#si sigma = 6.8, signal/bruit = ? , erreur = 1"
   ]
  },
  {
   "cell_type": "code",
   "execution_count": null,
   "id": "424c3552-6961-4aae-941e-7b96eefc417e",
   "metadata": {},
   "outputs": [],
   "source": [
    "delta_e_out, delta_e_true, delta_e_in, delta_w, s, syn, w, n_error, w_adrevss, true_weight, true_adress, w_ = learn_weight (Ni, Nj, n_pattern, duration, nn_j, i_syn, N_epoch, sigma)"
   ]
  },
  {
   "cell_type": "code",
   "execution_count": null,
   "id": "66b7d162-f09b-4c26-a0b4-41c113675c9f",
   "metadata": {},
   "outputs": [],
   "source": [
    "sigma = 7*mV \n",
    "#si sigma = 7, signal/bruit = ? , erreur = 2 "
   ]
  },
  {
   "cell_type": "code",
   "execution_count": null,
   "id": "790d20e0-5457-4863-93f6-b9b29e499e59",
   "metadata": {},
   "outputs": [],
   "source": [
    "delta_e_out, delta_e_true, delta_e_in, delta_w, s, syn, w, n_error, w_adrevss, true_weight, true_adress, w_ = learn_weight (Ni, Nj, n_pattern, duration, nn_j, i_syn, N_epoch, sigma)"
   ]
  },
  {
   "cell_type": "code",
   "execution_count": null,
   "id": "f58df22c-1b58-4a7e-a260-fb7ea6c9307d",
   "metadata": {},
   "outputs": [],
   "source": [
    "sigma = 7.2*mV \n",
    "#si sigma = 7.2, signal/bruit = < 0.05 , erreur = 2"
   ]
  },
  {
   "cell_type": "code",
   "execution_count": null,
   "id": "9b308893-df0f-4a3e-8067-ceab704c1676",
   "metadata": {
    "tags": []
   },
   "outputs": [],
   "source": [
    "delta_e_out, delta_e_true, delta_e_in, delta_w, s, syn, w, n_error, w_adrevss, true_weight, true_adress, w_ = learn_weight (Ni, Nj, n_pattern, duration, nn_j, i_syn, N_epoch, sigma)"
   ]
  },
  {
   "cell_type": "code",
   "execution_count": null,
   "id": "c7b45393-9024-4c94-b2ba-6898b2aff624",
   "metadata": {},
   "outputs": [],
   "source": [
    "w_adress"
   ]
  },
  {
   "cell_type": "code",
   "execution_count": null,
   "id": "1c7c26da-291b-4b98-a115-b6db1bbe2ce0",
   "metadata": {
    "tags": []
   },
   "outputs": [],
   "source": [
    "true_adress = {}\n",
    "true_weight = {}\n",
    "for k in range(Ni):\n",
    "    true_adress[k] = []\n",
    "    true_weight[k] = []\n",
    "    for i in s.j[k,:] :  \n",
    "        if s.w[k,i] > 2 : \n",
    "            true_weight[k].append(s.w[k,i])\n",
    "            true_adress[k].append(i)"
   ]
  },
  {
   "cell_type": "markdown",
   "id": "ca1f6509-3a3a-4163-bded-07edfce64e7d",
   "metadata": {},
   "source": [
    "## supervised STDP for delay learning"
   ]
  },
  {
   "cell_type": "code",
   "execution_count": null,
   "id": "b0516000-6fbd-4e2e-89a9-8b50d57638ae",
   "metadata": {},
   "outputs": [],
   "source": [
    "def get_activity (a, Ni, w_adress_, delta_e_in) : \n",
    "    #w_adress_ = {}\n",
    "    nb_syn = {}\n",
    "    act = {}\n",
    "    act_t = {}\n",
    "    act_i = {}\n",
    "    likelihood = {}\n",
    "    adresshood = {}\n",
    "    matrix_adress = {}\n",
    "    e_in_safe = {}\n",
    "    w_value = {}\n",
    "    \n",
    "    # recup activité des adress d'interet only + les mettre dans la bonne shape pour tanh\n",
    "    \n",
    "        #w_value[c] = list(zip(*w_adress[c]))[1]\n",
    "        #nb_syn[c] = len(w_adress_[c])\n",
    "        \n",
    "    delta_e_in.sort(key=lambda y: y[0]) \n",
    "    act = list(zip(*delta_e_in))\n",
    "    act_t = []\n",
    "    act_i = []\n",
    "    \n",
    "    #récup dans deux listes le temps et l'indice de tous les évènement :\n",
    "    for j in range(Nj): \n",
    "        timp = []\n",
    "        timp_ = []\n",
    "        for i in range(len(act[1])):\n",
    "            if act[1][i] == j : \n",
    "                timp.append(int(act[0][i]))\n",
    "                timp_.append(act[1][i])\n",
    "        act_t.append(timp) # les temps de tous les évènements\n",
    "        act_i.append(timp_) # les indices de tous les évènements\n",
    "    \n",
    "    act_t = np.asarray(act_t)\n",
    "    act_i = np.asarray(act_i)\n",
    "    print('act_t :', act_t)\n",
    "    print('act_i :', act_i)\n",
    "    print(w_adress_)\n",
    "        # ne récuperer dans deux liste le t et les i des adresses d'intéret \n",
    "\n",
    "    likelihood = {}\n",
    "    adresshood = {}\n",
    "    matrix_adress = {}\n",
    "    activity = {}\n",
    "            \n",
    "    for k in range(Ni):\n",
    "        if a==1 : \n",
    "            likelihood[k] = act_t[list(w_adress_[k])] # les temps des évènements des adresses d'intéret only \n",
    "            adresshood[k] = act_i[list(w_adress_[k])] # les indices des évènements des adresses d'inétert only \n",
    "            print('likelihood :', k, likelihood[k])\n",
    "            print('adress_hood :', k, adresshood[k])\n",
    "            \n",
    "            matrix_adress[k] = {}  \n",
    "            \n",
    "            for i in range(len(adresshood[k])):\n",
    "                matrix_adress[k][i]=[]\n",
    "                matrix_adress[k][i] = np.ones(len(adresshood[k][i]))*i\n",
    "                adresshood[k][i] = matrix_adress[k][i].astype('int') #les adress prennent de nouvelles valeurs \n",
    "            print('adresshood remasterisée :', adresshood[k])\n",
    "            \n",
    "            activity[k] = [[item for sublist in likelihood[k] for item in sublist]] # t giga liste dans activity[0]\n",
    "            activity[k].append([item for sublist in adresshood[k] for item in sublist])# i giga liste dans activity[1]\n",
    "            print('activity', activity[k])\n",
    "            \n",
    "            activity[k][0], activity[k][1] = zip(*sorted(zip(activity[k][0], activity[k][1])))# dans l'ordre chronologique \n",
    "        \n",
    "            activity[k][0], activity[k][1] = np.array(activity[k][0]), np.array(activity[k][1]) # en np.array\n",
    "            \n",
    "        else : \n",
    "            likelihood[k] = act_t[w_adress_[k]] # les temps des évènements des adresses d'intéret only \n",
    "            adresshood[k] = act_i[w_adress_[k]] # les indices des évènements des adresses d'inétert only \n",
    "            likelihood[k] = list(likelihood[k])\n",
    "            print('likelihood :', k, likelihood[k])\n",
    "            print('adress_hood :', k, adresshood[k])\n",
    "            activity[k] = [[likelihood[k]]]\n",
    "            activity[k].append([adresshood[k]])\n",
    "            activity[k][0], activity[k][1] = np.array(activity[k][0]), np.array(activity[k][1])\n",
    "        \n",
    "    return activity"
   ]
  },
  {
   "cell_type": "markdown",
   "id": "89f74bbe-ee0a-4c23-aab1-5e7a796578ed",
   "metadata": {},
   "source": [
    "#### adress 1 by 1 "
   ]
  },
  {
   "cell_type": "code",
   "execution_count": null,
   "id": "62782232-fb5a-4425-b6a4-84eb12a1521f",
   "metadata": {},
   "outputs": [],
   "source": [
    "def learn_delay (Ni, w_adress, delta_e_in, delta_e_true) : \n",
    "    d_ = {}\n",
    "    delta_d = {}\n",
    "    d_per_synapse_list = {}\n",
    "    w_adress_ = {}\n",
    "    for N in range(N_epoch) : \n",
    "        \n",
    "        tuple_activity_in = {}\n",
    "        tuple_activity_true = {}\n",
    "        delta_d[N] = {}\n",
    "        \n",
    "        for c in range(Ni): \n",
    "            w_adress_[c] = list(zip(*w_adress[c]))[0]\n",
    "        a = 1   \n",
    "        activity = get_activity (a, Ni, w_adress_, delta_e_in[N])\n",
    "        print('ACTIVITY_in :', activity)\n",
    "        print('----------------------------------------------------------------------------------------------------')\n",
    "        a = 6\n",
    "        for k in range(Ni): \n",
    "            w_adress_[k] = k\n",
    "        activity_sup = get_activity (a,Ni, w_adress_, delta_e_true[N])\n",
    "        print('ACTIVITY_sup :', activity_sup)\n",
    "        for k in range(Ni):\n",
    "            tuple_activity_in[k] = [(activity[k][0][i], activity[k][1][i]) for i in range(0, len(activity[k][0]))]\n",
    "            tuple_activity_true[k] = [(activity_sup[k][0][i], activity_sup[k][1][i]) for i in range(0, len(activity_sup[k][0]))]\n",
    "        print('tuple_activity_in',tuple_activity_in)\n",
    "        for k in range(Ni):\n",
    "            if N == 0 : \n",
    "                d_per_synapse_list[k] = synchro_detector_terminator(Ni, tuple_activity_in[k], tuple_activity_true[k], 0, N)\n",
    "            else :\n",
    "                d_per_synapse_list[k] = synchro_detector_terminator(Ni, tuple_activity_in[k], tuple_activity_true[k], delta_d[N-1][k], N)\n",
    "\n",
    "        delta_d[N] = d_per_synapse_list\n",
    "        delta_d[N] = np.reshape(delta_d[N], (Ni ,Ni*Nj)) \n",
    "            \n",
    "    for k in range(Ni): \n",
    "        d_[k] = np.reshape(delta_d[N_epoch-1][k], (Nj,Ni))\n",
    "        \n",
    "    return tuple_activity_in, tuple_activity_true, d_per_synapse_list, delta_d"
   ]
  },
  {
   "cell_type": "code",
   "execution_count": null,
   "id": "1adc11f4-79ce-4aa1-b8d0-1aece8714c7c",
   "metadata": {},
   "outputs": [],
   "source": [
    "tuple_activity_in, tuple_activity_true, d_per_synapse_list, delta_d = learn_delay (Ni, w_adress, delta_e_in, delta_e_true)"
   ]
  },
  {
   "cell_type": "code",
   "execution_count": null,
   "id": "9f1a5585-a6ba-4033-9ed3-81f3a99c0794",
   "metadata": {},
   "outputs": [],
   "source": [
    "np.all?"
   ]
  },
  {
   "cell_type": "markdown",
   "id": "449a4356-f702-4648-a894-655c044653b3",
   "metadata": {},
   "source": [
    "A FAIRE : \n",
    "\n",
    "- lancer learning des poids pour 1 et plusieurs adresses \n",
    "        - comparer nb d'erreur\n",
    "        - comparer nb d'erreur en faisant varier le rapp signal/bruit /!\\ avec plusieurs adresses le rapport signal/bruit est faux car les autres sequences sont considérées comme du bruit  \n",
    "                -> noter ce que variation de sigma entraine précisément \n",
    "        - essayer de trouver le meilleur rapport signal/bruit pour avoir le moins d'erreur possible en 1 et plusieurs adresses \n",
    "            \n",
    "- lancer learning supervisé des delais et voir résultats \n",
    "- sur le notebook d'antoine : \n",
    "        -faire varier B et voir si je peux trouver un truc qui marche\n",
    "        - faire varier tau aussi "
   ]
  },
  {
   "cell_type": "markdown",
   "id": "0a446691-61a1-43d8-ba66-5bd5f5ce437e",
   "metadata": {
    "tags": []
   },
   "source": [
    "## unsupervised tanh for delay learning "
   ]
  },
  {
   "cell_type": "code",
   "execution_count": null,
   "id": "b4f15362-62cd-4d21-b810-1a581cee1098",
   "metadata": {},
   "outputs": [],
   "source": [
    "stimtime = 2e2\n",
    "simtime = 1e6\n",
    "tau = stimtime\n",
    "B = 1"
   ]
  },
  {
   "cell_type": "code",
   "execution_count": null,
   "id": "b0a2a4ed-59d0-456c-8238-1700d442ed78",
   "metadata": {},
   "outputs": [],
   "source": [
    "class neuron_tanh(object):\n",
    "    def __init__(self,nb_syn, tau, B):\n",
    "        self.delays = np.random.randint(0,tau,[nb_syn]).astype(float)\n",
    "        self.time_diff = np.ones([nb_syn])\n",
    "        self.tau = tau\n",
    "        self.B = B\n",
    "        \n",
    "    def learn(self, stream):\n",
    "            timestamp, address = stream[0], stream[1] # timestamp = aer[1] = t des spikes / address = aer[0] = i des spikes \n",
    "            #print('how many adress', len(address))\n",
    "            for ev in range(1,len(address)):\n",
    "                self.time_diff += (timestamp[ev]-timestamp[ev-1])\n",
    "                self.time_diff[address[ev]] = 0 #(timestamp[ev]-timestamp[ev-1])  # time_diff[s[s]] , no entiendo lo que passo aqui \n",
    "                if timestamp[ev] != timestamp[ev-1]:\n",
    "                    G = self.B*np.tanh((self.time_diff-self.delays)/self.tau) \n",
    "                    self.delays += G"
   ]
  },
  {
   "cell_type": "code",
   "execution_count": null,
   "id": "1d49ce33-db87-429d-b1f6-94cc76a54fee",
   "metadata": {},
   "outputs": [],
   "source": [
    "def learn_delays (w_adress, Ni, Nj, N_epoch, delta_e_in, tau, B) :\n",
    "    start = time.time()\n",
    "    w_adress_ = {}\n",
    "    nb_syn = {}\n",
    "    act = {}\n",
    "    act_t = {}\n",
    "    act_i = {}\n",
    "    likelihood = {}\n",
    "    adresshood = {}\n",
    "    matrix_adress = {}\n",
    "    e_in_safe = {}\n",
    "    w_value = {}\n",
    "    # recup activité des adress d'interet only + les mettre dans la bonne shape pour tanh\n",
    "    for c in range(Ni): \n",
    "        w_adress_[c] = list(zip(*w_adress[c]))[0]\n",
    "        w_value[c] = list(zip(*w_adress[c]))[1]\n",
    "        nb_syn[c] = len(w_adress_[c])\n",
    "        \n",
    "    for epoch in range(N_epoch): \n",
    "        delta_e_in[epoch].sort(key=lambda y: y[0]) \n",
    "        act[epoch] = list(zip(*delta_e_in[epoch]))\n",
    "        act_t[epoch] = []\n",
    "        act_i[epoch] = []\n",
    "    \n",
    "    #récup dans deux listes le temps et l'indice de tous les évènement :\n",
    "        for j in range(Nj): \n",
    "            timp = []\n",
    "            timp_ = []\n",
    "            for i in range(len(act[epoch][1])):\n",
    "                if act[epoch][1][i] == j : \n",
    "                    timp.append(int(act[epoch][0][i]))\n",
    "                    timp_.append(act[epoch][1][i])\n",
    "            act_t[epoch].append(timp) # les temps de tous les évènements\n",
    "            act_i[epoch].append(timp_) # les indices de tous les évènements\n",
    "    \n",
    "        act_t[epoch] = np.asarray(act_t[epoch])\n",
    "        act_i[epoch] = np.asarray(act_i[epoch])\n",
    "\n",
    "        # ne récuperer dans deux liste le t et les i des adresses d'intéret \n",
    "\n",
    "        likelihood[epoch] = {}\n",
    "        adresshood[epoch] = {}\n",
    "        matrix_adress[epoch] = {}\n",
    "        activity[epoch] = {}\n",
    "            \n",
    "        for k in range(Ni):\n",
    "            likelihood[epoch][k] = act_t[epoch][list(w_adress_[k])] # les temps des évènements des adresses d'intéret only \n",
    "            adresshood[epoch][k] = act_i[epoch][list(w_adress_[k])] # les indices des évènements des adresses d'inétert only \n",
    "            matrix_adress[epoch][k] = {}      \n",
    "            for i in range(len(adresshood[epoch][k])):\n",
    "                matrix_adress[epoch][k][i]=[]\n",
    "                matrix_adress[epoch][k][i] = np.ones(len(adresshood[epoch][k][i]))*i\n",
    "                adresshood[epoch][k][i] = matrix_adress[epoch][k][i].astype('int') #les adress prennent de nouvelles valeurs \n",
    "        \n",
    "            activity[epoch][k] = [[item for sublist in likelihood[epoch][k] for item in sublist]] # t giga liste dans activity[0]\n",
    "            activity[epoch][k].append([item for sublist in adresshood[epoch][k] for item in sublist])# i giga liste dans activity[1]\n",
    "    \n",
    "            activity[epoch][k][0], activity[epoch][k][1] = zip(*sorted(zip(activity[epoch][k][0], activity[epoch][k][1])))# dans l'ordre chronologique \n",
    "        \n",
    "            activity[epoch][k][0], activity[epoch][k][1] = np.array(activity[epoch][k][0]), np.array(activity[epoch][k][1]) # en np.array\n",
    "    \n",
    "    for c in range(Ni): \n",
    "        print('SEQ', c)\n",
    "        N = neuron_tanh(nb_syn[c], tau, B)\n",
    "        for epoch in range(N_epoch):\n",
    "            for i in range(1000):\n",
    "                N.learn(activity[epoch][c]);\n",
    "            if epoch == 0  or epoch == N_epoch-1 :\n",
    "                print('N_epoch : ', epoch)\n",
    "                plt.scatter(N.delays, w_adress_[c], marker = 'o');\n",
    "                plt.show()\n",
    "                \n",
    "        delay_learn[c]=(N.delays) \n",
    "   \n",
    "\n",
    "    plt.figure(figsize=(10,4))\n",
    "    plt.scatter(delay_learn[0], w_adress_[0], marker = 'o' )\n",
    "    plt.scatter([z.delay[0,8]*1e3, z.delay[0,2]*1e3], w_adress_[0], marker = 'x')\n",
    "\n",
    "    plt.figure(figsize=(10,4))\n",
    "    plt.scatter(delay_learn[1], w_adress_[1], marker = 'o')\n",
    "    plt.scatter([z.delay[1,6]*1e3, z.delay[1,5]*1e3, z.delay[1,8]*1e3, z.delay[1,1]*1e3, z.delay[1,3]*1e3, z.delay[1,4]*1e3] , w_adress_[1], marker = 'x')\n",
    "\n",
    "    plt.figure(figsize=(10,4))\n",
    "    plt.scatter(delay_learn[2], w_adress_[2], marker = 'o')\n",
    "    plt.scatter([z.delay[2,8]*1e3, z.delay[2,7]*1e3, z.delay[2,0]*1e3, z.delay[2,4]*1e3], w_adress_[2], marker = 'x')\n",
    "    \n",
    "    print('delay learning time :', time.time() - start)\n",
    "    return delay_learn, act_t, act_i, w_adress_, w_value\n",
    "        "
   ]
  },
  {
   "cell_type": "code",
   "execution_count": null,
   "id": "deb99f0c-545f-4e13-8656-d695d9df581f",
   "metadata": {
    "tags": []
   },
   "outputs": [],
   "source": [
    "delay_learn, act_t, act_i, w_adress_, w_value = learn_delays (w_adress, Ni, Nj, N_epoch, delta_e_in, tau, B)"
   ]
  },
  {
   "cell_type": "markdown",
   "id": "10400aa3-7a75-4c19-b23f-ecdde350fd3b",
   "metadata": {},
   "source": [
    "## e_out generation with learned weight and delay appris "
   ]
  },
  {
   "cell_type": "code",
   "execution_count": null,
   "id": "ad1ae50e-8e4c-441c-83fe-2b83e24bfaba",
   "metadata": {},
   "outputs": [],
   "source": [
    "def e_out_generator (Ni, Nj, act_t, act_i, N_epoch, w_adress_, w_value):\n",
    "    start = time.time()\n",
    "    \n",
    "    start_scope()\n",
    "    \n",
    "    _in_t = [item for sublist in act_t[N_epoch-1] for item in sublist]\n",
    "    _in_t_dos = [item for sublist in act_t[N_epoch-1] for item in sublist]\n",
    "    _in_i = [item for sublist in act_i[N_epoch-1] for item in sublist]\n",
    "    \n",
    "    _in_t_safe = []\n",
    "    _in_i_safe = []\n",
    "    for i in range(len(_in_t)):\n",
    "        if _in_t[i] not in _in_t_safe:\n",
    "            _in_t_safe.append(_in_t[i])\n",
    "            _in_i_safe.append(_in_i[i])\n",
    "   \n",
    "    _in = SpikeGeneratorGroup(10, _in_i_safe, _in_t_safe*ms)\n",
    "    _in_spike = SpikeMonitor(_in)\n",
    "    \n",
    "    _out = NeuronGroup(Ni, ''' dv/dt = -v/tau : volt\n",
    "                                tau : second''',\n",
    "                        threshold= 'v > 0.05*volt',\n",
    "                        reset= 'v = 0*volt', \n",
    "                        method = 'exact')\n",
    "    \n",
    "    _out.v = 0*volt\n",
    "    _out.tau = 0.001*second\n",
    "    \n",
    "    _out_spike = SpikeMonitor(_out)\n",
    "    \n",
    "    network = Synapses(_in, _out, on_pre='v+=(0.01*volt*w)', model = 'w:1')\n",
    "    \n",
    "    network.connect(p=1)\n",
    "    \n",
    "    network.w[:,:] = np.zeros(3*10)\n",
    "    \n",
    "    for c in range(Ni):\n",
    "        for i in range(len(w_adress_[c])):\n",
    "            network.w[w_adress_[c][i],c] = w_value[c][i]\n",
    "            network.delay[w_adress_[c][i],c] = delay_learn[c][i]*second/1000\n",
    "   \n",
    "    generator = Network(collect())\n",
    "    generator.add(_in, _in_spike, _out, _out_spike, network)\n",
    "    generator.run(duration)       \n",
    "    #print(network.w)\n",
    "    print('generation time :',time.time() - start)\n",
    "    return network, _in_spike, _out_spike"
   ]
  },
  {
   "cell_type": "code",
   "execution_count": null,
   "id": "d93f3f3f-4cd8-4a5e-a53f-40db3377c9dd",
   "metadata": {},
   "outputs": [],
   "source": [
    "network, _in_spike, _out_spike= e_out_generator(Ni, Nj, act_t, act_i, N_epoch, w_adress_, w_value)"
   ]
  },
  {
   "cell_type": "code",
   "execution_count": null,
   "id": "793608a6-a767-4ea2-9b6a-9196b54c68e8",
   "metadata": {},
   "outputs": [],
   "source": [
    "plt.figure(figsize=(10,4))\n",
    "plt.scatter(_out_spike.t, _out_spike.i, marker = '|')"
   ]
  },
  {
   "cell_type": "code",
   "execution_count": null,
   "id": "7c38ea53-eb29-424d-a091-a08f79e65b5b",
   "metadata": {},
   "outputs": [],
   "source": [
    "plt.figure(figsize = (10,4))\n",
    "for i in delta_e_true[N_epoch-1]:\n",
    "    plt.scatter(i[0], i[1], marker = '|')"
   ]
  },
  {
   "cell_type": "code",
   "execution_count": null,
   "id": "bc0fbfe3-d0ce-4bc6-bc42-7698363d5556",
   "metadata": {},
   "outputs": [],
   "source": [
    "network.delay"
   ]
  },
  {
   "cell_type": "markdown",
   "id": "c4bb6efb-196b-4337-bb79-15ad3246fffb",
   "metadata": {},
   "source": [
    "# reste"
   ]
  },
  {
   "cell_type": "code",
   "execution_count": null,
   "id": "2124d185-268e-44c9-b404-a07893768f8c",
   "metadata": {
    "tags": []
   },
   "outputs": [],
   "source": [
    "w_adress_ = {}\n",
    "nb_syn = {}\n",
    "act = {}\n",
    "act_t = {}\n",
    "act_i = {}\n",
    "likelihood = {}\n",
    "adresshood = {}\n",
    "#activity = {}\n",
    "adresshood = {}\n",
    "matrix_adress = {}\n",
    "\n",
    "# recup activité des adress d'interet only + les mettre dans la bonne shape pour tanh\n",
    "for k in range(Ni): \n",
    "    w_adress_[k] = list(zip(*w_adress[k]))[0]\n",
    "    nb_syn[k] = len(w_adress_[k])\n",
    "\n",
    "for N in range(N_epoch) : \n",
    "    delta_e_in[N].sort(key=lambda y: y[0]) \n",
    "    act[N] = list(zip(*delta_e_in[N]))\n",
    "    act_t[N] = []\n",
    "    act_i[N] = []\n",
    "    \n",
    "    #récup dans deux listes le temps et l'indice de tous les évènement :\n",
    "    for j in range(Nj): \n",
    "        timp = []\n",
    "        timp_ = []\n",
    "        for i in range(len(act[N][1])):\n",
    "            if act[N][1][i] == j : \n",
    "                timp.append(int(act[N][0][i]))\n",
    "                timp_.append(act[N][1][i])\n",
    "        act_t[N].append(timp) # les temps de tous les évènements\n",
    "        act_i[N].append(timp_) # les indices de tous les évènements\n",
    "    \n",
    "    act_t[N] = np.asarray(act_t[N])\n",
    "    act_i[N] = np.asarray(act_i[N])\n",
    "\n",
    "# ne récuperer dans deux liste le t et les i des adresses d'intéret \n",
    "\n",
    "    likelihood[N] = {}\n",
    "    adresshood[N] = {}\n",
    "    matrix_adress[N] = {}\n",
    "    activity[N] = {}\n",
    "    for k in range(Ni): \n",
    "        likelihood[N][k] = act_t[N][list(w_adress_[k])] # les temps des évènements des adresses d'intéret only \n",
    "        adresshood[N][k] = act_i[N][list(w_adress_[k])] # les indices des évènements des adresses d'inétert only \n",
    "        matrix_adress[N][k] = {}      \n",
    "        for i in range(len(adresshood[N][k])):\n",
    "            matrix_adress[N][k][i]=[]\n",
    "            matrix_adress[N][k][i] = np.ones(len(adresshood[N][k][i]))*i\n",
    "            adresshood[N][k][i] = matrix_adress[N][k][i].astype('int') #les adress prennent de nouvelles valeurs \n",
    "        \n",
    "        activity[N][k] = [[item for sublist in likelihood[N][k] for item in sublist]] # t giga liste dans activity[0]\n",
    "        activity[N][k].append([item for sublist in adresshood[N][k] for item in sublist])# i giga liste dans activity[1]\n",
    "    \n",
    "        activity[N][k][0], activity[N][k][1] = zip(*sorted(zip(activity[N][k][0], activity[N][k][1])))# dans l'ordre chronologique \n",
    "    \n",
    "        activity[N][k][0], activity[N][k][1] = np.array(activity[N][k][0]), np.array(activity[N][k][1]) # en np.array\n",
    "    \n",
    "    #activity[N][k] = (activity[N][k][0], activity [N][k][1])\n"
   ]
  },
  {
   "cell_type": "code",
   "execution_count": null,
   "id": "bad6df18-aa21-412d-be8a-7c385fd3fb67",
   "metadata": {},
   "outputs": [],
   "source": [
    "# je crois que pas besoin de that shit mais je le garde au cas où\n",
    "real_adresshood= {}\n",
    "real_activ = {}\n",
    "real_adresshood[k] = act_i[list(w_adress_[k])] #les i des ev des add d'intéret \n",
    "real_activ[k] = [[item for sublist in likelihood[k] for item in sublist]]#en giga liste\n",
    "real_activ[k].append([item for sublist in real_adresshood[k] for item in sublist])  \n",
    "real_activ[k][0], real_activ[k][1] = zip(*sorted(zip(real_activ[k][0], real_activ[k][1] )))#dans l'ordre chronologique\n",
    "real_activ[k][0], real_activ[k][1] = np.array(real_activ[k][0]), np.array(real_activ[k][1]) # en np.array\n",
    "real_activ[k] = (real_activ[k][0], real_activ[k][1])\n",
    "print('sorted with real_adresshood', real_activ[k][0], real_activ[k][1])"
   ]
  },
  {
   "cell_type": "code",
   "execution_count": null,
   "id": "f7711d6a-e92b-4b38-810c-3cf6102e59a1",
   "metadata": {},
   "outputs": [],
   "source": []
  },
  {
   "cell_type": "code",
   "execution_count": null,
   "id": "c3bc6d25-a126-4d24-a43e-7e47fd586eac",
   "metadata": {
    "tags": []
   },
   "outputs": [],
   "source": [
    "delay_learn={}\n",
    "adress = {}\n",
    "    \n",
    "for c in range(Ni): \n",
    "    print('SEQ', c)\n",
    "    N = neuron_tanh(nb_syn[c], tau, B)\n",
    "    for epoch in range(N_epoch):\n",
    "        print('N_epoch : ', epoch)\n",
    "        for i in range(3000):\n",
    "            N.learn(activity[epoch][c]);\n",
    "        if epoch == 0  or epoch == N_epoch-1 :\n",
    "            plt.scatter(N.delays, w_adress_[c], marker = '|');\n",
    "            plt.show()\n",
    "    delay_learn[c]=(N.delays)"
   ]
  },
  {
   "cell_type": "code",
   "execution_count": null,
   "id": "ec8b2f3b-0fcb-432e-8a62-87663aa4f83c",
   "metadata": {},
   "outputs": [],
   "source": [
    "plt.figure(figsize=(10,4))\n",
    "plt.scatter(delay_learn[0], w_adress_[0], marker = 'o' )\n",
    "plt.scatter([z.delay[0,8]*1e3, z.delay[0,2]*1e3], w_adress_[0], marker = 'x')\n",
    "\n",
    "plt.figure(figsize=(10,4))\n",
    "plt.scatter(delay_learn[1], w_adress_[1], marker = 'o')\n",
    "plt.scatter([z.delay[1,6]*1e3, z.delay[1,5]*1e3, z.delay[1,8]*1e3, z.delay[1,1]*1e3, z.delay[1,3]*1e3, z.delay[1,4]*1e3] , w_adress_[1], marker = 'x')\n",
    "\n",
    "plt.figure(figsize=(10,4))\n",
    "plt.scatter(delay_learn[2], w_adress_[2], marker = 'o')\n",
    "plt.scatter([z.delay[2,8]*1e3, z.delay[2,7]*1e3, z.delay[2,0]*1e3, z.delay[2,4]*1e3], w_adress_[2], marker = 'x')"
   ]
  },
  {
   "cell_type": "code",
   "execution_count": null,
   "id": "0c6f3ec9-adc3-423a-99a5-df00c1a82d4e",
   "metadata": {
    "tags": []
   },
   "outputs": [],
   "source": [
    "plot_generator(PGs_pattern)\n",
    "title('e_in')"
   ]
  },
  {
   "cell_type": "code",
   "execution_count": null,
   "id": "5b6a4371-736b-4306-9fec-e32b5cf9d4aa",
   "metadata": {},
   "outputs": [],
   "source": []
  },
  {
   "cell_type": "code",
   "execution_count": null,
   "id": "caf39bc6-f46b-4f56-b1a7-b116f064c099",
   "metadata": {
    "tags": []
   },
   "outputs": [],
   "source": [
    "plt.figure(figsize = (10,4))\n",
    "plt.scatter(e_spike.t, e_spike.i, marker = '|')\n",
    "xlabel('Time (s)')\n",
    "ylabel('PGs')\n",
    "title('e_out')\n",
    "\n",
    "#c'est ok pour PGs 0 et 2, STDP apprend un poid élever pour la synaspe du dernier Nj a spiker et un faible poid pour les autres\n",
    "# par contre pour PGs1, la STDP sort un poid max de 2, trop faible. Comment faire pour potentialiser le poid maximum de naps.w[:,2] ? \n",
    "# j'ai fais un truc mais je pense pas que ce soit une bonne idée, too much spike ENFAIT SI CA MARCHE C TROP BI1 "
   ]
  },
  {
   "cell_type": "code",
   "execution_count": null,
   "id": "a9834c18-ae93-4166-af4d-b5ed1f57e941",
   "metadata": {
    "tags": []
   },
   "outputs": [],
   "source": [
    "plt.figure(figsize=(10,4))\n",
    "for i in range(len(delta_e_true[0])) :\n",
    "    plt.scatter(delta_e_true[0][i][0], delta_e_true[0][i][1], marker = \"|\")\n",
    "xlabel('Time (s)')\n",
    "ylabel('PGs')\n",
    "title('e_true')"
   ]
  },
  {
   "cell_type": "code",
   "execution_count": null,
   "id": "63adf06f-d49c-43cb-b8be-ef5cd53416ed",
   "metadata": {
    "tags": []
   },
   "outputs": [],
   "source": [
    "plt.figure(figsize = (10,4))\n",
    "subplot(121)\n",
    "\n",
    "scatter(naps.i, naps.j, w_per_synapse_list*10e4)\n",
    "xlabel('Source neuron index')\n",
    "ylabel('Target neuron index')\n",
    "title('w neural_network')\n",
    "\n",
    "subplot(122)\n",
    "scatter(s.j, s.i, s.delay*500 )\n",
    "xlabel('Source neuron index')\n",
    "ylabel('Target neuron index')\n",
    "title('delay PGs')\n",
    "\n",
    "# la STDP donne un poid élevé aux derniers spikes composant un PGs"
   ]
  },
  {
   "cell_type": "code",
   "execution_count": null,
   "id": "3c0262fe-05a6-4024-bae0-574a784eab82",
   "metadata": {},
   "outputs": [],
   "source": []
  },
  {
   "cell_type": "code",
   "execution_count": null,
   "id": "7dc27f1e-aa6f-4ffe-8418-64ed59106b4f",
   "metadata": {},
   "outputs": [],
   "source": [
    "len(delta_e_in[9])"
   ]
  },
  {
   "cell_type": "code",
   "execution_count": null,
   "id": "54836ed2-a524-4696-9f4e-7a5539fcc599",
   "metadata": {
    "tags": []
   },
   "outputs": [],
   "source": [
    "def neural_network(e_in, w_per_synapse_list):\n",
    "    start_scope()\n",
    "    \n",
    "    PGs_learning = {}\n",
    "    ind_in = []\n",
    "    temps_in = []\n",
    "    thresh = 0.02*volt # /!\\\n",
    "\n",
    "    # --- generation du NN -------------------------------------------------------------------------------------------\n",
    "    e_in_safe = [] \n",
    "    for i in e_in:\n",
    "        if i not in e_in_safe:\n",
    "            e_in_safe.append(i)\n",
    "        \n",
    "    for i in range(len(e_in_safe)): \n",
    "        temps_in.append((e_in_safe[i][0])*ms)\n",
    "        ind_in.append(e_in_safe[i][1])\n",
    "        \n",
    "    d = SpikeGeneratorGroup(Nj, ind_in, temps_in)\n",
    "    d_spike = SpikeMonitor(d)\n",
    "\n",
    "    e = NeuronGroup(Ni, ''' dv/dt = -v/tau : volt\n",
    "                    tau : second''',\n",
    "                    threshold= 'v > 0.025*volt',\n",
    "                    reset= 'v = 0*volt',\n",
    "                    method = 'exact')\n",
    "    e.v = 0*volt\n",
    "    e.tau = 0.001*second\n",
    "    e_spike = SpikeMonitor(e)\n",
    " \n",
    "    naps = Synapses(d, e, on_pre = '''v_post += 0.01*w*volt''', model = '''w:1''')\n",
    "\n",
    "    naps.connect(p=1)\n",
    "    \n",
    "    naps.w[:,:] = w_per_synapse_list\n",
    "    \n",
    "    #for i in range(Ni):\n",
    "      #  if max(naps.w[:,i])*0.01*volt < thresh : \n",
    "       #     for j in range(Nj):\n",
    "        #       if naps.w[j,i]==max(naps.w[:,i]): #np.argmax\n",
    "        #          naps.w[j,i] = max(naps.w[:,i])*2  #max(w) trop faible pour un PG, donc je fais ça pour compenser mais pas une bonne idée.. \n",
    "                           \n",
    "    run(duration)\n",
    "    \n",
    "    PGs_learning = (e_spike.t, e_spike.i)\n",
    "    e_out = []\n",
    "    \n",
    "    for i in range(len(PGs_learning[0])):\n",
    "        e_out.append(tuple((round(PGs_learning[0][i]*1000/second), PGs_learning[1][i])))\n",
    "        \n",
    "    return e_out, naps, e_spike"
   ]
  },
  {
   "cell_type": "code",
   "execution_count": null,
   "id": "8401d80f-ea1a-4c43-9acf-007897b2f2d9",
   "metadata": {},
   "outputs": [],
   "source": [
    "start_scope()\n",
    "e_out, naps, e_spike = neural_network(e_in, np.random.randint(-10,10,Ni*Nj))"
   ]
  },
  {
   "cell_type": "markdown",
   "id": "ec84009a-6ae8-4b73-abf7-cdeceba6f05a",
   "metadata": {},
   "source": [
    "## 2nd test"
   ]
  },
  {
   "cell_type": "code",
   "execution_count": null,
   "id": "c672fa03-de0e-4b6d-b334-6ccf72c563d0",
   "metadata": {},
   "outputs": [],
   "source": [
    "plt.figure(figsize = (10,4))\n",
    "plt.scatter(a_spike.t, a_spike.i, marker = '|')"
   ]
  },
  {
   "cell_type": "code",
   "execution_count": null,
   "id": "7d9f7510-728b-4430-bb67-8662ebd1a1f0",
   "metadata": {},
   "outputs": [],
   "source": [
    "plt.figure(figsize = (10,4))\n",
    "plt.scatter(b_spike.t, b_spike.i, marker = '|')"
   ]
  },
  {
   "cell_type": "code",
   "execution_count": null,
   "id": "bdcacc2a-2e60-4639-b8d1-e5932236cdcc",
   "metadata": {},
   "outputs": [],
   "source": [
    "len(e_in)"
   ]
  },
  {
   "cell_type": "code",
   "execution_count": null,
   "id": "bcef4b75-4d35-400b-b8df-c3310dd37abb",
   "metadata": {},
   "outputs": [],
   "source": [
    "plt.figure(figsize = (10,4))\n",
    "plt.scatter(c_spike.t, c_spike.i, marker = '|')"
   ]
  },
  {
   "cell_type": "code",
   "execution_count": null,
   "id": "83cb86d7-1007-4f45-9de0-0d05f70d4141",
   "metadata": {},
   "outputs": [],
   "source": [
    "def neural_network_2(e_in, w_per_synapse_list, N_epoch):\n",
    "    start_scope()\n",
    "    \n",
    "    start = time.time()\n",
    "    \n",
    "    PGs_learning = {}\n",
    "    ind_in = []\n",
    "    temps_in = []\n",
    "    \n",
    "    random_size = np.random.randint(0,60)\n",
    "    ind_out = np.random.randint(0, 1, size = random_size) # nombre de PG observé (n_pattern), de Ni sortes différentes\n",
    "    temps_out = np.random.uniform(0, duration, size = random_size)*second\n",
    "\n",
    " \n",
    "    thresh = 0.02*volt # /!\\\n",
    "\n",
    "    # --- generation du NN -------------------------------------------------------------------------------------------\n",
    "    e_in_safe = [] \n",
    "    for i in e_in:\n",
    "        if i not in e_in_safe:\n",
    "            e_in_safe.append(i)\n",
    "        \n",
    "    for i in range(len(e_in_safe)): \n",
    "        temps_in.append((e_in_safe[i][0])*msecond)\n",
    "        ind_in.append(e_in_safe[i][1])\n",
    "    \n",
    "    if N_epoch == 0 : \n",
    "        \n",
    "        print('ind_out : ',ind_out)\n",
    "        print('temps_out : ', temps_out)\n",
    "        e = SpikeGeneratorGroup(Ni, ind_out, temps_out)\n",
    "        e_spike = SpikeMonitor(e)\n",
    "        \n",
    "        run(duration)\n",
    "        \n",
    "        PGs_learning = (e_spike.t, e_spike.i)\n",
    "        e_out = []\n",
    "    \n",
    "        for i in range(len(PGs_learning[0])):\n",
    "            e_out.append(tuple((round(PGs_learning[0][i]*1000/second), PGs_learning[1][i])))\n",
    "        \n",
    "        print('NN time - epoch 0 : ', time.time() - start)\n",
    "\n",
    "        return e_out, e_spike\n",
    "        \n",
    "    else : \n",
    "        \n",
    "        d = SpikeGeneratorGroup(Nj, ind_in, temps_in, dt = 10*usecond)\n",
    "        d_spike = SpikeMonitor(d)\n",
    "\n",
    "        e = NeuronGroup(1, ''' dv/dt = -v/tau : volt\n",
    "                    tau : second''',\n",
    "                    threshold= 'v > 0.0200*volt',\n",
    "                    reset= 'v = 0*volt',\n",
    "                    method = 'exact')\n",
    "        e.v = 0*volt\n",
    "        e.tau = 0.001*second\n",
    "        e_spike = SpikeMonitor(e)\n",
    "    \n",
    "        naps = Synapses(d, e, on_pre = '''v_post += 0.01*w*volt''', model = '''w:1''', dt = 1*usecond)\n",
    "\n",
    "        naps.connect(p=1)\n",
    " \n",
    "        naps.w[:,:] = w_per_synapse_list\n",
    "   \n",
    "        run(duration)\n",
    "    \n",
    "        PGs_learning = (e_spike.t, e_spike.i)\n",
    "        e_out = []\n",
    "    \n",
    "        for i in range(len(PGs_learning[0])):\n",
    "            e_out.append(tuple((round(PGs_learning[0][i]*1000/second), PGs_learning[1][i])))\n",
    "        \n",
    "        print('NN time : ', time.time() - start)\n",
    "\n",
    "        return e_out, naps, e_spike"
   ]
  },
  {
   "cell_type": "code",
   "execution_count": null,
   "id": "9ddc78b0-7b6f-42fc-b52e-b8c1eab0654a",
   "metadata": {},
   "outputs": [],
   "source": [
    "e_out, naps, e_spike = neural_network_2(delta_e_in[19], naps.w, N_epoch=1)"
   ]
  },
  {
   "cell_type": "code",
   "execution_count": null,
   "id": "a05dd930-54fe-4a1c-8613-5c101d4f4324",
   "metadata": {},
   "outputs": [],
   "source": [
    "plt.figure(figsize=(10,4))\n",
    "plt.scatter(e_spike.t, e_spike.i, marker = '|')\n",
    "title ('e_out')"
   ]
  },
  {
   "cell_type": "code",
   "execution_count": null,
   "id": "d719d0d6-3ab4-4846-8bc8-c49555d392ca",
   "metadata": {},
   "outputs": [],
   "source": [
    "plt.figure(figsize=(10,4))\n",
    "for i in range(len(delta_e_true[19])):\n",
    "    plt.scatter(delta_e_true[19][i][0], delta_e_true[19][i][1], marker = '|')"
   ]
  },
  {
   "cell_type": "code",
   "execution_count": null,
   "id": "7afe6003-0750-48dc-a1fe-70b5ba43a517",
   "metadata": {},
   "outputs": [],
   "source": [
    "plt.figure(figsize=(10,4))\n",
    "for i in range(len(delta_e_in[19])):\n",
    "    plt.scatter(delta_e_in[19][i][0], delta_e_in[19][i][1], marker = '|')"
   ]
  },
  {
   "cell_type": "code",
   "execution_count": null,
   "id": "ef49b6db-0402-4704-9a61-e3dccf092af5",
   "metadata": {},
   "outputs": [],
   "source": [
    "naps.w[1,:]+6"
   ]
  },
  {
   "cell_type": "code",
   "execution_count": null,
   "id": "27311445-6dcb-4629-b6f0-83f1aeb380be",
   "metadata": {},
   "outputs": [],
   "source": [
    "plt.figure(figsize=(10,4))\n",
    "plt.scatter(b_spike.t, b_spike.i, marker = '|')\n",
    "title('e_in')"
   ]
  },
  {
   "cell_type": "code",
   "execution_count": null,
   "id": "96c920b7-6db9-4259-9971-57eb6a92a74d",
   "metadata": {},
   "outputs": [],
   "source": [
    "visualise_connectivity(naps)"
   ]
  },
  {
   "cell_type": "code",
   "execution_count": null,
   "id": "a02c151d-746c-4923-9200-d972e9ff02e0",
   "metadata": {},
   "outputs": [],
   "source": [
    "plt.figure(figsize=(10,4))\n",
    "plt.scatter(c_spike.t, c_spike.i, marker = '|')\n",
    "title('e_true')"
   ]
  },
  {
   "cell_type": "code",
   "execution_count": null,
   "id": "df49b7ac-3c3f-45fa-b324-f98a8c4c7fbc",
   "metadata": {},
   "outputs": [],
   "source": [
    "def STDP_with_r(e_in, e_out, e_true, N_epoch):\n",
    "    \n",
    "    start = time.time()\n",
    "\n",
    "    e_true_safe= [ele for ele in e_true if ele != []]\n",
    "    \n",
    "    tau_pre = tau_post = 100*ms #même tau pour w_stdp et w_r ? \n",
    "    A_pre = 1\n",
    "    A_post = -A_pre*1.05\n",
    "    \n",
    "# === règle homeostasique =====================================================================================================================\n",
    "\n",
    "    len_e_true = {}\n",
    "    len_e_out = {}\n",
    "    w_homéo = {}\n",
    "    \n",
    "    for i in range(Ni):\n",
    "        len_e_true[i] = []\n",
    "        len_e_out[i] = []\n",
    "        w_homéo[i] = []\n",
    "        for k in e_true_safe :\n",
    "            if k[1]==i : \n",
    "                len_e_true[i].append(k[1])\n",
    "        for k in e_out:\n",
    "            if k[1]==i : \n",
    "                len_e_out[i].append(k[1])\n",
    "        if len(len_e_true[i])>len(len_e_out[i]) :\n",
    "            w_homéo[i] = 0.1\n",
    "        if len(len_e_true[i])<len(len_e_out[i]) :\n",
    "            w_homéo[i] = -0.1\n",
    "        if len(len_e_true[i])==len(len_e_out[i]) :\n",
    "            w_homéo[i] = 0 \n",
    "            \n",
    "    print('w_homéo :', w_homéo)    \n",
    "        \n",
    "            \n",
    "# === STDP entre e_in et e_out =================================================================================================================\n",
    "    \n",
    "    # --- delta_T entre chaque paire de spike -------------------------------------------------------------------------------------------------\n",
    "    \n",
    "    delta_T_STDP = []\n",
    "    comparaison_STDP = []\n",
    "    \n",
    "    for k in range(len(e_out)):\n",
    "        for i in range(len(e_in)):\n",
    "            delta_T_STDP.append(e_out[k][0]*ms - e_in[i][0]*ms) #on prend le premier spike de e_out et on le compare avec tous les spikes de e_in (Ni,Nj)\n",
    "            comparaison_STDP.append(tuple((e_out[k][1], e_in[i][1]))) \n",
    "    print('len(delta_T_STDP) :', len(delta_T_STDP))\n",
    "    # --- def des w_STDP à partir des delta_T e_in/e_out ----------------------------------------------------------------------------------------------------\n",
    "    \n",
    "    w_STDP = []        \n",
    "    for i in range(len(delta_T_STDP)):         \n",
    "        w_STDP.append(where(delta_T_STDP[i]>0, A_pre*exp(-delta_T_STDP[i]/tau_pre), A_post*exp(delta_T_STDP[i]/tau_post))) #on définit des w pour tous les delta_T, ils sont rangés dans l'ordre e_out_1, e_in_all, e_out_2, e_in_all\n",
    "    \n",
    "    # --- visu w_STDP -----------------------------------------------------------------------------------------------------------------------------------\n",
    "   \n",
    "    if N_epoch == 0 : \n",
    "        plt.figure(figsize=(10,4))\n",
    "        plt.scatter(delta_T_STDP/ms, w_STDP)\n",
    "        xlabel(r'$\\Delta t$ (ms)')\n",
    "        ylabel('W')\n",
    "        axhline(0, ls='-', c='k')\n",
    "        title (' w_STDP ')\n",
    "    \n",
    "# === Def de la variable R e_out/e_true =================================================================================================================\n",
    "    \n",
    "    # --- delta_T entre paire de spike du même indice -------------------------------------------------------------------------------------------\n",
    "    \n",
    "    delta_T_r = {}\n",
    "    delta_T_r_plot = []\n",
    "    for k in range(len(e_out)) :\n",
    "        delta_T_r[k] = []\n",
    "        for i in e_true_safe : \n",
    "            if i[1] == e_out[k][1] :\n",
    "                delta_T_r[k].append(i[0]*ms-e_out[k][0]*ms)\n",
    "                delta_T_r_plot.append(i[0]*ms-e_out[k][0]*ms)\n",
    "    print('len(delta_T_r) : ', len(delta_T_r))\n",
    "\n",
    "    # --- def de R à partir des delta_T e_out/e_true ----------------------------------------------------------------------------------------------------------\n",
    "    \n",
    "    w_r = {}\n",
    "    w_r_plot = []\n",
    "    for i in range(len(delta_T_r)) : \n",
    "        w_r[i] = []\n",
    "        for k in range(len(delta_T_r[i])) : \n",
    "            w_r[i].append(where(delta_T_r[i][k]>0, delta_T_r[i][k]*exp(-(abs(delta_T_r[i][k])/tau_pre)), delta_T_r[i][k]*exp(-(abs(delta_T_r[i][k])/tau_post)))/second)\n",
    "            w_r_plot.append(where(delta_T_r[i][k]>0, delta_T_r[i][k]*exp(-(abs(delta_T_r[i][k])/tau_pre)), delta_T_r[i][k]*exp(-(abs(delta_T_r[i][k])/tau_post)))/second)\n",
    "        w_r[i] = sum(w_r[i])   \n",
    "        \n",
    "    # --- visu r ----------------------------------------------------------------------------------------------------------------------------------------------------\n",
    "    \n",
    "    if N_epoch == 0 : \n",
    "        plt.figure(figsize=(10,4))\n",
    "        plt.scatter(delta_T_r_plot/ms, w_r_plot)\n",
    "        xlabel(r'$\\Delta t$ (ms)')\n",
    "        ylabel('W')\n",
    "        axhline(0, ls='-', c='k')\n",
    "        title ('variable R')\n",
    "    \n",
    "    \n",
    "# === Def des delta_w de chaque synapse par w_homéo*R*w_STDP =================================================================================================================\n",
    "    \n",
    "    w_STDP_r = {}\n",
    "    for i in range(len(e_out)):\n",
    "        w_STDP_r[i] = []\n",
    "        for k in range(i*len(e_in),(i+1)*len(e_in)) : \n",
    "            w_STDP_r[i].append(tuple((w_STDP[k]*w_r[i], comparaison_STDP[k])))\n",
    "    \n",
    "    w_syn = {}  \n",
    "    w_syn_mean = {}\n",
    "    w_syn_= {}\n",
    "    for k in range(Nj):\n",
    "        for c in range(1):\n",
    "            w_syn[k,c] = []\n",
    "            \n",
    "    for a in range(len(e_out)):        \n",
    "        for i in w_STDP_r[a] :\n",
    "            for k in range(Nj): \n",
    "                for c in range(1): \n",
    "                    if i[1]==(c,k):\n",
    "                        w_syn[k,c].append(i[0])\n",
    "                    w_syn_mean[k,c] = sum(w_syn[k,c]) #somme \n",
    "                    \n",
    "    w_STDP_r_homéo = {}\n",
    "    \n",
    "    for k in w_homéo : \n",
    "        for i in w_syn_mean : \n",
    "            if k==i[1] :\n",
    "                    w_STDP_r_homéo[i[0],k] = (w_syn_mean[i])#+w_homéo[k]\n",
    "                \n",
    "    print('w_STDP_r_homéo :', len(w_STDP_r_homéo), 'w_STDP_r_homéo[0]', w_STDP_r_homéo[0,0])\n",
    "    w_per_synapse_list = []\n",
    "    for k in range(Nj):\n",
    "        for c in range(Ni):\n",
    "                w_per_synapse_list.append(w_STDP_r_homéo[k,c]) ## pour changer la grandeur, changer Apre/apost et faire la somme plutot que la \n",
    "                \n",
    "    w_per_synapse_list = np.nan_to_num(w_per_synapse_list, -.1*10e-50)\n",
    "    print('w_per_synapse_list', w_per_synapse_list)\n",
    "    \n",
    "    print('W_STDP_r_homéo time : ', time.time() - start)\n",
    "\n",
    "    return w_per_synapse_list"
   ]
  },
  {
   "cell_type": "code",
   "execution_count": null,
   "id": "9a151a0b-d5d0-4e66-ba9d-c1037ea7252f",
   "metadata": {
    "tags": []
   },
   "outputs": [],
   "source": [
    "w_per_synapse_list, w_syn_mean = STDP_with_r(e_in, e_out, e_true, 0)"
   ]
  },
  {
   "cell_type": "code",
   "execution_count": null,
   "id": "1177abb6-7da5-4970-a3b1-3e29789457e5",
   "metadata": {},
   "outputs": [],
   "source": [
    "def learn_weight_2 (Ni, n_pattern, duration, nn_j, i_syn):\n",
    "    \n",
    "    N_epoch = 20\n",
    "    \n",
    "    delta_e_in = []\n",
    "    delta_e_true = []\n",
    "    delta_w = []\n",
    "    delta_e_out = []\n",
    "    naps_w = []\n",
    "    \n",
    "    start = time.time()\n",
    "\n",
    "    \n",
    "    for N_epoch in range(N_epoch): \n",
    "        \n",
    "        i_indices = np.random.randint(0, 2, size = n_pattern) # nombre de PG observé (n_pattern), de Ni sortes différentes\n",
    "        i_temps = np.random.uniform(0, duration, size = n_pattern)*second # temps d'occurence des n_pattern PG \n",
    "        \n",
    "        s, syn, a_spike, b_spike, c_spike, e_in, e_true = quick_generator(2, Nj, n_pattern, i_indices, i_temps)        \n",
    "        delta_e_in.append(e_in) \n",
    "        delta_e_true.append(e_true)\n",
    "            \n",
    "        if N_epoch == 0 :\n",
    "            e_out, e_spike = neural_network_2(delta_e_in[N_epoch], 0, N_epoch)\n",
    "            delta_e_out.append(e_out)\n",
    "            \n",
    "        if N_epoch == 1 : \n",
    "            w_per_synapse_list  = STDP_with_r (delta_e_in[N_epoch-1], delta_e_out[N_epoch-1],delta_e_true[N_epoch-1], N_epoch)\n",
    "            delta_w.append( w_per_synapse_list)\n",
    "            print('w_per_synapse_list',w_per_synapse_list)\n",
    "            \n",
    "            e_out, naps, e_spike = neural_network_2(delta_e_in[N_epoch], np.random.randint(-10,10, Ni*Nj)+delta_w[N_epoch-1], N_epoch)\n",
    "            print('naps', naps.w) \n",
    "            naps_w.append(naps.w)\n",
    "            delta_e_out.append(e_out)\n",
    "            \n",
    "        if N_epoch > 1 :  \n",
    "            w_per_synapse_list  = STDP_with_r (delta_e_in[N_epoch-1], delta_e_out[N_epoch-1],delta_e_true[N_epoch-1], N_epoch)\n",
    "            delta_w.append( w_per_synapse_list)\n",
    "            print('w_per_synapse_list',w_per_synapse_list)\n",
    "            \n",
    "            e_out, naps, e_spike = neural_network_2(delta_e_in[N_epoch], naps_w[N_epoch-2]+delta_w[N_epoch-1] , N_epoch)\n",
    "            print('naps', naps.w) \n",
    "            naps_w.append(naps.w)\n",
    "            delta_e_out.append(e_out)\n",
    "            \n",
    "        \n",
    "         \n",
    "        print('N_EPOCH :', N_epoch)\n",
    "    print('TIMETOT', time.time() - start)\n",
    "    return delta_e_out, delta_e_true, delta_e_in, delta_w, naps_w, naps"
   ]
  },
  {
   "cell_type": "code",
   "execution_count": null,
   "id": "71d49a89-89a1-4d46-84b6-eb703d5c1b2a",
   "metadata": {},
   "outputs": [],
   "source": [
    " delta_e_out, delta_e_true, delta_e_in, delta_w, naps_w, naps = learn_weight_2 (Ni, n_pattern, duration, nn_j, i_syn)"
   ]
  },
  {
   "cell_type": "markdown",
   "id": "867d504a-6832-41f8-a350-c50fb59fe1f1",
   "metadata": {},
   "source": [
    "autre problème : avec la somme je me retrouve avec des valeurs hautes même si elles sont toutes ultra faible (si on en somme bcp ça finit par faire qq chose de grand, après peut etre que ça pause pas de pb si on compare avec les autres, cad que une valeure peut me sembler grande par rapport aux elements qui la compose mais les autres seront plus grandes encore donc blk, but idk) en plus toutes les valeurs finissent par devenir positives\n",
    "-> solus : faire la moyenne ?\n",
    "\n",
    "autre problème : mes poids sont bcp trop élevés de façon générale, je me retrouve avec des poids de 129 et tout c nimp \n",
    "-> solus : baisser Apre à 1 ou 0.1 \n",
    "\n",
    "problème, je me demande si le w_homéo est pas trop grand à 1 : ça fait des pas de 1 ou -1 à chaque époque, peut etre mieux de mettre à 0.5 ? \n",
    "\n",
    "Prochain truc à faire, garder le naps_w final meme si ça marche bof et on voit si ça marche sur d'autres e_in \n",
    "\n",
    "problème : des fois w_stdp*r = 0 mais à cause de w_homéo les poids augmentent quand même\n",
    "-> solus : mettre w_homéo que si wstdp_r diff de 0 ?\n",
    "    mauvaise idée, si par malheur le n de spike tombe à 0, il ne remonte jamais la pente \n",
    "    \n",
    "faire des poids entre -5 et 5 \n",
    "\n",
    "vérifier r\n",
    "\n",
    "faire ça mais avec une séquence qui se répète et du bruit, le fait que j'ai deux séquences qui se repetent qui fait que ça n'apprend pas "
   ]
  },
  {
   "cell_type": "code",
   "execution_count": null,
   "id": "689022b8-74be-4222-a8f3-823d17b35239",
   "metadata": {},
   "outputs": [],
   "source": [
    "naps.w"
   ]
  },
  {
   "cell_type": "code",
   "execution_count": null,
   "id": "e99308ba-3fa4-413e-98ff-ee5e48f6a2f8",
   "metadata": {},
   "outputs": [],
   "source": [
    "visualise_connectivity(syn)"
   ]
  },
  {
   "cell_type": "code",
   "execution_count": null,
   "id": "d7b3ef07-448e-4596-b6f2-6772abe92bf8",
   "metadata": {},
   "outputs": [],
   "source": [
    "for i in range(len(delta_e_out)):\n",
    "    plt.scatter(i, len(delta_e_out[i]))"
   ]
  },
  {
   "cell_type": "code",
   "execution_count": null,
   "id": "1bf73e1e-88a0-4855-9038-2f446acc6dd1",
   "metadata": {},
   "outputs": [],
   "source": [
    "len(delta_e_true[19])"
   ]
  },
  {
   "cell_type": "code",
   "execution_count": null,
   "id": "4f804a85-78b5-4a66-90a8-86ef38e4a9e9",
   "metadata": {},
   "outputs": [],
   "source": [
    "for i in range(len(delta_w)):\n",
    "    plt.scatter(range(len(delta_w[i][0])), list(delta_w[i]))"
   ]
  },
  {
   "cell_type": "code",
   "execution_count": null,
   "id": "bb945e8c-d3ea-4f2e-9961-5ebb1e3678dc",
   "metadata": {},
   "outputs": [],
   "source": [
    "len(delta_w[1][0][0])"
   ]
  },
  {
   "cell_type": "code",
   "execution_count": null,
   "id": "023052af-a63c-4a34-b7a5-17fae132bd76",
   "metadata": {},
   "outputs": [],
   "source": [
    "plt.figure(figsize=(10,4))\n",
    "for i in delta_e_in[16]:\n",
    "    plt.scatter(i[0], i[1],marker = '|')\n",
    "    title('e_in')\n",
    "\n",
    "\n",
    "    \n",
    "plt.figure(figsize=(10,4))\n",
    "for i in delta_e_true[16]:\n",
    "    plt.scatter(i[0], i[1],marker = '|')\n",
    "    title('e_true')"
   ]
  },
  {
   "cell_type": "code",
   "execution_count": null,
   "id": "939a580d-036a-4908-b5a6-ab3249c2aa9a",
   "metadata": {},
   "outputs": [],
   "source": [
    " len(delta_e_true[16])"
   ]
  },
  {
   "cell_type": "code",
   "execution_count": null,
   "id": "05318802-f675-4399-994b-6bdc030d117f",
   "metadata": {},
   "outputs": [],
   "source": [
    "naps.w[7,0]"
   ]
  },
  {
   "cell_type": "code",
   "execution_count": null,
   "id": "0c6599a9-625e-433b-87ee-c3c7227b6c34",
   "metadata": {},
   "outputs": [],
   "source": [
    "delta_e_out[4], delta_e_true[4]"
   ]
  },
  {
   "cell_type": "code",
   "execution_count": null,
   "id": "c61d7659-b611-48ec-bf45-2072fcdd79b3",
   "metadata": {},
   "outputs": [],
   "source": [
    "test = []\n",
    "test_out = []\n",
    "for i in delta_e_true[0]:\n",
    "    if i[1]==1 : \n",
    "        test.append(i)\n",
    "print(len(test))\n",
    "for i in delta_e_out[0]:\n",
    "    if i[1]==1 : \n",
    "        test_out.append(i)\n",
    "print(len(test_out))"
   ]
  },
  {
   "cell_type": "code",
   "execution_count": null,
   "id": "e8b6d87e-6708-4e5b-82e2-d856433c3fe6",
   "metadata": {},
   "outputs": [],
   "source": [
    "true_values = np.array([[1, 0, 1, 0, 1, 0, 0, 1, 1, 0, 1, 0]])\n",
    "predictions = np.array([[1, 1, 0, 1, 0, 1, 1, 1, 0, 1, 1, 0]])\n",
    "\n",
    "N = true_values.shape[1]\n",
    "accuracy = {}\n",
    "for i in range(len(delta_e_out)):\n",
    "    accuracy[i] = (delta_e_out[i] == delta_e_true[i])"
   ]
  },
  {
   "cell_type": "code",
   "execution_count": null,
   "id": "b782f503-0f8c-46fc-a9ea-e8a4a97a62b7",
   "metadata": {},
   "outputs": [],
   "source": [
    "accuracy = {}\n",
    "for i in range(N_epoch):\n",
    "     = (delta_e_out[i] == delta_e_true[i])"
   ]
  },
  {
   "cell_type": "code",
   "execution_count": null,
   "id": "8f6d0c36-94f0-41f2-8432-f79094b9c3ec",
   "metadata": {},
   "outputs": [],
   "source": [
    "for k in range(len(delta_e_out)):\n",
    "    plt.figure(figsize = (10,4))\n",
    "    print(len(delta_e_out[k]))\n",
    "    for i in delta_e_out[k]: \n",
    "        plt.scatter(i[0],i[1], marker = '|')\n",
    "        title('e_out')"
   ]
  },
  {
   "cell_type": "code",
   "execution_count": null,
   "id": "87341b79-9172-4805-ac7a-ff3ce1bd48e9",
   "metadata": {},
   "outputs": [],
   "source": [
    "for k in range(len(delta_e_true)):\n",
    "    plt.figure(figsize = (10,4))\n",
    "    for i in delta_e_in[k]: \n",
    "        plt.scatter(i[0],i[1], marker = '|')\n",
    "        title('e_in')"
   ]
  },
  {
   "cell_type": "markdown",
   "id": "865c3bbb-5b57-49b7-bdab-f0c38b4565cc",
   "metadata": {},
   "source": [
    "## STDP for delay learning "
   ]
  },
  {
   "cell_type": "code",
   "execution_count": null,
   "id": "5c88422a-d91f-467e-b351-170e23dc43fb",
   "metadata": {},
   "outputs": [],
   "source": [
    "    \n",
    "    tau_pre = tau_post = 100*ms\n",
    "    A_pre = 0.01\n",
    "    A_post = -A_pre*1.05\n",
    "    delta_t = linspace(-10000, 10000, 20000)*msecond\n",
    "\n",
    "    w_stdpd = where(delta_t>=0, A_pre*exp(-delta_t/tau_pre), A_post*exp(delta_t/tau_post))\n",
    "    w_stdpd = (w_stdpd)\n",
    "    \n",
    "    #w_stdpd = clip(w_stdpd, A_post, A_pre, out = None)\n",
    "       \n",
    "    plt.figure(figsize=(10,4))\n",
    "    plot(delta_t/ms, w_stdpd)\n",
    "    xlabel(r'$\\Delta t$ (ms)')\n",
    "    ylabel('W')\n",
    "    axhline(0, ls='-', c='k');"
   ]
  },
  {
   "cell_type": "code",
   "execution_count": null,
   "id": "61126a24-cc5c-4bb9-8af9-8e4f58263755",
   "metadata": {},
   "outputs": [],
   "source": [
    " def learn_STDP(e_in,e_true, learning_rate=learning_rate, batch_size=batch_size, num_epochs=num_epochs, betas=betas,verbose=False, **kwargs): \n",
    "    \n",
    "        sample = {'e_in': e_in, 'e_true': e_true}\n",
    "    \n",
    "        loader = DataLoader(sample, batch_size=batch_size, shuffle=True)\n",
    "\n",
    "        device = torch.device(\"cuda\" if torch.cuda.is_available() else \"cpu\")\n",
    "    \n",
    "        train_ein_eout_ = neural_network(e_in) #pb : dans logistic_regression on returnait un NN, donc quand on faisait ça, train_ein_eout était un NN, ici c'est un tuple, donc on ne peut pas l'entrainer : what can i do ? \n",
    "        train_ein_eout_.to(device)\n",
    "        train_ein_eout_.train()\n",
    "    \n",
    "        optimizer = torch.optim.Adam(train_ein_eout_.parameters(), lr=learning_rate, betas=betas, amsgrad=amsgrad) # diminue le learning rate petit à petit de sorte à atteindre le minimum de la loss function / Adam utilise une moyenne à décroissance exponentielle des gradients passés afin de fournir une fréquence d'apprentissage adaptative. \n",
    "    \n",
    "        for epoch in range(int(num_epochs)): # on commence à 1 jusq'à 513 epoch, cad qu'il passe par tous les X_ 513 fois\n",
    "       \n",
    "            train_ein_eout_.train()\n",
    "            losses = [] \n",
    "        \n",
    "            for e_in_, labels_ in loader: \n",
    "                e_in_, labels_ = e_in_.to(device), labels_.to(device)\n",
    "                outputs = neural_network(e_in_)  \n",
    "                loss = criterion(outputs, labels_) #calcul de la différence entre l'outpul de logistic_model et la classification effectuée pdt l'initialisation (PROBLEME ? on compare des proba à y=true/false)\n",
    "                                               \n",
    "                optimizer.zero_grad()\n",
    "                loss.backward()\n",
    "                optimizer.step() \n",
    "        \n",
    "                losses.append(loss.item())   \n",
    "\n",
    "        if verbose and (epoch % (num_epochs // 32) == 0):\n",
    "            print(f\"Iteration: {epoch} - Loss: {np.mean(losses):.5f}\") \n",
    "\n",
    "    train_ein_eout.eval()\n",
    "    e_in_0, labels = torch.Tensor(e_in[:, None]), torch.Tensor(e_true[:, None]) #utile ? \n",
    "    e_out = neural_network(e_in_0) #utile ? \n",
    "    loss = criterion(e_out, labels).item()\n",
    "    \n",
    "    return train_ein_eout, loss\n",
    "    # --- visualisation ----------------------------------------------------------------------------------------------------------\n",
    "\n",
    "def plotor(lolo):\n",
    "    plt.figure(figsize=(10,4))\n",
    "    plt.scatter(lolo.t, lolo.i, marker = \"|\")\n",
    "    \n",
    "def plotorr(lolo):\n",
    "    temps_true = []\n",
    "    ind_true = []\n",
    "    for i in range(len(e_true)): \n",
    "        temps_true.append(e_true[i][0]*ms)\n",
    "        ind_true.append(e_true[i][1])\n",
    "        plt.scatter(temps_true[i],ind_true[i])\n",
    "\n",
    "def plot_weight(lolo):\n",
    "    plt.figure(figsize=(10,4))\n",
    "    plot(lolo)\n",
    "    xlabel('Time (s)')\n",
    "    ylabel('weight')\n",
    "    title ('evolution of weight of each synapse')\n",
    "        \n",
    "# --- supervised learning ----------------------------------------------------------------------------------------------------------\n",
    "\n",
    "import torch\n",
    "from torch.utils.data import TensorDataset, DataLoader\n",
    "from skimage import io, transform\n",
    "\n",
    "torch.set_default_tensor_type(\"torch.DoubleTensor\") # -> torch.tensor([1.2, 3]).dtype = torch.float64\n",
    "# see https://sebastianraschka.com/faq/docs/pytorch-crossentropy.html#pytorch-loss-input-confusion-cheatsheet\n",
    "criterion = torch.nn.BCELoss(reduction=\"mean\") # loss divided by output size//the sum of the output will be divided by the number of elements in the output\n",
    "#criterion = torch.nn.NLLLoss(reduction=\"mean\") # loss divided by output \n",
    "\n",
    "learning_rate = 0.005\n",
    "beta1, beta2 = 0.9, 0.999\n",
    "betas = (beta1, beta2)\n",
    "num_epochs = 25 # epoch = le nombre de passages dans l'ensemble des données d'entraînement que le réseau a effectués, ici 513 max\n",
    "amsgrad = False # gives similar results\n",
    "amsgrad = True  # gives similar results\n",
    "\n",
    "batch_size = 1000\n",
    "n_classes = Nj\n",
    "\n",
    "def learn_STDP(e_in,e_true, learning_rate=learning_rate, batch_size=batch_size, num_epochs=num_epochs, betas=betas,verbose=False, **kwargs): \n",
    "    \n",
    "    sample = {'e_in': e_in, 'e_true': e_true}\n",
    "    \n",
    "    \n",
    "    loader = DataLoader(sample, batch_size=batch_size, shuffle=True)\n",
    "\n",
    "    device = torch.device(\"cuda\" if torch.cuda.is_available() else \"cpu\")\n",
    "    \n",
    "    train_ein_eout_ = neural_network(e_in)\n",
    "    train_ein_eout_.train()\n",
    "    \n",
    "    optimizer = torch.optim.Adam(train_ein_eout_.parameters(), lr=learning_rate, betas=betas, amsgrad=amsgrad) # diminue le learning rate petit à petit de sorte à atteindre le minimum de la loss function / Adam utilise une moyenne à décroissance exponentielle des gradients passés afin de fournir une fréquence d'apprentissage adaptative. \n",
    "    \n",
    "    for epoch in range(int(num_epochs)): # on commence à 1 jusq'à 513 epoch, cad qu'il passe par tous les X_ 513 fois\n",
    "        train_ein_eout_.train()\n",
    "        losses = [] \n",
    "        for e_in_, labels_ in loader: \n",
    "            e_in_, labels_ = e_in_.to(device), labels_.to(device)\n",
    "            outputs = neural_network(e_in_)  \n",
    "            loss = criterion(outputs, labels_) #calcul de la différence entre l'outpul de logistic_model et la classification effectuée pdt l'initialisation (PROBLEME ? on compare des proba à y=true/false)\n",
    "                                               \n",
    "            optimizer.zero_grad()\n",
    "            loss.backward()\n",
    "            optimizer.step() \n",
    "        \n",
    "            \n",
    "            losses.append(loss.item())   \n",
    "\n",
    "        if verbose and (epoch % (num_epochs // 32) == 0):\n",
    "            print(f\"Iteration: {epoch} - Loss: {np.mean(losses):.5f}\") \n",
    "\n",
    "    train_ein_eout.eval()\n",
    "    e_in_0, labels = torch.Tensor(e_in[:, None]), torch.Tensor(e_true[:, None]) #utile ? \n",
    "    e_out = neural_network(e_in_0) #utile ? \n",
    "    loss = criterion(e_out, labels).item()\n",
    "    return train_ein_eout, loss\n"
   ]
  },
  {
   "cell_type": "code",
   "execution_count": null,
   "id": "136b3bfd-dee5-4fd8-9a05-d8175a0566a5",
   "metadata": {},
   "outputs": [],
   "source": [
    "train_ein_eout, loss  = learn_STDP(e_in,e_true, learning_rate=learning_rate, batch_size=batch_size, num_epochs=num_epochs, betas=betas,verbose=False)"
   ]
  },
  {
   "cell_type": "code",
   "execution_count": null,
   "id": "55315335-025c-4072-9a9b-7aff526df552",
   "metadata": {},
   "outputs": [],
   "source": [
    "plotor(d_spike)\n",
    "xlabel('Time (s)')\n",
    "ylabel('neurons')\n",
    "title('e_in')"
   ]
  },
  {
   "cell_type": "code",
   "execution_count": null,
   "id": "1e789269-d475-4872-9bb5-7ffd57e57f73",
   "metadata": {},
   "outputs": [],
   "source": [
    "plt.scatter(e_spike.t, e_spike.i)\n",
    "xlabel('Time (s)')\n",
    "ylabel('PGs')\n",
    "title('e_out')"
   ]
  },
  {
   "cell_type": "code",
   "execution_count": null,
   "id": "0cb07084-f178-4a6c-8cb0-b35e30727468",
   "metadata": {},
   "outputs": [],
   "source": [
    "plot_generator(detection)\n",
    "xlabel('Time (s)')\n",
    "ylabel('PGs')\n",
    "title('e_true')"
   ]
  },
  {
   "cell_type": "code",
   "execution_count": null,
   "id": "8efba0b2-d11a-4369-b42c-da27bc381e5b",
   "metadata": {},
   "outputs": [],
   "source": [
    "visualise_connectivity(naps)"
   ]
  },
  {
   "cell_type": "code",
   "execution_count": null,
   "id": "b478af46-7798-4bea-8114-ca302b12ef28",
   "metadata": {},
   "outputs": [],
   "source": [
    "### la stdp ne semble pas marcher "
   ]
  },
  {
   "cell_type": "code",
   "execution_count": null,
   "id": "bc736704-2b30-4c3d-be46-59875205139b",
   "metadata": {},
   "outputs": [],
   "source": [
    "plot_weight(mon.w.T)"
   ]
  },
  {
   "cell_type": "code",
   "execution_count": null,
   "id": "ce66bf9a-ae80-4fcc-a3e1-d4974c1ad6db",
   "metadata": {},
   "outputs": [],
   "source": [
    "plt.figure(figsize = (10,4))\n",
    "plt.scatter(range(Ni*Nj), naps.w)"
   ]
  },
  {
   "cell_type": "code",
   "execution_count": null,
   "id": "9513453d-2293-4f85-aa2e-8d85f97d0fcb",
   "metadata": {},
   "outputs": [],
   "source": [
    "plt.figure(figsize = (10,4))\n",
    "plt.scatter(range(Ni*Nj),mon.w.T[0])"
   ]
  },
  {
   "cell_type": "code",
   "execution_count": null,
   "id": "240dc494-88e6-4a96-8a2a-ffd41c152683",
   "metadata": {},
   "outputs": [],
   "source": [
    "plt.figure(figsize = (10,4))\n",
    "plt.scatter(range(Ni*Nj),mon.w.T[100000])"
   ]
  },
  {
   "cell_type": "code",
   "execution_count": null,
   "id": "8ba61107-74a8-4833-a451-0eaef0f3bf77",
   "metadata": {},
   "outputs": [],
   "source": [
    "plot?\n"
   ]
  },
  {
   "cell_type": "code",
   "execution_count": null,
   "id": "3cc177a9-25c3-4f7a-b9ce-c06053d9c678",
   "metadata": {},
   "outputs": [],
   "source": [
    "range?"
   ]
  },
  {
   "cell_type": "markdown",
   "id": "81fee5ce-0447-4142-b197-658dcb42ae01",
   "metadata": {},
   "source": [
    "### STDP"
   ]
  },
  {
   "cell_type": "code",
   "execution_count": null,
   "id": "ef0e6f17-eb79-43c1-a1e7-5bcb8e3c355c",
   "metadata": {},
   "outputs": [],
   "source": [
    "len(w_per_synapse_list)"
   ]
  },
  {
   "cell_type": "code",
   "execution_count": null,
   "id": "7d79fa01-2024-4002-b68e-9c3d76d27f82",
   "metadata": {},
   "outputs": [],
   "source": [
    "w_per_synapse[0,0]"
   ]
  },
  {
   "cell_type": "code",
   "execution_count": null,
   "id": "b30309aa-c769-413d-9d31-2dc453b20f4e",
   "metadata": {},
   "outputs": [],
   "source": [
    "for i in range(len(w_comp)):\n",
    "    if w_comp[i][1]==(0,4):\n",
    "        print(w_comp[i])"
   ]
  },
  {
   "cell_type": "code",
   "execution_count": null,
   "id": "085b2cd1-7297-48be-bebb-78e196d498cc",
   "metadata": {},
   "outputs": [],
   "source": [
    "a"
   ]
  },
  {
   "cell_type": "code",
   "execution_count": null,
   "id": "81fba0f4-fe46-4636-b063-56aa25cb9cf9",
   "metadata": {},
   "outputs": [],
   "source": [
    "len(e_true)"
   ]
  },
  {
   "cell_type": "code",
   "execution_count": null,
   "id": "3e085648-fa15-4dc7-902a-d26e3f0f40ff",
   "metadata": {},
   "outputs": [],
   "source": [
    "w, w_comp = synchro_detector_terminator(e_true, e_in)"
   ]
  },
  {
   "cell_type": "code",
   "execution_count": null,
   "id": "60d8e131-0e1c-4bbd-8c15-c596cce6bf6c",
   "metadata": {},
   "outputs": [],
   "source": [
    "comp = []\n",
    "delta_ttt = []\n",
    "delta_tt = []\n",
    "\n",
    "for i in range(len(e_true)):\n",
    "    for k in range(len(e_in)):\n",
    "        comp.append(tuple((e_true[i][1], e_in[k][1])))\n",
    "        delta_tt.append(e_true[i][0] - e_in[k][0])"
   ]
  },
  {
   "cell_type": "code",
   "execution_count": null,
   "id": "13954df2-3dd4-4a58-8d16-d7234c6b59fa",
   "metadata": {},
   "outputs": [],
   "source": [
    "for i in range(len(comp)):\n",
    "    delta_ttt.append(tuple((delta_tt[i], comp[i])))"
   ]
  },
  {
   "cell_type": "code",
   "execution_count": null,
   "id": "668b47da-6ada-4254-a313-f5d7adbedbc8",
   "metadata": {},
   "outputs": [],
   "source": [
    "Www = np.zeros((Ni,Nj))\n",
    "for i in range(len(delta_ttt)):\n",
    "    for k in range(Ni):\n",
    "        for c in range(Nj) :\n",
    "            if delta_ttt[i][1] == (k,c) :\n",
    "                Www[k][c] == (delta_ttt[i][0])"
   ]
  },
  {
   "cell_type": "code",
   "execution_count": null,
   "id": "c2efe2b7-4561-497b-8b7a-d78d431cab05",
   "metadata": {},
   "outputs": [],
   "source": [
    "Www"
   ]
  },
  {
   "cell_type": "code",
   "execution_count": null,
   "id": "618bf176-d3a1-4afc-b9cd-1a52fde7d422",
   "metadata": {},
   "outputs": [],
   "source": [
    "for i in range(len(e_true)): \n",
    "    if e_true[i][1]==2:\n",
    "        print(e_true[i][0])"
   ]
  },
  {
   "cell_type": "code",
   "execution_count": null,
   "id": "76082fc0-8da1-44e4-97d2-94b6aa446f53",
   "metadata": {},
   "outputs": [],
   "source": [
    "for i in range(len(e_in)): \n",
    "    if e_in[i][1]==0:\n",
    "        print(e_in[i][0])"
   ]
  },
  {
   "cell_type": "markdown",
   "id": "b0f25c49-2da5-4b2f-b938-f033361ec914",
   "metadata": {},
   "source": [
    "# unsupervised recognition of PGs"
   ]
  },
  {
   "cell_type": "code",
   "execution_count": null,
   "id": "b343fcf0-f4dc-4f9a-b896-ad04cb3fec9f",
   "metadata": {},
   "outputs": [],
   "source": [
    "e_true"
   ]
  },
  {
   "cell_type": "markdown",
   "id": "4fc413a8-83cb-4311-94ab-270bed43953a",
   "metadata": {
    "tags": []
   },
   "source": [
    "## detection of temporal patterns "
   ]
  },
  {
   "cell_type": "code",
   "execution_count": null,
   "id": "65aed9c1-de5f-4a94-af3e-ee48da818e0c",
   "metadata": {},
   "outputs": [],
   "source": [
    "all_spike_time"
   ]
  },
  {
   "cell_type": "code",
   "execution_count": null,
   "id": "776a6a39-3fa3-494d-813e-0f0bd7f3d1d6",
   "metadata": {},
   "outputs": [],
   "source": [
    "temps_tot"
   ]
  },
  {
   "cell_type": "code",
   "execution_count": null,
   "id": "34f770ca-f65e-4e40-9506-48721a6d13aa",
   "metadata": {},
   "outputs": [],
   "source": [
    "# def de ma fenetre temporelle pour reconnaître les PGs\n",
    "temps_tot = int(duration/msecond)\n",
    "t_window = 200 #ms\n",
    "nb_wind = int(temps_tot/t_window)\n",
    "X = np.zeros((nb_wind, Nj, t_window))"
   ]
  },
  {
   "cell_type": "code",
   "execution_count": null,
   "id": "f1f54ba0-24dc-4b8a-a60d-a1c17c45decd",
   "metadata": {},
   "outputs": [],
   "source": [
    "for k in range(nb_wind) :\n",
    "    for t,i in (all_spike_time) : \n",
    "        if t<t_window : \n",
    "            X[1][i][t] = 1 #on peut faire [1,i,t]\n",
    "            print('ok')\n",
    "        if t_window*(k-1)<t<t_window*k : \n",
    "            X[k][i][t-t_window*(k-1)] = 1 \n",
    "            print('okk')"
   ]
  },
  {
   "cell_type": "code",
   "execution_count": null,
   "id": "a1bceeea-d3d5-4812-8bfc-3d9f2a1b34d2",
   "metadata": {},
   "outputs": [],
   "source": [
    "X["
   ]
  },
  {
   "cell_type": "code",
   "execution_count": null,
   "id": "df61262c-ad8f-4a81-94e9-7cd17cde8c12",
   "metadata": {},
   "outputs": [],
   "source": [
    "plot(X[58].T)"
   ]
  },
  {
   "cell_type": "code",
   "execution_count": null,
   "id": "683710f0-13c8-43ad-b276-d362dc49ebc1",
   "metadata": {},
   "outputs": [],
   "source": [
    "all_spike_time"
   ]
  },
  {
   "cell_type": "markdown",
   "id": "9b9fcecc-b429-4146-b8a1-44d88ec91989",
   "metadata": {},
   "source": [
    "## cam's k-means"
   ]
  },
  {
   "cell_type": "code",
   "execution_count": null,
   "id": "7c5e3fed-858b-4e52-98c5-cc76a293c80d",
   "metadata": {},
   "outputs": [],
   "source": []
  },
  {
   "cell_type": "code",
   "execution_count": null,
   "id": "568a53f6-0076-4fc9-9347-e7c9161e202d",
   "metadata": {},
   "outputs": [],
   "source": []
  }
 ],
 "metadata": {
  "kernelspec": {
   "display_name": "Python 3 (ipykernel)",
   "language": "python",
   "name": "python3"
  },
  "language_info": {
   "codemirror_mode": {
    "name": "ipython",
    "version": 3
   },
   "file_extension": ".py",
   "mimetype": "text/x-python",
   "name": "python",
   "nbconvert_exporter": "python",
   "pygments_lexer": "ipython3",
   "version": "3.9.12"
  }
 },
 "nbformat": 4,
 "nbformat_minor": 5
}
