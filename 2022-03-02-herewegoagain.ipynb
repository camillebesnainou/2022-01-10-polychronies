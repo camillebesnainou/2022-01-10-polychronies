{
 "cells": [
  {
   "cell_type": "markdown",
   "id": "e1bbd110-e96a-40ef-8fe6-abcd8d632d40",
   "metadata": {},
   "source": [
    "# PGs generation, detection & recognition via learning delays"
   ]
  },
  {
   "cell_type": "code",
   "execution_count": 1,
   "id": "3d70a0bd-6391-48ba-aa74-2982f6bec826",
   "metadata": {},
   "outputs": [],
   "source": [
    "from brian2 import *\n",
    "%matplotlib inline\n",
    "from brian2 import SpikeGeneratorGroup\n",
    "from brian2 import NeuronGroup\n",
    "import numpy as np\n",
    "import random\n",
    "import pandas as pd"
   ]
  },
  {
   "cell_type": "code",
   "execution_count": 141,
   "id": "e85bdc01-28f1-4776-8a84-73be6890eb58",
   "metadata": {},
   "outputs": [
    {
     "ename": "PermissionError",
     "evalue": "[WinError 5] Accès refusé: 'C:\\\\Users\\\\camil\\\\.cython\\\\brian_extensions\\\\_cython_magic_001b5d43ebe41ac7e725aa9a52f5e6a4.cp39-win_amd64.pyd'",
     "output_type": "error",
     "traceback": [
      "\u001b[1;31m---------------------------------------------------------------------------\u001b[0m",
      "\u001b[1;31mPermissionError\u001b[0m                           Traceback (most recent call last)",
      "\u001b[1;32m~\\AppData\\Local\\Temp/ipykernel_35248/4142180590.py\u001b[0m in \u001b[0;36m<module>\u001b[1;34m\u001b[0m\n\u001b[1;32m----> 1\u001b[1;33m \u001b[0mclear_cache\u001b[0m\u001b[1;33m(\u001b[0m\u001b[1;34m'cython'\u001b[0m\u001b[1;33m)\u001b[0m\u001b[1;33m\u001b[0m\u001b[1;33m\u001b[0m\u001b[0m\n\u001b[0m",
      "\u001b[1;32m~\\anaconda3\\lib\\site-packages\\brian2\\__init__.py\u001b[0m in \u001b[0;36mclear_cache\u001b[1;34m(target)\u001b[0m\n\u001b[0;32m    183\u001b[0m     logger.debug('Clearing cache for target \"%s\" (directory \"%s\").' %\n\u001b[0;32m    184\u001b[0m                  (target, cache_dir))\n\u001b[1;32m--> 185\u001b[1;33m     \u001b[0mshutil\u001b[0m\u001b[1;33m.\u001b[0m\u001b[0mrmtree\u001b[0m\u001b[1;33m(\u001b[0m\u001b[0mcache_dir\u001b[0m\u001b[1;33m)\u001b[0m\u001b[1;33m\u001b[0m\u001b[1;33m\u001b[0m\u001b[0m\n\u001b[0m\u001b[0;32m    186\u001b[0m \u001b[1;33m\u001b[0m\u001b[0m\n\u001b[0;32m    187\u001b[0m \u001b[1;33m\u001b[0m\u001b[0m\n",
      "\u001b[1;32m~\\anaconda3\\lib\\shutil.py\u001b[0m in \u001b[0;36mrmtree\u001b[1;34m(path, ignore_errors, onerror)\u001b[0m\n\u001b[0;32m    746\u001b[0m             \u001b[1;31m# can't continue even if onerror hook returns\u001b[0m\u001b[1;33m\u001b[0m\u001b[1;33m\u001b[0m\u001b[0m\n\u001b[0;32m    747\u001b[0m             \u001b[1;32mreturn\u001b[0m\u001b[1;33m\u001b[0m\u001b[1;33m\u001b[0m\u001b[0m\n\u001b[1;32m--> 748\u001b[1;33m         \u001b[1;32mreturn\u001b[0m \u001b[0m_rmtree_unsafe\u001b[0m\u001b[1;33m(\u001b[0m\u001b[0mpath\u001b[0m\u001b[1;33m,\u001b[0m \u001b[0monerror\u001b[0m\u001b[1;33m)\u001b[0m\u001b[1;33m\u001b[0m\u001b[1;33m\u001b[0m\u001b[0m\n\u001b[0m\u001b[0;32m    749\u001b[0m \u001b[1;33m\u001b[0m\u001b[0m\n\u001b[0;32m    750\u001b[0m \u001b[1;31m# Allow introspection of whether or not the hardening against symlink\u001b[0m\u001b[1;33m\u001b[0m\u001b[1;33m\u001b[0m\u001b[0m\n",
      "\u001b[1;32m~\\anaconda3\\lib\\shutil.py\u001b[0m in \u001b[0;36m_rmtree_unsafe\u001b[1;34m(path, onerror)\u001b[0m\n\u001b[0;32m    624\u001b[0m                 \u001b[0mos\u001b[0m\u001b[1;33m.\u001b[0m\u001b[0munlink\u001b[0m\u001b[1;33m(\u001b[0m\u001b[0mfullname\u001b[0m\u001b[1;33m)\u001b[0m\u001b[1;33m\u001b[0m\u001b[1;33m\u001b[0m\u001b[0m\n\u001b[0;32m    625\u001b[0m             \u001b[1;32mexcept\u001b[0m \u001b[0mOSError\u001b[0m\u001b[1;33m:\u001b[0m\u001b[1;33m\u001b[0m\u001b[1;33m\u001b[0m\u001b[0m\n\u001b[1;32m--> 626\u001b[1;33m                 \u001b[0monerror\u001b[0m\u001b[1;33m(\u001b[0m\u001b[0mos\u001b[0m\u001b[1;33m.\u001b[0m\u001b[0munlink\u001b[0m\u001b[1;33m,\u001b[0m \u001b[0mfullname\u001b[0m\u001b[1;33m,\u001b[0m \u001b[0msys\u001b[0m\u001b[1;33m.\u001b[0m\u001b[0mexc_info\u001b[0m\u001b[1;33m(\u001b[0m\u001b[1;33m)\u001b[0m\u001b[1;33m)\u001b[0m\u001b[1;33m\u001b[0m\u001b[1;33m\u001b[0m\u001b[0m\n\u001b[0m\u001b[0;32m    627\u001b[0m     \u001b[1;32mtry\u001b[0m\u001b[1;33m:\u001b[0m\u001b[1;33m\u001b[0m\u001b[1;33m\u001b[0m\u001b[0m\n\u001b[0;32m    628\u001b[0m         \u001b[0mos\u001b[0m\u001b[1;33m.\u001b[0m\u001b[0mrmdir\u001b[0m\u001b[1;33m(\u001b[0m\u001b[0mpath\u001b[0m\u001b[1;33m)\u001b[0m\u001b[1;33m\u001b[0m\u001b[1;33m\u001b[0m\u001b[0m\n",
      "\u001b[1;32m~\\anaconda3\\lib\\shutil.py\u001b[0m in \u001b[0;36m_rmtree_unsafe\u001b[1;34m(path, onerror)\u001b[0m\n\u001b[0;32m    622\u001b[0m         \u001b[1;32melse\u001b[0m\u001b[1;33m:\u001b[0m\u001b[1;33m\u001b[0m\u001b[1;33m\u001b[0m\u001b[0m\n\u001b[0;32m    623\u001b[0m             \u001b[1;32mtry\u001b[0m\u001b[1;33m:\u001b[0m\u001b[1;33m\u001b[0m\u001b[1;33m\u001b[0m\u001b[0m\n\u001b[1;32m--> 624\u001b[1;33m                 \u001b[0mos\u001b[0m\u001b[1;33m.\u001b[0m\u001b[0munlink\u001b[0m\u001b[1;33m(\u001b[0m\u001b[0mfullname\u001b[0m\u001b[1;33m)\u001b[0m\u001b[1;33m\u001b[0m\u001b[1;33m\u001b[0m\u001b[0m\n\u001b[0m\u001b[0;32m    625\u001b[0m             \u001b[1;32mexcept\u001b[0m \u001b[0mOSError\u001b[0m\u001b[1;33m:\u001b[0m\u001b[1;33m\u001b[0m\u001b[1;33m\u001b[0m\u001b[0m\n\u001b[0;32m    626\u001b[0m                 \u001b[0monerror\u001b[0m\u001b[1;33m(\u001b[0m\u001b[0mos\u001b[0m\u001b[1;33m.\u001b[0m\u001b[0munlink\u001b[0m\u001b[1;33m,\u001b[0m \u001b[0mfullname\u001b[0m\u001b[1;33m,\u001b[0m \u001b[0msys\u001b[0m\u001b[1;33m.\u001b[0m\u001b[0mexc_info\u001b[0m\u001b[1;33m(\u001b[0m\u001b[1;33m)\u001b[0m\u001b[1;33m)\u001b[0m\u001b[1;33m\u001b[0m\u001b[1;33m\u001b[0m\u001b[0m\n",
      "\u001b[1;31mPermissionError\u001b[0m: [WinError 5] Accès refusé: 'C:\\\\Users\\\\camil\\\\.cython\\\\brian_extensions\\\\_cython_magic_001b5d43ebe41ac7e725aa9a52f5e6a4.cp39-win_amd64.pyd'"
     ]
    }
   ],
   "source": [
    "clear_cache('cython')"
   ]
  },
  {
   "cell_type": "markdown",
   "id": "3b3e42a4-4096-4644-ad75-3d8eec4b92ba",
   "metadata": {},
   "source": [
    "On s'intéresse ici à la génération, la détection et l'apprentissage de patterns temporels grâce à l'apprentissage des délais de manière à ce qu'un pattern temporel d'intéret s'articule en groupe polychrone (PG). Un groupe polychrone est définit par un groupe de neurone qui déchargent de manière asycnhrone, à différents moments, mais qui, grâce à leurs délais, transmettent l'information à un neurone post synaptique de façon sychrone."
   ]
  },
  {
   "cell_type": "markdown",
   "id": "cf9d21e3-338b-47a7-bef6-d484c7445484",
   "metadata": {},
   "source": [
    "L'idée ici est dans un premier temps de réaliser un modèle génératif de pattern temporel et un modèle de détection de groupes polychrones en Brian. Pour celà, on utilise un réseau de neurone à spike de trois couches : \n",
    "- la première couche est constituée de neurones du SpikeGeneratorGroup A et sert à la génération.\n",
    "- la deuxième couche est constituée de neurones appartenant au NeuronGroup B et sert à la génération. \n",
    "- la troisième couche est constituée de neurones appartenant au NueronGroup C et sert à la détection.\n",
    "\n",
    "Les neurones de la couche A vont émettrent un spike à un moment donné de la simulation. Chaque neurone de cette couche projette sur au moins trois neurones de la couche B, selon un certain poid et un certain delais. Si un neurone de la couche A spike, alors les neurones de la couche B sur lesquels il projette vont emettrent un spike (en fonction de leur poid et de leur délai). Tous les neurones de la couche B qui déchargent en réponse au spike du neurone de la couche A consitituent un groupe polychrone. \n",
    "Avec cette organisation, on génère un rasterplot artificiel (actvité des neurones de la couche B) dans lequel on voudrait détecter des groupes polychrones. Les spikes appartenant à un même groupe sont déterminés en fonction du neurone de la couche A qui a engendré leur décharge. L'activité de la couche B correspond donc à notre entrée et l'activité des neurones de la couche A correspond à notre ground truth, ce que l'on voudrait détecter. Un spike d'un neurone dans la couche A correspond à l'occurence d'un groupe polychrone. \n",
    "Puisque l'on connait les connections a->b, les poids et les délais, il est facile d'organiser un groupe de neurone en groupe polychrones en réalisant une troisièmpe couche, équivalente à la couche a. On construit des connections b->c de la même manière que a->b, avec les mêmes poids. On ajuste les délais de sorte à ce que les spikes d'un groupe de neurones polychrone arrivent de façon synchrone sur un neurone de la couche c et induisent leur décharge. Lorsqu'un neurone c spike ça veut dire que les neurones projettant sur lui spike avec une certaine séquence temporelle. On detecte donc une séquence temporelle d'intéret à un moment dans le temps. En récupérant les délais on peut connaitre cette séquence temporelle. "
   ]
  },
  {
   "cell_type": "markdown",
   "id": "d90951a9-9f05-419a-ae9c-dab2eb171004",
   "metadata": {},
   "source": [
    "### variable definition"
   ]
  },
  {
   "cell_type": "code",
   "execution_count": 2,
   "id": "1677c537-eeda-417f-9ed9-6dfd7f1ca9ac",
   "metadata": {},
   "outputs": [],
   "source": [
    "Ni = 3 #nb de PGs différents\n",
    "Nj = 10 #nb d'adresses en entrée \n",
    "n_pattern = 30 # nb d'occurrence des PGs \n",
    "duration = 10*second\n",
    "\n",
    "PGs_pattern = {}\n",
    "PGs_id_tps = {}\n",
    "detection = {}\n",
    "state_b = {}\n",
    "\n",
    "a = np.arange(Ni)\n",
    "cmap = plt.cm.get_cmap(\"plasma\")\n",
    "color_dict = pd.Series({i:cmap(i/len(a)) for i,k in enumerate(a)})"
   ]
  },
  {
   "cell_type": "code",
   "execution_count": 3,
   "id": "dd45472f-90f9-4a97-a34b-8b3377bc82b9",
   "metadata": {},
   "outputs": [],
   "source": [
    "# --- def du moment d'occurence des PGs -------------------------------------------------------------------------------------------------\n",
    "\n",
    "i_indices = np.random.randint(0, Ni, size = n_pattern) # nombre de PG observé (n_pattern), de Ni sortes différentes\n",
    "i_temps = np.random.uniform(0, duration, size = n_pattern)*second # temps d'occurence des n_pattern PG \n",
    "\n",
    "\n",
    "# --- def des projections des neurones pré-syn (i.e. des PGs) -----------------------------------------------------------------------\n",
    "\n",
    "i_syn=[]\n",
    "n_syn = []\n",
    "nn_j = []\n",
    "W = []\n",
    "\n",
    "for k in range(Ni) : \n",
    "    n_j = np.random.randint(3, Nj, size = 1) # nombre de neurone qu'un Ni va connecter : au moins 3 neurones impliqués dans un PG\n",
    "    i_syn.append(random.sample(range(Nj), int(n_j))) # def des j connectés aux i, pas de repetition (pas de delais heterosynaptique)\n",
    "    n_syn.append(len(i_syn[k])) # def du nb de synapses pour set des poids et délais aléatoires, voir ci-après \n",
    "    W.append(list(np.random.rand(int(n_j))))\n",
    "    W[k] /= sum(W[k])\n",
    "    nn_j.append(n_j)\n",
    "\n",
    "n_syn = sum(n_syn) \n",
    "\n",
    "# --- def des poids et delais synaptiques -----------------------------------------------------------------------------------------------\n",
    "\n",
    "#weight = np.random.rand(n_syn) # des fois les poids générés pour 1 gp sont trop faibles pour que la detection marche, faudrait il faire en sorte que la somme des poids générés pour 1 gp soit = 1 ? \n",
    "delay = np.random.rand(n_syn)*0.1*second # là entre 0 et 100 -> 144 "
   ]
  },
  {
   "cell_type": "markdown",
   "id": "5ec675ed-0fb7-49dd-a4b2-0006fcbf6f23",
   "metadata": {},
   "source": [
    "### NN simulation for PGs generation and detection"
   ]
  },
  {
   "cell_type": "code",
   "execution_count": 4,
   "id": "d4cdaa1d-49b0-4115-a5ef-e142f07a9bf2",
   "metadata": {},
   "outputs": [],
   "source": [
    "def generator_terminator(nn_j, i_syn, i_indices, i_temps):\n",
    "    \n",
    "    start_scope()\n",
    "\n",
    "    e_in = []\n",
    "    e_true_t= []\n",
    "    e_true_i= []\n",
    "    e_true = []  \n",
    "# --- generation de e_in ----------------------------------------------------------------------------------------------------------\n",
    "    for i in range(n_pattern) :    \n",
    "        \n",
    "        a = SpikeGeneratorGroup(Ni, [i_indices[i]], [i_temps[i]/ms*msecond])\n",
    "        a_spike= SpikeMonitor(a)\n",
    "    \n",
    "        b = NeuronGroup(Nj, ''' dv/dt = -v/tau : volt\n",
    "                                tau : second''',\n",
    "                        threshold= 'v > 0.01999*volt',\n",
    "                        reset= 'v = 0*volt',\n",
    "                       method = 'exact')\n",
    "        b.v = 0*volt\n",
    "        b.tau = 0.001*second\n",
    "        b_spike = SpikeMonitor(b)\n",
    "        b_state = StateMonitor(b, 'v', record = True)\n",
    "\n",
    "        s = Synapses(a,b, on_pre='v+=(0.01*volt*w)', model = 'w:1')\n",
    "    \n",
    "        for k in range(Ni):\n",
    "            s.connect(i = k , j = i_syn[k])\n",
    "            s.w[k,:] = W[k]*20 \n",
    "            \n",
    "        s.delay[:,:] = delay\n",
    "    \n",
    "    # --- generation de e_true/detectorrr_terminator ----------------------------------------------------------------------------------\n",
    "       \n",
    "        c =  NeuronGroup(Ni, ''' dv/dt = -v/tau : volt\n",
    "                                tau : second''',\n",
    "                        threshold= 'v > 0.005*volt',\n",
    "                        reset= 'v = 0*volt',\n",
    "                        method = 'exact')\n",
    "    \n",
    "        c.v = 0*volt\n",
    "        c.tau = 0.001*second\n",
    "        c_spike = SpikeMonitor(c)\n",
    "    \n",
    "        syn = Synapses(b,c, on_pre='v+=(0.01*volt*w)', model = 'w:1')\n",
    "    \n",
    "        for k in range(Ni):\n",
    "            syn.connect(i = i_syn[k], j = k)         \n",
    "            syn.w[:,k] = W[k]\n",
    "            syn.delay[:,k] = max(s.delay[k,:])-s.delay[k,:]\n",
    "    \n",
    "    \n",
    "        net_g = Network(collect())\n",
    "        net_g.add(a, a_spike, b, b_spike, c, c_spike, s, syn)\n",
    "        net_g.run(duration)\n",
    "    \n",
    "\n",
    "    # --- stock dans des variables ----------------------------------------------------------------------------------------------------\n",
    "        \n",
    "        PGs_id_tps[i] = (a_spike.t, a_spike.i) # generator\n",
    "        PGs_pattern[i] = (b_spike.t, b_spike.i) # generator\n",
    "        detection[i] = (c_spike.t, c_spike.i) # generator, detector (-max(syn.delay[:,[c_spike.i]]) pour que ce soit le premier spike que l'on detecte, peut etre pas essentiel\n",
    "        \n",
    "        for k in range(len(PGs_pattern[i][0])):\n",
    "            e_in.append(tuple((round(PGs_pattern[i][0][k]*1000/second), PGs_pattern[i][1][k])))\n",
    "    \n",
    "        for ele in detection[i][0] : \n",
    "            e_true_t.append(ele)\n",
    "        for ele in detection[i][1] : \n",
    "            e_true_i.append(ele)\n",
    "\n",
    "    for i in range(len(e_true_i)):\n",
    "        e_true.append(tuple((e_true_t[i],e_true_i[i])))\n",
    "        \n",
    "        \n",
    "        \n",
    "    e_in.sort(key=lambda y: y[0]) #pour trier de tmin à tmax\n",
    "    e_true.sort(key=lambda y: y[0]) #pour trier de tmin à tmax\n",
    "        \n",
    "    return s, syn, PGs_id_tps, PGs_pattern, detection, e_in, e_true\n",
    "\n",
    "\n",
    "\n",
    "# --- visualisation -----------------------------------------------------------------------------------------------\n",
    "\n",
    "    # --- de l'activité ---------------------------------------------------------------------------------------------------------\n",
    "\n",
    "def plot_generator(lolo) : \n",
    "    plt.figure(figsize=(10,5))\n",
    "    for i in range(n_pattern) :\n",
    "        plt.scatter(lolo[i][0], lolo[i][1], color = color_dict[i_indices[i]], marker = \"|\")\n",
    "        \n",
    "    # --- des connections ----------------------------------------------------------------------------------------------------\n",
    "        \n",
    "def visualise_connectivity(s): # ajouter les delays\n",
    "    Ns= len(s.source)\n",
    "    Nt = len(s.target)\n",
    "    figure(figsize=(15,8))\n",
    "    \n",
    "    subplot(141)\n",
    "    plot(zeros(Ns), arange(Ns), 'ok', ms=7)\n",
    "    plot(ones(Nt), arange(Nt), 'ok', ms=7)\n",
    "    for i, j in zip(s.i, s.j):\n",
    "        plot([0, 1], [i, j], '-k')\n",
    "    xticks([0, 1], ['Source', 'Target'])\n",
    "    ylabel('Neuron index')\n",
    "    xlim(-0.1, 1.1)\n",
    "    ylim(-1, max(Ns, Nt))\n",
    "    \n",
    "    subplot(142)\n",
    "    plot(s.i, s.j, 'ok')\n",
    "    xlim(-1, Ns)\n",
    "    ylim(-1, Nt)\n",
    "    xlabel('Source neuron index')\n",
    "    ylabel('Target neuron index')\n",
    "    \n",
    "    subplot(143) \n",
    "    scatter(s.i, s.j, s.w*30 )\n",
    "    xlabel('Source neuron index')\n",
    "    ylabel('Target neuron index')\n",
    "    \n",
    "    subplot(144) \n",
    "    scatter(s.i, s.j, s.delay*300)\n",
    "    xlabel('Source neuron index')\n",
    "    ylabel('Target neuron index')"
   ]
  },
  {
   "cell_type": "code",
   "execution_count": 6,
   "id": "0d8f40b2-cb55-4767-b9da-d2694980e545",
   "metadata": {},
   "outputs": [],
   "source": [
    "start_scope()\n",
    "s, syn, PGs_id_tps, PGs_pattern, detection, e_in, e_true = generator_terminator(nn_j, i_syn, i_indices, i_temps)"
   ]
  },
  {
   "cell_type": "code",
   "execution_count": 7,
   "id": "14cfea88-9939-4212-a80d-2157020f3d14",
   "metadata": {},
   "outputs": [
    {
     "data": {
      "text/plain": [
       "Text(0.5, 1.0, 'occurence of PGs')"
      ]
     },
     "execution_count": 7,
     "metadata": {},
     "output_type": "execute_result"
    },
    {
     "data": {
      "image/png": "[encoded data removed]",
      "text/plain": [
       "<Figure size 720x360 with 1 Axes>"
      ]
     },
     "metadata": {
      "needs_background": "light"
     },
     "output_type": "display_data"
    }
   ],
   "source": [
    "occurence_PGs = plot_generator(PGs_id_tps)\n",
    "xlabel('Time (s)')\n",
    "ylabel('PGs')\n",
    "title('occurence of PGs')"
   ]
  },
  {
   "cell_type": "code",
   "execution_count": 457,
   "id": "7f38af0d-75ef-43c3-a6b0-9a5a4a5bc925",
   "metadata": {},
   "outputs": [
    {
     "data": {
      "text/plain": [
       "Text(0.5, 1.0, 'e_in')"
      ]
     },
     "execution_count": 457,
     "metadata": {},
     "output_type": "execute_result"
    },
    {
     "data": {
      "image/png": "[encoded data removed]",
      "text/plain": [
       "<Figure size 720x360 with 1 Axes>"
      ]
     },
     "metadata": {
      "needs_background": "light"
     },
     "output_type": "display_data"
    }
   ],
   "source": [
    "raster_plot = plot_generator(PGs_pattern)\n",
    "xlabel('Time (s)')\n",
    "ylabel('neuron adress')\n",
    "title('e_in')"
   ]
  },
  {
   "cell_type": "code",
   "execution_count": 9,
   "id": "761ac2f9-100a-4398-a37c-01b1c6d903bf",
   "metadata": {},
   "outputs": [
    {
     "data": {
      "text/plain": [
       "Text(0.5, 1.0, 'detection of PGs')"
      ]
     },
     "execution_count": 9,
     "metadata": {},
     "output_type": "execute_result"
    },
    {
     "data": {
      "image/png": "[encoded data removed]",
      "text/plain": [
       "<Figure size 720x360 with 1 Axes>"
      ]
     },
     "metadata": {
      "needs_background": "light"
     },
     "output_type": "display_data"
    }
   ],
   "source": [
    "detection_PGs = plot_generator(detection)\n",
    "xlabel('Time (s)')\n",
    "ylabel('PGs')\n",
    "title('detection of PGs')"
   ]
  },
  {
   "cell_type": "code",
   "execution_count": 10,
   "id": "01a344ac-3352-4f99-930a-b28090dee188",
   "metadata": {},
   "outputs": [
    {
     "data": {
      "image/png": "[encoded data removed]",
      "text/plain": [
       "<Figure size 1080x576 with 4 Axes>"
      ]
     },
     "metadata": {
      "needs_background": "light"
     },
     "output_type": "display_data"
    }
   ],
   "source": [
    "visualise_connectivity(s)"
   ]
  },
  {
   "cell_type": "code",
   "execution_count": 11,
   "id": "c3d1dfd4-2492-4816-9a7d-e03f67ba4021",
   "metadata": {},
   "outputs": [
    {
     "data": {
      "image/png": "[encoded data removed]",
      "text/plain": [
       "<Figure size 1080x576 with 4 Axes>"
      ]
     },
     "metadata": {
      "needs_background": "light"
     },
     "output_type": "display_data"
    }
   ],
   "source": [
    "visualise_connectivity(syn)"
   ]
  },
  {
   "cell_type": "markdown",
   "id": "abdbce78-1174-4fd1-ac92-c67d4d931305",
   "metadata": {},
   "source": [
    "ici, ce sont les connections b->c qui déterminent les neurones impliqués dans un PG, les poids sont donc obsolètes pour la détection des PGs. Ils décervent même un peu, par exemple pour la détection du PG 2, la somme des poids est faible et donc la synchronisation des décharges des neurones le composant ne permet pas de dépasser le seuil de 0.02, j'ai du l'abaisser à 0.01. \n",
    "Il faudrait plutot faire une couche de détections où tous les b connectent tous les c et où les poids sont importants pour les neurones où a->c existe et faibles pour les connections où a->c n'existe pas. (ici b->c n'existe que si a->c existe, les poids ne servent donc à rien)"
   ]
  },
  {
   "cell_type": "markdown",
   "id": "f15f06c3-83db-4542-a6d3-127f03cbaa1d",
   "metadata": {},
   "source": [
    "# supervised learning of weight and delay for recognition of PGs"
   ]
  },
  {
   "cell_type": "markdown",
   "id": "d530a42e-a919-4313-a0c7-30edbe3be530",
   "metadata": {},
   "source": [
    "l'idée serait d'apprendre dans un premier temps les poids, pour selectionner les neurones impliqués dans une séquence temporelle. Pour cela, il faut dans un premier temps, créer mon e_out (couche de Ni neurones, qui servent à detecter les groupes polychrones, W aléatoires, d = 1ms), ensuite, réaliser mon detecteur de synchronie (x = all_spike_time_x ; y_true = all_spike_time_y ; y = e_out).\n",
    "C'est dans le detecteur de synchronie que va se réaliser l'apprentissage : comparaison de x et y_true, plus ils sont synchrones, plus on détermine un w grand, ce w sera appliqué a e_out. si x arrive après y_true : poids négatifs, si x arrive avant : poids positifs. \n",
    "Avant apprentissage, e_out va spiker n'importe comment, après l'apprentissage, il va spiker que pour la detection de PG. \n",
    "Commencer par e_out = 1 pour detection de 1 PG au milieu des autres qui représenteront le bruit. Determiner un seuil ni trop grand, ni trop petit pour que ça soit ok (peut etre se référer au seuil de detection si les poids sont du meme ordre de grandeur que syn.w)\n",
    "Avec n run = n epoch on devrait apprendre. \n",
    "Tout ça se fait en numpy.\n",
    "\n",
    "Ensuite, on apprendrait les délais necessaires pour synchroniser les neurones de ce groupe. En récupérant les poids on pourrait connaitre les neurones impliqués dans un groupe et en récupérant les délais necessaire à la synchronisation, on pourrait connaitre la séquence temporelle qu'ils constituent.\n"
   ]
  },
  {
   "cell_type": "markdown",
   "id": "3c98473f-c945-432e-a6ff-a4e92e129900",
   "metadata": {},
   "source": [
    "## STDP for weight learning"
   ]
  },
  {
   "cell_type": "code",
   "execution_count": 7,
   "id": "11879c1a-c70c-46bd-a386-e6913f08731e",
   "metadata": {
    "tags": []
   },
   "outputs": [],
   "source": [
    "def synchro_detector_terminator(e_true, e_in):\n",
    "    \n",
    "    # --- STDP théorique ---------------------------------------------------------------------------------------------------------------------------------------------------------------\n",
    "    \n",
    "    tau_pre = tau_post = 100*ms\n",
    "    A_pre = 0.01\n",
    "    A_post = -A_pre*1.05\n",
    "    delta_t = linspace(-10000, 10000, 20000)*msecond\n",
    "\n",
    "    w_stdp = where(delta_t>=0, A_pre*exp(-delta_t/tau_pre), A_post*exp(delta_t/tau_post))\n",
    "    \n",
    "    plt.figure(figsize=(10,4))\n",
    "    plot(delta_t/ms, w_stdp)\n",
    "    xlabel(r'$\\Delta t$ (ms)')\n",
    "    ylabel('W')\n",
    "    axhline(0, ls='-', c='k');\n",
    "    \n",
    "    # --- STDP entre e_in et e_true ----------------------------------------------------------------------------------------------------------------------------------------------------\n",
    "    \n",
    "    e_in.sort(key=lambda y: y[1]) #pour trier de N\n",
    "    e_true.sort(key=lambda y: y[1]) #pour trier de tmin à tmax\n",
    "    \n",
    "    delta_T = []\n",
    "    comparaison = []\n",
    "    delta_T_comp = []\n",
    "    w_per_spike_pair = [] #shape(Nj,Ni)\n",
    "    w_per_spike_pair_with_comp = []\n",
    "    w_per_synapse_mean = {}\n",
    "    \n",
    "    \n",
    "    for i in range(len(e_in)):\n",
    "        for k in range(len(e_true)): \n",
    "            if e_true[k][0].size > 0 : \n",
    "                comparaison.append(tuple((e_in[i][1], e_true[k][1]))) #Nj,Ni\n",
    "                delta_T.append(e_true[k][0]*ms - e_in[i][0]*ms)\n",
    "    \n",
    "    for i in range(len(delta_T)):\n",
    "        delta_T_comp.append(tuple((delta_T[i], comparaison[i])))\n",
    "    \n",
    "    for i in range(len(delta_T)):       \n",
    "        w_per_spike_pair.append((where(delta_T[i]>=0, A_pre*exp(-delta_T[i]/tau_pre), A_post*exp(delta_T[i]/tau_post))))\n",
    "        w_per_spike_pair_with_comp.append(tuple((w_per_spike_pair[i], comparaison[i])))\n",
    "    \n",
    "    w_per_spike_pair_0 = {}\n",
    "    w_per_synapse = {}\n",
    "    w_per_synapse_list = []\n",
    "    \n",
    "    for k in range(Nj):\n",
    "        for c in range(Ni):\n",
    "            w_per_spike_pair_0[k,c] = list()\n",
    "            \n",
    "    for i in range(len(w_per_spike_pair_with_comp)):\n",
    "        for k in range(Nj): \n",
    "            for c in range (Ni): \n",
    "                if w_per_spike_pair_with_comp[i][1]==(k,c):\n",
    "                    w_per_spike_pair_0[k,c].append(w_per_spike_pair_with_comp[i][0])\n",
    "                w_per_synapse[k,c] = mean(w_per_spike_pair_0[k,c])\n",
    "    \n",
    "    for k in range(Nj):\n",
    "        for c in range(Ni):\n",
    "                w_per_synapse_list.append(w_per_synapse[k,c])\n",
    "    \n",
    "    w_per_synapse_list = np.nan_to_num(w_per_synapse_list, -.1*10e-50)\n",
    "    \n",
    "    plt.figure(figsize=(10,4))\n",
    "    plt.scatter(delta_T/ms, w_per_spike_pair)\n",
    "    xlabel(r'$\\Delta t$ (ms)')\n",
    "    ylabel('W')\n",
    "    axhline(0, ls='-', c='k');\n",
    "    print(w_per_synapse_list)\n",
    "    return w_per_synapse_list\n"
   ]
  },
  {
   "cell_type": "code",
   "execution_count": 13,
   "id": "fb37bbf9-956d-4f8d-9ce0-03ba194137f2",
   "metadata": {
    "collapsed": true,
    "jupyter": {
     "outputs_hidden": true
    },
    "tags": []
   },
   "outputs": [
    {
     "name": "stderr",
     "output_type": "stream",
     "text": [
      "WARNING    C:\\Users\\camil\\anaconda3\\lib\\site-packages\\numpy\\core\\fromnumeric.py:3419: RuntimeWarning: Mean of empty slice.\n",
      "  return _methods._mean(a, axis=axis, dtype=dtype,\n",
      " [py.warnings]\n",
      "WARNING    C:\\Users\\camil\\anaconda3\\lib\\site-packages\\numpy\\core\\_methods.py:188: RuntimeWarning: invalid value encountered in double_scalars\n",
      "  ret = ret.dtype.type(ret / rcount)\n",
      " [py.warnings]\n"
     ]
    },
    {
     "name": "stdout",
     "output_type": "stream",
     "text": [
      "[ 7.89387225e-04 -2.51756362e-06  9.16623444e-05  4.03125188e-04\n",
      "  1.16095235e-04  3.98383904e-04  1.78146991e-04  3.23332982e-04\n",
      " -1.60704005e-04  0.00000000e+00  0.00000000e+00  0.00000000e+00\n",
      "  1.96815268e-04  1.84875255e-04  1.53656598e-03  0.00000000e+00\n",
      "  0.00000000e+00  0.00000000e+00 -5.13286295e-05  5.41083461e-04\n",
      "  3.36592478e-04  2.05423668e-06  4.47534235e-04 -1.56132406e-05\n",
      " -2.06723725e-06  4.25263209e-04 -2.78413246e-05  2.71582175e-04\n",
      "  1.91353031e-04  1.00676794e-04]\n"
     ]
    },
    {
     "data": {
      "image/png": "[encoded data removed]",
      "text/plain": [
       "<Figure size 720x288 with 1 Axes>"
      ]
     },
     "metadata": {
      "needs_background": "light"
     },
     "output_type": "display_data"
    },
    {
     "data": {
      "image/png": "[encoded data removed]",
      "text/plain": [
       "<Figure size 720x288 with 1 Axes>"
      ]
     },
     "metadata": {
      "needs_background": "light"
     },
     "output_type": "display_data"
    }
   ],
   "source": [
    "w_per_synapse_list = synchro_detector_terminator(e_true, e_in)"
   ]
  },
  {
   "cell_type": "code",
   "execution_count": 72,
   "id": "54836ed2-a524-4696-9f4e-7a5539fcc599",
   "metadata": {
    "tags": []
   },
   "outputs": [],
   "source": [
    "def neural_network(e_in, w_per_synapse_list):\n",
    "    start_scope()\n",
    "    \n",
    "    PGs_learning = {}\n",
    "    ind_in = []\n",
    "    temps_in = []\n",
    "    thresh = 0.02*volt # /!\\\n",
    "\n",
    "    # --- generation du NN -------------------------------------------------------------------------------------------\n",
    "    e_in_safe = [] \n",
    "    for i in e_in:\n",
    "        if i not in e_in_safe:\n",
    "            e_in_safe.append(i)\n",
    "        \n",
    "    for i in range(len(e_in_safe)): \n",
    "        temps_in.append((e_in_safe[i][0])*ms)\n",
    "        ind_in.append(e_in_safe[i][1])\n",
    "        \n",
    "    d = SpikeGeneratorGroup(Nj, ind_in, temps_in)\n",
    "    d_spike = SpikeMonitor(d)\n",
    "\n",
    "    e = NeuronGroup(Ni, ''' dv/dt = -v/tau : volt\n",
    "                    tau : second''',\n",
    "                    threshold= 'v > 0.025*volt',\n",
    "                    reset= 'v = 0*volt',\n",
    "                    method = 'exact')\n",
    "    e.v = 0*volt\n",
    "    e.tau = 0.001*second\n",
    "    e_spike = SpikeMonitor(e)\n",
    " \n",
    "    naps = Synapses(d, e, on_pre = '''v_post += 0.01*w*volt''', model = '''w:1''')\n",
    "\n",
    "    naps.connect(p=1)\n",
    "    \n",
    "    naps.w[:,:] = w_per_synapse_list\n",
    "    \n",
    "    #for i in range(Ni):\n",
    "      #  if max(naps.w[:,i])*0.01*volt < thresh : \n",
    "       #     for j in range(Nj):\n",
    "        #       if naps.w[j,i]==max(naps.w[:,i]): #np.argmax\n",
    "        #          naps.w[j,i] = max(naps.w[:,i])*2  #max(w) trop faible pour un PG, donc je fais ça pour compenser mais pas une bonne idée.. \n",
    "                           \n",
    "    run(duration)\n",
    "    \n",
    "    PGs_learning = (e_spike.t, e_spike.i)\n",
    "    e_out = []\n",
    "    \n",
    "    for i in range(len(PGs_learning[0])):\n",
    "        e_out.append(tuple((round(PGs_learning[0][i]*1000/second), PGs_learning[1][i])))\n",
    "        \n",
    "    return e_out, naps, e_spike"
   ]
  },
  {
   "cell_type": "code",
   "execution_count": 73,
   "id": "8401d80f-ea1a-4c43-9acf-007897b2f2d9",
   "metadata": {},
   "outputs": [
    {
     "ename": "NameError",
     "evalue": "name 'delta_e_in' is not defined",
     "output_type": "error",
     "traceback": [
      "\u001b[1;31m---------------------------------------------------------------------------\u001b[0m",
      "\u001b[1;31mNameError\u001b[0m                                 Traceback (most recent call last)",
      "\u001b[1;32m~\\AppData\\Local\\Temp/ipykernel_23300/3466205507.py\u001b[0m in \u001b[0;36m<module>\u001b[1;34m\u001b[0m\n\u001b[0;32m      1\u001b[0m \u001b[0mstart_scope\u001b[0m\u001b[1;33m(\u001b[0m\u001b[1;33m)\u001b[0m\u001b[1;33m\u001b[0m\u001b[1;33m\u001b[0m\u001b[0m\n\u001b[1;32m----> 2\u001b[1;33m \u001b[0me_out\u001b[0m\u001b[1;33m,\u001b[0m \u001b[0mnaps\u001b[0m\u001b[1;33m,\u001b[0m \u001b[0me_spike\u001b[0m \u001b[1;33m=\u001b[0m \u001b[0mneural_network\u001b[0m\u001b[1;33m(\u001b[0m\u001b[0mdelta_e_in\u001b[0m\u001b[1;33m[\u001b[0m\u001b[1;36m0\u001b[0m\u001b[1;33m]\u001b[0m\u001b[1;33m,\u001b[0m \u001b[0mdelta_w_mean\u001b[0m\u001b[1;33m)\u001b[0m\u001b[1;33m\u001b[0m\u001b[1;33m\u001b[0m\u001b[0m\n\u001b[0m",
      "\u001b[1;31mNameError\u001b[0m: name 'delta_e_in' is not defined"
     ]
    }
   ],
   "source": [
    "start_scope()\n",
    "e_out, naps, e_spike = neural_network(delta_e_in[0], delta_w_mean)"
   ]
  },
  {
   "cell_type": "code",
   "execution_count": 84,
   "id": "0c6f3ec9-adc3-423a-99a5-df00c1a82d4e",
   "metadata": {
    "collapsed": true,
    "jupyter": {
     "outputs_hidden": true
    },
    "tags": []
   },
   "outputs": [
    {
     "ename": "IndexError",
     "evalue": "index 50 is out of bounds for axis 0 with size 50",
     "output_type": "error",
     "traceback": [
      "\u001b[1;31m---------------------------------------------------------------------------\u001b[0m",
      "\u001b[1;31mIndexError\u001b[0m                                Traceback (most recent call last)",
      "\u001b[1;32m~\\AppData\\Local\\Temp/ipykernel_140896/2407490214.py\u001b[0m in \u001b[0;36m<module>\u001b[1;34m\u001b[0m\n\u001b[1;32m----> 1\u001b[1;33m \u001b[0mplot_generator\u001b[0m\u001b[1;33m(\u001b[0m\u001b[0mPGs_pattern\u001b[0m\u001b[1;33m)\u001b[0m\u001b[1;33m\u001b[0m\u001b[1;33m\u001b[0m\u001b[0m\n\u001b[0m\u001b[0;32m      2\u001b[0m \u001b[0mtitle\u001b[0m\u001b[1;33m(\u001b[0m\u001b[1;34m'e_in'\u001b[0m\u001b[1;33m)\u001b[0m\u001b[1;33m\u001b[0m\u001b[1;33m\u001b[0m\u001b[0m\n",
      "\u001b[1;32m~\\AppData\\Local\\Temp/ipykernel_140896/853326887.py\u001b[0m in \u001b[0;36mplot_generator\u001b[1;34m(lolo)\u001b[0m\n\u001b[0;32m     81\u001b[0m     \u001b[0mplt\u001b[0m\u001b[1;33m.\u001b[0m\u001b[0mfigure\u001b[0m\u001b[1;33m(\u001b[0m\u001b[0mfigsize\u001b[0m\u001b[1;33m=\u001b[0m\u001b[1;33m(\u001b[0m\u001b[1;36m10\u001b[0m\u001b[1;33m,\u001b[0m\u001b[1;36m5\u001b[0m\u001b[1;33m)\u001b[0m\u001b[1;33m)\u001b[0m\u001b[1;33m\u001b[0m\u001b[1;33m\u001b[0m\u001b[0m\n\u001b[0;32m     82\u001b[0m     \u001b[1;32mfor\u001b[0m \u001b[0mi\u001b[0m \u001b[1;32min\u001b[0m \u001b[0mrange\u001b[0m\u001b[1;33m(\u001b[0m\u001b[0mn_pattern\u001b[0m\u001b[1;33m)\u001b[0m \u001b[1;33m:\u001b[0m\u001b[1;33m\u001b[0m\u001b[1;33m\u001b[0m\u001b[0m\n\u001b[1;32m---> 83\u001b[1;33m         \u001b[0mplt\u001b[0m\u001b[1;33m.\u001b[0m\u001b[0mscatter\u001b[0m\u001b[1;33m(\u001b[0m\u001b[0mlolo\u001b[0m\u001b[1;33m[\u001b[0m\u001b[0mi\u001b[0m\u001b[1;33m]\u001b[0m\u001b[1;33m[\u001b[0m\u001b[1;36m0\u001b[0m\u001b[1;33m]\u001b[0m\u001b[1;33m,\u001b[0m \u001b[0mlolo\u001b[0m\u001b[1;33m[\u001b[0m\u001b[0mi\u001b[0m\u001b[1;33m]\u001b[0m\u001b[1;33m[\u001b[0m\u001b[1;36m1\u001b[0m\u001b[1;33m]\u001b[0m\u001b[1;33m,\u001b[0m \u001b[0mcolor\u001b[0m \u001b[1;33m=\u001b[0m \u001b[0mcolor_dict\u001b[0m\u001b[1;33m[\u001b[0m\u001b[0mi_indices\u001b[0m\u001b[1;33m[\u001b[0m\u001b[0mi\u001b[0m\u001b[1;33m]\u001b[0m\u001b[1;33m]\u001b[0m\u001b[1;33m,\u001b[0m \u001b[0mmarker\u001b[0m \u001b[1;33m=\u001b[0m \u001b[1;34m\"|\"\u001b[0m\u001b[1;33m)\u001b[0m\u001b[1;33m\u001b[0m\u001b[1;33m\u001b[0m\u001b[0m\n\u001b[0m\u001b[0;32m     84\u001b[0m \u001b[1;33m\u001b[0m\u001b[0m\n\u001b[0;32m     85\u001b[0m     \u001b[1;31m# --- des connections ----------------------------------------------------------------------------------------------------\u001b[0m\u001b[1;33m\u001b[0m\u001b[1;33m\u001b[0m\u001b[0m\n",
      "\u001b[1;31mIndexError\u001b[0m: index 50 is out of bounds for axis 0 with size 50"
     ]
    },
    {
     "data": {
      "image/png": "[encoded data removed]",
      "text/plain": [
       "<Figure size 720x360 with 1 Axes>"
      ]
     },
     "metadata": {
      "needs_background": "light"
     },
     "output_type": "display_data"
    }
   ],
   "source": [
    "plot_generator(PGs_pattern)\n",
    "title('e_in')"
   ]
  },
  {
   "cell_type": "code",
   "execution_count": 97,
   "id": "caf39bc6-f46b-4f56-b1a7-b116f064c099",
   "metadata": {
    "collapsed": true,
    "jupyter": {
     "outputs_hidden": true
    },
    "tags": []
   },
   "outputs": [
    {
     "data": {
      "text/plain": [
       "Text(0.5, 1.0, 'e_out')"
      ]
     },
     "execution_count": 97,
     "metadata": {},
     "output_type": "execute_result"
    },
    {
     "data": {
      "image/png": "[encoded data removed]",
      "text/plain": [
       "<Figure size 720x288 with 1 Axes>"
      ]
     },
     "metadata": {
      "needs_background": "light"
     },
     "output_type": "display_data"
    }
   ],
   "source": [
    "plt.figure(figsize = (10,4))\n",
    "plt.scatter(e_spike.t, e_spike.i, marker = '|')\n",
    "xlabel('Time (s)')\n",
    "ylabel('PGs')\n",
    "title('e_out')\n",
    "\n",
    "#c'est ok pour PGs 0 et 2, STDP apprend un poid élever pour la synaspe du dernier Nj a spiker et un faible poid pour les autres\n",
    "# par contre pour PGs1, la STDP sort un poid max de 2, trop faible. Comment faire pour potentialiser le poid maximum de naps.w[:,2] ? \n",
    "# j'ai fais un truc mais je pense pas que ce soit une bonne idée, too much spike ENFAIT SI CA MARCHE C TROP BI1 "
   ]
  },
  {
   "cell_type": "code",
   "execution_count": 101,
   "id": "a9834c18-ae93-4166-af4d-b5ed1f57e941",
   "metadata": {
    "collapsed": true,
    "jupyter": {
     "outputs_hidden": true
    },
    "tags": []
   },
   "outputs": [
    {
     "data": {
      "text/plain": [
       "Text(0.5, 1.0, 'e_true')"
      ]
     },
     "execution_count": 101,
     "metadata": {},
     "output_type": "execute_result"
    },
    {
     "data": {
      "image/png": "[encoded data removed]",
      "text/plain": [
       "<Figure size 720x288 with 1 Axes>"
      ]
     },
     "metadata": {
      "needs_background": "light"
     },
     "output_type": "display_data"
    }
   ],
   "source": [
    "plt.figure(figsize=(10,4))\n",
    "for i in range(len(delta_e_true[0])) :\n",
    "    plt.scatter(delta_e_true[0][i][0], delta_e_true[0][i][1], marker = \"|\")\n",
    "xlabel('Time (s)')\n",
    "ylabel('PGs')\n",
    "title('e_true')"
   ]
  },
  {
   "cell_type": "code",
   "execution_count": 21,
   "id": "63adf06f-d49c-43cb-b8be-ef5cd53416ed",
   "metadata": {
    "collapsed": true,
    "jupyter": {
     "outputs_hidden": true
    },
    "tags": []
   },
   "outputs": [
    {
     "name": "stderr",
     "output_type": "stream",
     "text": [
      "WARNING    C:\\Users\\camil\\anaconda3\\lib\\site-packages\\matplotlib\\collections.py:1003: RuntimeWarning: invalid value encountered in sqrt\n",
      "  scale = np.sqrt(self._sizes) * dpi / 72.0 * self._factor\n",
      " [py.warnings]\n"
     ]
    },
    {
     "data": {
      "text/plain": [
       "Text(0.5, 1.0, 'delay PGs')"
      ]
     },
     "execution_count": 21,
     "metadata": {},
     "output_type": "execute_result"
    },
    {
     "data": {
      "image/png": "[encoded data removed]",
      "text/plain": [
       "<Figure size 720x288 with 2 Axes>"
      ]
     },
     "metadata": {
      "needs_background": "light"
     },
     "output_type": "display_data"
    }
   ],
   "source": [
    "plt.figure(figsize = (10,4))\n",
    "subplot(121)\n",
    "\n",
    "scatter(naps.i, naps.j, w_per_synapse_list*10e4)\n",
    "xlabel('Source neuron index')\n",
    "ylabel('Target neuron index')\n",
    "title('w neural_network')\n",
    "\n",
    "subplot(122)\n",
    "scatter(s.j, s.i, s.delay*500 )\n",
    "xlabel('Source neuron index')\n",
    "ylabel('Target neuron index')\n",
    "title('delay PGs')\n",
    "\n",
    "# la STDP donne un poid élevé aux derniers spikes composant un PGs"
   ]
  },
  {
   "cell_type": "code",
   "execution_count": 103,
   "id": "73ca7c8e-32f3-4450-9239-3130c15d4fba",
   "metadata": {
    "tags": []
   },
   "outputs": [],
   "source": [
    "def learn_weight (Ni, n_pattern, duration, nn_j, i_syn):\n",
    "    \n",
    "    N_epoch = 5\n",
    "    \n",
    "    delta_e_in = []\n",
    "    delta_e_true = []\n",
    "    delta_w = []\n",
    "    delta_e_out = []\n",
    "    naps_w = []\n",
    "    \n",
    "    \n",
    "    for N in range(N_epoch): \n",
    "        \n",
    "        i_indices = np.random.randint(0, Ni, size = n_pattern) # nombre de PG observé (n_pattern), de Ni sortes différentes\n",
    "        i_temps = np.random.uniform(0, duration, size = n_pattern)*second # temps d'occurence des n_pattern PG \n",
    "        \n",
    "        s, syn, PGs_id_tps, PGs_pattern, detection, e_in, e_true = generator_terminator(nn_j, i_syn, i_indices, i_temps)\n",
    "        delta_e_in.append(e_in) \n",
    "        delta_e_true.append(e_true)\n",
    "        \n",
    "        w_per_synapse_list = synchro_detector_terminator(e_true, e_in)\n",
    "        delta_w.append(w_per_synapse_list)\n",
    "        \n",
    "        e_out, naps, e_spike = neural_network(e_in, w_per_synapse_list*10000)\n",
    "        naps_w.append(naps.w)\n",
    "        delta_e_out.append(e_out)\n",
    "        \n",
    "    delta_w_mean = [(sum(sub_list) / len(sub_list))*10000 for sub_list in zip(*delta_w)]\n",
    "    e_out_end, naps_end, e_spike_end = neural_network(e_in, delta_w_mean)\n",
    "        \n",
    "    return delta_e_out, delta_e_true, delta_e_in, delta_w, naps_w, e_out_end, naps_end, e_spike_end, delta_w_mean"
   ]
  },
  {
   "cell_type": "code",
   "execution_count": null,
   "id": "463886c2-34c3-47bd-92e8-eea45faed59c",
   "metadata": {},
   "outputs": [],
   "source": [
    "delta_e_out, delta_e_true, delta_e_in, delta_w, naps_w, e_out_end, naps_end, e_spike_end, delta_w_mean = learn_weight (Ni, n_pattern, duration, nn_j, i_syn)"
   ]
  },
  {
   "cell_type": "markdown",
   "id": "ec84009a-6ae8-4b73-abf7-cdeceba6f05a",
   "metadata": {},
   "source": [
    "## 2nd test"
   ]
  },
  {
   "cell_type": "code",
   "execution_count": 5,
   "id": "83cb86d7-1007-4f45-9de0-0d05f70d4141",
   "metadata": {},
   "outputs": [],
   "source": [
    "def neural_network_2(e_in,w_per_synapse_list):\n",
    "    start_scope()\n",
    "    \n",
    "    PGs_learning = {}\n",
    "    ind_in = []\n",
    "    temps_in = []\n",
    " \n",
    "    thresh = 0.02*volt # /!\\\n",
    "\n",
    "    # --- generation du NN -------------------------------------------------------------------------------------------\n",
    "    e_in_safe = [] \n",
    "    for i in e_in:\n",
    "        if i not in e_in_safe:\n",
    "            e_in_safe.append(i)\n",
    "        \n",
    "    for i in range(len(e_in_safe)): \n",
    "        temps_in.append((e_in_safe[i][0])*ms)\n",
    "        ind_in.append(e_in_safe[i][1])\n",
    "\n",
    "    d = SpikeGeneratorGroup(Nj, ind_in, temps_in)\n",
    "    d_spike = SpikeMonitor(d)\n",
    "\n",
    "    e = NeuronGroup(Ni, ''' dv/dt = -v/tau : volt\n",
    "                    tau : second''',\n",
    "                    threshold= 'v > 0.04*volt',\n",
    "                    reset= 'v = 0*volt',\n",
    "                    method = 'exact')\n",
    "    e.v = 0*volt\n",
    "    e.tau = 0.001*second\n",
    "    e_spike = SpikeMonitor(e)\n",
    "    \n",
    "    naps = Synapses(d, e, on_pre = '''v_post += 0.01*w*volt''', model = '''w:1''')\n",
    "\n",
    "    naps.connect(p=1)\n",
    " \n",
    "    naps.w[:,:] = w_per_synapse_list\n",
    "   \n",
    "    run(duration)\n",
    "    \n",
    "    PGs_learning = (e_spike.t, e_spike.i)\n",
    "    e_out = []\n",
    "    \n",
    "    for i in range(len(PGs_learning[0])):\n",
    "        e_out.append(tuple((round(PGs_learning[0][i]*1000/second), PGs_learning[1][i])))\n",
    "        \n",
    "        \n",
    "    return e_out, naps, e_spike"
   ]
  },
  {
   "cell_type": "code",
   "execution_count": 9,
   "id": "44775560-02e8-438a-a184-e085e39c62a8",
   "metadata": {},
   "outputs": [
    {
     "ename": "NameError",
     "evalue": "name 'w_per_synapse_list' is not defined",
     "output_type": "error",
     "traceback": [
      "\u001b[1;31m---------------------------------------------------------------------------\u001b[0m",
      "\u001b[1;31mNameError\u001b[0m                                 Traceback (most recent call last)",
      "\u001b[1;32m~\\AppData\\Local\\Temp/ipykernel_35248/3366980900.py\u001b[0m in \u001b[0;36m<module>\u001b[1;34m\u001b[0m\n\u001b[1;32m----> 1\u001b[1;33m \u001b[0mw_per_synapse_list\u001b[0m\u001b[1;33m\u001b[0m\u001b[1;33m\u001b[0m\u001b[0m\n\u001b[0m",
      "\u001b[1;31mNameError\u001b[0m: name 'w_per_synapse_list' is not defined"
     ]
    }
   ],
   "source": [
    "w_per_synapse_list"
   ]
  },
  {
   "cell_type": "code",
   "execution_count": 124,
   "id": "22dcd071-3d94-4ba5-93d9-1028d3f24a85",
   "metadata": {},
   "outputs": [
    {
     "data": {
      "text/plain": [
       "{(0, 0): -7.245293782486138e+33,\n",
       " (0, 1): nan,\n",
       " (0, 2): -6.933313802353491e+33,\n",
       " (1, 0): -7.156786712197273e+33,\n",
       " (1, 1): nan,\n",
       " (1, 2): -6.930344635218991e+33,\n",
       " (2, 0): 3.2919098008628077e+35,\n",
       " (2, 1): nan,\n",
       " (2, 2): 1.2138753609451706e+35,\n",
       " (3, 0): -7.124800333383826e+36,\n",
       " (3, 1): nan,\n",
       " (3, 2): -2.8124888912927145e+35,\n",
       " (4, 0): -4.775947944022415e+36,\n",
       " (4, 1): nan,\n",
       " (4, 2): 3.5025727442279e+35,\n",
       " (5, 0): -1.0015629754775848e+37,\n",
       " (5, 1): nan,\n",
       " (5, 2): 2.2799419486997527e+35,\n",
       " (6, 0): -2.692005707175625e+34,\n",
       " (6, 1): nan,\n",
       " (6, 2): -2.6140837434356986e+33,\n",
       " (7, 0): -6.833359770728311e+36,\n",
       " (7, 1): nan,\n",
       " (7, 2): -7.051253507763762e+34,\n",
       " (8, 0): -3.902941496804401e+36,\n",
       " (8, 1): nan,\n",
       " (8, 2): -1.5580548590955208e+35,\n",
       " (9, 0): nan,\n",
       " (9, 1): nan,\n",
       " (9, 2): nan}"
      ]
     },
     "execution_count": 124,
     "metadata": {},
     "output_type": "execute_result"
    }
   ],
   "source": [
    "w_syn_mean"
   ]
  },
  {
   "cell_type": "code",
   "execution_count": 128,
   "id": "cd7c4d4d-1ad9-470f-916b-0c90e7c20436",
   "metadata": {},
   "outputs": [
    {
     "data": {
      "text/plain": [
       "array([0., 0., 0., 0., 0., 0., 0., 0., 0., 0.])"
      ]
     },
     "execution_count": 128,
     "metadata": {},
     "output_type": "execute_result"
    }
   ],
   "source": [
    "naps.w[:,1]"
   ]
  },
  {
   "cell_type": "code",
   "execution_count": 131,
   "id": "9ddc78b0-7b6f-42fc-b52e-b8c1eab0654a",
   "metadata": {},
   "outputs": [],
   "source": [
    "e_out, naps, e_spike = neural_network_2(delta_e_in[0],delta_e_true[0],delta_w[0])"
   ]
  },
  {
   "cell_type": "code",
   "execution_count": 126,
   "id": "a05dd930-54fe-4a1c-8613-5c101d4f4324",
   "metadata": {},
   "outputs": [
    {
     "data": {
      "text/plain": [
       "<matplotlib.collections.PathCollection at 0x164424c80d0>"
      ]
     },
     "execution_count": 126,
     "metadata": {},
     "output_type": "execute_result"
    },
    {
     "data": {
      "image/png": "[encoded data removed]",
      "text/plain": [
       "<Figure size 720x288 with 1 Axes>"
      ]
     },
     "metadata": {
      "needs_background": "light"
     },
     "output_type": "display_data"
    }
   ],
   "source": [
    "plt.figure(figsize=(10,4))\n",
    "plt.scatter(e_spike.t, e_spike.i, marker = '|')"
   ]
  },
  {
   "cell_type": "code",
   "execution_count": 130,
   "id": "27311445-6dcb-4629-b6f0-83f1aeb380be",
   "metadata": {},
   "outputs": [
    {
     "data": {
      "image/png": "[encoded data removed]",
      "text/plain": [
       "<Figure size 720x288 with 1 Axes>"
      ]
     },
     "metadata": {
      "needs_background": "light"
     },
     "output_type": "display_data"
    }
   ],
   "source": [
    "plt.figure(figsize=(10,4))\n",
    "for i in range(len(delta_e_true[0])):\n",
    "    plt.scatter(delta_e_true[0][i][0], delta_e_true[0][i][1], marker = '|')"
   ]
  },
  {
   "cell_type": "code",
   "execution_count": 54,
   "id": "18e5f1e1-8465-47ed-b5cb-b1bc0f39bfda",
   "metadata": {},
   "outputs": [],
   "source": [
    "len_e_true = {}\n",
    "len_e_out = {}\n",
    "w_homéo = {}\n",
    "for i in range(Ni):\n",
    "    len_e_true[i] = []\n",
    "    len_e_out[i] = []\n",
    "    w_homéo[i] = []\n",
    "    for k in e_true :\n",
    "        if k[1]==i : \n",
    "            len_e_true[i].append(k[1])\n",
    "    for k in e_out[0]:\n",
    "        if k[1]==i : \n",
    "            len_e_out[i].append(k[1])\n",
    "    if len(len_e_true[i])>len(len_e_out[i]) :\n",
    "        w_homéo[i] = 10\n",
    "    if len(len_e_true[i])<len(len_e_out[i]) :\n",
    "        w_homéo[i] = -10\n",
    "    if len(len_e_true[i])==len(len_e_out[i]) :\n",
    "        w_homéo[i] = 0\n",
    "    "
   ]
  },
  {
   "cell_type": "code",
   "execution_count": 65,
   "id": "e266265d-abe2-4ae5-94ac-ec4e8a368fa8",
   "metadata": {},
   "outputs": [
    {
     "ename": "NameError",
     "evalue": "name 'w_syn_mean' is not defined",
     "output_type": "error",
     "traceback": [
      "\u001b[1;31m---------------------------------------------------------------------------\u001b[0m",
      "\u001b[1;31mNameError\u001b[0m                                 Traceback (most recent call last)",
      "\u001b[1;32m~\\AppData\\Local\\Temp/ipykernel_35248/1831664640.py\u001b[0m in \u001b[0;36m<module>\u001b[1;34m\u001b[0m\n\u001b[1;32m----> 1\u001b[1;33m \u001b[0mw_syn_mean\u001b[0m\u001b[1;33m\u001b[0m\u001b[1;33m\u001b[0m\u001b[0m\n\u001b[0m",
      "\u001b[1;31mNameError\u001b[0m: name 'w_syn_mean' is not defined"
     ]
    }
   ],
   "source": [
    "w_syn_mean"
   ]
  },
  {
   "cell_type": "code",
   "execution_count": 11,
   "id": "df49b7ac-3c3f-45fa-b324-f98a8c4c7fbc",
   "metadata": {},
   "outputs": [],
   "source": [
    "def STDP_with_r(e_in, e_out, e_true, N_epoch):\n",
    "    \n",
    "    e_true_safe= [ele for ele in e_true if ele != []]\n",
    "    \n",
    "    tau_pre = tau_post = 100*ms\n",
    "    A_pre = 1\n",
    "    A_post = -A_pre*1.05\n",
    "    \n",
    "# === règle homeostatique =====================================================================================================================\n",
    "\n",
    "    len_e_true = {}\n",
    "    len_e_out = {}\n",
    "    w_homéo = {}\n",
    "    \n",
    "    for i in range(Ni):\n",
    "        len_e_true[i] = []\n",
    "        len_e_out[i] = []\n",
    "        w_homéo[i] = []\n",
    "        for k in e_true_safe :\n",
    "            if k[1]==i : \n",
    "                len_e_true[i].append(k[1])\n",
    "        for k in e_out:\n",
    "            if k[1]==i : \n",
    "                len_e_out[i].append(k[1])\n",
    "        if len(len_e_true[i])>len(len_e_out[i]) :\n",
    "            w_homéo[i] = 10\n",
    "        if len(len_e_true[i])<len(len_e_out[i]) :\n",
    "            w_homéo[i] = -10\n",
    "        if len(len_e_true[i])==len(len_e_out[i]) :\n",
    "            w_homéo[i] = 0\n",
    "            \n",
    "# === STDP entre e_in et e_out =================================================================================================================\n",
    "    \n",
    "    # --- delta_T entre chaque paire de spike -------------------------------------------------------------------------------------------------\n",
    "    \n",
    "    delta_T_STDP = []\n",
    "    comparaison_STDP = []\n",
    "    \n",
    "    for k in range(len(e_out)):\n",
    "        for i in range(len(e_in)):\n",
    "            delta_T_STDP.append(e_out[k][0]*ms - e_in[i][0]*ms) #on prend le premier spike de e_out et on le compare avec tous les spikes de e_in (Ni,Nj)\n",
    "            comparaison_STDP.append(tuple((e_out[k][1], e_in[i][1]))) \n",
    "    \n",
    "    # --- def des w_STDP à partir des delta_T e_in/e_out ----------------------------------------------------------------------------------------------------\n",
    "    \n",
    "    w_STDP = []        \n",
    "    for i in range(len(delta_T_STDP)):         \n",
    "        w_STDP.append(where(delta_T_STDP[i]>0, A_pre*exp(-delta_T_STDP[i]/tau_pre), A_post*exp(delta_T_STDP[i]/tau_post))) #on définit des w pour tous les delta_T, ils sont rangés dans l'ordre e_out_1, e_in_all, e_out_2, e_in_all\n",
    "    \n",
    "    # --- visu w_STDP -----------------------------------------------------------------------------------------------------------------------------------\n",
    "   \n",
    "    if N_epoch == 0 : \n",
    "        plt.figure(figsize=(10,4))\n",
    "        plt.scatter(delta_T_STDP/ms, w_STDP)\n",
    "        xlabel(r'$\\Delta t$ (ms)')\n",
    "        ylabel('W')\n",
    "        axhline(0, ls='-', c='k')\n",
    "        title (' w_STDP ')\n",
    "    \n",
    "# === Def de la variable R e_out/e_true =================================================================================================================\n",
    "    \n",
    "    # --- delta_T entre paire de spike du même indice -------------------------------------------------------------------------------------------\n",
    "    \n",
    "    delta_T_r = {}\n",
    "    delta_T_rr = []\n",
    "    for k in range(len(e_out)) :\n",
    "        delta_T_r[k] = []\n",
    "        for i in e_true_safe : \n",
    "            if i[1] == e_out[k][1] :\n",
    "                delta_T_r[k].append(i[0]-e_out[k][0]*ms)\n",
    "                delta_T_rr.append(i[0]-e_out[k][0]*ms)\n",
    "\n",
    "    # --- def de R à partir des delta_T e_out/e_true ----------------------------------------------------------------------------------------------------------\n",
    "    \n",
    "    w_r = {}\n",
    "    w_rr = []\n",
    "    for i in range(len(delta_T_r)) : \n",
    "        w_r[i] = []\n",
    "        for k in range(len(delta_T_r[i])) : \n",
    "            w_r[i].append(where(delta_T_r[i][k]>0, delta_T_r[i][k]*exp(-(abs(delta_T_r[i][k])/tau_pre)), delta_T_r[i][k]*exp(-(abs(delta_T_r[i][k])/tau_post)))/second)\n",
    "            w_rr.append(where(delta_T_r[i][k]>0, delta_T_r[i][k]*exp(-(abs(delta_T_r[i][k])/tau_pre)), delta_T_r[i][k]*exp(-(abs(delta_T_r[i][k])/tau_post)))/second)\n",
    "        w_r[i] = mean(w_r[i])   \n",
    "    \n",
    "    # --- visu r ----------------------------------------------------------------------------------------------------------------------------------------------------\n",
    "    \n",
    "    if N_epoch == 0 : \n",
    "        plt.figure(figsize=(10,4))\n",
    "        plt.scatter(delta_T_rr/ms, w_rr)\n",
    "        xlabel(r'$\\Delta t$ (ms)')\n",
    "        ylabel('W')\n",
    "        axhline(0, ls='-', c='k')\n",
    "        title ('variable R')\n",
    "    \n",
    "    \n",
    "# === Def des delta_w de chaque synapse par w_homéo*R*w_STDP =================================================================================================================\n",
    "    \n",
    "    w_STDP_r = {}\n",
    "    for i in range(len(e_out)):\n",
    "        w_STDP_r[i] = []\n",
    "        for k in range(i*len(e_in),(i+1)*len(e_in)) : \n",
    "            w_STDP_r[i].append(tuple((w_STDP[k]*w_r[i], comparaison_STDP[k])))\n",
    "    \n",
    "    w_syn = {}  \n",
    "    w_syn_mean = {}\n",
    "    w_syn_= {}\n",
    "    for k in range(Nj):\n",
    "        for c in range(Ni):\n",
    "            w_syn[k,c] = []\n",
    "            \n",
    "    for a in range(len(e_out)):        \n",
    "        for i in w_STDP_r[a] :\n",
    "            for k in range(Nj): \n",
    "                for c in range(Ni): \n",
    "                    if i[1]==(c,k):\n",
    "                        w_syn[k,c].append(i[0])\n",
    "                    w_syn_mean[k,c] = sum(w_syn[k,c]) #somme \n",
    "    w_new = {}\n",
    "    print('w_homéo :', w_homéo)\n",
    "    for k in w_homéo : \n",
    "        for i in w_syn_mean : \n",
    "            if k==i[1] : \n",
    "                w_new[i[0],k] = w_homéo[k]*w_syn_mean[i]\n",
    "   \n",
    "    w_per_synapse_list = []\n",
    "    for k in range(Nj):\n",
    "        for c in range(Ni):\n",
    "                w_per_synapse_list.append(w_new[k,c]) ## pour changer la grandeur, changer Apre/apost et faire la somme plutot que la \n",
    "                \n",
    "    w_per_synapse_list = np.nan_to_num(w_per_synapse_list, -.1*10e-50)\n",
    "    \n",
    "    return w_per_synapse_list"
   ]
  },
  {
   "cell_type": "code",
   "execution_count": null,
   "id": "9a151a0b-d5d0-4e66-ba9d-c1037ea7252f",
   "metadata": {
    "tags": []
   },
   "outputs": [],
   "source": [
    " w_per_synapse_list, w_syn_mean = STDP_with_r(delta_e_in[0], delta_e_out[0], delta_e_true[0], 0)"
   ]
  },
  {
   "cell_type": "code",
   "execution_count": 102,
   "id": "6d0868be-d922-4107-982b-5b867c6453a0",
   "metadata": {},
   "outputs": [],
   "source": [
    "w_new = {}\n",
    "for k in w_homéo : \n",
    "    for i in w_syn_mean : \n",
    "        if k==i[1] : \n",
    "            w_new[i[0],k] = w_homéo[k]*w_syn_mean[i]"
   ]
  },
  {
   "cell_type": "code",
   "execution_count": 129,
   "id": "8e9d12af-d634-4b0c-92a2-b24ee1161f58",
   "metadata": {},
   "outputs": [
    {
     "data": {
      "text/plain": [
       "array([ 0.22661123,  0.5305934 ,  0.13323947,  0.2050429 ,  0.5086556 ,\n",
       "        0.14796139, -0.        , -0.        , -0.        , -0.02723528,\n",
       "        0.28081543,  0.6205643 , -0.03981844, -0.16356986,  0.21695434,\n",
       "       -0.        , -0.        , -0.        ,  0.1050313 ,  0.512808  ,\n",
       "        0.41387409,  0.24758724,  0.20364759,  0.0849988 , -0.00583897,\n",
       "       -0.00452752,  0.49548396, -0.03924978, -0.05283782,  0.19404176])"
      ]
     },
     "execution_count": 129,
     "metadata": {},
     "output_type": "execute_result"
    }
   ],
   "source": [
    "w_per_synapse_list"
   ]
  },
  {
   "cell_type": "code",
   "execution_count": 107,
   "id": "62c47e65-bc86-4e7d-b08c-24eda743935a",
   "metadata": {},
   "outputs": [
    {
     "data": {
      "text/plain": [
       "{(0, 0): 0.2266112333620271,\n",
       " (1, 0): 0.20504290220818813,\n",
       " (2, 0): -0.0,\n",
       " (3, 0): -0.027235283725541348,\n",
       " (4, 0): -0.03981843991621773,\n",
       " (5, 0): -0.0,\n",
       " (6, 0): 0.10503130204188973,\n",
       " (7, 0): 0.24758724314600183,\n",
       " (8, 0): -0.0058389650019749426,\n",
       " (9, 0): -0.039249783374852645,\n",
       " (0, 1): 0.5305934048054755,\n",
       " (1, 1): 0.5086555994039649,\n",
       " (2, 1): -0.0,\n",
       " (3, 1): 0.28081542922193004,\n",
       " (4, 1): -0.1635698556492448,\n",
       " (5, 1): -0.0,\n",
       " (6, 1): 0.5128079955625732,\n",
       " (7, 1): 0.20364759046764006,\n",
       " (8, 1): -0.004527516595100372,\n",
       " (9, 1): -0.052837820657156157,\n",
       " (0, 2): 0.13323946543415452,\n",
       " (1, 2): 0.14796138633928788,\n",
       " (2, 2): -0.0,\n",
       " (3, 2): 0.6205643016246907,\n",
       " (4, 2): 0.21695434497986726,\n",
       " (5, 2): -0.0,\n",
       " (6, 2): 0.41387409325702895,\n",
       " (7, 2): 0.08499879919416742,\n",
       " (8, 2): 0.49548395847951665,\n",
       " (9, 2): 0.1940417600570703}"
      ]
     },
     "execution_count": 107,
     "metadata": {},
     "output_type": "execute_result"
    }
   ],
   "source": [
    "w_new"
   ]
  },
  {
   "cell_type": "code",
   "execution_count": 104,
   "id": "38796442-57ca-4aed-a089-826e63e5ac25",
   "metadata": {},
   "outputs": [
    {
     "data": {
      "text/plain": [
       "{(0, 0): -0.02266112333620271,\n",
       " (0, 1): -0.05305934048054754,\n",
       " (0, 2): -0.013323946543415453,\n",
       " (1, 0): -0.020504290220818813,\n",
       " (1, 1): -0.05086555994039649,\n",
       " (1, 2): -0.014796138633928787,\n",
       " (2, 0): 0.0,\n",
       " (2, 1): 0.0,\n",
       " (2, 2): 0.0,\n",
       " (3, 0): 0.002723528372554135,\n",
       " (3, 1): -0.028081542922193004,\n",
       " (3, 2): -0.06205643016246907,\n",
       " (4, 0): 0.003981843991621773,\n",
       " (4, 1): 0.01635698556492448,\n",
       " (4, 2): -0.021695434497986728,\n",
       " (5, 0): 0.0,\n",
       " (5, 1): 0.0,\n",
       " (5, 2): 0.0,\n",
       " (6, 0): -0.010503130204188974,\n",
       " (6, 1): -0.05128079955625731,\n",
       " (6, 2): -0.041387409325702895,\n",
       " (7, 0): -0.024758724314600182,\n",
       " (7, 1): -0.020364759046764006,\n",
       " (7, 2): -0.008499879919416743,\n",
       " (8, 0): 0.0005838965001974943,\n",
       " (8, 1): 0.00045275165951003723,\n",
       " (8, 2): -0.04954839584795166,\n",
       " (9, 0): 0.0039249783374852645,\n",
       " (9, 1): 0.005283782065715616,\n",
       " (9, 2): -0.01940417600570703}"
      ]
     },
     "execution_count": 104,
     "metadata": {},
     "output_type": "execute_result"
    }
   ],
   "source": [
    "w_syn_mean"
   ]
  },
  {
   "cell_type": "code",
   "execution_count": 100,
   "id": "b73981f5-61ef-4b93-9030-9188aba66513",
   "metadata": {},
   "outputs": [
    {
     "name": "stdout",
     "output_type": "stream",
     "text": [
      "k : 0\n",
      "(0, 0)\n",
      "(1, 0)\n",
      "(2, 0)\n",
      "(3, 0)\n",
      "(4, 0)\n",
      "(5, 0)\n",
      "(6, 0)\n",
      "(7, 0)\n",
      "(8, 0)\n",
      "(9, 0)\n",
      "k : 1\n",
      "(0, 1)\n",
      "(1, 1)\n",
      "(2, 1)\n",
      "(3, 1)\n",
      "(4, 1)\n",
      "(5, 1)\n",
      "(6, 1)\n",
      "(7, 1)\n",
      "(8, 1)\n",
      "(9, 1)\n",
      "k : 2\n",
      "(0, 2)\n",
      "(1, 2)\n",
      "(2, 2)\n",
      "(3, 2)\n",
      "(4, 2)\n",
      "(5, 2)\n",
      "(6, 2)\n",
      "(7, 2)\n",
      "(8, 2)\n",
      "(9, 2)\n"
     ]
    }
   ],
   "source": [
    "for k in w_homéo :\n",
    "    print('k :', k)\n",
    "    for i in w_syn_mean : \n",
    "        if k == i[1] : \n",
    "            print(i)"
   ]
  },
  {
   "cell_type": "code",
   "execution_count": 80,
   "id": "8a6fc89b-0647-463d-b54c-1d9cdf6a88de",
   "metadata": {},
   "outputs": [
    {
     "ename": "TypeError",
     "evalue": "unhashable type: 'slice'",
     "output_type": "error",
     "traceback": [
      "\u001b[1;31m---------------------------------------------------------------------------\u001b[0m",
      "\u001b[1;31mTypeError\u001b[0m                                 Traceback (most recent call last)",
      "\u001b[1;32m~\\AppData\\Local\\Temp/ipykernel_35248/2327360772.py\u001b[0m in \u001b[0;36m<module>\u001b[1;34m\u001b[0m\n\u001b[0;32m      1\u001b[0m \u001b[1;32mfor\u001b[0m \u001b[0mi\u001b[0m \u001b[1;32min\u001b[0m \u001b[0mrange\u001b[0m\u001b[1;33m(\u001b[0m\u001b[0mNi\u001b[0m\u001b[1;33m)\u001b[0m\u001b[1;33m:\u001b[0m\u001b[1;33m\u001b[0m\u001b[1;33m\u001b[0m\u001b[0m\n\u001b[1;32m----> 2\u001b[1;33m     \u001b[0mprint\u001b[0m\u001b[1;33m(\u001b[0m\u001b[0mw_syn_mean\u001b[0m\u001b[1;33m[\u001b[0m\u001b[1;33m:\u001b[0m\u001b[1;33m,\u001b[0m\u001b[0mi\u001b[0m\u001b[1;33m]\u001b[0m\u001b[1;33m)\u001b[0m\u001b[1;33m\u001b[0m\u001b[1;33m\u001b[0m\u001b[0m\n\u001b[0m",
      "\u001b[1;31mTypeError\u001b[0m: unhashable type: 'slice'"
     ]
    }
   ],
   "source": [
    "for i in w_homéo:\n",
    "    for k in range(Nj):\n",
    "        w_syn_mean[k,i]*i"
   ]
  },
  {
   "cell_type": "code",
   "execution_count": 15,
   "id": "1177abb6-7da5-4970-a3b1-3e29789457e5",
   "metadata": {},
   "outputs": [],
   "source": [
    "def learn_weight_2 (Ni, n_pattern, duration, nn_j, i_syn):\n",
    "    \n",
    "    N_epoch = 7\n",
    "    \n",
    "    delta_e_in = []\n",
    "    delta_e_true = []\n",
    "    delta_w = []\n",
    "    delta_e_out = []\n",
    "    naps_w = []\n",
    "    \n",
    "    \n",
    "    for N_epoch in range(N_epoch): \n",
    "        \n",
    "        i_indices = np.random.randint(0, Ni, size = n_pattern) # nombre de PG observé (n_pattern), de Ni sortes différentes\n",
    "        i_temps = np.random.uniform(0, duration, size = n_pattern)*second # temps d'occurence des n_pattern PG \n",
    "        \n",
    "        s, syn, PGs_id_tps, PGs_pattern, detection, e_in, e_true = generator_terminator(nn_j, i_syn, i_indices, i_temps)\n",
    "        delta_e_in.append(e_in) \n",
    "        delta_e_true.append(e_true)\n",
    "            \n",
    "        if N_epoch == 0 :\n",
    "            e_out, naps, e_spike = neural_network_2(e_in, np.random.rand(Ni*Nj)*10)\n",
    "            \n",
    "        else : \n",
    "            w_per_synapse_list  = STDP_with_r (delta_e_in[N_epoch-1], delta_e_out[N_epoch-1],delta_e_true[N_epoch-1], N_epoch)\n",
    "            delta_w.append( w_per_synapse_list)\n",
    "            print('w_per_synapse_list',w_per_synapse_list)\n",
    "            e_out, naps, e_spike = neural_network_2(delta_e_in[N_epoch], naps_w[N_epoch-1]*(delta_w[N_epoch-1]))\n",
    "            print('naps', naps.w) \n",
    "        naps_w.append(naps.w)\n",
    "        delta_e_out.append(e_out)\n",
    "         \n",
    "        print(N_epoch)\n",
    "    return delta_e_out, delta_e_true, delta_e_in, delta_w, naps_w"
   ]
  },
  {
   "cell_type": "code",
   "execution_count": 16,
   "id": "94dc2e5e-5139-4e58-a218-53a24a316361",
   "metadata": {},
   "outputs": [
    {
     "name": "stdout",
     "output_type": "stream",
     "text": [
      "0\n",
      "w_homéo : {0: -10, 1: -10, 2: -10}\n",
      "w_per_synapse_list [ 3.30751829e-01  5.20563900e-01  5.93897654e-01  2.80015150e-02\n",
      " -1.85013750e-01  4.42340754e-02 -0.00000000e+00 -0.00000000e+00\n",
      " -0.00000000e+00  3.32108398e-01 -2.53458718e-01  5.50055191e-01\n",
      "  1.26469637e-02  9.31732540e-01 -9.36105440e-02 -0.00000000e+00\n",
      " -0.00000000e+00 -0.00000000e+00 -0.00000000e+00 -0.00000000e+00\n",
      " -0.00000000e+00  4.24442489e-01 -3.00901116e-01  5.99251793e-01\n",
      " -3.87994356e-02  2.49881393e-01  6.67604949e-05 -3.86993220e-02\n",
      " -3.51535992e-01 -1.13855061e-01]\n",
      "naps <synapses_1.w: array([ 1.06301796e+00,  2.89692063e+00,  4.59790352e+00,  4.70732513e-02,\n",
      "       -6.60986245e-01,  1.38262774e-01, -0.00000000e+00, -0.00000000e+00,\n",
      "       -0.00000000e+00,  3.84016605e-01, -7.95172263e-01,  2.48375276e+00,\n",
      "        1.16691488e-02,  6.09054425e+00, -1.37467145e-01, -0.00000000e+00,\n",
      "       -0.00000000e+00, -0.00000000e+00, -0.00000000e+00, -0.00000000e+00,\n",
      "       -0.00000000e+00,  3.52408292e+00, -2.37664448e+00,  3.20611680e-01,\n",
      "       -5.81206202e-02,  2.46520106e+00,  5.08893654e-04, -1.69556752e-01,\n",
      "       -7.75846099e-01, -2.14166686e-01])>\n",
      "1\n",
      "w_homéo : {0: 10, 1: -10, 2: -10}\n",
      "w_per_synapse_list [ 0.         -0.05713094  0.3990846   0.          0.02359147  0.05695959\n",
      "  0.         -0.         -0.          0.         -0.01829559  0.38057698\n",
      "  0.          0.23995891 -0.24696747  0.         -0.         -0.\n",
      "  0.         -0.         -0.          0.         -0.02047728  0.46872269\n",
      "  0.          0.00636476  0.02761636  0.          0.0081801   0.02758415]\n",
      "naps <synapses.w: array([ 0.00000000e+00, -1.65503789e-01,  1.83495251e+00,  0.00000000e+00,\n",
      "       -1.55936353e-02,  7.87539045e-03, -0.00000000e+00,  0.00000000e+00,\n",
      "        0.00000000e+00,  0.00000000e+00,  1.45481472e-02,  9.45259134e-01,\n",
      "        0.00000000e+00,  1.46148036e+00,  3.39499133e-02, -0.00000000e+00,\n",
      "        0.00000000e+00,  0.00000000e+00, -0.00000000e+00,  0.00000000e+00,\n",
      "        0.00000000e+00,  0.00000000e+00,  4.86672200e-02,  1.50277969e-01,\n",
      "       -0.00000000e+00,  1.56904018e-02,  1.40537879e-05, -0.00000000e+00,\n",
      "       -6.34650153e-03, -5.90760591e-03])>\n",
      "2\n",
      "w_homéo : {0: 10, 1: 10, 2: 10}\n"
     ]
    },
    {
     "ename": "KeyError",
     "evalue": "(0, 0)",
     "output_type": "error",
     "traceback": [
      "\u001b[1;31m---------------------------------------------------------------------------\u001b[0m",
      "\u001b[1;31mKeyError\u001b[0m                                  Traceback (most recent call last)",
      "\u001b[1;32m~\\AppData\\Local\\Temp/ipykernel_69868/2911675058.py\u001b[0m in \u001b[0;36m<module>\u001b[1;34m\u001b[0m\n\u001b[1;32m----> 1\u001b[1;33m \u001b[0mdelta_e_out\u001b[0m\u001b[1;33m,\u001b[0m \u001b[0mdelta_e_true\u001b[0m\u001b[1;33m,\u001b[0m \u001b[0mdelta_e_in\u001b[0m\u001b[1;33m,\u001b[0m \u001b[0mdelta_w\u001b[0m\u001b[1;33m,\u001b[0m \u001b[0mnaps_w\u001b[0m \u001b[1;33m=\u001b[0m \u001b[0mlearn_weight_2\u001b[0m \u001b[1;33m(\u001b[0m\u001b[0mNi\u001b[0m\u001b[1;33m,\u001b[0m \u001b[0mn_pattern\u001b[0m\u001b[1;33m,\u001b[0m \u001b[0mduration\u001b[0m\u001b[1;33m,\u001b[0m \u001b[0mnn_j\u001b[0m\u001b[1;33m,\u001b[0m \u001b[0mi_syn\u001b[0m\u001b[1;33m)\u001b[0m\u001b[1;33m\u001b[0m\u001b[1;33m\u001b[0m\u001b[0m\n\u001b[0m",
      "\u001b[1;32m~\\AppData\\Local\\Temp/ipykernel_69868/3185466697.py\u001b[0m in \u001b[0;36mlearn_weight_2\u001b[1;34m(Ni, n_pattern, duration, nn_j, i_syn)\u001b[0m\n\u001b[0;32m     23\u001b[0m \u001b[1;33m\u001b[0m\u001b[0m\n\u001b[0;32m     24\u001b[0m         \u001b[1;32melse\u001b[0m \u001b[1;33m:\u001b[0m\u001b[1;33m\u001b[0m\u001b[1;33m\u001b[0m\u001b[0m\n\u001b[1;32m---> 25\u001b[1;33m             \u001b[0mw_per_synapse_list\u001b[0m  \u001b[1;33m=\u001b[0m \u001b[0mSTDP_with_r\u001b[0m \u001b[1;33m(\u001b[0m\u001b[0mdelta_e_in\u001b[0m\u001b[1;33m[\u001b[0m\u001b[0mN_epoch\u001b[0m\u001b[1;33m-\u001b[0m\u001b[1;36m1\u001b[0m\u001b[1;33m]\u001b[0m\u001b[1;33m,\u001b[0m \u001b[0mdelta_e_out\u001b[0m\u001b[1;33m[\u001b[0m\u001b[0mN_epoch\u001b[0m\u001b[1;33m-\u001b[0m\u001b[1;36m1\u001b[0m\u001b[1;33m]\u001b[0m\u001b[1;33m,\u001b[0m\u001b[0mdelta_e_true\u001b[0m\u001b[1;33m[\u001b[0m\u001b[0mN_epoch\u001b[0m\u001b[1;33m-\u001b[0m\u001b[1;36m1\u001b[0m\u001b[1;33m]\u001b[0m\u001b[1;33m,\u001b[0m \u001b[0mN_epoch\u001b[0m\u001b[1;33m)\u001b[0m\u001b[1;33m\u001b[0m\u001b[1;33m\u001b[0m\u001b[0m\n\u001b[0m\u001b[0;32m     26\u001b[0m             \u001b[0mdelta_w\u001b[0m\u001b[1;33m.\u001b[0m\u001b[0mappend\u001b[0m\u001b[1;33m(\u001b[0m \u001b[0mw_per_synapse_list\u001b[0m\u001b[1;33m)\u001b[0m\u001b[1;33m\u001b[0m\u001b[1;33m\u001b[0m\u001b[0m\n\u001b[0;32m     27\u001b[0m             \u001b[0mprint\u001b[0m\u001b[1;33m(\u001b[0m\u001b[1;34m'w_per_synapse_list'\u001b[0m\u001b[1;33m,\u001b[0m\u001b[0mw_per_synapse_list\u001b[0m\u001b[1;33m)\u001b[0m\u001b[1;33m\u001b[0m\u001b[1;33m\u001b[0m\u001b[0m\n",
      "\u001b[1;32m~\\AppData\\Local\\Temp/ipykernel_69868/4000196195.py\u001b[0m in \u001b[0;36mSTDP_with_r\u001b[1;34m(e_in, e_out, e_true, N_epoch)\u001b[0m\n\u001b[0;32m    124\u001b[0m     \u001b[1;32mfor\u001b[0m \u001b[0mk\u001b[0m \u001b[1;32min\u001b[0m \u001b[0mrange\u001b[0m\u001b[1;33m(\u001b[0m\u001b[0mNj\u001b[0m\u001b[1;33m)\u001b[0m\u001b[1;33m:\u001b[0m\u001b[1;33m\u001b[0m\u001b[1;33m\u001b[0m\u001b[0m\n\u001b[0;32m    125\u001b[0m         \u001b[1;32mfor\u001b[0m \u001b[0mc\u001b[0m \u001b[1;32min\u001b[0m \u001b[0mrange\u001b[0m\u001b[1;33m(\u001b[0m\u001b[0mNi\u001b[0m\u001b[1;33m)\u001b[0m\u001b[1;33m:\u001b[0m\u001b[1;33m\u001b[0m\u001b[1;33m\u001b[0m\u001b[0m\n\u001b[1;32m--> 126\u001b[1;33m                 \u001b[0mw_per_synapse_list\u001b[0m\u001b[1;33m.\u001b[0m\u001b[0mappend\u001b[0m\u001b[1;33m(\u001b[0m\u001b[0mw_new\u001b[0m\u001b[1;33m[\u001b[0m\u001b[0mk\u001b[0m\u001b[1;33m,\u001b[0m\u001b[0mc\u001b[0m\u001b[1;33m]\u001b[0m\u001b[1;33m)\u001b[0m \u001b[1;31m## pour changer la grandeur, changer Apre/apost et faire la somme plutot que la\u001b[0m\u001b[1;33m\u001b[0m\u001b[1;33m\u001b[0m\u001b[0m\n\u001b[0m\u001b[0;32m    127\u001b[0m \u001b[1;33m\u001b[0m\u001b[0m\n\u001b[0;32m    128\u001b[0m     \u001b[0mw_per_synapse_list\u001b[0m \u001b[1;33m=\u001b[0m \u001b[0mnp\u001b[0m\u001b[1;33m.\u001b[0m\u001b[0mnan_to_num\u001b[0m\u001b[1;33m(\u001b[0m\u001b[0mw_per_synapse_list\u001b[0m\u001b[1;33m,\u001b[0m \u001b[1;33m-\u001b[0m\u001b[1;36m.1\u001b[0m\u001b[1;33m*\u001b[0m\u001b[1;36m10e-50\u001b[0m\u001b[1;33m)\u001b[0m\u001b[1;33m\u001b[0m\u001b[1;33m\u001b[0m\u001b[0m\n",
      "\u001b[1;31mKeyError\u001b[0m: (0, 0)"
     ]
    }
   ],
   "source": [
    " delta_e_out, delta_e_true, delta_e_in, delta_w, naps_w = learn_weight_2 (Ni, n_pattern, duration, nn_j, i_syn)"
   ]
  },
  {
   "cell_type": "code",
   "execution_count": 10,
   "id": "4f5542a8-2958-44ac-a354-e7a4c9416f0c",
   "metadata": {},
   "outputs": [
    {
     "data": {
      "text/plain": [
       "[array([ 2.92991126,  1.0455079 ,  4.11423193,  1.27022535, -0.4069006 ,\n",
       "        -1.71811228, -0.        , -0.        , -0.        ,  0.87743142,\n",
       "        -2.6205493 ,  4.67648297,  0.04683975,  6.70340782, -2.47640617,\n",
       "        -0.        , -0.        , -0.        , -0.        , -0.        ,\n",
       "        -0.        , -1.94310552, -0.76333496,  4.1903348 ,  0.49943047,\n",
       "         3.14812603,  0.03986412,  0.36190898,  3.20120355,  0.04773406]),\n",
       " array([ 0.57627744,  8.12102757,  3.78962971,  1.62225397, -1.76126363,\n",
       "        -0.82846397, -0.        , -0.        , -0.        ,  4.42897623,\n",
       "        -1.34166812,  5.06798262, -5.36099878, 14.26173273,  0.29569518,\n",
       "        -0.        , -0.        , -0.        , -0.        , -0.        ,\n",
       "        -0.        ,  0.31247487, -2.80398722,  4.62928124, -1.2242512 ,\n",
       "        11.92930414,  1.95734131,  1.20636196,  4.23900944,  1.98714642]),\n",
       " array([ 5.46650476,  9.54442525,  1.49587614,  0.8154529 ,  0.28530097,\n",
       "         4.64587965, -0.        , -0.        , -0.        ,  7.96203992,\n",
       "        -0.48006132,  9.3807108 , -3.61836805, 10.97009648, -0.16400855,\n",
       "        -0.        , -0.        , -0.        , -0.        , -0.        ,\n",
       "        -0.        ,  2.68622655,  1.1191928 , 11.94430672,  0.15039328,\n",
       "         4.90104587, -0.54529528,  0.49692922, -1.38284564, -0.48232784]),\n",
       " array([ 7.30796049,  9.89526311, 15.21494915,  3.36479459, -0.92533032,\n",
       "         2.51160712, -0.        , -0.        , -0.        ,  5.21996199,\n",
       "        -2.44855793, 10.41832412,  2.90835763, 15.08210293,  7.85543481,\n",
       "        -0.        , -0.        , -0.        , -0.        , -0.        ,\n",
       "        -0.        ,  2.95144236, -4.40940113, 12.87612364,  1.31070624,\n",
       "         8.75217886,  1.79358986,  0.02836285,  3.17048007, -3.27974201]),\n",
       " array([ 8.36555383,  7.11300116, 14.37604625,  3.30326828,  0.6580364 ,\n",
       "        -3.73756579, -0.        , -0.        , -0.        ,  9.01011048,\n",
       "        -2.87096908, 15.55692144,  0.17172258, 15.99881221,  6.28284979,\n",
       "        -0.        , -0.        , -0.        , -0.        , -0.        ,\n",
       "        -0.        ,  6.25876044, -2.52380666, 14.31989927,  0.32056728,\n",
       "         7.65321217, -4.08659253,  1.1608778 ,  1.30371202, -7.60956775]),\n",
       " array([ 6.87691062, 10.06567529,  5.58336646,  2.59026188, -2.09898515,\n",
       "        -1.13342466, -0.        , -0.        , -0.        ,  7.19387296,\n",
       "        -2.83695446,  6.83486061, -0.01962713, 14.26935153,  0.05270176,\n",
       "        -0.        , -0.        , -0.        , -0.        , -0.        ,\n",
       "        -0.        ,  5.61294815, -1.89080637,  7.20938692,  0.07075114,\n",
       "         7.18855856, -4.28459646,  1.55945942,  0.28760328, -4.20890338])]"
      ]
     },
     "execution_count": 10,
     "metadata": {},
     "output_type": "execute_result"
    }
   ],
   "source": [
    "delta_w"
   ]
  },
  {
   "cell_type": "code",
   "execution_count": 20,
   "id": "2d6120df-f664-40b8-baf6-4ca716c0f68f",
   "metadata": {},
   "outputs": [
    {
     "data": {
      "text/plain": [
       "<synapses_1.w: array([-15.505959  , -50.48663773,  -9.04918376, -17.07521882,\n",
       "       -49.66413886, -10.63465733,   5.12472254,   7.35336781,\n",
       "         1.66014923,   8.1121478 , -23.53951489, -52.33950153,\n",
       "        11.55615026,  20.86067952, -14.01823748,   5.0137209 ,\n",
       "         7.80108997,   8.44381679,  -6.1360251 , -45.44583565,\n",
       "       -36.47959493, -20.81571783, -17.1826292 ,   0.92529216,\n",
       "         4.64746002,   4.88142136, -45.07633613,   5.58898493,\n",
       "        10.04289071, -16.19689444])>"
      ]
     },
     "execution_count": 20,
     "metadata": {},
     "output_type": "execute_result"
    }
   ],
   "source": [
    "naps_w[1]"
   ]
  },
  {
   "cell_type": "code",
   "execution_count": 36,
   "id": "5887e52e-3976-4b15-af4a-384412a40654",
   "metadata": {},
   "outputs": [
    {
     "data": {
      "text/plain": [
       "<synapses.w: array([9.86563524, 8.45613021, 9.01668175, 6.70575561, 3.78842217,\n",
       "       7.89471436, 6.60501113, 0.14412229, 7.4087262 , 7.3172624 ,\n",
       "       8.42906482, 1.40253316, 7.1583541 , 4.25004442, 4.05886055,\n",
       "       4.09508178, 5.72668834, 4.73019392, 2.14837162, 1.43866493,\n",
       "       7.35548783, 7.23912578, 4.1295422 , 0.98878456, 9.60855141,\n",
       "       4.72975066, 7.37702674, 1.37971793, 4.1169303 , 9.56399398])>"
      ]
     },
     "execution_count": 36,
     "metadata": {},
     "output_type": "execute_result"
    }
   ],
   "source": [
    "naps_w[10]"
   ]
  },
  {
   "cell_type": "code",
   "execution_count": 42,
   "id": "f8605c8d-ee57-48e5-bcc8-68959f199c90",
   "metadata": {},
   "outputs": [
    {
     "data": {
      "text/plain": [
       "2"
      ]
     },
     "execution_count": 42,
     "metadata": {},
     "output_type": "execute_result"
    }
   ],
   "source": [
    "delta_e_true[0][0][1]"
   ]
  },
  {
   "cell_type": "code",
   "execution_count": 14,
   "id": "b983b1a3-bfe6-4fbf-8793-3aa0d986b618",
   "metadata": {},
   "outputs": [
    {
     "data": {
      "image/png": "[encoded data removed]",
      "text/plain": [
       "<Figure size 432x288 with 1 Axes>"
      ]
     },
     "metadata": {
      "needs_background": "light"
     },
     "output_type": "display_data"
    }
   ],
   "source": [
    "for i in range(len(delta_e_out)):\n",
    "    plt.scatter(i, len(delta_e_out[i]))"
   ]
  },
  {
   "cell_type": "code",
   "execution_count": 28,
   "id": "d7b3ef07-448e-4596-b6f2-6772abe92bf8",
   "metadata": {},
   "outputs": [
    {
     "data": {
      "image/png": "[encoded data removed]",
      "text/plain": [
       "<Figure size 432x288 with 1 Axes>"
      ]
     },
     "metadata": {
      "needs_background": "light"
     },
     "output_type": "display_data"
    }
   ],
   "source": [
    "for i in range(len(delta_e_out)):\n",
    "    plt.scatter(i, len(delta_e_out[i]))"
   ]
  },
  {
   "cell_type": "code",
   "execution_count": 27,
   "id": "4f804a85-78b5-4a66-90a8-86ef38e4a9e9",
   "metadata": {},
   "outputs": [
    {
     "data": {
      "image/png": "[encoded data removed]",
      "text/plain": [
       "<Figure size 432x288 with 1 Axes>"
      ]
     },
     "metadata": {
      "needs_background": "light"
     },
     "output_type": "display_data"
    }
   ],
   "source": [
    "for i in range(len(naps_w)):\n",
    "    plt.scatter(range(len(naps_w[i])), list(naps_w[i]))"
   ]
  },
  {
   "cell_type": "code",
   "execution_count": 35,
   "id": "9b781f78-c35c-4542-9931-c393dc28f184",
   "metadata": {},
   "outputs": [
    {
     "data": {
      "text/plain": [
       "<matplotlib.collections.PathCollection at 0x25980fdd970>"
      ]
     },
     "execution_count": 35,
     "metadata": {},
     "output_type": "execute_result"
    },
    {
     "data": {
      "image/png": "[encoded data removed]",
      "text/plain": [
       "<Figure size 432x288 with 1 Axes>"
      ]
     },
     "metadata": {
      "needs_background": "light"
     },
     "output_type": "display_data"
    }
   ],
   "source": [
    "plt.scatter(range(len(naps_w[0])), list(naps_w[0]))"
   ]
  },
  {
   "cell_type": "code",
   "execution_count": 26,
   "id": "023052af-a63c-4a34-b7a5-17fae132bd76",
   "metadata": {},
   "outputs": [
    {
     "data": {
      "image/png": "[encoded data removed]",
      "text/plain": [
       "<Figure size 720x288 with 1 Axes>"
      ]
     },
     "metadata": {
      "needs_background": "light"
     },
     "output_type": "display_data"
    },
    {
     "data": {
      "image/png": "[encoded data removed]",
      "text/plain": [
       "<Figure size 720x288 with 1 Axes>"
      ]
     },
     "metadata": {
      "needs_background": "light"
     },
     "output_type": "display_data"
    },
    {
     "data": {
      "image/png": "[encoded data removed]",
      "text/plain": [
       "<Figure size 720x288 with 1 Axes>"
      ]
     },
     "metadata": {
      "needs_background": "light"
     },
     "output_type": "display_data"
    }
   ],
   "source": [
    "plt.figure(figsize=(10,4))\n",
    "for i in delta_e_in[2]:\n",
    "    plt.scatter(i[0], i[1],marker = '|')\n",
    "    title ('e_in')\n",
    "plt.figure(figsize=(10,4))\n",
    "for i in delta_e_out[6]:\n",
    "    plt.scatter(i[0], i[1],marker = '|')\n",
    "    title('e_out')\n",
    "plt.figure(figsize=(10,4))\n",
    "for i in delta_e_true[1]:\n",
    "    plt.scatter(i[0], i[1],marker = '|')\n",
    "    title('e_true')"
   ]
  },
  {
   "cell_type": "code",
   "execution_count": null,
   "id": "8f6d0c36-94f0-41f2-8432-f79094b9c3ec",
   "metadata": {},
   "outputs": [],
   "source": [
    "for k in range(len(delta_e_out)):\n",
    "    plt.figure(figsize = (10,4))\n",
    "    print(len(delta_e_out[k]))\n",
    "    for i in delta_e_out[k]: \n",
    "        plt.scatter(i[0],i[1], marker = '|')\n",
    "        title('e_out')"
   ]
  },
  {
   "cell_type": "code",
   "execution_count": null,
   "id": "87341b79-9172-4805-ac7a-ff3ce1bd48e9",
   "metadata": {},
   "outputs": [],
   "source": [
    "for k in range(len(delta_e_true)):\n",
    "    plt.figure(figsize = (10,4))\n",
    "    for i in delta_e_in[k]: \n",
    "        plt.scatter(i[0],i[1], marker = '|')\n",
    "        title('e_in')"
   ]
  },
  {
   "cell_type": "code",
   "execution_count": 149,
   "id": "a5259525-9147-42a5-9d95-196daa8dfe79",
   "metadata": {},
   "outputs": [
    {
     "data": {
      "text/plain": [
       "[<synapses.w: array([0.64366287, 8.15099337, 4.28451945, 9.93214188, 8.17642   ,\n",
       "        4.61677438, 1.65094827, 0.44289158, 1.2387377 , 3.36068813,\n",
       "        1.92727851, 1.49396503, 9.84095402, 6.53875418, 9.25720683,\n",
       "        0.46694174, 8.19566828, 4.74763294, 4.57913302, 1.75705321,\n",
       "        9.7897978 , 8.46509016, 8.76702884, 8.45980487, 6.20039937,\n",
       "        1.78468308, 6.0396306 , 8.64137112, 8.10758215, 6.69454797])>,\n",
       " <synapses_1.w: array([0.64366323, 8.15099368, 4.28451597, 9.93214188, 8.17642   ,\n",
       "        4.61677438, 1.65094792, 0.44289153, 1.23873791, 3.36068749,\n",
       "        1.92727847, 1.49396524, 9.84095402, 6.53875418, 9.25720683,\n",
       "        0.46694121, 8.19566822, 4.74763259, 4.57913246, 1.75705318,\n",
       "        9.78979778, 8.4650901 , 8.76702856, 8.45980501, 6.20039972,\n",
       "        1.78468306, 6.03962817, 8.64137122, 8.10758162, 6.69454809])>,\n",
       " <synapses.w: array([0.64366329, 8.15099396, 4.28451398, 9.93214188, 8.17642   ,\n",
       "        4.61677438, 1.65094686, 0.44289116, 1.23873801, 3.3606861 ,\n",
       "        1.92727803, 1.49396544, 9.84095402, 6.53875418, 9.25720683,\n",
       "        0.46693959, 8.19566818, 4.74763228, 4.57913023, 1.75705306,\n",
       "        9.78979776, 8.46508956, 8.76702793, 8.45980515, 6.20039979,\n",
       "        1.78468296, 6.03962688, 8.64137099, 8.1075805 , 6.69454815])>,\n",
       " <synapses_1.w: array([0.64366333, 8.15099369, 4.2845117 , 9.93214188, 8.17642   ,\n",
       "        4.61677438, 1.65094654, 0.44289127, 1.23873851, 3.3606855 ,\n",
       "        1.92727814, 1.49396591, 9.84095402, 6.53875418, 9.25720683,\n",
       "        0.46693909, 8.19566832, 4.74763258, 4.5791297 , 1.75705316,\n",
       "        9.78979806, 8.46508953, 8.76702782, 8.45980507, 6.20039983,\n",
       "        1.78468292, 6.03962578, 8.64137088, 8.10757997, 6.69454807])>,\n",
       " <synapses.w: array([0.64366343, 8.15099366, 4.28451051, 9.93214188, 8.17642   ,\n",
       "        4.61677438, 1.65094603, 0.44289136, 1.23873894, 3.36068467,\n",
       "        1.92727822, 1.49396634, 9.84095402, 6.53875418, 9.25720683,\n",
       "        0.46693849, 8.1956684 , 4.74763266, 4.57912831, 1.75705336,\n",
       "        9.78979789, 8.46508943, 8.76702757, 8.45980496, 6.20039992,\n",
       "        1.78468292, 6.03962522, 8.64137096, 8.10757943, 6.69454809])>]"
      ]
     },
     "execution_count": 149,
     "metadata": {},
     "output_type": "execute_result"
    }
   ],
   "source": [
    "naps_w"
   ]
  },
  {
   "cell_type": "markdown",
   "id": "865c3bbb-5b57-49b7-bdab-f0c38b4565cc",
   "metadata": {},
   "source": [
    "## STDP for delay learning "
   ]
  },
  {
   "cell_type": "code",
   "execution_count": null,
   "id": "e1c6793a-707f-426e-82a1-a50636430e60",
   "metadata": {},
   "outputs": [],
   "source": []
  },
  {
   "cell_type": "code",
   "execution_count": 23,
   "id": "5c88422a-d91f-467e-b351-170e23dc43fb",
   "metadata": {},
   "outputs": [
    {
     "data": {
      "image/png": "[encoded data removed]",
      "text/plain": [
       "<Figure size 720x288 with 1 Axes>"
      ]
     },
     "metadata": {
      "needs_background": "light"
     },
     "output_type": "display_data"
    }
   ],
   "source": [
    "    \n",
    "    tau_pre = tau_post = 100*ms\n",
    "    A_pre = 0.01\n",
    "    A_post = -A_pre*1.05\n",
    "    delta_t = linspace(-10000, 10000, 20000)*msecond\n",
    "\n",
    "    w_stdpd = where(delta_t>=0, A_pre*exp(-delta_t/tau_pre), A_post*exp(delta_t/tau_post))\n",
    "    w_stdpd = (w_stdpd)\n",
    "    \n",
    "    #w_stdpd = clip(w_stdpd, A_post, A_pre, out = None)\n",
    "       \n",
    "    plt.figure(figsize=(10,4))\n",
    "    plot(delta_t/ms, w_stdpd)\n",
    "    xlabel(r'$\\Delta t$ (ms)')\n",
    "    ylabel('W')\n",
    "    axhline(0, ls='-', c='k');"
   ]
  },
  {
   "cell_type": "code",
   "execution_count": null,
   "id": "61126a24-cc5c-4bb9-8af9-8e4f58263755",
   "metadata": {},
   "outputs": [],
   "source": [
    " def learn_STDP(e_in,e_true, learning_rate=learning_rate, batch_size=batch_size, num_epochs=num_epochs, betas=betas,verbose=False, **kwargs): \n",
    "    \n",
    "        sample = {'e_in': e_in, 'e_true': e_true}\n",
    "    \n",
    "        loader = DataLoader(sample, batch_size=batch_size, shuffle=True)\n",
    "\n",
    "        device = torch.device(\"cuda\" if torch.cuda.is_available() else \"cpu\")\n",
    "    \n",
    "        train_ein_eout_ = neural_network(e_in) #pb : dans logistic_regression on returnait un NN, donc quand on faisait ça, train_ein_eout était un NN, ici c'est un tuple, donc on ne peut pas l'entrainer : what can i do ? \n",
    "        train_ein_eout_.to(device)\n",
    "        train_ein_eout_.train()\n",
    "    \n",
    "        optimizer = torch.optim.Adam(train_ein_eout_.parameters(), lr=learning_rate, betas=betas, amsgrad=amsgrad) # diminue le learning rate petit à petit de sorte à atteindre le minimum de la loss function / Adam utilise une moyenne à décroissance exponentielle des gradients passés afin de fournir une fréquence d'apprentissage adaptative. \n",
    "    \n",
    "        for epoch in range(int(num_epochs)): # on commence à 1 jusq'à 513 epoch, cad qu'il passe par tous les X_ 513 fois\n",
    "       \n",
    "            train_ein_eout_.train()\n",
    "            losses = [] \n",
    "        \n",
    "            for e_in_, labels_ in loader: \n",
    "                e_in_, labels_ = e_in_.to(device), labels_.to(device)\n",
    "                outputs = neural_network(e_in_)  \n",
    "                loss = criterion(outputs, labels_) #calcul de la différence entre l'outpul de logistic_model et la classification effectuée pdt l'initialisation (PROBLEME ? on compare des proba à y=true/false)\n",
    "                                               \n",
    "                optimizer.zero_grad()\n",
    "                loss.backward()\n",
    "                optimizer.step() \n",
    "        \n",
    "                losses.append(loss.item())   \n",
    "\n",
    "        if verbose and (epoch % (num_epochs // 32) == 0):\n",
    "            print(f\"Iteration: {epoch} - Loss: {np.mean(losses):.5f}\") \n",
    "\n",
    "    train_ein_eout.eval()\n",
    "    e_in_0, labels = torch.Tensor(e_in[:, None]), torch.Tensor(e_true[:, None]) #utile ? \n",
    "    e_out = neural_network(e_in_0) #utile ? \n",
    "    loss = criterion(e_out, labels).item()\n",
    "    \n",
    "    return train_ein_eout, loss\n",
    "    # --- visualisation ----------------------------------------------------------------------------------------------------------\n",
    "\n",
    "def plotor(lolo):\n",
    "    plt.figure(figsize=(10,4))\n",
    "    plt.scatter(lolo.t, lolo.i, marker = \"|\")\n",
    "    \n",
    "def plotorr(lolo):\n",
    "    temps_true = []\n",
    "    ind_true = []\n",
    "    for i in range(len(e_true)): \n",
    "        temps_true.append(e_true[i][0]*ms)\n",
    "        ind_true.append(e_true[i][1])\n",
    "        plt.scatter(temps_true[i],ind_true[i])\n",
    "\n",
    "def plot_weight(lolo):\n",
    "    plt.figure(figsize=(10,4))\n",
    "    plot(lolo)\n",
    "    xlabel('Time (s)')\n",
    "    ylabel('weight')\n",
    "    title ('evolution of weight of each synapse')\n",
    "        \n",
    "# --- supervised learning ----------------------------------------------------------------------------------------------------------\n",
    "\n",
    "import torch\n",
    "from torch.utils.data import TensorDataset, DataLoader\n",
    "from skimage import io, transform\n",
    "\n",
    "torch.set_default_tensor_type(\"torch.DoubleTensor\") # -> torch.tensor([1.2, 3]).dtype = torch.float64\n",
    "# see https://sebastianraschka.com/faq/docs/pytorch-crossentropy.html#pytorch-loss-input-confusion-cheatsheet\n",
    "criterion = torch.nn.BCELoss(reduction=\"mean\") # loss divided by output size//the sum of the output will be divided by the number of elements in the output\n",
    "#criterion = torch.nn.NLLLoss(reduction=\"mean\") # loss divided by output \n",
    "\n",
    "learning_rate = 0.005\n",
    "beta1, beta2 = 0.9, 0.999\n",
    "betas = (beta1, beta2)\n",
    "num_epochs = 25 # epoch = le nombre de passages dans l'ensemble des données d'entraînement que le réseau a effectués, ici 513 max\n",
    "amsgrad = False # gives similar results\n",
    "amsgrad = True  # gives similar results\n",
    "\n",
    "batch_size = 1000\n",
    "n_classes = Nj\n",
    "\n",
    "def learn_STDP(e_in,e_true, learning_rate=learning_rate, batch_size=batch_size, num_epochs=num_epochs, betas=betas,verbose=False, **kwargs): \n",
    "    \n",
    "    sample = {'e_in': e_in, 'e_true': e_true}\n",
    "    \n",
    "    \n",
    "    loader = DataLoader(sample, batch_size=batch_size, shuffle=True)\n",
    "\n",
    "    device = torch.device(\"cuda\" if torch.cuda.is_available() else \"cpu\")\n",
    "    \n",
    "    train_ein_eout_ = neural_network(e_in)\n",
    "    train_ein_eout_.train()\n",
    "    \n",
    "    optimizer = torch.optim.Adam(train_ein_eout_.parameters(), lr=learning_rate, betas=betas, amsgrad=amsgrad) # diminue le learning rate petit à petit de sorte à atteindre le minimum de la loss function / Adam utilise une moyenne à décroissance exponentielle des gradients passés afin de fournir une fréquence d'apprentissage adaptative. \n",
    "    \n",
    "    for epoch in range(int(num_epochs)): # on commence à 1 jusq'à 513 epoch, cad qu'il passe par tous les X_ 513 fois\n",
    "        train_ein_eout_.train()\n",
    "        losses = [] \n",
    "        for e_in_, labels_ in loader: \n",
    "            e_in_, labels_ = e_in_.to(device), labels_.to(device)\n",
    "            outputs = neural_network(e_in_)  \n",
    "            loss = criterion(outputs, labels_) #calcul de la différence entre l'outpul de logistic_model et la classification effectuée pdt l'initialisation (PROBLEME ? on compare des proba à y=true/false)\n",
    "                                               \n",
    "            optimizer.zero_grad()\n",
    "            loss.backward()\n",
    "            optimizer.step() \n",
    "        \n",
    "            \n",
    "            losses.append(loss.item())   \n",
    "\n",
    "        if verbose and (epoch % (num_epochs // 32) == 0):\n",
    "            print(f\"Iteration: {epoch} - Loss: {np.mean(losses):.5f}\") \n",
    "\n",
    "    train_ein_eout.eval()\n",
    "    e_in_0, labels = torch.Tensor(e_in[:, None]), torch.Tensor(e_true[:, None]) #utile ? \n",
    "    e_out = neural_network(e_in_0) #utile ? \n",
    "    loss = criterion(e_out, labels).item()\n",
    "    return train_ein_eout, loss\n"
   ]
  },
  {
   "cell_type": "code",
   "execution_count": null,
   "id": "136b3bfd-dee5-4fd8-9a05-d8175a0566a5",
   "metadata": {},
   "outputs": [],
   "source": [
    "train_ein_eout, loss  = learn_STDP(e_in,e_true, learning_rate=learning_rate, batch_size=batch_size, num_epochs=num_epochs, betas=betas,verbose=False)"
   ]
  },
  {
   "cell_type": "code",
   "execution_count": null,
   "id": "55315335-025c-4072-9a9b-7aff526df552",
   "metadata": {},
   "outputs": [],
   "source": [
    "plotor(d_spike)\n",
    "xlabel('Time (s)')\n",
    "ylabel('neurons')\n",
    "title('e_in')"
   ]
  },
  {
   "cell_type": "code",
   "execution_count": null,
   "id": "1e789269-d475-4872-9bb5-7ffd57e57f73",
   "metadata": {},
   "outputs": [],
   "source": [
    "plt.scatter(e_spike.t, e_spike.i)\n",
    "xlabel('Time (s)')\n",
    "ylabel('PGs')\n",
    "title('e_out')"
   ]
  },
  {
   "cell_type": "code",
   "execution_count": null,
   "id": "0cb07084-f178-4a6c-8cb0-b35e30727468",
   "metadata": {},
   "outputs": [],
   "source": [
    "plot_generator(detection)\n",
    "xlabel('Time (s)')\n",
    "ylabel('PGs')\n",
    "title('e_true')"
   ]
  },
  {
   "cell_type": "code",
   "execution_count": null,
   "id": "8efba0b2-d11a-4369-b42c-da27bc381e5b",
   "metadata": {},
   "outputs": [],
   "source": [
    "visualise_connectivity(naps)"
   ]
  },
  {
   "cell_type": "code",
   "execution_count": null,
   "id": "b478af46-7798-4bea-8114-ca302b12ef28",
   "metadata": {},
   "outputs": [],
   "source": [
    "### la stdp ne semble pas marcher "
   ]
  },
  {
   "cell_type": "code",
   "execution_count": null,
   "id": "bc736704-2b30-4c3d-be46-59875205139b",
   "metadata": {},
   "outputs": [],
   "source": [
    "plot_weight(mon.w.T)"
   ]
  },
  {
   "cell_type": "code",
   "execution_count": null,
   "id": "ce66bf9a-ae80-4fcc-a3e1-d4974c1ad6db",
   "metadata": {},
   "outputs": [],
   "source": [
    "plt.figure(figsize = (10,4))\n",
    "plt.scatter(range(Ni*Nj), naps.w)"
   ]
  },
  {
   "cell_type": "code",
   "execution_count": null,
   "id": "9513453d-2293-4f85-aa2e-8d85f97d0fcb",
   "metadata": {},
   "outputs": [],
   "source": [
    "plt.figure(figsize = (10,4))\n",
    "plt.scatter(range(Ni*Nj),mon.w.T[0])"
   ]
  },
  {
   "cell_type": "code",
   "execution_count": null,
   "id": "240dc494-88e6-4a96-8a2a-ffd41c152683",
   "metadata": {},
   "outputs": [],
   "source": [
    "plt.figure(figsize = (10,4))\n",
    "plt.scatter(range(Ni*Nj),mon.w.T[100000])"
   ]
  },
  {
   "cell_type": "code",
   "execution_count": null,
   "id": "8ba61107-74a8-4833-a451-0eaef0f3bf77",
   "metadata": {},
   "outputs": [],
   "source": [
    "plot?\n"
   ]
  },
  {
   "cell_type": "code",
   "execution_count": null,
   "id": "3cc177a9-25c3-4f7a-b9ce-c06053d9c678",
   "metadata": {},
   "outputs": [],
   "source": [
    "range?"
   ]
  },
  {
   "cell_type": "markdown",
   "id": "81fee5ce-0447-4142-b197-658dcb42ae01",
   "metadata": {},
   "source": [
    "### STDP"
   ]
  },
  {
   "cell_type": "code",
   "execution_count": null,
   "id": "ef0e6f17-eb79-43c1-a1e7-5bcb8e3c355c",
   "metadata": {},
   "outputs": [],
   "source": [
    "len(w_per_synapse_list)"
   ]
  },
  {
   "cell_type": "code",
   "execution_count": null,
   "id": "7d79fa01-2024-4002-b68e-9c3d76d27f82",
   "metadata": {},
   "outputs": [],
   "source": [
    "w_per_synapse[0,0]"
   ]
  },
  {
   "cell_type": "code",
   "execution_count": null,
   "id": "b30309aa-c769-413d-9d31-2dc453b20f4e",
   "metadata": {},
   "outputs": [],
   "source": [
    "for i in range(len(w_comp)):\n",
    "    if w_comp[i][1]==(0,4):\n",
    "        print(w_comp[i])"
   ]
  },
  {
   "cell_type": "code",
   "execution_count": null,
   "id": "085b2cd1-7297-48be-bebb-78e196d498cc",
   "metadata": {},
   "outputs": [],
   "source": [
    "a"
   ]
  },
  {
   "cell_type": "code",
   "execution_count": null,
   "id": "81fba0f4-fe46-4636-b063-56aa25cb9cf9",
   "metadata": {},
   "outputs": [],
   "source": [
    "len(e_true)"
   ]
  },
  {
   "cell_type": "code",
   "execution_count": null,
   "id": "3e085648-fa15-4dc7-902a-d26e3f0f40ff",
   "metadata": {},
   "outputs": [],
   "source": [
    "w, w_comp = synchro_detector_terminator(e_true, e_in)"
   ]
  },
  {
   "cell_type": "code",
   "execution_count": null,
   "id": "60d8e131-0e1c-4bbd-8c15-c596cce6bf6c",
   "metadata": {},
   "outputs": [],
   "source": [
    "comp = []\n",
    "delta_ttt = []\n",
    "delta_tt = []\n",
    "\n",
    "for i in range(len(e_true)):\n",
    "    for k in range(len(e_in)):\n",
    "        comp.append(tuple((e_true[i][1], e_in[k][1])))\n",
    "        delta_tt.append(e_true[i][0] - e_in[k][0])"
   ]
  },
  {
   "cell_type": "code",
   "execution_count": null,
   "id": "13954df2-3dd4-4a58-8d16-d7234c6b59fa",
   "metadata": {},
   "outputs": [],
   "source": [
    "for i in range(len(comp)):\n",
    "    delta_ttt.append(tuple((delta_tt[i], comp[i])))"
   ]
  },
  {
   "cell_type": "code",
   "execution_count": null,
   "id": "668b47da-6ada-4254-a313-f5d7adbedbc8",
   "metadata": {},
   "outputs": [],
   "source": [
    "Www = np.zeros((Ni,Nj))\n",
    "for i in range(len(delta_ttt)):\n",
    "    for k in range(Ni):\n",
    "        for c in range(Nj) :\n",
    "            if delta_ttt[i][1] == (k,c) :\n",
    "                Www[k][c] == (delta_ttt[i][0])"
   ]
  },
  {
   "cell_type": "code",
   "execution_count": null,
   "id": "c2efe2b7-4561-497b-8b7a-d78d431cab05",
   "metadata": {},
   "outputs": [],
   "source": [
    "Www"
   ]
  },
  {
   "cell_type": "code",
   "execution_count": null,
   "id": "618bf176-d3a1-4afc-b9cd-1a52fde7d422",
   "metadata": {},
   "outputs": [],
   "source": [
    "for i in range(len(e_true)): \n",
    "    if e_true[i][1]==2:\n",
    "        print(e_true[i][0])"
   ]
  },
  {
   "cell_type": "code",
   "execution_count": null,
   "id": "76082fc0-8da1-44e4-97d2-94b6aa446f53",
   "metadata": {},
   "outputs": [],
   "source": [
    "for i in range(len(e_in)): \n",
    "    if e_in[i][1]==0:\n",
    "        print(e_in[i][0])"
   ]
  },
  {
   "cell_type": "markdown",
   "id": "b0f25c49-2da5-4b2f-b938-f033361ec914",
   "metadata": {},
   "source": [
    "# unsupervised recognition of PGs"
   ]
  },
  {
   "cell_type": "code",
   "execution_count": null,
   "id": "b343fcf0-f4dc-4f9a-b896-ad04cb3fec9f",
   "metadata": {},
   "outputs": [],
   "source": [
    "e_true"
   ]
  },
  {
   "cell_type": "markdown",
   "id": "4fc413a8-83cb-4311-94ab-270bed43953a",
   "metadata": {
    "tags": []
   },
   "source": [
    "## detection of temporal patterns "
   ]
  },
  {
   "cell_type": "code",
   "execution_count": null,
   "id": "65aed9c1-de5f-4a94-af3e-ee48da818e0c",
   "metadata": {},
   "outputs": [],
   "source": [
    "all_spike_time"
   ]
  },
  {
   "cell_type": "code",
   "execution_count": null,
   "id": "776a6a39-3fa3-494d-813e-0f0bd7f3d1d6",
   "metadata": {},
   "outputs": [],
   "source": [
    "temps_tot"
   ]
  },
  {
   "cell_type": "code",
   "execution_count": null,
   "id": "34f770ca-f65e-4e40-9506-48721a6d13aa",
   "metadata": {},
   "outputs": [],
   "source": [
    "# def de ma fenetre temporelle pour reconnaître les PGs\n",
    "temps_tot = int(duration/msecond)\n",
    "t_window = 200 #ms\n",
    "nb_wind = int(temps_tot/t_window)\n",
    "X = np.zeros((nb_wind, Nj, t_window))"
   ]
  },
  {
   "cell_type": "code",
   "execution_count": null,
   "id": "f1f54ba0-24dc-4b8a-a60d-a1c17c45decd",
   "metadata": {},
   "outputs": [],
   "source": [
    "for k in range(nb_wind) :\n",
    "    for t,i in (all_spike_time) : \n",
    "        if t<t_window : \n",
    "            X[1][i][t] = 1 #on peut faire [1,i,t]\n",
    "            print('ok')\n",
    "        if t_window*(k-1)<t<t_window*k : \n",
    "            X[k][i][t-t_window*(k-1)] = 1 \n",
    "            print('okk')"
   ]
  },
  {
   "cell_type": "code",
   "execution_count": null,
   "id": "a1bceeea-d3d5-4812-8bfc-3d9f2a1b34d2",
   "metadata": {},
   "outputs": [],
   "source": [
    "X["
   ]
  },
  {
   "cell_type": "code",
   "execution_count": null,
   "id": "df61262c-ad8f-4a81-94e9-7cd17cde8c12",
   "metadata": {},
   "outputs": [],
   "source": [
    "plot(X[58].T)"
   ]
  },
  {
   "cell_type": "code",
   "execution_count": null,
   "id": "683710f0-13c8-43ad-b276-d362dc49ebc1",
   "metadata": {},
   "outputs": [],
   "source": [
    "all_spike_time"
   ]
  },
  {
   "cell_type": "markdown",
   "id": "9b9fcecc-b429-4146-b8a1-44d88ec91989",
   "metadata": {},
   "source": [
    "## cam's k-means"
   ]
  },
  {
   "cell_type": "code",
   "execution_count": null,
   "id": "7c5e3fed-858b-4e52-98c5-cc76a293c80d",
   "metadata": {},
   "outputs": [],
   "source": []
  },
  {
   "cell_type": "code",
   "execution_count": null,
   "id": "568a53f6-0076-4fc9-9347-e7c9161e202d",
   "metadata": {},
   "outputs": [],
   "source": []
  }
 ],
 "metadata": {
  "kernelspec": {
   "display_name": "Python 3 (ipykernel)",
   "language": "python",
   "name": "python3"
  },
  "language_info": {
   "codemirror_mode": {
    "name": "ipython",
    "version": 3
   },
   "file_extension": ".py",
   "mimetype": "text/x-python",
   "name": "python",
   "nbconvert_exporter": "python",
   "pygments_lexer": "ipython3",
   "version": "3.9.7"
  }
 },
 "nbformat": 4,
 "nbformat_minor": 5
}
