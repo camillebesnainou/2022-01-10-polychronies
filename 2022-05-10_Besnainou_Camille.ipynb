{
 "cells": [
  {
   "cell_type": "markdown",
   "id": "e7b3bfda-f336-434c-bf91-17a2ddef6340",
   "metadata": {},
   "source": [
    "-> generation de e_in avec une séquence qui se répète \n",
    "\n",
    "-> génération de e_in avec une séquence qui se répète avec du bruit \n",
    "\n",
    "-> STDP entre e_in et e_out pour apprendre les poids "
   ]
  },
  {
   "cell_type": "code",
   "execution_count": 1,
   "id": "33fb9127-9242-4e93-a9fd-bbd330fed36f",
   "metadata": {},
   "outputs": [
    {
     "name": "stderr",
     "output_type": "stream",
     "text": [
      "INFO       Cache size for target \"cython\": 2146 MB.\n",
      "You can call \"clear_cache('cython')\" to delete all files from the cache or manually delete files in the \"C:\\Users\\camil\\.cython\\brian_extensions\" directory. [brian2]\n"
     ]
    }
   ],
   "source": [
    "from brian2 import *\n",
    "%matplotlib inline\n",
    "from brian2 import SpikeGeneratorGroup\n",
    "from brian2 import NeuronGroup\n",
    "import numpy as np\n",
    "import random\n",
    "import pandas as pd"
   ]
  },
  {
   "cell_type": "code",
   "execution_count": 2,
   "id": "4c0a82e4-c9e6-45db-a2d9-522328d87853",
   "metadata": {},
   "outputs": [],
   "source": [
    "Ni = 1 #nb de PGs différents\n",
    "Nj = 10 #nb d'adresses en entrée \n",
    "n_pattern = 30 # nb d'occurrence des PGs \n",
    "duration = 10*second"
   ]
  },
  {
   "cell_type": "code",
   "execution_count": 3,
   "id": "fb166481-43e5-4afe-b944-d877c564ba0b",
   "metadata": {},
   "outputs": [],
   "source": [
    "# --- def du moment d'occurence des PGs -------------------------------------------------------------------------------------------------\n",
    "\n",
    "i_indices = np.random.randint(0, Ni, size = n_pattern) # nombre de PG observé (n_pattern), de Ni sortes différentes\n",
    "i_temps = np.random.uniform(0, duration, size = n_pattern)*second # temps d'occurence des n_pattern PG \n",
    "\n",
    "\n",
    "# --- def des projections des neurones pré-syn (i.e. des PGs) -----------------------------------------------------------------------\n",
    "\n",
    "i_syn=[]\n",
    "n_syn = []\n",
    "nn_j = []\n",
    "W = []\n",
    "n_j_quick =[]\n",
    "\n",
    "kappa = 1.5\n",
    "for k in range(Ni) : \n",
    "    n_j = (np.random.randint(3, Nj, size = 1)) # nombre de neurone qu'un Ni va connecter : au moins 3 neurones impliqués dans un PG\n",
    "    i_syn.append(random.sample(range(Nj), int(n_j))) # def des j connectés aux i, pas de repetition (pas de delais heterosynaptique)\n",
    "    n_syn.append(len(i_syn[k])) # def du nb de synapses pour set des poids et délais aléatoires, voir ci-après \n",
    "    #W.append(list(np.random.rand(int(n_j))))\n",
    "    W.append(list(np.exp(kappa*np.cos(2*np.pi * (np.linspace(0, 1, int(n_j), endpoint=True) - k/Ni )))))\n",
    "    W[k] /= sum(W[k])\n",
    "    i_syn_bruit = np.linspace\n",
    "n_syn = sum(n_syn) \n",
    "\n",
    "\n",
    "# --- def des poids et delais synaptiques -----------------------------------------------------------------------------------------------\n",
    "\n",
    "#weight = np.random.rand(n_syn) # des fois les poids générés pour 1 gp sont trop faibles pour que la detection marche, faudrait il faire en sorte que la somme des poids générés pour 1 gp soit = 1 \n",
    "delay = np.random.rand(n_syn)*0.1*second # là entre 0 et 100 "
   ]
  },
  {
   "cell_type": "markdown",
   "id": "25628f7a-dc33-48cc-89e9-e4da80ef50fe",
   "metadata": {},
   "source": [
    "#### quick"
   ]
  },
  {
   "cell_type": "code",
   "execution_count": 4,
   "id": "75fc4260-297e-4d31-8855-cbc2b3cc5e75",
   "metadata": {},
   "outputs": [],
   "source": [
    "def quick_generator(Ni, Nj, n_pattern, i_indices, i_temps, i_syn, W, delay, sigma):\n",
    "    start_scope()\n",
    "    start = time.time()\n",
    "    \n",
    "    a = SpikeGeneratorGroup(Ni, i_indices, i_temps)\n",
    "    a_spike = SpikeMonitor(a)\n",
    "    \n",
    "    b = NeuronGroup(Nj, ''' dv/dt = -v/tau + sigma*sqrt(2/tau)*xi  : volt\n",
    "                                tau : second''',\n",
    "                       threshold= 'v > 0.02000*volt',\n",
    "                        reset= 'v = 0*volt',\n",
    "                        method = 'euler')\n",
    "#+ sigma*sqrt(2/tau)*xi \n",
    "    b.v = 0*volt\n",
    "    b.tau = 0.01*second\n",
    "\n",
    "    b_spike = SpikeMonitor(b)\n",
    "        #b_state = StateMonitor(b, 'v', record = True)\n",
    "\n",
    "    s = Synapses(a,b, on_pre='v+=(0.01*volt*w)', model = 'w:1')\n",
    "    \n",
    "    for k in range(Ni):\n",
    "        s.connect(i = k , j = i_syn[k])\n",
    "        s.w[k,:] = W[k]*20 \n",
    "            \n",
    "    s.delay[:,:] = delay\n",
    "    \n",
    "    # --- generation de e_true/detectorrr_terminator ----------------------------------------------------------------------------------\n",
    "    \n",
    "    \n",
    "    c =  NeuronGroup(Ni, ''' dv/dt = -v/tau : volt\n",
    "                                tau : second''',\n",
    "                        threshold= 'v > 0.005*volt',\n",
    "                        reset= 'v = 0*volt', \n",
    "                        method = 'exact')\n",
    "    \n",
    "    c.v = 0*volt\n",
    "    c.tau = 0.1*second\n",
    "    c_spike = SpikeMonitor(c)\n",
    "    \n",
    "    syn = Synapses(b,c, on_pre='v+=(0.01*volt*w)', model = 'w:1')\n",
    "    \n",
    "    for k in range(Ni):\n",
    "        syn.connect(i = i_syn[k], j = k)         \n",
    "        syn.w[:,k] = W[k]\n",
    "        syn.delay[:,k] = max(s.delay[k,:])-s.delay[k,:]\n",
    "    \n",
    "    \n",
    "    net_quick = Network(collect())\n",
    "    net_quick.add(a, a_spike, b, b_spike, c, c_spike, s, syn)\n",
    "    net_quick.run(duration)\n",
    "    \n",
    "    e_in_ = (b_spike.t, b_spike.i)\n",
    "    e_true_ = (c_spike.t, c_spike.i) #plutot a_spike ? \n",
    "    \n",
    "    e_in=[]\n",
    "    e_true=[]\n",
    "    \n",
    "    for i in range(len(e_in_[0])):\n",
    "        e_in.append(tuple((e_in_[0][i]*1000/second, e_in_[1][i])))\n",
    "    \n",
    "    for i in range(len(e_true_[0])):\n",
    "        e_true.append(tuple((e_true_[0][i]*1000/second, e_true_[1][i])))\n",
    "        \n",
    "    print('generation time: ', time.time() - start)\n",
    "    \n",
    "    return s, syn, a_spike, b_spike, c_spike, e_in, e_true\n",
    "        "
   ]
  },
  {
   "cell_type": "code",
   "execution_count": 5,
   "id": "5d3a1007-a176-4a92-b5fb-dc4a966c09d5",
   "metadata": {},
   "outputs": [
    {
     "name": "stdout",
     "output_type": "stream",
     "text": [
      "generation time:  12.285485982894897\n"
     ]
    }
   ],
   "source": [
    "sigma = 8.3*mV\n",
    "s, syn, a_spike, b_spike, c_spike, e_in, e_true = quick_generator(Ni, Nj, n_pattern, i_indices, i_temps, i_syn, W, delay, sigma)"
   ]
  },
  {
   "cell_type": "code",
   "execution_count": 6,
   "id": "c1ff780e-355e-49de-b8e7-edb05c80e0a9",
   "metadata": {},
   "outputs": [
    {
     "data": {
      "image/png": "[encoded data removed]",
      "text/plain": [
       "<Figure size 720x288 with 1 Axes>"
      ]
     },
     "metadata": {
      "needs_background": "light"
     },
     "output_type": "display_data"
    }
   ],
   "source": [
    "plt.figure(figsize=(10,4))\n",
    "for i in range(len(e_in)):\n",
    "    plt.scatter(e_in[i][0], e_in[i][1],marker ='|')"
   ]
  },
  {
   "cell_type": "code",
   "execution_count": 7,
   "id": "f561bbcf-44b6-41e5-8251-f854de2816b4",
   "metadata": {},
   "outputs": [
    {
     "data": {
      "image/png": "[encoded data removed]",
      "text/plain": [
       "<Figure size 720x288 with 1 Axes>"
      ]
     },
     "metadata": {
      "needs_background": "light"
     },
     "output_type": "display_data"
    }
   ],
   "source": [
    "plt.figure(figsize=(10,4))\n",
    "for i in range(len(e_true)):\n",
    "    plt.scatter(e_true[i][0], e_true[i][1],marker ='|')"
   ]
  },
  {
   "cell_type": "markdown",
   "id": "a894ad23-bad0-47b7-a317-cefb6b4707dc",
   "metadata": {},
   "source": [
    "#### each"
   ]
  },
  {
   "cell_type": "code",
   "execution_count": 8,
   "id": "63285d7a-a66f-4e8f-89a6-cbe21d7c1a67",
   "metadata": {},
   "outputs": [],
   "source": [
    "def i_want_to_see_each_sequence (Ni, duration, W, delay, i_syn) : \n",
    "    \n",
    "    start_scope()\n",
    "    start = time.time()\n",
    "    \n",
    "    \n",
    "    x = SpikeGeneratorGroup(Ni, linspace(0,Ni-1, num = Ni, dtype = int), linspace(0,Ni-1, num = Ni, dtype = int)*second)\n",
    "    x_s = SpikeMonitor(x)\n",
    "        \n",
    "    y = NeuronGroup(Nj, ''' dv/dt = -v/tau : volt\n",
    "                                tau : second''',\n",
    "                        threshold= 'v > 0.02*volt',\n",
    "                        reset= 'v = 0*volt', \n",
    "                        method = 'exact')\n",
    "    y_s = SpikeMonitor(y)\n",
    "    \n",
    "    y.v = 0*volt\n",
    "    y.tau = 0.01*second\n",
    "    \n",
    "    z = Synapses(x,y, on_pre='v+=(0.01*volt*w)', model = 'w:1')\n",
    "    \n",
    "    for k in range(Ni):\n",
    "        z.connect(i = k , j = i_syn[k])\n",
    "        z.w[k,:] = W[k]*20 \n",
    "             \n",
    "    z.delay[:,:] = delay        \n",
    "    \n",
    "    net_see_seq = Network(collect())\n",
    "    net_see_seq.add(x, x_s, y, y_s, z)\n",
    "    net_see_seq.run(3*second)\n",
    "    \n",
    "    plt.figure(figsize =(10,4))\n",
    "    plt.scatter(x_s.t, x_s.i, marker = '|')\n",
    "    \n",
    "    plt.figure(figsize =(10,4))\n",
    "    plt.scatter(y_s.t, y_s.i, marker = '|')\n",
    "    print('each seq time :', time.time() - start )\n",
    "    return x_s, y_s, z"
   ]
  },
  {
   "cell_type": "code",
   "execution_count": 9,
   "id": "d7617c7c-5171-4056-8a9c-98a7268334bf",
   "metadata": {},
   "outputs": [
    {
     "name": "stdout",
     "output_type": "stream",
     "text": [
      "each seq time : 2.3642923831939697\n"
     ]
    },
    {
     "data": {
      "image/png": "[encoded data removed]",
      "text/plain": [
       "<Figure size 720x288 with 1 Axes>"
      ]
     },
     "metadata": {
      "needs_background": "light"
     },
     "output_type": "display_data"
    },
    {
     "data": {
      "image/png": "[encoded data removed]",
      "text/plain": [
       "<Figure size 720x288 with 1 Axes>"
      ]
     },
     "metadata": {
      "needs_background": "light"
     },
     "output_type": "display_data"
    }
   ],
   "source": [
    "x_s, y_s, z = i_want_to_see_each_sequence (Ni, duration, W, delay, i_syn) "
   ]
  },
  {
   "cell_type": "code",
   "execution_count": 10,
   "id": "a91e921e-100d-4677-ad15-02851561fbe1",
   "metadata": {},
   "outputs": [
    {
     "data": {
      "text/plain": [
       "[array([0.27994549, 0.15914721, 0.04473756, 0.01616974, 0.01616974,\n",
       "        0.04473756, 0.15914721, 0.27994549])]"
      ]
     },
     "execution_count": 10,
     "metadata": {},
     "output_type": "execute_result"
    }
   ],
   "source": [
    "W"
   ]
  },
  {
   "cell_type": "markdown",
   "id": "75c42fc4-4330-4066-9293-e0b811210902",
   "metadata": {},
   "source": [
    "#### STDP"
   ]
  },
  {
   "cell_type": "code",
   "execution_count": 11,
   "id": "f7e421bb-2734-4cd8-b51a-5228ab30936c",
   "metadata": {},
   "outputs": [],
   "source": [
    "def STDP_with_r(e_in, e_out, e_true, N_epoch):\n",
    "    \n",
    "    start = time.time()\n",
    "\n",
    "    e_true_safe= [ele for ele in e_true if ele != []]\n",
    "    \n",
    "    tau_pre = tau_post = 100*ms #même tau pour w_stdp et w_r ? \n",
    "    A_pre = 1\n",
    "    A_post = -A_pre*1.05\n",
    "    \n",
    "# === règle homeostasique =====================================================================================================================\n",
    "\n",
    "    len_e_true = {}\n",
    "    len_e_out = {}\n",
    "    w_homéo = {}\n",
    "    \n",
    "    for i in range(Ni):\n",
    "        len_e_true[i] = []\n",
    "        len_e_out[i] = []\n",
    "        w_homéo[i] = []\n",
    "        for k in e_true_safe :\n",
    "            if k[1]==i : \n",
    "                len_e_true[i].append(k[1])\n",
    "        for k in e_out:\n",
    "            if k[1]==i : \n",
    "                len_e_out[i].append(k[1])\n",
    "        if len(len_e_true[i])>len(len_e_out[i]) :\n",
    "            w_homéo[i] = 0.1\n",
    "        if len(len_e_true[i])<len(len_e_out[i]) :\n",
    "            w_homéo[i] = -0.1\n",
    "        if len(len_e_true[i])==len(len_e_out[i]) :\n",
    "            w_homéo[i] = 0 \n",
    "            \n",
    "    print('w_homéo :', w_homéo)    \n",
    "        \n",
    "            \n",
    "# === STDP entre e_in et e_out =================================================================================================================\n",
    "    \n",
    "    # --- delta_T entre chaque paire de spike -------------------------------------------------------------------------------------------------\n",
    "    \n",
    "    delta_T_STDP = []\n",
    "    comparaison_STDP = []\n",
    "    \n",
    "    for k in range(len(e_out)):\n",
    "        for i in range(len(e_in)):\n",
    "            delta_T_STDP.append(e_out[k][0]*ms - e_in[i][0]*ms) #on prend le premier spike de e_out et on le compare avec tous les spikes de e_in (Ni,Nj)\n",
    "            comparaison_STDP.append(tuple((e_out[k][1], e_in[i][1]))) \n",
    "    print('len(delta_T_STDP) :', len(delta_T_STDP))\n",
    "    # --- def des w_STDP à partir des delta_T e_in/e_out ----------------------------------------------------------------------------------------------------\n",
    "    \n",
    "    w_STDP = []        \n",
    "    for i in range(len(delta_T_STDP)):         \n",
    "        w_STDP.append(where(delta_T_STDP[i]>0, A_pre*exp(-delta_T_STDP[i]/tau_pre), A_post*exp(delta_T_STDP[i]/tau_post))) #on définit des w pour tous les delta_T, ils sont rangés dans l'ordre e_out_1, e_in_all, e_out_2, e_in_all\n",
    "    \n",
    "    # --- visu w_STDP -----------------------------------------------------------------------------------------------------------------------------------\n",
    "   \n",
    "    if N_epoch == 0 : \n",
    "        plt.figure(figsize=(10,4))\n",
    "        plt.scatter(delta_T_STDP/ms, w_STDP)\n",
    "        xlabel(r'$\\Delta t$ (ms)')\n",
    "        ylabel('W')\n",
    "        axhline(0, ls='-', c='k')\n",
    "        title (' w_STDP ')\n",
    "    \n",
    "# === Def de la variable R e_out/e_true =================================================================================================================\n",
    "    \n",
    "    # --- delta_T entre paire de spike du même indice -------------------------------------------------------------------------------------------\n",
    "    \n",
    "    delta_T_r = {}\n",
    "    delta_T_r_plot = []\n",
    "    for k in range(len(e_out)) :\n",
    "        delta_T_r[k] = []\n",
    "        for i in e_true_safe : \n",
    "            if i[1] == e_out[k][1] :\n",
    "                delta_T_r[k].append(i[0]*ms-e_out[k][0]*ms)\n",
    "                delta_T_r_plot.append(i[0]*ms-e_out[k][0]*ms)\n",
    "    print('len(delta_T_r) : ', len(delta_T_r))\n",
    "\n",
    "    # --- def de R à partir des delta_T e_out/e_true ----------------------------------------------------------------------------------------------------------\n",
    "    \n",
    "    w_r = {}\n",
    "    w_r_plot = []\n",
    "    for i in range(len(delta_T_r)) : \n",
    "        w_r[i] = []\n",
    "        for k in range(len(delta_T_r[i])) : \n",
    "            w_r[i].append(where(delta_T_r[i][k]>0, delta_T_r[i][k]*exp(-(abs(delta_T_r[i][k])/tau_pre)), delta_T_r[i][k]*exp(-(abs(delta_T_r[i][k])/tau_post)))/second)  \n",
    "        w_r[i] = sum(w_r[i])   \n",
    "        \n",
    "    # --- visu r ----------------------------------------------------------------------------------------------------------------------------------------------------\n",
    "    \n",
    "    if N_epoch == 0 : \n",
    "        plt.figure(figsize=(10,4))\n",
    "        plt.scatter(delta_T_r_plot/ms, w_r_plot)\n",
    "        xlabel(r'$\\Delta t$ (ms)')\n",
    "        ylabel('W')\n",
    "        axhline(0, ls='-', c='k')\n",
    "        title ('variable R')\n",
    "    \n",
    "    \n",
    "# === Def des delta_w de chaque synapse par w_homéo*R*w_STDP =================================================================================================================\n",
    "    \n",
    "    w_STDP_r = {}\n",
    "    for i in range(len(e_out)):\n",
    "        w_STDP_r[i] = []\n",
    "        for k in range(i*len(e_in),(i+1)*len(e_in)) : \n",
    "            w_STDP_r[i].append(tuple((w_STDP[k]*w_r[i], comparaison_STDP[k])))\n",
    "    \n",
    "    w_syn = {}  \n",
    "    w_syn_mean = {}\n",
    "    w_syn_= {}\n",
    "    for k in range(Nj):\n",
    "        for c in range(1):\n",
    "            w_syn[k,c] = []\n",
    "            \n",
    "    for a in range(len(e_out)):        \n",
    "        for i in w_STDP_r[a] :\n",
    "            for k in range(Nj): \n",
    "                for c in range(Ni): \n",
    "                    if i[1]==(c,k):\n",
    "                        w_syn[k,c].append(i[0])\n",
    "                    w_syn_mean[k,c] = sum(w_syn[k,c]) #somme \n",
    "                    \n",
    "    w_STDP_r_homéo = {}\n",
    "    \n",
    "    for k in w_homéo : \n",
    "        for i in w_syn_mean : \n",
    "            if k==i[1] :\n",
    "                    w_STDP_r_homéo[i[0],k] = (w_syn_mean[i])+w_homéo[k]\n",
    "                \n",
    "    print('w_STDP_r_homéo :', len(w_STDP_r_homéo), 'w_STDP_r_homéo[0]', w_STDP_r_homéo[0,0])\n",
    "    w_per_synapse_list = []\n",
    "    for k in range(Nj):\n",
    "        for c in range(Ni):\n",
    "                w_per_synapse_list.append(w_STDP_r_homéo[k,c]) ## pour changer la grandeur, changer Apre/apost et faire la somme plutot que la \n",
    "                \n",
    "    w_per_synapse_list = np.nan_to_num(w_per_synapse_list, -.1*10e-50)\n",
    "    print('w_per_synapse_list', w_per_synapse_list)\n",
    "    \n",
    "    print('W_STDP_r_homéo time : ', time.time() - start)\n",
    "\n",
    "    return w_per_synapse_list"
   ]
  },
  {
   "cell_type": "markdown",
   "id": "fc7b1cb2-4bd4-4c69-a022-36cf5040d056",
   "metadata": {},
   "source": [
    "#### NN"
   ]
  },
  {
   "cell_type": "code",
   "execution_count": 12,
   "id": "a7270091-e175-4072-84a3-96fe9f683d4f",
   "metadata": {},
   "outputs": [],
   "source": [
    "def neural_network_2(e_in, w_per_synapse_list, N_epoch):\n",
    "    start_scope()\n",
    "    \n",
    "    start = time.time()\n",
    "    \n",
    "    PGs_learning = {}\n",
    "    ind_in = []\n",
    "    temps_in = []\n",
    "    \n",
    "    random_size = np.random.randint(0,60)\n",
    "    ind_out = np.random.randint(0, 1, size = random_size) # nombre de PG observé (n_pattern), de Ni sortes différentes\n",
    "    temps_out = np.random.uniform(0, duration, size = random_size)*second\n",
    "\n",
    " \n",
    "    thresh = 0.02*volt # /!\\\n",
    "\n",
    "    # --- generation du NN -------------------------------------------------------------------------------------------\n",
    "    e_in_safe = [] \n",
    "    for i in e_in:\n",
    "        if i not in e_in_safe:\n",
    "            e_in_safe.append(i)\n",
    "        \n",
    "    for i in range(len(e_in_safe)): \n",
    "        temps_in.append((e_in_safe[i][0])*msecond)\n",
    "        ind_in.append(e_in_safe[i][1])\n",
    "    \n",
    "    if N_epoch == 0 : \n",
    "        \n",
    "        print('ind_out : ',ind_out)\n",
    "        print('temps_out : ', temps_out)\n",
    "        e = SpikeGeneratorGroup(Ni, ind_out, temps_out)\n",
    "        e_spike = SpikeMonitor(e)\n",
    "        \n",
    "        run(duration)\n",
    "        \n",
    "        PGs_learning = (e_spike.t, e_spike.i)\n",
    "        e_out = []\n",
    "    \n",
    "        for i in range(len(PGs_learning[0])):\n",
    "            e_out.append(tuple((round(PGs_learning[0][i]*1000/second), PGs_learning[1][i])))\n",
    "        \n",
    "        print('NN time - epoch 0 : ', time.time() - start)\n",
    "\n",
    "        return e_out, e_spike\n",
    "        \n",
    "    else : \n",
    "        \n",
    "        d = SpikeGeneratorGroup(Nj, ind_in, temps_in)\n",
    "        d_spike = SpikeMonitor(d)\n",
    "\n",
    "        e = NeuronGroup(1, ''' dv/dt = -v/tau : volt\n",
    "                    tau : second''',\n",
    "                    threshold= 'v > 0.0200*volt',\n",
    "                    reset= 'v = 0*volt',\n",
    "                    method = 'exact')\n",
    "        e.v = 0*volt\n",
    "        e.tau = 0.001*second\n",
    "        e_spike = SpikeMonitor(e)\n",
    "    \n",
    "        naps = Synapses(d, e, on_pre = '''v_post += 0.01*w*volt''', model = '''w:1''')\n",
    "\n",
    "        naps.connect(p=1)\n",
    " \n",
    "        naps.w[:,:] = w_per_synapse_list\n",
    "   \n",
    "        run(duration)\n",
    "    \n",
    "        PGs_learning = (e_spike.t, e_spike.i)\n",
    "        e_out = []\n",
    "    \n",
    "        for i in range(len(PGs_learning[0])):\n",
    "            e_out.append(tuple((round(PGs_learning[0][i]*1000/second), PGs_learning[1][i])))\n",
    "        \n",
    "        print('NN time : ', time.time() - start)\n",
    "\n",
    "        return e_out, naps, e_spike"
   ]
  },
  {
   "cell_type": "markdown",
   "id": "1f3fcec1-0b29-4650-9a6a-3fabeee139e1",
   "metadata": {},
   "source": [
    "#### learn"
   ]
  },
  {
   "cell_type": "code",
   "execution_count": 13,
   "id": "0c3d76d3-7e80-4822-982a-eae4043eec6c",
   "metadata": {},
   "outputs": [],
   "source": [
    "def learn_weight_2 (Ni, n_pattern, duration, nn_j, i_syn):\n",
    "    \n",
    "    N_epoch = 20\n",
    "    \n",
    "    delta_e_in = []\n",
    "    delta_e_true = []\n",
    "    delta_w = []\n",
    "    delta_e_out = []\n",
    "    naps_w = []\n",
    "    \n",
    "    start = time.time()\n",
    "\n",
    "    \n",
    "    for N_epoch in range(N_epoch): \n",
    "        \n",
    "        i_indices = np.random.randint(0, Ni, size = n_pattern) # nombre de PG observé (n_pattern), de Ni sortes différentes\n",
    "        i_temps = np.random.uniform(0, duration, size = n_pattern)*second # temps d'occurence des n_pattern PG \n",
    "        \n",
    "        s, syn, a_spike, b_spike, c_spike, e_in, e_true = quick_generator(Ni, Nj, n_pattern, i_indices, i_temps, i_syn, W, delay, sigma)      \n",
    "        delta_e_in.append(e_in) \n",
    "        delta_e_true.append(e_true)\n",
    "            \n",
    "        if N_epoch == 0 :\n",
    "            e_out, e_spike = neural_network_2(delta_e_in[N_epoch], 0, N_epoch)\n",
    "            delta_e_out.append(e_out)\n",
    "            \n",
    "        if N_epoch == 1 : \n",
    "            w_per_synapse_list  = STDP_with_r (delta_e_in[N_epoch-1], delta_e_out[N_epoch-1],delta_e_true[N_epoch-1], N_epoch)\n",
    "            delta_w.append( w_per_synapse_list)\n",
    "            print('w_per_synapse_list',w_per_synapse_list)\n",
    "            \n",
    "            e_out, naps, e_spike = neural_network_2(delta_e_in[N_epoch], np.random.randint(-10,10, Ni*Nj)+delta_w[N_epoch-1], N_epoch)\n",
    "            print('naps', naps.w) \n",
    "            naps_w.append(naps.w)\n",
    "            delta_e_out.append(e_out)\n",
    "            \n",
    "        if N_epoch > 1 :  \n",
    "            w_per_synapse_list  = STDP_with_r (delta_e_in[N_epoch-1], delta_e_out[N_epoch-1],delta_e_true[N_epoch-1], N_epoch)\n",
    "            delta_w.append( w_per_synapse_list)\n",
    "            print('w_per_synapse_list',w_per_synapse_list)\n",
    "            \n",
    "            e_out, naps, e_spike = neural_network_2(delta_e_in[N_epoch], naps_w[N_epoch-2]+delta_w[N_epoch-1] , N_epoch)\n",
    "            print('naps', naps.w) \n",
    "            naps_w.append(naps.w)\n",
    "            delta_e_out.append(e_out)\n",
    "            \n",
    "        \n",
    "         \n",
    "        print('N_EPOCH :', N_epoch)\n",
    "    print('TIMETOT', time.time() - start)\n",
    "    return delta_e_out, delta_e_true, delta_e_in, delta_w, naps_w, naps"
   ]
  },
  {
   "cell_type": "code",
   "execution_count": 14,
   "id": "6bbdea05-000d-403f-84ec-8f88ae46e5a7",
   "metadata": {
    "collapsed": true,
    "jupyter": {
     "outputs_hidden": true
    },
    "tags": []
   },
   "outputs": [
    {
     "name": "stdout",
     "output_type": "stream",
     "text": [
      "generation time:  11.06319808959961\n",
      "ind_out :  [0 0 0 0 0 0 0 0 0 0 0 0 0 0 0 0 0 0 0 0 0 0 0 0 0 0 0 0 0 0 0 0 0 0 0 0 0\n",
      " 0 0 0 0 0 0 0 0 0 0 0 0 0 0 0 0 0 0]\n",
      "temps_out :  [0.08367668 1.11379432 1.53452946 4.4102243  9.16200307 7.0435374\n",
      " 7.24141928 4.21011197 4.02995633 3.16736915 0.24849125 1.52732107\n",
      " 6.05961041 6.46123086 0.26707712 9.4853372  4.60130271 8.08444991\n",
      " 5.10623028 9.03292151 1.42005403 4.39885518 9.82644501 2.92677222\n",
      " 3.67396385 3.91501621 3.88602701 1.92951724 0.68600977 4.89376502\n",
      " 3.8358606  4.14690193 2.00629949 0.426736   3.88284324 2.08529698\n",
      " 4.68249747 8.26810623 9.55287951 1.28627029 4.22241445 9.59934565\n",
      " 7.09383409 3.23945108 6.83897769 1.4393437  2.54907726 0.88790202\n",
      " 8.64630712 8.2256652  2.27828451 9.90240299 1.25957021 8.12971327\n",
      " 2.52246849] s\n",
      "NN time - epoch 0 :  2.6342387199401855\n",
      "N_EPOCH : 0\n",
      "generation time:  11.051430225372314\n",
      "w_homéo : {0: 0.1}\n",
      "len(delta_T_STDP) : 27390\n",
      "len(delta_T_r) :  55\n",
      "w_STDP_r_homéo : 10 w_STDP_r_homéo[0] -0.448953797536772\n",
      "w_per_synapse_list [-0.4489538  -0.65712667 -0.72263244  0.24531306  0.48645038 -0.07253608\n",
      " -0.40682517 -0.27565154 -0.93574788  0.29913006]\n",
      "W_STDP_r_homéo time :  38.97311878204346\n",
      "w_per_synapse_list [-0.4489538  -0.65712667 -0.72263244  0.24531306  0.48645038 -0.07253608\n",
      " -0.40682517 -0.27565154 -0.93574788  0.29913006]\n",
      "NN time :  6.196552276611328\n",
      "naps <synapses_3.w: array([ 6.5510462 ,  0.34287333, -5.72263244, -2.75468694,  8.48645038,\n",
      "       -7.07253608,  8.59317483,  6.72434846, -7.93574788, -7.70086994])>\n",
      "N_EPOCH : 1\n",
      "generation time:  10.52071762084961\n",
      "w_homéo : {0: -0.1}\n",
      "len(delta_T_STDP) : 89540\n",
      "len(delta_T_r) :  185\n",
      "w_STDP_r_homéo : 10 w_STDP_r_homéo[0] -1.6149543801222688\n",
      "w_per_synapse_list [-1.61495438 -3.15909103 -2.45779186 -0.3883579  -0.2021599  -0.17253984\n",
      " -0.36797744 -0.02661156 -1.98345311  0.33756197]\n",
      "W_STDP_r_homéo time :  3473.627047777176\n",
      "w_per_synapse_list [-1.61495438 -3.15909103 -2.45779186 -0.3883579  -0.2021599  -0.17253984\n",
      " -0.36797744 -0.02661156 -1.98345311  0.33756197]\n",
      "NN time :  16.648584127426147\n",
      "naps <synapses_5.w: array([ 4.93609182, -2.8162177 , -8.1804243 , -3.14304484,  8.28429047,\n",
      "       -7.24507592,  8.22519738,  6.69773689, -9.91920099, -7.36330797])>\n",
      "N_EPOCH : 2\n",
      "generation time:  16.75170397758484\n",
      "w_homéo : {0: -0.1}\n",
      "len(delta_T_STDP) : 97650\n",
      "len(delta_T_r) :  186\n",
      "w_STDP_r_homéo : 10 w_STDP_r_homéo[0] -5.158432826593627\n",
      "w_per_synapse_list [-5.15843283 -6.41406348 -6.53447899 -0.35262706  0.5036288  -1.49704515\n",
      " -0.43060634 -0.36109121 -7.29354676 -0.84040333]\n",
      "W_STDP_r_homéo time :  309.54960227012634\n",
      "w_per_synapse_list [-5.15843283 -6.41406348 -6.53447899 -0.35262706  0.5036288  -1.49704515\n",
      " -0.43060634 -0.36109121 -7.29354676 -0.84040333]\n",
      "NN time :  15.431168794631958\n",
      "naps <synapses_4.w: array([ -0.222341  ,  -9.23028118, -14.71490329,  -3.4956719 ,\n",
      "         8.78791927,  -8.74212107,   7.79459104,   6.33664569,\n",
      "       -17.21274776,  -8.2037113 ])>\n",
      "N_EPOCH : 3\n",
      "generation time:  7.2366979122161865\n",
      "w_homéo : {0: -0.1}\n",
      "len(delta_T_STDP) : 69564\n",
      "len(delta_T_r) :  132\n",
      "w_STDP_r_homéo : 10 w_STDP_r_homéo[0] -0.9416510075770134\n",
      "w_per_synapse_list [-0.94165101 -2.17138935 -0.5709835  -0.56616926 -0.51463342 -1.27950521\n",
      "  0.37200539 -0.86081553 -1.63592881 -0.57168563]\n",
      "W_STDP_r_homéo time :  149.98390436172485\n",
      "w_per_synapse_list [-0.94165101 -2.17138935 -0.5709835  -0.56616926 -0.51463342 -1.27950521\n",
      "  0.37200539 -0.86081553 -1.63592881 -0.57168563]\n",
      "NN time :  9.418485164642334\n",
      "naps <synapses_3.w: array([ -1.16399201, -11.40167053, -15.28588678,  -4.06184116,\n",
      "         8.27328585, -10.02162628,   8.16659643,   5.47583015,\n",
      "       -18.84867657,  -8.77539693])>\n",
      "N_EPOCH : 4\n",
      "generation time:  12.856963634490967\n",
      "w_homéo : {0: -0.1}\n",
      "len(delta_T_STDP) : 66420\n",
      "len(delta_T_r) :  123\n",
      "w_STDP_r_homéo : 10 w_STDP_r_homéo[0] -0.47969624090270724\n",
      "w_per_synapse_list [-0.47969624 -2.13761654 -0.9688876  -0.0727154  -0.36287651 -0.51874961\n",
      "  0.13124571  0.81581478 -0.99640037  0.14769291]\n",
      "W_STDP_r_homéo time :  131.98917889595032\n",
      "w_per_synapse_list [-0.47969624 -2.13761654 -0.9688876  -0.0727154  -0.36287651 -0.51874961\n",
      "  0.13124571  0.81581478 -0.99640037  0.14769291]\n",
      "NN time :  14.504424810409546\n",
      "naps <synapses_5.w: array([ -1.64368825, -13.53928707, -16.25477438,  -4.13455656,\n",
      "         7.91040934, -10.54037588,   8.29784214,   6.29164494,\n",
      "       -19.84507694,  -8.62770402])>\n",
      "N_EPOCH : 5\n",
      "generation time:  6.581793308258057\n",
      "w_homéo : {0: -0.1}\n",
      "len(delta_T_STDP) : 72192\n",
      "len(delta_T_r) :  141\n",
      "w_STDP_r_homéo : 10 w_STDP_r_homéo[0] -1.1224019045955698\n",
      "w_per_synapse_list [-1.12240190e+00 -4.49819941e+00 -2.61250537e+00 -4.37372342e-01\n",
      "  2.50225810e-01 -3.23621107e-03  5.42714862e-01 -1.25724896e+00\n",
      " -2.09898021e+00  4.56566180e-01]\n",
      "W_STDP_r_homéo time :  151.38266348838806\n",
      "w_per_synapse_list [-1.12240190e+00 -4.49819941e+00 -2.61250537e+00 -4.37372342e-01\n",
      "  2.50225810e-01 -3.23621107e-03  5.42714862e-01 -1.25724896e+00\n",
      " -2.09898021e+00  4.56566180e-01]\n",
      "NN time :  14.646905660629272\n",
      "naps <synapses_4.w: array([ -2.76609016, -18.03748648, -18.86727975,  -4.5719289 ,\n",
      "         8.16063515, -10.54361209,   8.840557  ,   5.03439598,\n",
      "       -21.94405715,  -8.17113784])>\n",
      "N_EPOCH : 6\n",
      "generation time:  11.85133957862854\n",
      "w_homéo : {0: -0.1}\n",
      "len(delta_T_STDP) : 62125\n",
      "len(delta_T_r) :  125\n",
      "w_STDP_r_homéo : 10 w_STDP_r_homéo[0] -2.0990531978358855\n",
      "w_per_synapse_list [-2.0990532  -1.63657969 -1.27933322  0.01403535 -1.01943297 -0.70514247\n",
      " -0.46547992  0.12010068 -1.68642096  0.03466357]\n",
      "W_STDP_r_homéo time :  114.34264707565308\n",
      "w_per_synapse_list [-2.0990532  -1.63657969 -1.27933322  0.01403535 -1.01943297 -0.70514247\n",
      " -0.46547992  0.12010068 -1.68642096  0.03466357]\n",
      "NN time :  9.26296854019165\n",
      "naps <synapses_3.w: array([ -4.86514336, -19.67406617, -20.14661297,  -4.55789355,\n",
      "         7.14120218, -11.24875457,   8.37507709,   5.15449666,\n",
      "       -23.63047811,  -8.13647427])>\n",
      "N_EPOCH : 7\n",
      "generation time:  6.297524690628052\n",
      "w_homéo : {0: -0.1}\n",
      "len(delta_T_STDP) : 50648\n",
      "len(delta_T_r) :  104\n",
      "w_STDP_r_homéo : 10 w_STDP_r_homéo[0] -0.6713112468319793\n",
      "w_per_synapse_list [-0.67131125 -1.92625839 -1.45613433 -0.79558232 -0.06753406  0.19935174\n",
      " -0.14749625 -0.57743206 -1.53384492  0.14581944]\n",
      "W_STDP_r_homéo time :  77.55061554908752\n",
      "w_per_synapse_list [-0.67131125 -1.92625839 -1.45613433 -0.79558232 -0.06753406  0.19935174\n",
      " -0.14749625 -0.57743206 -1.53384492  0.14581944]\n",
      "NN time :  20.75106978416443\n",
      "naps <synapses_5.w: array([ -5.5364546 , -21.60032456, -21.6027473 ,  -5.35347587,\n",
      "         7.07366812, -11.04940283,   8.22758084,   4.5770646 ,\n",
      "       -25.16432303,  -7.99065483])>\n",
      "N_EPOCH : 8\n",
      "generation time:  6.593302249908447\n",
      "w_homéo : {0: -0.1}\n",
      "len(delta_T_STDP) : 58116\n",
      "len(delta_T_r) :  116\n",
      "w_STDP_r_homéo : 10 w_STDP_r_homéo[0] -1.5614486489336656\n",
      "w_per_synapse_list [-1.56144865 -3.0672064  -1.9767563  -0.24983061 -1.73830636 -0.93979336\n",
      " -0.60859261 -1.7605235  -2.92363764  0.15331608]\n",
      "W_STDP_r_homéo time :  879.868744134903\n",
      "w_per_synapse_list [-1.56144865 -3.0672064  -1.9767563  -0.24983061 -1.73830636 -0.93979336\n",
      " -0.60859261 -1.7605235  -2.92363764  0.15331608]\n",
      "NN time :  14.521801948547363\n",
      "naps <synapses_4.w: array([ -7.09790325, -24.66753096, -23.5795036 ,  -5.60330649,\n",
      "         5.33536176, -11.98919619,   7.61898823,   2.8165411 ,\n",
      "       -28.08796067,  -7.83733875])>\n",
      "N_EPOCH : 9\n",
      "generation time:  11.39852523803711\n",
      "w_homéo : {0: -0.1}\n",
      "len(delta_T_STDP) : 52624\n",
      "len(delta_T_r) :  104\n",
      "w_STDP_r_homéo : 10 w_STDP_r_homéo[0] -0.7252169981382149\n",
      "w_per_synapse_list [-0.725217   -2.37779785 -0.98377167 -0.20375726 -0.09079053 -0.43261364\n",
      "  0.23579683 -0.3542775  -1.79147264 -0.4729039 ]\n",
      "W_STDP_r_homéo time :  136.26962447166443\n",
      "w_per_synapse_list [-0.725217   -2.37779785 -0.98377167 -0.20375726 -0.09079053 -0.43261364\n",
      "  0.23579683 -0.3542775  -1.79147264 -0.4729039 ]\n",
      "NN time :  5.761289834976196\n",
      "naps <synapses_3.w: array([ -7.82312025, -27.04532882, -24.56327527,  -5.80706375,\n",
      "         5.24457124, -12.42180982,   7.85478506,   2.4622636 ,\n",
      "       -29.87943331,  -8.31024266])>\n",
      "N_EPOCH : 10\n",
      "generation time:  8.01836633682251\n",
      "w_homéo : {0: -0.1}\n",
      "len(delta_T_STDP) : 50779\n",
      "len(delta_T_r) :  103\n",
      "w_STDP_r_homéo : 10 w_STDP_r_homéo[0] -0.7291476817504956\n",
      "w_per_synapse_list [-0.72914768 -2.36997224 -1.15223735 -0.0659218   1.14119539  0.08806827\n",
      "  0.26849889 -0.51519488 -1.06451514 -0.24927828]\n",
      "W_STDP_r_homéo time :  191.37646579742432\n",
      "w_per_synapse_list [-0.72914768 -2.36997224 -1.15223735 -0.0659218   1.14119539  0.08806827\n",
      "  0.26849889 -0.51519488 -1.06451514 -0.24927828]\n",
      "NN time :  19.507404565811157\n",
      "naps <synapses_5.w: array([ -8.55226793, -29.41530105, -25.71551262,  -5.87298555,\n",
      "         6.38576663, -12.33374155,   8.12328395,   1.94706872,\n",
      "       -30.94394845,  -8.55952094])>\n",
      "N_EPOCH : 11\n",
      "generation time:  10.63952088356018\n",
      "w_homéo : {0: -0.1}\n",
      "len(delta_T_STDP) : 34435\n",
      "len(delta_T_r) :  71\n",
      "w_STDP_r_homéo : 10 w_STDP_r_homéo[0] -0.06141205607992728\n",
      "w_per_synapse_list [-0.06141206 -1.33340846 -0.93009039 -0.24707738  0.37109617  0.04594745\n",
      " -0.06147448 -0.66778521 -1.13597543 -0.06007917]\n",
      "W_STDP_r_homéo time :  77.78563928604126\n",
      "w_per_synapse_list [-0.06141206 -1.33340846 -0.93009039 -0.24707738  0.37109617  0.04594745\n",
      " -0.06147448 -0.66778521 -1.13597543 -0.06007917]\n",
      "NN time :  7.784134149551392\n",
      "naps <synapses_4.w: array([ -8.61367999, -30.74870951, -26.64560301,  -6.12006293,\n",
      "         6.7568628 , -12.2877941 ,   8.06180946,   1.27928351,\n",
      "       -32.07992388,  -8.61960011])>\n",
      "N_EPOCH : 12\n",
      "generation time:  14.616611003875732\n",
      "w_homéo : {0: -0.1}\n",
      "len(delta_T_STDP) : 37668\n",
      "len(delta_T_r) :  73\n",
      "w_STDP_r_homéo : 10 w_STDP_r_homéo[0] -0.6583434526476649\n",
      "w_per_synapse_list [-0.65834345 -2.56941294 -1.19780429 -0.11213943 -1.19057365 -0.90532778\n",
      " -0.03376442 -0.20849449 -1.84912679  0.30760079]\n",
      "W_STDP_r_homéo time :  84.47730779647827\n",
      "w_per_synapse_list [-0.65834345 -2.56941294 -1.19780429 -0.11213943 -1.19057365 -0.90532778\n",
      " -0.03376442 -0.20849449 -1.84912679  0.30760079]\n",
      "NN time :  5.866749048233032\n",
      "naps <synapses_3.w: array([ -9.27202344, -33.31812245, -27.8434073 ,  -6.23220236,\n",
      "         5.56628915, -13.19312188,   8.02804504,   1.07078903,\n",
      "       -33.92905067,  -8.31199932])>\n",
      "N_EPOCH : 13\n",
      "generation time:  9.097546100616455\n",
      "w_homéo : {0: -0.1}\n",
      "len(delta_T_STDP) : 29146\n",
      "len(delta_T_r) :  59\n",
      "w_STDP_r_homéo : 10 w_STDP_r_homéo[0] -0.4229167348688112\n",
      "w_per_synapse_list [-0.42291673 -0.95482873 -0.70091254 -0.17170981 -0.36992776 -0.55419239\n",
      " -0.26880004 -0.06303204 -0.91985255  0.13596064]\n",
      "W_STDP_r_homéo time :  57.30729627609253\n",
      "w_per_synapse_list [-0.42291673 -0.95482873 -0.70091254 -0.17170981 -0.36992776 -0.55419239\n",
      " -0.26880004 -0.06303204 -0.91985255  0.13596064]\n",
      "NN time :  5.495408058166504\n",
      "naps <synapses_5.w: array([ -9.69494017, -34.27295118, -28.54431984,  -6.40391217,\n",
      "         5.19636139, -13.74731427,   7.75924501,   1.00775698,\n",
      "       -34.84890322,  -8.17603868])>\n",
      "N_EPOCH : 14\n",
      "generation time:  9.071159362792969\n",
      "w_homéo : {0: -0.1}\n",
      "len(delta_T_STDP) : 41730\n",
      "len(delta_T_r) :  78\n",
      "w_STDP_r_homéo : 10 w_STDP_r_homéo[0] -1.6401442055725348\n",
      "w_per_synapse_list [-1.64014421 -2.06179312 -0.83604202 -0.09150699 -0.38700732 -0.18522226\n",
      "  0.15152913 -0.73650718 -1.28228265  0.1282521 ]\n",
      "W_STDP_r_homéo time :  80.7529718875885\n",
      "w_per_synapse_list [-1.64014421 -2.06179312 -0.83604202 -0.09150699 -0.38700732 -0.18522226\n",
      "  0.15152913 -0.73650718 -1.28228265  0.1282521 ]\n",
      "NN time :  4.729131460189819\n",
      "naps <synapses_4.w: array([-11.33508438, -36.33474431, -29.38036187,  -6.49541917,\n",
      "         4.80935407, -13.93253653,   7.91077414,   0.27124981,\n",
      "       -36.13118587,  -8.04778658])>\n",
      "N_EPOCH : 15\n",
      "generation time:  8.583454370498657\n",
      "w_homéo : {0: -0.1}\n",
      "len(delta_T_STDP) : 41184\n",
      "len(delta_T_r) :  78\n",
      "w_STDP_r_homéo : 10 w_STDP_r_homéo[0] -1.4577958933030848\n",
      "w_per_synapse_list [-1.45779589 -2.55602041 -0.99004919 -0.79071647 -0.7465092  -0.41729296\n",
      " -0.42889207 -0.31865065 -1.62549969 -0.41169393]\n",
      "W_STDP_r_homéo time :  70.51658821105957\n",
      "w_per_synapse_list [-1.45779589 -2.55602041 -0.99004919 -0.79071647 -0.7465092  -0.41729296\n",
      " -0.42889207 -0.31865065 -1.62549969 -0.41169393]\n",
      "NN time :  4.497109651565552\n",
      "naps <synapses_3.w: array([-12.79288027, -38.89076472, -30.37041106,  -7.28613563,\n",
      "         4.06284486, -14.3498295 ,   7.48188207,  -0.04740084,\n",
      "       -37.75668555,  -8.45948052])>\n",
      "N_EPOCH : 16\n",
      "generation time:  7.458101511001587\n",
      "w_homéo : {0: -0.1}\n",
      "len(delta_T_STDP) : 37303\n",
      "len(delta_T_r) :  73\n",
      "w_STDP_r_homéo : 10 w_STDP_r_homéo[0] -0.3512569450177273\n",
      "w_per_synapse_list [-0.35125695 -0.86175228 -0.97294993  0.06062322  0.1233592  -0.17943325\n",
      " -0.43181276 -0.44812191 -0.54828668 -0.53774704]\n",
      "W_STDP_r_homéo time :  51.25482130050659\n",
      "w_per_synapse_list [-0.35125695 -0.86175228 -0.97294993  0.06062322  0.1233592  -0.17943325\n",
      " -0.43181276 -0.44812191 -0.54828668 -0.53774704]\n",
      "NN time :  4.426056623458862\n",
      "naps <synapses_5.w: array([-13.14413722, -39.752517  , -31.34336098,  -7.22551242,\n",
      "         4.18620406, -14.52926275,   7.0500693 ,  -0.49552276,\n",
      "       -38.30497224,  -8.99722756])>\n",
      "N_EPOCH : 17\n",
      "generation time:  8.590413093566895\n",
      "w_homéo : {0: -0.1}\n",
      "len(delta_T_STDP) : 44540\n",
      "len(delta_T_r) :  85\n",
      "w_STDP_r_homéo : 10 w_STDP_r_homéo[0] -1.2063249195181038\n",
      "w_per_synapse_list [-1.20632492 -1.78747344 -1.83174141 -0.23316993  0.32067917 -0.01850927\n",
      "  0.01548472 -0.54053248 -2.12912201  0.18075188]\n",
      "W_STDP_r_homéo time :  77.18212699890137\n",
      "w_per_synapse_list [-1.20632492 -1.78747344 -1.83174141 -0.23316993  0.32067917 -0.01850927\n",
      "  0.01548472 -0.54053248 -2.12912201  0.18075188]\n",
      "NN time :  4.433425188064575\n",
      "naps <synapses_4.w: array([-14.35046214, -41.53999043, -33.17510239,  -7.45868235,\n",
      "         4.50688323, -14.54777202,   7.06555403,  -1.03605524,\n",
      "       -40.43409425,  -8.81647568])>\n",
      "N_EPOCH : 18\n",
      "generation time:  7.549773931503296\n",
      "w_homéo : {0: -0.1}\n",
      "len(delta_T_STDP) : 36729\n",
      "len(delta_T_r) :  77\n",
      "w_STDP_r_homéo : 10 w_STDP_r_homéo[0] -0.7009381230520667\n",
      "w_per_synapse_list [-0.70093812 -1.07413421 -0.58626773  0.10531969 -0.25641757 -0.41549837\n",
      " -0.01587515 -0.09693498 -0.98833916 -0.13097696]\n",
      "W_STDP_r_homéo time :  52.57500457763672\n",
      "w_per_synapse_list [-0.70093812 -1.07413421 -0.58626773  0.10531969 -0.25641757 -0.41549837\n",
      " -0.01587515 -0.09693498 -0.98833916 -0.13097696]\n",
      "NN time :  5.087619066238403\n",
      "naps <synapses_3.w: array([-15.05140026, -42.61412465, -33.76137012,  -7.35336266,\n",
      "         4.25046566, -14.96327039,   7.04967887,  -1.13299022,\n",
      "       -41.42243341,  -8.94745263])>\n",
      "N_EPOCH : 19\n",
      "TIMETOT 6594.816721439362\n"
     ]
    }
   ],
   "source": [
    " delta_e_out, delta_e_true, delta_e_in, delta_w, naps_w, naps = learn_weight_2 (Ni, n_pattern, duration, nn_j, i_syn)"
   ]
  },
  {
   "cell_type": "code",
   "execution_count": 55,
   "id": "8c4f788f-cb33-43ac-8c24-c704dc886b8f",
   "metadata": {},
   "outputs": [
    {
     "data": {
      "text/plain": [
       "0.32"
      ]
     },
     "execution_count": 55,
     "metadata": {},
     "output_type": "execute_result"
    }
   ],
   "source": [
    "#signal/bruit \n",
    "len(y_s.t)*n_pattern / (len(delta_e_in[19])-len(y_s.t)*n_pattern)"
   ]
  },
  {
   "cell_type": "code",
   "execution_count": 20,
   "id": "0d96aa04-57ac-43b7-b76a-c5e680dda694",
   "metadata": {},
   "outputs": [
    {
     "data": {
      "image/png": "[encoded data removed]",
      "text/plain": [
       "<Figure size 720x288 with 1 Axes>"
      ]
     },
     "metadata": {
      "needs_background": "light"
     },
     "output_type": "display_data"
    }
   ],
   "source": [
    "plt.figure(figsize=(10,4))\n",
    "for i in range(len(delta_e_out[19])):\n",
    "    plt.scatter(delta_e_out[19][i][0], delta_e_out[19][i][1], marker = '|')"
   ]
  },
  {
   "cell_type": "code",
   "execution_count": 56,
   "id": "49603eec-5663-4f75-a2a4-a8c3eea2270f",
   "metadata": {},
   "outputs": [
    {
     "data": {
      "image/png": "[encoded data removed]",
      "text/plain": [
       "<Figure size 720x288 with 1 Axes>"
      ]
     },
     "metadata": {
      "needs_background": "light"
     },
     "output_type": "display_data"
    }
   ],
   "source": [
    "plt.figure(figsize=(10,4))\n",
    "for i in range(len(delta_e_true[19])):\n",
    "    plt.scatter(delta_e_true[19][i][0], delta_e_true[19][i][1], marker = '|')"
   ]
  },
  {
   "cell_type": "code",
   "execution_count": 64,
   "id": "de3f52c4-c05f-45cb-bf01-d0934cd193c9",
   "metadata": {},
   "outputs": [
    {
     "data": {
      "text/plain": [
       "(8, 8)"
      ]
     },
     "execution_count": 64,
     "metadata": {},
     "output_type": "execute_result"
    }
   ],
   "source": [
    "len(s.j), len(W[0])"
   ]
  },
  {
   "cell_type": "code",
   "execution_count": 63,
   "id": "52845968-b341-4757-b572-5a61bb2ea7de",
   "metadata": {},
   "outputs": [
    {
     "data": {
      "text/plain": [
       "(10, 10)"
      ]
     },
     "execution_count": 63,
     "metadata": {},
     "output_type": "execute_result"
    }
   ],
   "source": [
    "Ni*Nj, len(naps_w[18])"
   ]
  },
  {
   "cell_type": "code",
   "execution_count": 80,
   "id": "5bd72d91-bf6d-4acd-850c-e65a9293ff97",
   "metadata": {},
   "outputs": [
    {
     "data": {
      "text/plain": [
       "array([5.59890978, 3.18294414, 0.89475128, 0.3233948 , 0.3233948 ,\n",
       "       0.89475128, 3.18294414, 5.59890978])"
      ]
     },
     "execution_count": 80,
     "metadata": {},
     "output_type": "execute_result"
    }
   ],
   "source": [
    "s.w[0,:]"
   ]
  },
  {
   "cell_type": "code",
   "execution_count": 81,
   "id": "8c002f87-b4be-4f51-a6d1-d3a4a651f35d",
   "metadata": {},
   "outputs": [
    {
     "name": "stdout",
     "output_type": "stream",
     "text": [
      "1 0 [5.59890978]\n",
      "2 0 [3.18294414]\n",
      "5 0 [0.89475128]\n",
      "3 0 [0.3233948]\n",
      "9 0 [0.3233948]\n",
      "7 0 [0.89475128]\n",
      "0 0 [3.18294414]\n",
      "8 0 [5.59890978]\n"
     ]
    }
   ],
   "source": [
    "for i in s.j : \n",
    "    print(i,0, s.w[0,i])"
   ]
  },
  {
   "cell_type": "code",
   "execution_count": 75,
   "id": "1284afd9-fc95-482a-88a7-50e2a524da7d",
   "metadata": {},
   "outputs": [
    {
     "name": "stdout",
     "output_type": "stream",
     "text": [
      "1 0 [-42.61412465]\n",
      "2 0 [-33.76137012]\n",
      "5 0 [-14.96327039]\n",
      "3 0 [-7.35336266]\n",
      "9 0 [-8.94745263]\n",
      "7 0 [-1.13299022]\n",
      "0 0 [-15.05140026]\n",
      "8 0 [-41.42243341]\n"
     ]
    }
   ],
   "source": [
    "for i in s.j : \n",
    "    print(i, 0, naps.w[i,0])"
   ]
  },
  {
   "cell_type": "code",
   "execution_count": 73,
   "id": "52ff0d32-b46c-4960-a1d7-7bd6cd8218a2",
   "metadata": {},
   "outputs": [
    {
     "data": {
      "text/plain": [
       "([(246, 0),\n",
       "  (440, 0),\n",
       "  (534, 0),\n",
       "  (1405, 0),\n",
       "  (2025, 0),\n",
       "  (2547, 0),\n",
       "  (2712, 0),\n",
       "  (2742, 0),\n",
       "  (2860, 0),\n",
       "  (2939, 0),\n",
       "  (3026, 0),\n",
       "  (3117, 0),\n",
       "  (3303, 0),\n",
       "  (3446, 0),\n",
       "  (3680, 0),\n",
       "  (3703, 0),\n",
       "  (3736, 0),\n",
       "  (4011, 0),\n",
       "  (4112, 0),\n",
       "  (4281, 0),\n",
       "  (4322, 0),\n",
       "  (4325, 0),\n",
       "  (4484, 0),\n",
       "  (4687, 0),\n",
       "  (5004, 0),\n",
       "  (5031, 0),\n",
       "  (5098, 0),\n",
       "  (5383, 0),\n",
       "  (5424, 0),\n",
       "  (5989, 0),\n",
       "  (6163, 0),\n",
       "  (6203, 0),\n",
       "  (6268, 0),\n",
       "  (6337, 0),\n",
       "  (6477, 0),\n",
       "  (6556, 0),\n",
       "  (6602, 0),\n",
       "  (6759, 0),\n",
       "  (6766, 0),\n",
       "  (6777, 0),\n",
       "  (6868, 0),\n",
       "  (7119, 0),\n",
       "  (7332, 0),\n",
       "  (7377, 0),\n",
       "  (7420, 0),\n",
       "  (7586, 0),\n",
       "  (7833, 0),\n",
       "  (8260, 0),\n",
       "  (8277, 0),\n",
       "  (8340, 0),\n",
       "  (8632, 0),\n",
       "  (8632, 0),\n",
       "  (8641, 0),\n",
       "  (9024, 0),\n",
       "  (9099, 0),\n",
       "  (9150, 0),\n",
       "  (9223, 0),\n",
       "  (9647, 0),\n",
       "  (9679, 0)],\n",
       " [(193.8, 0),\n",
       "  (203.4, 0),\n",
       "  (361.1, 0),\n",
       "  (571.4, 0),\n",
       "  (905.0, 0),\n",
       "  (1028.4, 0),\n",
       "  (1051.0000000000002, 0),\n",
       "  (1166.4, 0),\n",
       "  (1213.0, 0),\n",
       "  (1282.6, 0),\n",
       "  (1331.2000000000003, 0),\n",
       "  (1457.8999999999999, 0),\n",
       "  (1562.4, 0),\n",
       "  (1726.1000000000001, 0),\n",
       "  (1870.3000000000002, 0),\n",
       "  (1963.6, 0),\n",
       "  (2007.7000000000003, 0),\n",
       "  (2088.5000000000005, 0),\n",
       "  (2090.5, 0),\n",
       "  (2141.1000000000004, 0),\n",
       "  (2302.9, 0),\n",
       "  (2363.1000000000004, 0),\n",
       "  (2723.9, 0),\n",
       "  (2824.6000000000004, 0),\n",
       "  (3365.4, 0),\n",
       "  (3691.6000000000004, 0),\n",
       "  (3763.5, 0),\n",
       "  (3801.3, 0),\n",
       "  (3943.0, 0),\n",
       "  (4039.7, 0),\n",
       "  (4450.0, 0),\n",
       "  (4486.400000000001, 0),\n",
       "  (4603.5, 0),\n",
       "  (4930.1, 0),\n",
       "  (4998.3, 0),\n",
       "  (5594.0, 0),\n",
       "  (5653.6, 0),\n",
       "  (6025.8, 0),\n",
       "  (6352.3, 0),\n",
       "  (6455.500000000001, 0),\n",
       "  (6683.6, 0),\n",
       "  (6830.1, 0),\n",
       "  (7059.8, 0),\n",
       "  (7223.7, 0),\n",
       "  (7312.3, 0),\n",
       "  (7401.1, 0),\n",
       "  (7539.5, 0),\n",
       "  (7644.3, 0),\n",
       "  (7826.1, 0),\n",
       "  (7958.400000000001, 0),\n",
       "  (8057.4000000000015, 0),\n",
       "  (8182.9, 0),\n",
       "  (8251.6, 0),\n",
       "  (8388.5, 0),\n",
       "  (8499.7, 0),\n",
       "  (8808.0, 0),\n",
       "  (8969.900000000001, 0),\n",
       "  (9016.199999999999, 0),\n",
       "  (9352.3, 0),\n",
       "  (9473.800000000001, 0),\n",
       "  (9576.9, 0),\n",
       "  (9804.6, 0),\n",
       "  (9940.6, 0),\n",
       "  (9952.400000000001, 0)])"
      ]
     },
     "execution_count": 73,
     "metadata": {},
     "output_type": "execute_result"
    }
   ],
   "source": [
    "delta_e_out[19], delta_e_true[19]"
   ]
  },
  {
   "cell_type": "code",
   "execution_count": 51,
   "id": "d3d58784-e0cf-473e-bb82-63c638b5d0da",
   "metadata": {},
   "outputs": [
    {
     "data": {
      "text/plain": [
       "8"
      ]
     },
     "execution_count": 51,
     "metadata": {},
     "output_type": "execute_result"
    }
   ],
   "source": [
    "len(W[0]*20)\n"
   ]
  },
  {
   "cell_type": "code",
   "execution_count": 48,
   "id": "4eaa25ca-5587-4345-8899-68da65285aa8",
   "metadata": {},
   "outputs": [
    {
     "ename": "ValueError",
     "evalue": "x and y must have same first dimension, but have shapes (1,) and (8,)",
     "output_type": "error",
     "traceback": [
      "\u001b[1;31m---------------------------------------------------------------------------\u001b[0m",
      "\u001b[1;31mValueError\u001b[0m                                Traceback (most recent call last)",
      "\u001b[1;32m~\\AppData\\Local\\Temp/ipykernel_46972/390000331.py\u001b[0m in \u001b[0;36m<module>\u001b[1;34m\u001b[0m\n\u001b[1;32m----> 1\u001b[1;33m \u001b[0mplt\u001b[0m\u001b[1;33m.\u001b[0m\u001b[0mplot\u001b[0m\u001b[1;33m(\u001b[0m\u001b[0mlen\u001b[0m\u001b[1;33m(\u001b[0m\u001b[0mW\u001b[0m\u001b[1;33m[\u001b[0m\u001b[1;36m0\u001b[0m\u001b[1;33m]\u001b[0m\u001b[1;33m)\u001b[0m\u001b[1;33m,\u001b[0m \u001b[0mW\u001b[0m\u001b[1;33m[\u001b[0m\u001b[1;36m0\u001b[0m\u001b[1;33m]\u001b[0m\u001b[1;33m*\u001b[0m\u001b[1;36m20\u001b[0m\u001b[1;33m)\u001b[0m\u001b[1;33m\u001b[0m\u001b[1;33m\u001b[0m\u001b[0m\n\u001b[0m",
      "\u001b[1;32m~\\anaconda3\\lib\\site-packages\\matplotlib\\pyplot.py\u001b[0m in \u001b[0;36mplot\u001b[1;34m(scalex, scaley, data, *args, **kwargs)\u001b[0m\n\u001b[0;32m   3017\u001b[0m \u001b[1;33m@\u001b[0m\u001b[0m_copy_docstring_and_deprecators\u001b[0m\u001b[1;33m(\u001b[0m\u001b[0mAxes\u001b[0m\u001b[1;33m.\u001b[0m\u001b[0mplot\u001b[0m\u001b[1;33m)\u001b[0m\u001b[1;33m\u001b[0m\u001b[1;33m\u001b[0m\u001b[0m\n\u001b[0;32m   3018\u001b[0m \u001b[1;32mdef\u001b[0m \u001b[0mplot\u001b[0m\u001b[1;33m(\u001b[0m\u001b[1;33m*\u001b[0m\u001b[0margs\u001b[0m\u001b[1;33m,\u001b[0m \u001b[0mscalex\u001b[0m\u001b[1;33m=\u001b[0m\u001b[1;32mTrue\u001b[0m\u001b[1;33m,\u001b[0m \u001b[0mscaley\u001b[0m\u001b[1;33m=\u001b[0m\u001b[1;32mTrue\u001b[0m\u001b[1;33m,\u001b[0m \u001b[0mdata\u001b[0m\u001b[1;33m=\u001b[0m\u001b[1;32mNone\u001b[0m\u001b[1;33m,\u001b[0m \u001b[1;33m**\u001b[0m\u001b[0mkwargs\u001b[0m\u001b[1;33m)\u001b[0m\u001b[1;33m:\u001b[0m\u001b[1;33m\u001b[0m\u001b[1;33m\u001b[0m\u001b[0m\n\u001b[1;32m-> 3019\u001b[1;33m     return gca().plot(\n\u001b[0m\u001b[0;32m   3020\u001b[0m         \u001b[1;33m*\u001b[0m\u001b[0margs\u001b[0m\u001b[1;33m,\u001b[0m \u001b[0mscalex\u001b[0m\u001b[1;33m=\u001b[0m\u001b[0mscalex\u001b[0m\u001b[1;33m,\u001b[0m \u001b[0mscaley\u001b[0m\u001b[1;33m=\u001b[0m\u001b[0mscaley\u001b[0m\u001b[1;33m,\u001b[0m\u001b[1;33m\u001b[0m\u001b[1;33m\u001b[0m\u001b[0m\n\u001b[0;32m   3021\u001b[0m         **({\"data\": data} if data is not None else {}), **kwargs)\n",
      "\u001b[1;32m~\\anaconda3\\lib\\site-packages\\matplotlib\\axes\\_axes.py\u001b[0m in \u001b[0;36mplot\u001b[1;34m(self, scalex, scaley, data, *args, **kwargs)\u001b[0m\n\u001b[0;32m   1603\u001b[0m         \"\"\"\n\u001b[0;32m   1604\u001b[0m         \u001b[0mkwargs\u001b[0m \u001b[1;33m=\u001b[0m \u001b[0mcbook\u001b[0m\u001b[1;33m.\u001b[0m\u001b[0mnormalize_kwargs\u001b[0m\u001b[1;33m(\u001b[0m\u001b[0mkwargs\u001b[0m\u001b[1;33m,\u001b[0m \u001b[0mmlines\u001b[0m\u001b[1;33m.\u001b[0m\u001b[0mLine2D\u001b[0m\u001b[1;33m)\u001b[0m\u001b[1;33m\u001b[0m\u001b[1;33m\u001b[0m\u001b[0m\n\u001b[1;32m-> 1605\u001b[1;33m         \u001b[0mlines\u001b[0m \u001b[1;33m=\u001b[0m \u001b[1;33m[\u001b[0m\u001b[1;33m*\u001b[0m\u001b[0mself\u001b[0m\u001b[1;33m.\u001b[0m\u001b[0m_get_lines\u001b[0m\u001b[1;33m(\u001b[0m\u001b[1;33m*\u001b[0m\u001b[0margs\u001b[0m\u001b[1;33m,\u001b[0m \u001b[0mdata\u001b[0m\u001b[1;33m=\u001b[0m\u001b[0mdata\u001b[0m\u001b[1;33m,\u001b[0m \u001b[1;33m**\u001b[0m\u001b[0mkwargs\u001b[0m\u001b[1;33m)\u001b[0m\u001b[1;33m]\u001b[0m\u001b[1;33m\u001b[0m\u001b[1;33m\u001b[0m\u001b[0m\n\u001b[0m\u001b[0;32m   1606\u001b[0m         \u001b[1;32mfor\u001b[0m \u001b[0mline\u001b[0m \u001b[1;32min\u001b[0m \u001b[0mlines\u001b[0m\u001b[1;33m:\u001b[0m\u001b[1;33m\u001b[0m\u001b[1;33m\u001b[0m\u001b[0m\n\u001b[0;32m   1607\u001b[0m             \u001b[0mself\u001b[0m\u001b[1;33m.\u001b[0m\u001b[0madd_line\u001b[0m\u001b[1;33m(\u001b[0m\u001b[0mline\u001b[0m\u001b[1;33m)\u001b[0m\u001b[1;33m\u001b[0m\u001b[1;33m\u001b[0m\u001b[0m\n",
      "\u001b[1;32m~\\anaconda3\\lib\\site-packages\\matplotlib\\axes\\_base.py\u001b[0m in \u001b[0;36m__call__\u001b[1;34m(self, data, *args, **kwargs)\u001b[0m\n\u001b[0;32m    313\u001b[0m                 \u001b[0mthis\u001b[0m \u001b[1;33m+=\u001b[0m \u001b[0margs\u001b[0m\u001b[1;33m[\u001b[0m\u001b[1;36m0\u001b[0m\u001b[1;33m]\u001b[0m\u001b[1;33m,\u001b[0m\u001b[1;33m\u001b[0m\u001b[1;33m\u001b[0m\u001b[0m\n\u001b[0;32m    314\u001b[0m                 \u001b[0margs\u001b[0m \u001b[1;33m=\u001b[0m \u001b[0margs\u001b[0m\u001b[1;33m[\u001b[0m\u001b[1;36m1\u001b[0m\u001b[1;33m:\u001b[0m\u001b[1;33m]\u001b[0m\u001b[1;33m\u001b[0m\u001b[1;33m\u001b[0m\u001b[0m\n\u001b[1;32m--> 315\u001b[1;33m             \u001b[1;32myield\u001b[0m \u001b[1;32mfrom\u001b[0m \u001b[0mself\u001b[0m\u001b[1;33m.\u001b[0m\u001b[0m_plot_args\u001b[0m\u001b[1;33m(\u001b[0m\u001b[0mthis\u001b[0m\u001b[1;33m,\u001b[0m \u001b[0mkwargs\u001b[0m\u001b[1;33m)\u001b[0m\u001b[1;33m\u001b[0m\u001b[1;33m\u001b[0m\u001b[0m\n\u001b[0m\u001b[0;32m    316\u001b[0m \u001b[1;33m\u001b[0m\u001b[0m\n\u001b[0;32m    317\u001b[0m     \u001b[1;32mdef\u001b[0m \u001b[0mget_next_color\u001b[0m\u001b[1;33m(\u001b[0m\u001b[0mself\u001b[0m\u001b[1;33m)\u001b[0m\u001b[1;33m:\u001b[0m\u001b[1;33m\u001b[0m\u001b[1;33m\u001b[0m\u001b[0m\n",
      "\u001b[1;32m~\\anaconda3\\lib\\site-packages\\matplotlib\\axes\\_base.py\u001b[0m in \u001b[0;36m_plot_args\u001b[1;34m(self, tup, kwargs, return_kwargs)\u001b[0m\n\u001b[0;32m    499\u001b[0m \u001b[1;33m\u001b[0m\u001b[0m\n\u001b[0;32m    500\u001b[0m         \u001b[1;32mif\u001b[0m \u001b[0mx\u001b[0m\u001b[1;33m.\u001b[0m\u001b[0mshape\u001b[0m\u001b[1;33m[\u001b[0m\u001b[1;36m0\u001b[0m\u001b[1;33m]\u001b[0m \u001b[1;33m!=\u001b[0m \u001b[0my\u001b[0m\u001b[1;33m.\u001b[0m\u001b[0mshape\u001b[0m\u001b[1;33m[\u001b[0m\u001b[1;36m0\u001b[0m\u001b[1;33m]\u001b[0m\u001b[1;33m:\u001b[0m\u001b[1;33m\u001b[0m\u001b[1;33m\u001b[0m\u001b[0m\n\u001b[1;32m--> 501\u001b[1;33m             raise ValueError(f\"x and y must have same first dimension, but \"\n\u001b[0m\u001b[0;32m    502\u001b[0m                              f\"have shapes {x.shape} and {y.shape}\")\n\u001b[0;32m    503\u001b[0m         \u001b[1;32mif\u001b[0m \u001b[0mx\u001b[0m\u001b[1;33m.\u001b[0m\u001b[0mndim\u001b[0m \u001b[1;33m>\u001b[0m \u001b[1;36m2\u001b[0m \u001b[1;32mor\u001b[0m \u001b[0my\u001b[0m\u001b[1;33m.\u001b[0m\u001b[0mndim\u001b[0m \u001b[1;33m>\u001b[0m \u001b[1;36m2\u001b[0m\u001b[1;33m:\u001b[0m\u001b[1;33m\u001b[0m\u001b[1;33m\u001b[0m\u001b[0m\n",
      "\u001b[1;31mValueError\u001b[0m: x and y must have same first dimension, but have shapes (1,) and (8,)"
     ]
    },
    {
     "data": {
      "image/png": "[encoded data removed]",
      "text/plain": [
       "<Figure size 432x288 with 1 Axes>"
      ]
     },
     "metadata": {
      "needs_background": "light"
     },
     "output_type": "display_data"
    }
   ],
   "source": [
    "plt.plot(len(W[0]), W[0]*20)"
   ]
  },
  {
   "cell_type": "code",
   "execution_count": 27,
   "id": "3c7efb68-72eb-46b7-911b-09e274520241",
   "metadata": {},
   "outputs": [
    {
     "data": {
      "text/plain": [
       "[<synapses_3.w: array([ 6.5510462 ,  0.34287333, -5.72263244, -2.75468694,  8.48645038,\n",
       "        -7.07253608,  8.59317483,  6.72434846, -7.93574788, -7.70086994])>,\n",
       " <synapses_5.w: array([ 4.93609182, -2.8162177 , -8.1804243 , -3.14304484,  8.28429047,\n",
       "        -7.24507592,  8.22519738,  6.69773689, -9.91920099, -7.36330797])>,\n",
       " <synapses_4.w: array([ -0.222341  ,  -9.23028118, -14.71490329,  -3.4956719 ,\n",
       "          8.78791927,  -8.74212107,   7.79459104,   6.33664569,\n",
       "        -17.21274776,  -8.2037113 ])>,\n",
       " <synapses_3.w: array([ -1.16399201, -11.40167053, -15.28588678,  -4.06184116,\n",
       "          8.27328585, -10.02162628,   8.16659643,   5.47583015,\n",
       "        -18.84867657,  -8.77539693])>,\n",
       " <synapses_5.w: array([ -1.64368825, -13.53928707, -16.25477438,  -4.13455656,\n",
       "          7.91040934, -10.54037588,   8.29784214,   6.29164494,\n",
       "        -19.84507694,  -8.62770402])>,\n",
       " <synapses_4.w: array([ -2.76609016, -18.03748648, -18.86727975,  -4.5719289 ,\n",
       "          8.16063515, -10.54361209,   8.840557  ,   5.03439598,\n",
       "        -21.94405715,  -8.17113784])>,\n",
       " <synapses_3.w: array([ -4.86514336, -19.67406617, -20.14661297,  -4.55789355,\n",
       "          7.14120218, -11.24875457,   8.37507709,   5.15449666,\n",
       "        -23.63047811,  -8.13647427])>,\n",
       " <synapses_5.w: array([ -5.5364546 , -21.60032456, -21.6027473 ,  -5.35347587,\n",
       "          7.07366812, -11.04940283,   8.22758084,   4.5770646 ,\n",
       "        -25.16432303,  -7.99065483])>,\n",
       " <synapses_4.w: array([ -7.09790325, -24.66753096, -23.5795036 ,  -5.60330649,\n",
       "          5.33536176, -11.98919619,   7.61898823,   2.8165411 ,\n",
       "        -28.08796067,  -7.83733875])>,\n",
       " <synapses_3.w: array([ -7.82312025, -27.04532882, -24.56327527,  -5.80706375,\n",
       "          5.24457124, -12.42180982,   7.85478506,   2.4622636 ,\n",
       "        -29.87943331,  -8.31024266])>,\n",
       " <synapses_5.w: array([ -8.55226793, -29.41530105, -25.71551262,  -5.87298555,\n",
       "          6.38576663, -12.33374155,   8.12328395,   1.94706872,\n",
       "        -30.94394845,  -8.55952094])>,\n",
       " <synapses_4.w: array([ -8.61367999, -30.74870951, -26.64560301,  -6.12006293,\n",
       "          6.7568628 , -12.2877941 ,   8.06180946,   1.27928351,\n",
       "        -32.07992388,  -8.61960011])>,\n",
       " <synapses_3.w: array([ -9.27202344, -33.31812245, -27.8434073 ,  -6.23220236,\n",
       "          5.56628915, -13.19312188,   8.02804504,   1.07078903,\n",
       "        -33.92905067,  -8.31199932])>,\n",
       " <synapses_5.w: array([ -9.69494017, -34.27295118, -28.54431984,  -6.40391217,\n",
       "          5.19636139, -13.74731427,   7.75924501,   1.00775698,\n",
       "        -34.84890322,  -8.17603868])>,\n",
       " <synapses_4.w: array([-11.33508438, -36.33474431, -29.38036187,  -6.49541917,\n",
       "          4.80935407, -13.93253653,   7.91077414,   0.27124981,\n",
       "        -36.13118587,  -8.04778658])>,\n",
       " <synapses_3.w: array([-12.79288027, -38.89076472, -30.37041106,  -7.28613563,\n",
       "          4.06284486, -14.3498295 ,   7.48188207,  -0.04740084,\n",
       "        -37.75668555,  -8.45948052])>,\n",
       " <synapses_5.w: array([-13.14413722, -39.752517  , -31.34336098,  -7.22551242,\n",
       "          4.18620406, -14.52926275,   7.0500693 ,  -0.49552276,\n",
       "        -38.30497224,  -8.99722756])>,\n",
       " <synapses_4.w: array([-14.35046214, -41.53999043, -33.17510239,  -7.45868235,\n",
       "          4.50688323, -14.54777202,   7.06555403,  -1.03605524,\n",
       "        -40.43409425,  -8.81647568])>,\n",
       " <synapses_3.w: array([-15.05140026, -42.61412465, -33.76137012,  -7.35336266,\n",
       "          4.25046566, -14.96327039,   7.04967887,  -1.13299022,\n",
       "        -41.42243341,  -8.94745263])>]"
      ]
     },
     "execution_count": 27,
     "metadata": {},
     "output_type": "execute_result"
    }
   ],
   "source": [
    "naps_w"
   ]
  },
  {
   "cell_type": "code",
   "execution_count": 38,
   "id": "39a4f313-a96d-4a94-871c-2308427498d6",
   "metadata": {},
   "outputs": [
    {
     "data": {
      "text/plain": [
       "array([5.59890978, 3.18294414, 0.89475128, 0.3233948 , 0.3233948 ,\n",
       "       0.89475128, 3.18294414, 5.59890978])"
      ]
     },
     "execution_count": 38,
     "metadata": {},
     "output_type": "execute_result"
    }
   ],
   "source": [
    "[W][0][0]*20"
   ]
  },
  {
   "cell_type": "code",
   "execution_count": null,
   "id": "a4ca9891-a822-45a1-ab8e-fa9fdd5db911",
   "metadata": {},
   "outputs": [],
   "source": []
  }
 ],
 "metadata": {
  "kernelspec": {
   "display_name": "Python 3 (ipykernel)",
   "language": "python",
   "name": "python3"
  },
  "language_info": {
   "codemirror_mode": {
    "name": "ipython",
    "version": 3
   },
   "file_extension": ".py",
   "mimetype": "text/x-python",
   "name": "python",
   "nbconvert_exporter": "python",
   "pygments_lexer": "ipython3",
   "version": "3.9.7"
  }
 },
 "nbformat": 4,
 "nbformat_minor": 5
}
