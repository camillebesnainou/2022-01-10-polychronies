{
 "cells": [
  {
   "cell_type": "markdown",
   "id": "e7b3bfda-f336-434c-bf91-17a2ddef6340",
   "metadata": {},
   "source": [
    "-> generation de e_in avec une séquence qui se répète \n",
    "\n",
    "-> génération de e_in avec une séquence qui se répète avec du bruit \n",
    "\n",
    "-> STDP entre e_in et e_out pour apprendre les poids "
   ]
  },
  {
   "cell_type": "code",
   "execution_count": 1,
   "id": "33fb9127-9242-4e93-a9fd-bbd330fed36f",
   "metadata": {},
   "outputs": [
    {
     "name": "stderr",
     "output_type": "stream",
     "text": [
      "INFO       Cache size for target \"cython\": 2146 MB.\n",
      "You can call \"clear_cache('cython')\" to delete all files from the cache or manually delete files in the \"C:\\Users\\camil\\.cython\\brian_extensions\" directory. [brian2]\n"
     ]
    }
   ],
   "source": [
    "from brian2 import *\n",
    "%matplotlib inline\n",
    "from brian2 import SpikeGeneratorGroup\n",
    "from brian2 import NeuronGroup\n",
    "import numpy as np\n",
    "import random\n",
    "import pandas as pd"
   ]
  },
  {
   "cell_type": "code",
   "execution_count": 2,
   "id": "4c0a82e4-c9e6-45db-a2d9-522328d87853",
   "metadata": {},
   "outputs": [],
   "source": [
    "Ni = 1 #nb de PGs différents\n",
    "Nj = 10 #nb d'adresses en entrée \n",
    "n_pattern = 30 # nb d'occurrence des PGs \n",
    "duration = 10*second"
   ]
  },
  {
   "cell_type": "code",
   "execution_count": 3,
   "id": "fb166481-43e5-4afe-b944-d877c564ba0b",
   "metadata": {},
   "outputs": [],
   "source": [
    "# --- def du moment d'occurence des PGs -------------------------------------------------------------------------------------------------\n",
    "\n",
    "i_indices = np.random.randint(0, Ni, size = n_pattern) # nombre de PG observé (n_pattern), de Ni sortes différentes\n",
    "i_temps = np.random.uniform(0, duration, size = n_pattern)*second # temps d'occurence des n_pattern PG \n",
    "\n",
    "\n",
    "# --- def des projections des neurones pré-syn (i.e. des PGs) -----------------------------------------------------------------------\n",
    "\n",
    "i_syn=[]\n",
    "n_syn = []\n",
    "nn_j = []\n",
    "W = []\n",
    "n_j_quick =[]\n",
    "\n",
    "kappa = 1.5\n",
    "for k in range(Ni) : \n",
    "    n_j = (np.random.randint(3, Nj, size = 1)) # nombre de neurone qu'un Ni va connecter : au moins 3 neurones impliqués dans un PG\n",
    "    i_syn.append(random.sample(range(Nj), int(n_j))) # def des j connectés aux i, pas de repetition (pas de delais heterosynaptique)\n",
    "    n_syn.append(len(i_syn[k])) # def du nb de synapses pour set des poids et délais aléatoires, voir ci-après \n",
    "    #W.append(list(np.random.rand(int(n_j))))\n",
    "    W.append(list(np.exp(kappa*np.cos(2*np.pi * (np.linspace(0, 1, int(n_j), endpoint=True) - k/Ni )))))\n",
    "    W[k] /= sum(W[k])\n",
    "    i_syn_bruit = np.linspace\n",
    "n_syn = sum(n_syn) \n",
    "\n",
    "\n",
    "# --- def des poids et delais synaptiques -----------------------------------------------------------------------------------------------\n",
    "\n",
    "#weight = np.random.rand(n_syn) # des fois les poids générés pour 1 gp sont trop faibles pour que la detection marche, faudrait il faire en sorte que la somme des poids générés pour 1 gp soit = 1 \n",
    "delay = np.random.rand(n_syn)*0.1*second # là entre 0 et 100 "
   ]
  },
  {
   "cell_type": "markdown",
   "id": "25628f7a-dc33-48cc-89e9-e4da80ef50fe",
   "metadata": {},
   "source": [
    "#### quick"
   ]
  },
  {
   "cell_type": "code",
   "execution_count": 4,
   "id": "75fc4260-297e-4d31-8855-cbc2b3cc5e75",
   "metadata": {},
   "outputs": [],
   "source": [
    "def quick_generator(Ni, Nj, n_pattern, i_indices, i_temps, i_syn, W, delay, sigma):\n",
    "    start_scope()\n",
    "    start = time.time()\n",
    "    \n",
    "    a = SpikeGeneratorGroup(Ni, i_indices, i_temps)\n",
    "    a_spike = SpikeMonitor(a)\n",
    "    \n",
    "    b = NeuronGroup(Nj, ''' dv/dt = -v/tau + sigma*sqrt(2/tau)*xi  : volt\n",
    "                                tau : second''',\n",
    "                       threshold= 'v > 0.02000*volt',\n",
    "                        reset= 'v = 0*volt',\n",
    "                        method = 'euler')\n",
    "#+ sigma*sqrt(2/tau)*xi \n",
    "    b.v = 0*volt\n",
    "    b.tau = 0.01*second\n",
    "\n",
    "    b_spike = SpikeMonitor(b)\n",
    "        #b_state = StateMonitor(b, 'v', record = True)\n",
    "\n",
    "    s = Synapses(a,b, on_pre='v+=(0.01*volt*w)', model = 'w:1')\n",
    "    \n",
    "    for k in range(Ni):\n",
    "        s.connect(i = k , j = i_syn[k])\n",
    "        s.w[k,:] = W[k]*20 \n",
    "            \n",
    "    s.delay[:,:] = delay\n",
    "    \n",
    "    # --- generation de e_true/detectorrr_terminator ----------------------------------------------------------------------------------\n",
    "    \n",
    "    \n",
    "    c =  NeuronGroup(Ni, ''' dv/dt = -v/tau : volt\n",
    "                                tau : second''',\n",
    "                        threshold= 'v > 0.005*volt',\n",
    "                        reset= 'v = 0*volt', \n",
    "                        method = 'exact')\n",
    "    \n",
    "    c.v = 0*volt\n",
    "    c.tau = 0.1*second\n",
    "    c_spike = SpikeMonitor(c)\n",
    "    \n",
    "    syn = Synapses(b,c, on_pre='v+=(0.01*volt*w)', model = 'w:1')\n",
    "    \n",
    "    for k in range(Ni):\n",
    "        syn.connect(i = i_syn[k], j = k)         \n",
    "        syn.w[:,k] = W[k]\n",
    "        syn.delay[:,k] = max(s.delay[k,:])-s.delay[k,:]\n",
    "    \n",
    "    \n",
    "    net_quick = Network(collect())\n",
    "    net_quick.add(a, a_spike, b, b_spike, c, c_spike, s, syn)\n",
    "    net_quick.run(duration)\n",
    "    \n",
    "    e_in_ = (b_spike.t, b_spike.i)\n",
    "    e_true_ = (c_spike.t, c_spike.i) #plutot a_spike ? \n",
    "    \n",
    "    e_in=[]\n",
    "    e_true=[]\n",
    "    \n",
    "    for i in range(len(e_in_[0])):\n",
    "        e_in.append(tuple((e_in_[0][i]*1000/second, e_in_[1][i])))\n",
    "    \n",
    "    for i in range(len(e_true_[0])):\n",
    "        e_true.append(tuple((e_true_[0][i]*1000/second, e_true_[1][i])))\n",
    "        \n",
    "    print('generation time: ', time.time() - start)\n",
    "    \n",
    "    return s, syn, a_spike, b_spike, c_spike, e_in, e_true\n",
    "        "
   ]
  },
  {
   "cell_type": "code",
   "execution_count": 5,
   "id": "5d3a1007-a176-4a92-b5fb-dc4a966c09d5",
   "metadata": {},
   "outputs": [
    {
     "name": "stdout",
     "output_type": "stream",
     "text": [
      "generation time:  12.285485982894897\n"
     ]
    }
   ],
   "source": [
    "sigma = 8.3*mV\n",
    "s, syn, a_spike, b_spike, c_spike, e_in, e_true = quick_generator(Ni, Nj, n_pattern, i_indices, i_temps, i_syn, W, delay, sigma)"
   ]
  },
  {
   "cell_type": "code",
   "execution_count": 6,
   "id": "c1ff780e-355e-49de-b8e7-edb05c80e0a9",
   "metadata": {},
   "outputs": [
    {
     "data": {
      "image/png": "[encoded data removed]",
      "text/plain": [
       "<Figure size 720x288 with 1 Axes>"
      ]
     },
     "metadata": {
      "needs_background": "light"
     },
     "output_type": "display_data"
    }
   ],
   "source": [
    "plt.figure(figsize=(10,4))\n",
    "for i in range(len(e_in)):\n",
    "    plt.scatter(e_in[i][0], e_in[i][1],marker ='|')"
   ]
  },
  {
   "cell_type": "code",
   "execution_count": 7,
   "id": "f561bbcf-44b6-41e5-8251-f854de2816b4",
   "metadata": {},
   "outputs": [
    {
     "data": {
      "image/png": "[encoded data removed]",
      "text/plain": [
       "<Figure size 720x288 with 1 Axes>"
      ]
     },
     "metadata": {
      "needs_background": "light"
     },
     "output_type": "display_data"
    }
   ],
   "source": [
    "plt.figure(figsize=(10,4))\n",
    "for i in range(len(e_true)):\n",
    "    plt.scatter(e_true[i][0], e_true[i][1],marker ='|')"
   ]
  },
  {
   "cell_type": "markdown",
   "id": "a894ad23-bad0-47b7-a317-cefb6b4707dc",
   "metadata": {},
   "source": [
    "#### each"
   ]
  },
  {
   "cell_type": "code",
   "execution_count": 8,
   "id": "63285d7a-a66f-4e8f-89a6-cbe21d7c1a67",
   "metadata": {},
   "outputs": [],
   "source": [
    "def i_want_to_see_each_sequence (Ni, duration, W, delay, i_syn) : \n",
    "    \n",
    "    start_scope()\n",
    "    start = time.time()\n",
    "    \n",
    "    \n",
    "    x = SpikeGeneratorGroup(Ni, linspace(0,Ni-1, num = Ni, dtype = int), linspace(0,Ni-1, num = Ni, dtype = int)*second)\n",
    "    x_s = SpikeMonitor(x)\n",
    "        \n",
    "    y = NeuronGroup(Nj, ''' dv/dt = -v/tau : volt\n",
    "                                tau : second''',\n",
    "                        threshold= 'v > 0.02*volt',\n",
    "                        reset= 'v = 0*volt', \n",
    "                        method = 'exact')\n",
    "    y_s = SpikeMonitor(y)\n",
    "    \n",
    "    y.v = 0*volt\n",
    "    y.tau = 0.01*second\n",
    "    \n",
    "    z = Synapses(x,y, on_pre='v+=(0.01*volt*w)', model = 'w:1')\n",
    "    \n",
    "    for k in range(Ni):\n",
    "        z.connect(i = k , j = i_syn[k])\n",
    "        z.w[k,:] = W[k]*20 \n",
    "             \n",
    "    z.delay[:,:] = delay        \n",
    "    \n",
    "    net_see_seq = Network(collect())\n",
    "    net_see_seq.add(x, x_s, y, y_s, z)\n",
    "    net_see_seq.run(3*second)\n",
    "    \n",
    "    plt.figure(figsize =(10,4))\n",
    "    plt.scatter(x_s.t, x_s.i, marker = '|')\n",
    "    \n",
    "    plt.figure(figsize =(10,4))\n",
    "    plt.scatter(y_s.t, y_s.i, marker = '|')\n",
    "    print('each seq time :', time.time() - start )\n",
    "    return x_s, y_s, z"
   ]
  },
  {
   "cell_type": "code",
   "execution_count": 9,
   "id": "d7617c7c-5171-4056-8a9c-98a7268334bf",
   "metadata": {},
   "outputs": [
    {
     "name": "stdout",
     "output_type": "stream",
     "text": [
      "each seq time : 2.3642923831939697\n"
     ]
    },
    {
     "data": {
      "image/png": "[encoded data removed]",
      "text/plain": [
       "<Figure size 720x288 with 1 Axes>"
      ]
     },
     "metadata": {
      "needs_background": "light"
     },
     "output_type": "display_data"
    },
    {
     "data": {
      "image/png": "[encoded data removed]",
      "text/plain": [
       "<Figure size 720x288 with 1 Axes>"
      ]
     },
     "metadata": {
      "needs_background": "light"
     },
     "output_type": "display_data"
    }
   ],
   "source": [
    "x_s, y_s, z = i_want_to_see_each_sequence (Ni, duration, W, delay, i_syn) "
   ]
  },
  {
   "cell_type": "code",
   "execution_count": 10,
   "id": "a91e921e-100d-4677-ad15-02851561fbe1",
   "metadata": {},
   "outputs": [
    {
     "data": {
      "text/plain": [
       "[array([0.27994549, 0.15914721, 0.04473756, 0.01616974, 0.01616974,\n",
       "        0.04473756, 0.15914721, 0.27994549])]"
      ]
     },
     "execution_count": 10,
     "metadata": {},
     "output_type": "execute_result"
    }
   ],
   "source": [
    "W"
   ]
  },
  {
   "cell_type": "markdown",
   "id": "75c42fc4-4330-4066-9293-e0b811210902",
   "metadata": {},
   "source": [
    "#### STDP"
   ]
  },
  {
   "cell_type": "code",
   "execution_count": 124,
   "id": "f7e421bb-2734-4cd8-b51a-5228ab30936c",
   "metadata": {},
   "outputs": [],
   "source": [
    "def STDP_with_r(e_in, e_out, e_true, N_epoch):\n",
    "    \n",
    "    start = time.time()\n",
    "\n",
    "    e_true_safe= [ele for ele in e_true if ele != []]\n",
    "    \n",
    "    tau_pre = tau_post = 100*ms #même tau pour w_stdp et w_r ? \n",
    "    A_pre = 0.1\n",
    "    A_post = -A_pre*1.05\n",
    "    \n",
    "# === règle homeostasique =====================================================================================================================\n",
    "\n",
    "    len_e_true = {}\n",
    "    len_e_out = {}\n",
    "    w_homéo = {}\n",
    "    \n",
    "    #for i in range(Ni):\n",
    "     #   len_e_true[i] = []\n",
    "       # len_e_out[i] = []\n",
    "        #w_homéo[i] = []\n",
    "        #for k in e_true_safe :\n",
    "         #   if k[1]==i : \n",
    "          #      len_e_true[i].append(k[1])\n",
    "        #for k in e_out:\n",
    "         #   if k[1]==i : \n",
    "          #      len_e_out[i].append(k[1])\n",
    "        #if len(len_e_true[i])>len(len_e_out[i]) :\n",
    "         #   w_homéo[i] = 0.1\n",
    "        #if len(len_e_true[i])<len(len_e_out[i]) :\n",
    "         #   w_homéo[i] = -0.1\n",
    "       # if len(len_e_true[i])==len(len_e_out[i]) :\n",
    "        #    w_homéo[i] = 0 \n",
    "            \n",
    "    #print('w_homéo :', w_homéo)    \n",
    "        \n",
    "            \n",
    "# === STDP entre e_in et e_out =================================================================================================================\n",
    "    \n",
    "    # --- delta_T entre chaque paire de spike -------------------------------------------------------------------------------------------------\n",
    "    \n",
    "    delta_T_STDP = []\n",
    "    comparaison_STDP = []\n",
    "    \n",
    "    for k in range(len(e_out)):\n",
    "        for i in range(len(e_in)):\n",
    "            delta_T_STDP.append(e_out[k][0]*ms - e_in[i][0]*ms) #on prend le premier spike de e_out et on le compare avec tous les spikes de e_in (Ni,Nj)\n",
    "            comparaison_STDP.append([e_out[k][1], e_in[i][1]])\n",
    "    #print(comparaison_STDP)\n",
    "    print('len(delta_T_STDP) :', len(delta_T_STDP))\n",
    "    # --- def des w_STDP à partir des delta_T e_in/e_out ----------------------------------------------------------------------------------------------------\n",
    "    \n",
    "    w_STDP = []        \n",
    "    for i in range(len(delta_T_STDP)):         \n",
    "        w_STDP.append(where(delta_T_STDP[i]>0, A_pre*exp(-delta_T_STDP[i]/tau_pre), A_post*exp(delta_T_STDP[i]/tau_post))) #on définit des w pour tous les delta_T, ils sont rangés dans l'ordre e_out_1, e_in_all, e_out_2, e_in_all\n",
    "    \n",
    "    # --- visu w_STDP -----------------------------------------------------------------------------------------------------------------------------------\n",
    "   \n",
    "    #if N_epoch == 0 : \n",
    "     #   plt.figure(figsize=(10,4))\n",
    "      #  plt.scatter(delta_T_STDP/ms, w_STDP)\n",
    "       # xlabel(r'$\\Delta t$ (ms)')\n",
    "        #ylabel('W')\n",
    "        #axhline(0, ls='-', c='k')\n",
    "        #title (' w_STDP ')\n",
    "    \n",
    "# === Def de la variable R e_out/e_true =================================================================================================================\n",
    "    \n",
    "    # --- delta_T entre paire de spike du même indice -------------------------------------------------------------------------------------------\n",
    "    \n",
    "   # delta_T_r = {}\n",
    "   # delta_T_r_plot = []\n",
    "    #for k in range(len(e_out)) :\n",
    "     #   delta_T_r[k] = []\n",
    "      #  for i in e_true_safe : \n",
    "       #     if i[1] == e_out[k][1] :\n",
    "        #        delta_T_r[k].append(i[0]*ms-e_out[k][0]*ms)\n",
    "         #       delta_T_r_plot.append(i[0]*ms-e_out[k][0]*ms)\n",
    "    #print('len(delta_T_r) : ', len(delta_T_r))\n",
    "\n",
    "    # --- def de R à partir des delta_T e_out/e_true ----------------------------------------------------------------------------------------------------------\n",
    "    \n",
    "    #w_r = {}\n",
    "    #w_r_plot = []\n",
    "    #for i in range(len(delta_T_r)) : \n",
    "     #   w_r[i] = []\n",
    "      #  for k in range(len(delta_T_r[i])) : \n",
    "       #     w_r[i].append(where(delta_T_r[i][k]>0, delta_T_r[i][k]*exp(-(abs(delta_T_r[i][k])/tau_pre)), delta_T_r[i][k]*exp(-(abs(delta_T_r[i][k])/tau_post)))/second)  \n",
    "        #w_r[i] = sum(w_r[i])   \n",
    "        \n",
    "    # --- visu r ----------------------------------------------------------------------------------------------------------------------------------------------------\n",
    "    \n",
    "  #  if N_epoch == 0 : \n",
    "   #     plt.figure(figsize=(10,4))\n",
    "     #   plt.scatter(delta_T_r_plot/ms, w_r_plot)\n",
    "      #  xlabel(r'$\\Delta t$ (ms)')\n",
    "    # ylabel('W')\n",
    "     #   axhline(0, ls='-', c='k')\n",
    "      #  title ('variable R')\n",
    "    \n",
    "    \n",
    "# === Def des delta_w de chaque synapse par w_homéo*R*w_STDP =================================================================================================================\n",
    "    \n",
    "   # w_STDP_r = {}\n",
    "    #for i in range(len(e_out)):\n",
    "     #   w_STDP_r[i] = []\n",
    "      #  for k in range(i*len(e_in),(i+1)*len(e_in)) : \n",
    "       #     w_STDP_r[i].append(tuple((w_STDP[k]*w_r[i], comparaison_STDP[k])))\n",
    "    \n",
    "    w_syn = {}  \n",
    "    w_syn_mean = {}\n",
    "    w_syn_= {}\n",
    "    for k in range(Nj):\n",
    "        for c in range(Ni):\n",
    "            w_syn[k,c] = []\n",
    "            \n",
    "   # for a in range(len(e_out)):        \n",
    "    #    for i in w_STDP_r[a] :\n",
    "     #       for k in range(Nj): \n",
    "      #          for c in range(Ni): \n",
    "          #          if i[1]==(c,k):\n",
    "           #             w_syn[k,c].append(i[0])\n",
    "            #        w_syn_mean[k,c] = sum(w_syn[k,c]) #somme \n",
    "\n",
    "    for i in range(len(w_STDP)):\n",
    "        w_syn[comparaison_STDP[i][1], comparaison_STDP[i][0]].append(w_STDP[i])\n",
    "     \n",
    "    \n",
    "    w_per_synapse_list = []\n",
    "    for k in range(Nj):\n",
    "        for c in range(Ni):\n",
    "            w_syn_mean[k,c] = sum(w_syn[k,c]) \n",
    "            w_per_synapse_list.append(w_syn_mean[k,c])\n",
    "    \n",
    "    #w_STDP_r_homéo = {}\n",
    "    \n",
    "   # for k in w_homéo : \n",
    "    #    for i in w_syn_mean : \n",
    "     #       if k==i[1] :\n",
    "      #              w_STDP_r_homéo[i[0],k] = (w_syn_mean[i])+w_homéo[k]\n",
    "                \n",
    "   # print('w_STDP_r_homéo :', len(w_STDP_r_homéo), 'w_STDP_r_homéo[0]', w_STDP_r_homéo[0,0])\n",
    "    #w_per_synapse_list = []\n",
    "    #for k in range(Nj):\n",
    "     #   for c in range(Ni):\n",
    "      #          w_per_synapse_list.append(w_STDP_r_homéo[k,c]) ## pour changer la grandeur, changer Apre/apost et faire la somme plutot que la \n",
    "                \n",
    "    w_per_synapse_list = np.nan_to_num(w_per_synapse_list, -.1*10e-50)\n",
    "    print('w_per_synapse_list', w_per_synapse_list)\n",
    "    \n",
    "    print('W_STDP_r_homéo time : ', time.time() - start)\n",
    "\n",
    "    return w_per_synapse_list"
   ]
  },
  {
   "cell_type": "code",
   "execution_count": 123,
   "id": "14589ef4-d85a-4fc9-b90d-bd2acaf4cc2b",
   "metadata": {},
   "outputs": [
    {
     "name": "stdout",
     "output_type": "stream",
     "text": [
      "len(delta_T_STDP) : 29205\n",
      "w_per_synapse_list [-0.93645899  0.37336489 -0.40254498 -0.30720731  0.38016892 -1.43370199\n",
      " -0.44215423 -0.02002641 -0.20000015 -0.43083304]\n",
      "W_STDP_r_homéo time :  3.376765251159668\n"
     ]
    }
   ],
   "source": [
    "w_per_synapse_list = STDP_with_r(delta_e_in[19], delta_e_out[19], delta_e_true[19], 8)"
   ]
  },
  {
   "cell_type": "markdown",
   "id": "fc7b1cb2-4bd4-4c69-a022-36cf5040d056",
   "metadata": {},
   "source": [
    "#### NN"
   ]
  },
  {
   "cell_type": "code",
   "execution_count": 135,
   "id": "a7270091-e175-4072-84a3-96fe9f683d4f",
   "metadata": {},
   "outputs": [],
   "source": [
    "def neural_network_2(e_in, w_per_synapse_list, N_epoch):\n",
    "    start_scope()\n",
    "    \n",
    "    start = time.time()\n",
    "    \n",
    "    PGs_learning = {}\n",
    "    ind_in = []\n",
    "    temps_in = []\n",
    "    \n",
    "    random_size = np.random.randint(0,60)\n",
    "    ind_out = np.random.randint(0, 1, size = random_size) # nombre de PG observé (n_pattern), de Ni sortes différentes\n",
    "    temps_out = np.random.uniform(0, duration, size = random_size)*second\n",
    "\n",
    " \n",
    "    thresh = 0.02*volt # /!\\\n",
    "\n",
    "    # --- generation du NN -------------------------------------------------------------------------------------------\n",
    "    e_in_safe = [] \n",
    "    for i in e_in:\n",
    "        if i not in e_in_safe:\n",
    "            e_in_safe.append(i)\n",
    "        \n",
    "    for i in range(len(e_in_safe)): \n",
    "        temps_in.append((e_in_safe[i][0])*msecond)\n",
    "        ind_in.append(e_in_safe[i][1])\n",
    "    \n",
    "    e_true_safe = [] \n",
    "    temps_true = []\n",
    "    ind_true = []\n",
    "    for i in e_true:\n",
    "        if i not in e_true_safe:\n",
    "            e_true_safe.append(i)\n",
    "        \n",
    "    for i in range(len(e_true_safe)): \n",
    "        temps_true.append((e_true_safe[i][0])*msecond)\n",
    "        ind_true.append(e_true_safe[i][1])\n",
    "        \n",
    "    if N_epoch == 0 : \n",
    "        \n",
    "        print('ind_out : ',ind_true)\n",
    "        print('temps_out : ', temps_true)\n",
    "        e = SpikeGeneratorGroup(Ni, ind_true, temps_true)\n",
    "        e_spike = SpikeMonitor(e)\n",
    "        \n",
    "        run(duration)\n",
    "        \n",
    "        PGs_learning = (e_spike.t, e_spike.i)\n",
    "        e_out = []\n",
    "    \n",
    "        for i in range(len(PGs_learning[0])):\n",
    "            e_out.append(tuple((round(PGs_learning[0][i]*1000/second), PGs_learning[1][i])))\n",
    "        \n",
    "        print('NN time - epoch 0 : ', time.time() - start)\n",
    "\n",
    "        return e_out, e_spike\n",
    "        \n",
    "    else : \n",
    "        \n",
    "        d = SpikeGeneratorGroup(Nj, ind_in, temps_in)\n",
    "        d_spike = SpikeMonitor(d)\n",
    "\n",
    "        e = NeuronGroup(1, ''' dv/dt = -v/tau : volt\n",
    "                    tau : second''',\n",
    "                    threshold= 'v > 0.0200*volt',\n",
    "                    reset= 'v = 0*volt',\n",
    "                    method = 'exact')\n",
    "        e.v = 0*volt\n",
    "        e.tau = 0.001*second\n",
    "        e_spike = SpikeMonitor(e)\n",
    "    \n",
    "        naps = Synapses(d, e, on_pre = '''v_post += 0.01*w*volt''', model = '''w:1''')\n",
    "\n",
    "        naps.connect(p=1)\n",
    " \n",
    "        naps.w[:,:] = w_per_synapse_list\n",
    "   \n",
    "        run(duration)\n",
    "    \n",
    "        PGs_learning = (e_spike.t, e_spike.i)\n",
    "        e_out = []\n",
    "    \n",
    "        for i in range(len(PGs_learning[0])):\n",
    "            e_out.append(tuple((round(PGs_learning[0][i]*1000/second), PGs_learning[1][i])))\n",
    "        \n",
    "        print('NN time : ', time.time() - start)\n",
    "\n",
    "        return e_out, naps, e_spike"
   ]
  },
  {
   "cell_type": "markdown",
   "id": "1f3fcec1-0b29-4650-9a6a-3fabeee139e1",
   "metadata": {},
   "source": [
    "#### learn"
   ]
  },
  {
   "cell_type": "code",
   "execution_count": 161,
   "id": "0c3d76d3-7e80-4822-982a-eae4043eec6c",
   "metadata": {},
   "outputs": [],
   "source": [
    "def learn_weight_2 (Ni, n_pattern, duration, nn_j, i_syn):\n",
    "    \n",
    "    N_epoch = 20\n",
    "    \n",
    "    delta_e_in = []\n",
    "    delta_e_true = []\n",
    "    delta_w = []\n",
    "    delta_e_out = []\n",
    "    naps_w = []\n",
    "    \n",
    "    start = time.time()\n",
    "\n",
    "    \n",
    "    for N_epoch in range(N_epoch): \n",
    "        \n",
    "        i_indices = np.random.randint(0, Ni, size = n_pattern) # nombre de PG observé (n_pattern), de Ni sortes différentes\n",
    "        i_temps = np.random.uniform(0, duration, size = n_pattern)*second # temps d'occurence des n_pattern PG \n",
    "        \n",
    "        s, syn, a_spike, b_spike, c_spike, e_in, e_true = quick_generator(Ni, Nj, n_pattern, i_indices, i_temps, i_syn, W, delay, sigma)      \n",
    "        delta_e_in.append(e_in) \n",
    "        delta_e_true.append(e_true)\n",
    "            \n",
    "        if N_epoch == 0 :\n",
    "            e_out, e_spike = neural_network_2(delta_e_in[N_epoch], 0, N_epoch)\n",
    "            delta_e_out.append(e_out)\n",
    "            \n",
    "        if N_epoch == 1 : \n",
    "            w_per_synapse_list  = STDP_with_r (delta_e_in[N_epoch-1], delta_e_out[N_epoch-1],delta_e_true[N_epoch-1], N_epoch)\n",
    "            delta_w.append( w_per_synapse_list)\n",
    "            print('w_per_synapse_list',w_per_synapse_list)\n",
    "            \n",
    "            e_out, naps, e_spike = neural_network_2(delta_e_in[N_epoch], np.random.randint(-3, 3, Ni*Nj)+delta_w[N_epoch-1], N_epoch)\n",
    "            print('naps', naps.w) \n",
    "            naps_w.append(naps.w)\n",
    "            delta_e_out.append(e_out)\n",
    "            \n",
    "        if N_epoch > 1 :  \n",
    "            w_per_synapse_list  = STDP_with_r (delta_e_in[N_epoch-1], delta_e_out[N_epoch-1],delta_e_true[N_epoch-1], N_epoch)\n",
    "            delta_w.append( w_per_synapse_list)\n",
    "            print('w_per_synapse_list',w_per_synapse_list)\n",
    "            \n",
    "            e_out, naps, e_spike = neural_network_2(delta_e_in[N_epoch], naps_w[N_epoch-2]+delta_w[N_epoch-1] , N_epoch)\n",
    "            print('naps', naps.w) \n",
    "            naps_w.append(naps.w)\n",
    "            delta_e_out.append(e_out)\n",
    "            \n",
    "        \n",
    "         \n",
    "        print('N_EPOCH :', N_epoch)\n",
    "    print('TIMETOT', time.time() - start)\n",
    "    return delta_e_out, delta_e_true, delta_e_in, delta_w, naps_w, naps"
   ]
  },
  {
   "cell_type": "markdown",
   "id": "e7bc7fb2-a2dc-43d3-8268-7ed9bbfce080",
   "metadata": {},
   "source": [
    "##### avec STDP*r+homéo / initialisation de e_out aléatoire / initialisation des poids aléatoire entre -10 et 10 "
   ]
  },
  {
   "cell_type": "code",
   "execution_count": 14,
   "id": "6bbdea05-000d-403f-84ec-8f88ae46e5a7",
   "metadata": {
    "collapsed": true,
    "jupyter": {
     "outputs_hidden": true
    },
    "tags": []
   },
   "outputs": [
    {
     "name": "stdout",
     "output_type": "stream",
     "text": [
      "generation time:  11.06319808959961\n",
      "ind_out :  [0 0 0 0 0 0 0 0 0 0 0 0 0 0 0 0 0 0 0 0 0 0 0 0 0 0 0 0 0 0 0 0 0 0 0 0 0\n",
      " 0 0 0 0 0 0 0 0 0 0 0 0 0 0 0 0 0 0]\n",
      "temps_out :  [0.08367668 1.11379432 1.53452946 4.4102243  9.16200307 7.0435374\n",
      " 7.24141928 4.21011197 4.02995633 3.16736915 0.24849125 1.52732107\n",
      " 6.05961041 6.46123086 0.26707712 9.4853372  4.60130271 8.08444991\n",
      " 5.10623028 9.03292151 1.42005403 4.39885518 9.82644501 2.92677222\n",
      " 3.67396385 3.91501621 3.88602701 1.92951724 0.68600977 4.89376502\n",
      " 3.8358606  4.14690193 2.00629949 0.426736   3.88284324 2.08529698\n",
      " 4.68249747 8.26810623 9.55287951 1.28627029 4.22241445 9.59934565\n",
      " 7.09383409 3.23945108 6.83897769 1.4393437  2.54907726 0.88790202\n",
      " 8.64630712 8.2256652  2.27828451 9.90240299 1.25957021 8.12971327\n",
      " 2.52246849] s\n",
      "NN time - epoch 0 :  2.6342387199401855\n",
      "N_EPOCH : 0\n",
      "generation time:  11.051430225372314\n",
      "w_homéo : {0: 0.1}\n",
      "len(delta_T_STDP) : 27390\n",
      "len(delta_T_r) :  55\n",
      "w_STDP_r_homéo : 10 w_STDP_r_homéo[0] -0.448953797536772\n",
      "w_per_synapse_list [-0.4489538  -0.65712667 -0.72263244  0.24531306  0.48645038 -0.07253608\n",
      " -0.40682517 -0.27565154 -0.93574788  0.29913006]\n",
      "W_STDP_r_homéo time :  38.97311878204346\n",
      "w_per_synapse_list [-0.4489538  -0.65712667 -0.72263244  0.24531306  0.48645038 -0.07253608\n",
      " -0.40682517 -0.27565154 -0.93574788  0.29913006]\n",
      "NN time :  6.196552276611328\n",
      "naps <synapses_3.w: array([ 6.5510462 ,  0.34287333, -5.72263244, -2.75468694,  8.48645038,\n",
      "       -7.07253608,  8.59317483,  6.72434846, -7.93574788, -7.70086994])>\n",
      "N_EPOCH : 1\n",
      "generation time:  10.52071762084961\n",
      "w_homéo : {0: -0.1}\n",
      "len(delta_T_STDP) : 89540\n",
      "len(delta_T_r) :  185\n",
      "w_STDP_r_homéo : 10 w_STDP_r_homéo[0] -1.6149543801222688\n",
      "w_per_synapse_list [-1.61495438 -3.15909103 -2.45779186 -0.3883579  -0.2021599  -0.17253984\n",
      " -0.36797744 -0.02661156 -1.98345311  0.33756197]\n",
      "W_STDP_r_homéo time :  3473.627047777176\n",
      "w_per_synapse_list [-1.61495438 -3.15909103 -2.45779186 -0.3883579  -0.2021599  -0.17253984\n",
      " -0.36797744 -0.02661156 -1.98345311  0.33756197]\n",
      "NN time :  16.648584127426147\n",
      "naps <synapses_5.w: array([ 4.93609182, -2.8162177 , -8.1804243 , -3.14304484,  8.28429047,\n",
      "       -7.24507592,  8.22519738,  6.69773689, -9.91920099, -7.36330797])>\n",
      "N_EPOCH : 2\n",
      "generation time:  16.75170397758484\n",
      "w_homéo : {0: -0.1}\n",
      "len(delta_T_STDP) : 97650\n",
      "len(delta_T_r) :  186\n",
      "w_STDP_r_homéo : 10 w_STDP_r_homéo[0] -5.158432826593627\n",
      "w_per_synapse_list [-5.15843283 -6.41406348 -6.53447899 -0.35262706  0.5036288  -1.49704515\n",
      " -0.43060634 -0.36109121 -7.29354676 -0.84040333]\n",
      "W_STDP_r_homéo time :  309.54960227012634\n",
      "w_per_synapse_list [-5.15843283 -6.41406348 -6.53447899 -0.35262706  0.5036288  -1.49704515\n",
      " -0.43060634 -0.36109121 -7.29354676 -0.84040333]\n",
      "NN time :  15.431168794631958\n",
      "naps <synapses_4.w: array([ -0.222341  ,  -9.23028118, -14.71490329,  -3.4956719 ,\n",
      "         8.78791927,  -8.74212107,   7.79459104,   6.33664569,\n",
      "       -17.21274776,  -8.2037113 ])>\n",
      "N_EPOCH : 3\n",
      "generation time:  7.2366979122161865\n",
      "w_homéo : {0: -0.1}\n",
      "len(delta_T_STDP) : 69564\n",
      "len(delta_T_r) :  132\n",
      "w_STDP_r_homéo : 10 w_STDP_r_homéo[0] -0.9416510075770134\n",
      "w_per_synapse_list [-0.94165101 -2.17138935 -0.5709835  -0.56616926 -0.51463342 -1.27950521\n",
      "  0.37200539 -0.86081553 -1.63592881 -0.57168563]\n",
      "W_STDP_r_homéo time :  149.98390436172485\n",
      "w_per_synapse_list [-0.94165101 -2.17138935 -0.5709835  -0.56616926 -0.51463342 -1.27950521\n",
      "  0.37200539 -0.86081553 -1.63592881 -0.57168563]\n",
      "NN time :  9.418485164642334\n",
      "naps <synapses_3.w: array([ -1.16399201, -11.40167053, -15.28588678,  -4.06184116,\n",
      "         8.27328585, -10.02162628,   8.16659643,   5.47583015,\n",
      "       -18.84867657,  -8.77539693])>\n",
      "N_EPOCH : 4\n",
      "generation time:  12.856963634490967\n",
      "w_homéo : {0: -0.1}\n",
      "len(delta_T_STDP) : 66420\n",
      "len(delta_T_r) :  123\n",
      "w_STDP_r_homéo : 10 w_STDP_r_homéo[0] -0.47969624090270724\n",
      "w_per_synapse_list [-0.47969624 -2.13761654 -0.9688876  -0.0727154  -0.36287651 -0.51874961\n",
      "  0.13124571  0.81581478 -0.99640037  0.14769291]\n",
      "W_STDP_r_homéo time :  131.98917889595032\n",
      "w_per_synapse_list [-0.47969624 -2.13761654 -0.9688876  -0.0727154  -0.36287651 -0.51874961\n",
      "  0.13124571  0.81581478 -0.99640037  0.14769291]\n",
      "NN time :  14.504424810409546\n",
      "naps <synapses_5.w: array([ -1.64368825, -13.53928707, -16.25477438,  -4.13455656,\n",
      "         7.91040934, -10.54037588,   8.29784214,   6.29164494,\n",
      "       -19.84507694,  -8.62770402])>\n",
      "N_EPOCH : 5\n",
      "generation time:  6.581793308258057\n",
      "w_homéo : {0: -0.1}\n",
      "len(delta_T_STDP) : 72192\n",
      "len(delta_T_r) :  141\n",
      "w_STDP_r_homéo : 10 w_STDP_r_homéo[0] -1.1224019045955698\n",
      "w_per_synapse_list [-1.12240190e+00 -4.49819941e+00 -2.61250537e+00 -4.37372342e-01\n",
      "  2.50225810e-01 -3.23621107e-03  5.42714862e-01 -1.25724896e+00\n",
      " -2.09898021e+00  4.56566180e-01]\n",
      "W_STDP_r_homéo time :  151.38266348838806\n",
      "w_per_synapse_list [-1.12240190e+00 -4.49819941e+00 -2.61250537e+00 -4.37372342e-01\n",
      "  2.50225810e-01 -3.23621107e-03  5.42714862e-01 -1.25724896e+00\n",
      " -2.09898021e+00  4.56566180e-01]\n",
      "NN time :  14.646905660629272\n",
      "naps <synapses_4.w: array([ -2.76609016, -18.03748648, -18.86727975,  -4.5719289 ,\n",
      "         8.16063515, -10.54361209,   8.840557  ,   5.03439598,\n",
      "       -21.94405715,  -8.17113784])>\n",
      "N_EPOCH : 6\n",
      "generation time:  11.85133957862854\n",
      "w_homéo : {0: -0.1}\n",
      "len(delta_T_STDP) : 62125\n",
      "len(delta_T_r) :  125\n",
      "w_STDP_r_homéo : 10 w_STDP_r_homéo[0] -2.0990531978358855\n",
      "w_per_synapse_list [-2.0990532  -1.63657969 -1.27933322  0.01403535 -1.01943297 -0.70514247\n",
      " -0.46547992  0.12010068 -1.68642096  0.03466357]\n",
      "W_STDP_r_homéo time :  114.34264707565308\n",
      "w_per_synapse_list [-2.0990532  -1.63657969 -1.27933322  0.01403535 -1.01943297 -0.70514247\n",
      " -0.46547992  0.12010068 -1.68642096  0.03466357]\n",
      "NN time :  9.26296854019165\n",
      "naps <synapses_3.w: array([ -4.86514336, -19.67406617, -20.14661297,  -4.55789355,\n",
      "         7.14120218, -11.24875457,   8.37507709,   5.15449666,\n",
      "       -23.63047811,  -8.13647427])>\n",
      "N_EPOCH : 7\n",
      "generation time:  6.297524690628052\n",
      "w_homéo : {0: -0.1}\n",
      "len(delta_T_STDP) : 50648\n",
      "len(delta_T_r) :  104\n",
      "w_STDP_r_homéo : 10 w_STDP_r_homéo[0] -0.6713112468319793\n",
      "w_per_synapse_list [-0.67131125 -1.92625839 -1.45613433 -0.79558232 -0.06753406  0.19935174\n",
      " -0.14749625 -0.57743206 -1.53384492  0.14581944]\n",
      "W_STDP_r_homéo time :  77.55061554908752\n",
      "w_per_synapse_list [-0.67131125 -1.92625839 -1.45613433 -0.79558232 -0.06753406  0.19935174\n",
      " -0.14749625 -0.57743206 -1.53384492  0.14581944]\n",
      "NN time :  20.75106978416443\n",
      "naps <synapses_5.w: array([ -5.5364546 , -21.60032456, -21.6027473 ,  -5.35347587,\n",
      "         7.07366812, -11.04940283,   8.22758084,   4.5770646 ,\n",
      "       -25.16432303,  -7.99065483])>\n",
      "N_EPOCH : 8\n",
      "generation time:  6.593302249908447\n",
      "w_homéo : {0: -0.1}\n",
      "len(delta_T_STDP) : 58116\n",
      "len(delta_T_r) :  116\n",
      "w_STDP_r_homéo : 10 w_STDP_r_homéo[0] -1.5614486489336656\n",
      "w_per_synapse_list [-1.56144865 -3.0672064  -1.9767563  -0.24983061 -1.73830636 -0.93979336\n",
      " -0.60859261 -1.7605235  -2.92363764  0.15331608]\n",
      "W_STDP_r_homéo time :  879.868744134903\n",
      "w_per_synapse_list [-1.56144865 -3.0672064  -1.9767563  -0.24983061 -1.73830636 -0.93979336\n",
      " -0.60859261 -1.7605235  -2.92363764  0.15331608]\n",
      "NN time :  14.521801948547363\n",
      "naps <synapses_4.w: array([ -7.09790325, -24.66753096, -23.5795036 ,  -5.60330649,\n",
      "         5.33536176, -11.98919619,   7.61898823,   2.8165411 ,\n",
      "       -28.08796067,  -7.83733875])>\n",
      "N_EPOCH : 9\n",
      "generation time:  11.39852523803711\n",
      "w_homéo : {0: -0.1}\n",
      "len(delta_T_STDP) : 52624\n",
      "len(delta_T_r) :  104\n",
      "w_STDP_r_homéo : 10 w_STDP_r_homéo[0] -0.7252169981382149\n",
      "w_per_synapse_list [-0.725217   -2.37779785 -0.98377167 -0.20375726 -0.09079053 -0.43261364\n",
      "  0.23579683 -0.3542775  -1.79147264 -0.4729039 ]\n",
      "W_STDP_r_homéo time :  136.26962447166443\n",
      "w_per_synapse_list [-0.725217   -2.37779785 -0.98377167 -0.20375726 -0.09079053 -0.43261364\n",
      "  0.23579683 -0.3542775  -1.79147264 -0.4729039 ]\n",
      "NN time :  5.761289834976196\n",
      "naps <synapses_3.w: array([ -7.82312025, -27.04532882, -24.56327527,  -5.80706375,\n",
      "         5.24457124, -12.42180982,   7.85478506,   2.4622636 ,\n",
      "       -29.87943331,  -8.31024266])>\n",
      "N_EPOCH : 10\n",
      "generation time:  8.01836633682251\n",
      "w_homéo : {0: -0.1}\n",
      "len(delta_T_STDP) : 50779\n",
      "len(delta_T_r) :  103\n",
      "w_STDP_r_homéo : 10 w_STDP_r_homéo[0] -0.7291476817504956\n",
      "w_per_synapse_list [-0.72914768 -2.36997224 -1.15223735 -0.0659218   1.14119539  0.08806827\n",
      "  0.26849889 -0.51519488 -1.06451514 -0.24927828]\n",
      "W_STDP_r_homéo time :  191.37646579742432\n",
      "w_per_synapse_list [-0.72914768 -2.36997224 -1.15223735 -0.0659218   1.14119539  0.08806827\n",
      "  0.26849889 -0.51519488 -1.06451514 -0.24927828]\n",
      "NN time :  19.507404565811157\n",
      "naps <synapses_5.w: array([ -8.55226793, -29.41530105, -25.71551262,  -5.87298555,\n",
      "         6.38576663, -12.33374155,   8.12328395,   1.94706872,\n",
      "       -30.94394845,  -8.55952094])>\n",
      "N_EPOCH : 11\n",
      "generation time:  10.63952088356018\n",
      "w_homéo : {0: -0.1}\n",
      "len(delta_T_STDP) : 34435\n",
      "len(delta_T_r) :  71\n",
      "w_STDP_r_homéo : 10 w_STDP_r_homéo[0] -0.06141205607992728\n",
      "w_per_synapse_list [-0.06141206 -1.33340846 -0.93009039 -0.24707738  0.37109617  0.04594745\n",
      " -0.06147448 -0.66778521 -1.13597543 -0.06007917]\n",
      "W_STDP_r_homéo time :  77.78563928604126\n",
      "w_per_synapse_list [-0.06141206 -1.33340846 -0.93009039 -0.24707738  0.37109617  0.04594745\n",
      " -0.06147448 -0.66778521 -1.13597543 -0.06007917]\n",
      "NN time :  7.784134149551392\n",
      "naps <synapses_4.w: array([ -8.61367999, -30.74870951, -26.64560301,  -6.12006293,\n",
      "         6.7568628 , -12.2877941 ,   8.06180946,   1.27928351,\n",
      "       -32.07992388,  -8.61960011])>\n",
      "N_EPOCH : 12\n",
      "generation time:  14.616611003875732\n",
      "w_homéo : {0: -0.1}\n",
      "len(delta_T_STDP) : 37668\n",
      "len(delta_T_r) :  73\n",
      "w_STDP_r_homéo : 10 w_STDP_r_homéo[0] -0.6583434526476649\n",
      "w_per_synapse_list [-0.65834345 -2.56941294 -1.19780429 -0.11213943 -1.19057365 -0.90532778\n",
      " -0.03376442 -0.20849449 -1.84912679  0.30760079]\n",
      "W_STDP_r_homéo time :  84.47730779647827\n",
      "w_per_synapse_list [-0.65834345 -2.56941294 -1.19780429 -0.11213943 -1.19057365 -0.90532778\n",
      " -0.03376442 -0.20849449 -1.84912679  0.30760079]\n",
      "NN time :  5.866749048233032\n",
      "naps <synapses_3.w: array([ -9.27202344, -33.31812245, -27.8434073 ,  -6.23220236,\n",
      "         5.56628915, -13.19312188,   8.02804504,   1.07078903,\n",
      "       -33.92905067,  -8.31199932])>\n",
      "N_EPOCH : 13\n",
      "generation time:  9.097546100616455\n",
      "w_homéo : {0: -0.1}\n",
      "len(delta_T_STDP) : 29146\n",
      "len(delta_T_r) :  59\n",
      "w_STDP_r_homéo : 10 w_STDP_r_homéo[0] -0.4229167348688112\n",
      "w_per_synapse_list [-0.42291673 -0.95482873 -0.70091254 -0.17170981 -0.36992776 -0.55419239\n",
      " -0.26880004 -0.06303204 -0.91985255  0.13596064]\n",
      "W_STDP_r_homéo time :  57.30729627609253\n",
      "w_per_synapse_list [-0.42291673 -0.95482873 -0.70091254 -0.17170981 -0.36992776 -0.55419239\n",
      " -0.26880004 -0.06303204 -0.91985255  0.13596064]\n",
      "NN time :  5.495408058166504\n",
      "naps <synapses_5.w: array([ -9.69494017, -34.27295118, -28.54431984,  -6.40391217,\n",
      "         5.19636139, -13.74731427,   7.75924501,   1.00775698,\n",
      "       -34.84890322,  -8.17603868])>\n",
      "N_EPOCH : 14\n",
      "generation time:  9.071159362792969\n",
      "w_homéo : {0: -0.1}\n",
      "len(delta_T_STDP) : 41730\n",
      "len(delta_T_r) :  78\n",
      "w_STDP_r_homéo : 10 w_STDP_r_homéo[0] -1.6401442055725348\n",
      "w_per_synapse_list [-1.64014421 -2.06179312 -0.83604202 -0.09150699 -0.38700732 -0.18522226\n",
      "  0.15152913 -0.73650718 -1.28228265  0.1282521 ]\n",
      "W_STDP_r_homéo time :  80.7529718875885\n",
      "w_per_synapse_list [-1.64014421 -2.06179312 -0.83604202 -0.09150699 -0.38700732 -0.18522226\n",
      "  0.15152913 -0.73650718 -1.28228265  0.1282521 ]\n",
      "NN time :  4.729131460189819\n",
      "naps <synapses_4.w: array([-11.33508438, -36.33474431, -29.38036187,  -6.49541917,\n",
      "         4.80935407, -13.93253653,   7.91077414,   0.27124981,\n",
      "       -36.13118587,  -8.04778658])>\n",
      "N_EPOCH : 15\n",
      "generation time:  8.583454370498657\n",
      "w_homéo : {0: -0.1}\n",
      "len(delta_T_STDP) : 41184\n",
      "len(delta_T_r) :  78\n",
      "w_STDP_r_homéo : 10 w_STDP_r_homéo[0] -1.4577958933030848\n",
      "w_per_synapse_list [-1.45779589 -2.55602041 -0.99004919 -0.79071647 -0.7465092  -0.41729296\n",
      " -0.42889207 -0.31865065 -1.62549969 -0.41169393]\n",
      "W_STDP_r_homéo time :  70.51658821105957\n",
      "w_per_synapse_list [-1.45779589 -2.55602041 -0.99004919 -0.79071647 -0.7465092  -0.41729296\n",
      " -0.42889207 -0.31865065 -1.62549969 -0.41169393]\n",
      "NN time :  4.497109651565552\n",
      "naps <synapses_3.w: array([-12.79288027, -38.89076472, -30.37041106,  -7.28613563,\n",
      "         4.06284486, -14.3498295 ,   7.48188207,  -0.04740084,\n",
      "       -37.75668555,  -8.45948052])>\n",
      "N_EPOCH : 16\n",
      "generation time:  7.458101511001587\n",
      "w_homéo : {0: -0.1}\n",
      "len(delta_T_STDP) : 37303\n",
      "len(delta_T_r) :  73\n",
      "w_STDP_r_homéo : 10 w_STDP_r_homéo[0] -0.3512569450177273\n",
      "w_per_synapse_list [-0.35125695 -0.86175228 -0.97294993  0.06062322  0.1233592  -0.17943325\n",
      " -0.43181276 -0.44812191 -0.54828668 -0.53774704]\n",
      "W_STDP_r_homéo time :  51.25482130050659\n",
      "w_per_synapse_list [-0.35125695 -0.86175228 -0.97294993  0.06062322  0.1233592  -0.17943325\n",
      " -0.43181276 -0.44812191 -0.54828668 -0.53774704]\n",
      "NN time :  4.426056623458862\n",
      "naps <synapses_5.w: array([-13.14413722, -39.752517  , -31.34336098,  -7.22551242,\n",
      "         4.18620406, -14.52926275,   7.0500693 ,  -0.49552276,\n",
      "       -38.30497224,  -8.99722756])>\n",
      "N_EPOCH : 17\n",
      "generation time:  8.590413093566895\n",
      "w_homéo : {0: -0.1}\n",
      "len(delta_T_STDP) : 44540\n",
      "len(delta_T_r) :  85\n",
      "w_STDP_r_homéo : 10 w_STDP_r_homéo[0] -1.2063249195181038\n",
      "w_per_synapse_list [-1.20632492 -1.78747344 -1.83174141 -0.23316993  0.32067917 -0.01850927\n",
      "  0.01548472 -0.54053248 -2.12912201  0.18075188]\n",
      "W_STDP_r_homéo time :  77.18212699890137\n",
      "w_per_synapse_list [-1.20632492 -1.78747344 -1.83174141 -0.23316993  0.32067917 -0.01850927\n",
      "  0.01548472 -0.54053248 -2.12912201  0.18075188]\n",
      "NN time :  4.433425188064575\n",
      "naps <synapses_4.w: array([-14.35046214, -41.53999043, -33.17510239,  -7.45868235,\n",
      "         4.50688323, -14.54777202,   7.06555403,  -1.03605524,\n",
      "       -40.43409425,  -8.81647568])>\n",
      "N_EPOCH : 18\n",
      "generation time:  7.549773931503296\n",
      "w_homéo : {0: -0.1}\n",
      "len(delta_T_STDP) : 36729\n",
      "len(delta_T_r) :  77\n",
      "w_STDP_r_homéo : 10 w_STDP_r_homéo[0] -0.7009381230520667\n",
      "w_per_synapse_list [-0.70093812 -1.07413421 -0.58626773  0.10531969 -0.25641757 -0.41549837\n",
      " -0.01587515 -0.09693498 -0.98833916 -0.13097696]\n",
      "W_STDP_r_homéo time :  52.57500457763672\n",
      "w_per_synapse_list [-0.70093812 -1.07413421 -0.58626773  0.10531969 -0.25641757 -0.41549837\n",
      " -0.01587515 -0.09693498 -0.98833916 -0.13097696]\n",
      "NN time :  5.087619066238403\n",
      "naps <synapses_3.w: array([-15.05140026, -42.61412465, -33.76137012,  -7.35336266,\n",
      "         4.25046566, -14.96327039,   7.04967887,  -1.13299022,\n",
      "       -41.42243341,  -8.94745263])>\n",
      "N_EPOCH : 19\n",
      "TIMETOT 6594.816721439362\n"
     ]
    }
   ],
   "source": [
    " # avec STDP*r+homéo \n",
    "delta_e_out, delta_e_true, delta_e_in, delta_w, naps_w, naps = learn_weight_2 (Ni, n_pattern, duration, nn_j, i_syn)"
   ]
  },
  {
   "cell_type": "code",
   "execution_count": 55,
   "id": "8c4f788f-cb33-43ac-8c24-c704dc886b8f",
   "metadata": {},
   "outputs": [
    {
     "data": {
      "text/plain": [
       "0.32"
      ]
     },
     "execution_count": 55,
     "metadata": {},
     "output_type": "execute_result"
    }
   ],
   "source": [
    "#signal/bruit \n",
    "len(y_s.t)*n_pattern / (len(delta_e_in[19])-len(y_s.t)*n_pattern)"
   ]
  },
  {
   "cell_type": "code",
   "execution_count": 83,
   "id": "0d96aa04-57ac-43b7-b76a-c5e680dda694",
   "metadata": {},
   "outputs": [
    {
     "data": {
      "text/plain": [
       "59"
      ]
     },
     "execution_count": 83,
     "metadata": {},
     "output_type": "execute_result"
    },
    {
     "data": {
      "image/png": "[encoded data removed]",
      "text/plain": [
       "<Figure size 720x288 with 1 Axes>"
      ]
     },
     "metadata": {
      "needs_background": "light"
     },
     "output_type": "display_data"
    }
   ],
   "source": [
    "plt.figure(figsize=(10,4))\n",
    "for i in range(len(delta_e_out[19])):\n",
    "    plt.scatter(delta_e_out[19][i][0], delta_e_out[19][i][1], marker = '|')\n",
    "len(delta_e_out[19])"
   ]
  },
  {
   "cell_type": "code",
   "execution_count": 85,
   "id": "49603eec-5663-4f75-a2a4-a8c3eea2270f",
   "metadata": {},
   "outputs": [
    {
     "data": {
      "text/plain": [
       "64"
      ]
     },
     "execution_count": 85,
     "metadata": {},
     "output_type": "execute_result"
    },
    {
     "data": {
      "image/png": "[encoded data removed]",
      "text/plain": [
       "<Figure size 720x288 with 1 Axes>"
      ]
     },
     "metadata": {
      "needs_background": "light"
     },
     "output_type": "display_data"
    }
   ],
   "source": [
    "plt.figure(figsize=(10,4))\n",
    "for i in range(len(delta_e_true[19])):\n",
    "    plt.scatter(delta_e_true[19][i][0], delta_e_true[19][i][1], marker = '|')\n",
    "len(delta_e_true[19])"
   ]
  },
  {
   "cell_type": "code",
   "execution_count": 64,
   "id": "de3f52c4-c05f-45cb-bf01-d0934cd193c9",
   "metadata": {},
   "outputs": [
    {
     "data": {
      "text/plain": [
       "(8, 8)"
      ]
     },
     "execution_count": 64,
     "metadata": {},
     "output_type": "execute_result"
    }
   ],
   "source": [
    "len(s.j), len(W[0])"
   ]
  },
  {
   "cell_type": "code",
   "execution_count": 63,
   "id": "52845968-b341-4757-b572-5a61bb2ea7de",
   "metadata": {},
   "outputs": [
    {
     "data": {
      "text/plain": [
       "(10, 10)"
      ]
     },
     "execution_count": 63,
     "metadata": {},
     "output_type": "execute_result"
    }
   ],
   "source": [
    "Ni*Nj, len(naps_w[18])"
   ]
  },
  {
   "cell_type": "code",
   "execution_count": 82,
   "id": "488efed2-ee93-4c78-b2e4-2d3321e721d0",
   "metadata": {},
   "outputs": [
    {
     "data": {
      "text/plain": [
       "<synapses_3.w: array([-15.05140026, -42.61412465, -33.76137012,  -7.35336266,\n",
       "         4.25046566, -14.96327039,   7.04967887,  -1.13299022,\n",
       "       -41.42243341,  -8.94745263])>"
      ]
     },
     "execution_count": 82,
     "metadata": {},
     "output_type": "execute_result"
    }
   ],
   "source": [
    "# les poids déterminés à la fin de l'apprentissage \n",
    "naps_w[18]"
   ]
  },
  {
   "cell_type": "code",
   "execution_count": 81,
   "id": "8c002f87-b4be-4f51-a6d1-d3a4a651f35d",
   "metadata": {},
   "outputs": [
    {
     "name": "stdout",
     "output_type": "stream",
     "text": [
      "1 0 [5.59890978]\n",
      "2 0 [3.18294414]\n",
      "5 0 [0.89475128]\n",
      "3 0 [0.3233948]\n",
      "9 0 [0.3233948]\n",
      "7 0 [0.89475128]\n",
      "0 0 [3.18294414]\n",
      "8 0 [5.59890978]\n"
     ]
    }
   ],
   "source": [
    "#les poids que je voudrais\n",
    "for i in s.j : \n",
    "    print(i,0, s.w[0,i])"
   ]
  },
  {
   "cell_type": "code",
   "execution_count": 75,
   "id": "1284afd9-fc95-482a-88a7-50e2a524da7d",
   "metadata": {},
   "outputs": [
    {
     "name": "stdout",
     "output_type": "stream",
     "text": [
      "1 0 [-42.61412465]\n",
      "2 0 [-33.76137012]\n",
      "5 0 [-14.96327039]\n",
      "3 0 [-7.35336266]\n",
      "9 0 [-8.94745263]\n",
      "7 0 [-1.13299022]\n",
      "0 0 [-15.05140026]\n",
      "8 0 [-41.42243341]\n"
     ]
    }
   ],
   "source": [
    "#les poids appris \n",
    "for i in s.j : \n",
    "    print(i, 0, naps.w[i,0])"
   ]
  },
  {
   "cell_type": "markdown",
   "id": "bce9d35e-caaf-4a4d-b6d6-608bdd970f4c",
   "metadata": {},
   "source": [
    "##### avec STDP simple / initialisation de e_out aléatoire / initialisation des poids aléatoire entre -10 et 10 "
   ]
  },
  {
   "cell_type": "code",
   "execution_count": 127,
   "id": "0afff7cf-4493-4c15-a5e2-c32cb53e8b71",
   "metadata": {
    "collapsed": true,
    "jupyter": {
     "outputs_hidden": true
    },
    "tags": []
   },
   "outputs": [
    {
     "name": "stdout",
     "output_type": "stream",
     "text": [
      "generation time:  7.215559005737305\n",
      "ind_out :  [0 0 0 0 0 0 0 0 0 0 0 0 0 0 0 0 0 0 0 0 0 0 0 0 0]\n",
      "temps_out :  [5.55502547 3.94329017 0.3853452  8.89108511 9.60981989 9.0773586\n",
      " 6.25874485 7.12888386 2.66657411 2.57183239 2.32090978 9.77365285\n",
      " 8.95388393 2.58215508 6.44964272 6.82921201 3.00364553 3.66986319\n",
      " 1.88011381 3.30998549 3.66338416 5.38610929 2.1785404  7.84520037\n",
      " 6.26378636] s\n",
      "NN time - epoch 0 :  1.7801344394683838\n",
      "N_EPOCH : 0\n",
      "generation time:  13.19978642463684\n",
      "len(delta_T_STDP) : 12850\n",
      "w_per_synapse_list [-0.06499057 -0.47427811  0.11190007 -0.05518056 -0.48714132 -0.10896867\n",
      "  0.42538998 -0.05610862 -0.07525395 -0.1110505 ]\n",
      "W_STDP_r_homéo time :  1.7246019840240479\n",
      "w_per_synapse_list [-0.06499057 -0.47427811  0.11190007 -0.05518056 -0.48714132 -0.10896867\n",
      "  0.42538998 -0.05610862 -0.07525395 -0.1110505 ]\n",
      "NN time :  4.629734754562378\n",
      "naps <synapses_4.w: array([-4.06499057,  4.52572189, -7.88809993, -9.05518056,  8.51285868,\n",
      "       -0.10896867, -7.57461002, -0.05610862,  2.92474605, -6.1110505 ])>\n",
      "N_EPOCH : 1\n",
      "generation time:  7.165553569793701\n",
      "len(delta_T_STDP) : 70650\n",
      "w_per_synapse_list [ 2.75354167 -2.0387865  -2.8254556  -0.41994441  1.22249292  1.07649308\n",
      "  0.14865591 -1.48607353  0.82377311  0.03335655]\n",
      "W_STDP_r_homéo time :  8.715840816497803\n",
      "w_per_synapse_list [ 2.75354167 -2.0387865  -2.8254556  -0.41994441  1.22249292  1.07649308\n",
      "  0.14865591 -1.48607353  0.82377311  0.03335655]\n",
      "NN time :  10.938342809677124\n",
      "naps <synapses_6.w: array([ -1.3114489 ,   2.48693539, -10.71355553,  -9.47512497,\n",
      "         9.7353516 ,   0.96752441,  -7.42595412,  -1.54218215,\n",
      "         3.74851916,  -6.07769394])>\n",
      "N_EPOCH : 2\n",
      "generation time:  7.918286323547363\n",
      "len(delta_T_STDP) : 90480\n",
      "w_per_synapse_list [ 3.43200394 -0.14018355 -0.91826066  0.94548515 -0.27342741 -0.81126591\n",
      " -0.40407618  0.53850783  0.89734225  0.16598738]\n",
      "W_STDP_r_homéo time :  13.496355533599854\n",
      "w_per_synapse_list [ 3.43200394 -0.14018355 -0.91826066  0.94548515 -0.27342741 -0.81126591\n",
      " -0.40407618  0.53850783  0.89734225  0.16598738]\n",
      "NN time :  6.0181474685668945\n",
      "naps <synapses_5.w: array([  2.12055504,   2.34675184, -11.63181619,  -8.52963981,\n",
      "         9.4619242 ,   0.1562585 ,  -7.8300303 ,  -1.00367433,\n",
      "         4.64586141,  -5.91170656])>\n",
      "N_EPOCH : 3\n",
      "generation time:  7.992309331893921\n",
      "len(delta_T_STDP) : 74202\n",
      "w_per_synapse_list [ 3.19809951 -0.74328844 -3.24233493 -0.94902761  1.50379479 -0.38646115\n",
      " -1.0577143  -0.74097972  1.41010151 -0.16115922]\n",
      "W_STDP_r_homéo time :  10.639307975769043\n",
      "w_per_synapse_list [ 3.19809951 -0.74328844 -3.24233493 -0.94902761  1.50379479 -0.38646115\n",
      " -1.0577143  -0.74097972  1.41010151 -0.16115922]\n",
      "NN time :  7.541796684265137\n",
      "naps <synapses_4.w: array([  5.31865455,   1.60346339, -14.87415112,  -9.47866742,\n",
      "        10.96571899,  -0.23020265,  -8.8877446 ,  -1.74465404,\n",
      "         6.05596293,  -6.07286579])>\n",
      "N_EPOCH : 4\n",
      "generation time:  9.18260145187378\n",
      "len(delta_T_STDP) : 83332\n",
      "w_per_synapse_list [ 1.17070744 -4.242876   -4.28703682 -0.11123575  0.92322947  0.05491198\n",
      "  0.04682673 -0.2921198  -1.89031127 -1.3849322 ]\n",
      "W_STDP_r_homéo time :  10.46243667602539\n",
      "w_per_synapse_list [ 1.17070744 -4.242876   -4.28703682 -0.11123575  0.92322947  0.05491198\n",
      "  0.04682673 -0.2921198  -1.89031127 -1.3849322 ]\n",
      "NN time :  10.953925609588623\n",
      "naps <synapses_6.w: array([  6.48936199,  -2.63941261, -19.16118794,  -9.58990317,\n",
      "        11.88894846,  -0.17529067,  -8.84091787,  -2.03677384,\n",
      "         4.16565165,  -7.45779799])>\n",
      "N_EPOCH : 5\n",
      "generation time:  7.372042417526245\n",
      "len(delta_T_STDP) : 77602\n",
      "w_per_synapse_list [ 0.70038082 -3.81505765 -6.03579107  0.35507726 -0.93859391 -1.11418299\n",
      " -0.05630613  1.11988882 -1.1920197  -1.60903189]\n",
      "W_STDP_r_homéo time :  10.055712223052979\n",
      "w_per_synapse_list [ 0.70038082 -3.81505765 -6.03579107  0.35507726 -0.93859391 -1.11418299\n",
      " -0.05630613  1.11988882 -1.1920197  -1.60903189]\n",
      "NN time :  4.853015422821045\n",
      "naps <synapses_5.w: array([  7.18974281,  -6.45447026, -25.19697901,  -9.23482592,\n",
      "        10.95035456,  -1.28947365,  -8.897224  ,  -0.91688502,\n",
      "         2.97363195,  -9.06682988])>\n",
      "N_EPOCH : 6\n",
      "generation time:  7.545121908187866\n",
      "len(delta_T_STDP) : 89262\n",
      "w_per_synapse_list [ 4.48899232 -7.08284102 -6.00096659 -0.2730337  -0.10172255  0.27435577\n",
      " -2.08568818 -2.07182506 -3.05901963 -0.19730795]\n",
      "W_STDP_r_homéo time :  10.802256107330322\n",
      "w_per_synapse_list [ 4.48899232 -7.08284102 -6.00096659 -0.2730337  -0.10172255  0.27435577\n",
      " -2.08568818 -2.07182506 -3.05901963 -0.19730795]\n",
      "NN time :  6.746503591537476\n",
      "naps <synapses_4.w: array([ 11.67873513, -13.53731128, -31.1979456 ,  -9.50785962,\n",
      "        10.84863201,  -1.01511789, -10.98291218,  -2.98871008,\n",
      "        -0.08538767,  -9.26413784])>\n",
      "N_EPOCH : 7\n",
      "generation time:  7.325185298919678\n",
      "len(delta_T_STDP) : 52624\n",
      "w_per_synapse_list [-0.55189819 -1.98535913 -3.24984503  0.6865332   0.86108194 -0.70194806\n",
      " -0.1832202  -0.24115517 -3.49306378 -1.18991123]\n",
      "W_STDP_r_homéo time :  6.506836175918579\n",
      "w_per_synapse_list [-0.55189819 -1.98535913 -3.24984503  0.6865332   0.86108194 -0.70194806\n",
      " -0.1832202  -0.24115517 -3.49306378 -1.18991123]\n",
      "NN time :  15.56414270401001\n",
      "naps <synapses_6.w: array([ 11.12683694, -15.52267041, -34.44779064,  -8.82132642,\n",
      "        11.70971394,  -1.71706595, -11.16613237,  -3.22986525,\n",
      "        -3.57845145, -10.45404906])>\n",
      "N_EPOCH : 8\n",
      "generation time:  7.0809643268585205\n",
      "len(delta_T_STDP) : 63960\n",
      "w_per_synapse_list [-0.02971159 -2.40443999 -3.18598881 -2.0659148  -0.82656876  0.65655827\n",
      " -0.38017342  0.91233844 -3.8405804  -0.76903471]\n",
      "W_STDP_r_homéo time :  8.075730800628662\n",
      "w_per_synapse_list [-0.02971159 -2.40443999 -3.18598881 -2.0659148  -0.82656876  0.65655827\n",
      " -0.38017342  0.91233844 -3.8405804  -0.76903471]\n",
      "NN time :  4.809210538864136\n",
      "naps <synapses_5.w: array([ 11.09712534, -17.9271104 , -37.63377945, -10.88724122,\n",
      "        10.88314518,  -1.06050768, -11.5463058 ,  -2.31752681,\n",
      "        -7.41903185, -11.22308377])>\n",
      "N_EPOCH : 9\n",
      "generation time:  7.5185933113098145\n",
      "len(delta_T_STDP) : 52430\n",
      "w_per_synapse_list [-0.03693045 -0.40987955 -2.75055399 -0.36186259  0.02839638 -0.58432367\n",
      " -0.74868901 -0.77526753 -2.45424016 -0.47692222]\n",
      "W_STDP_r_homéo time :  6.583559036254883\n",
      "w_per_synapse_list [-0.03693045 -0.40987955 -2.75055399 -0.36186259  0.02839638 -0.58432367\n",
      " -0.74868901 -0.77526753 -2.45424016 -0.47692222]\n",
      "NN time :  9.647542476654053\n",
      "naps <synapses_4.w: array([ 11.06019489, -18.33698995, -40.38433344, -11.24910381,\n",
      "        10.91154156,  -1.64483135, -12.29499481,  -3.09279434,\n",
      "        -9.87327201, -11.700006  ])>\n",
      "N_EPOCH : 10\n",
      "generation time:  7.334137201309204\n",
      "len(delta_T_STDP) : 48597\n",
      "w_per_synapse_list [-2.73119708 -1.9093335  -2.18260617 -1.3036092   0.61054957 -0.49828109\n",
      "  0.57011757 -0.58647795 -2.63553149 -0.30202947]\n",
      "W_STDP_r_homéo time :  5.841052293777466\n",
      "w_per_synapse_list [-2.73119708 -1.9093335  -2.18260617 -1.3036092   0.61054957 -0.49828109\n",
      "  0.57011757 -0.58647795 -2.63553149 -0.30202947]\n",
      "NN time :  4.51169490814209\n",
      "naps <synapses_6.w: array([  8.32899782, -20.24632344, -42.56693962, -12.55271301,\n",
      "        11.52209114,  -2.14311244, -11.72487723,  -3.67927229,\n",
      "       -12.5088035 , -12.00203546])>\n",
      "N_EPOCH : 11\n",
      "generation time:  8.11367154121399\n",
      "len(delta_T_STDP) : 54184\n",
      "w_per_synapse_list [-0.29170997 -1.51560133 -2.99956221  0.9847004  -0.50438558 -0.56979622\n",
      " -0.88913755 -1.54764817 -2.36094376 -0.04517583]\n",
      "W_STDP_r_homéo time :  6.443524360656738\n",
      "w_per_synapse_list [-0.29170997 -1.51560133 -2.99956221  0.9847004  -0.50438558 -0.56979622\n",
      " -0.88913755 -1.54764817 -2.36094376 -0.04517583]\n",
      "NN time :  10.07518219947815\n",
      "naps <synapses_5.w: array([  8.03728785, -21.76192478, -45.56650183, -11.56801261,\n",
      "        11.01770556,  -2.71290866, -12.61401479,  -5.22692046,\n",
      "       -14.86974726, -12.04721129])>\n",
      "N_EPOCH : 12\n",
      "generation time:  7.484032392501831\n",
      "len(delta_T_STDP) : 48500\n",
      "w_per_synapse_list [-0.59334495 -0.8726835  -0.82480032 -0.12769866 -0.6333462  -0.96152426\n",
      " -0.23405949 -0.76026605 -2.09310992 -0.57428147]\n",
      "W_STDP_r_homéo time :  5.824305295944214\n",
      "w_per_synapse_list [-0.59334495 -0.8726835  -0.82480032 -0.12769866 -0.6333462  -0.96152426\n",
      " -0.23405949 -0.76026605 -2.09310992 -0.57428147]\n",
      "NN time :  4.374985218048096\n",
      "naps <synapses_4.w: array([  7.4439429 , -22.63460828, -46.39130214, -11.69571127,\n",
      "        10.38435937,  -3.67443292, -12.84807428,  -5.98718651,\n",
      "       -16.96285718, -12.62149277])>\n",
      "N_EPOCH : 13\n",
      "generation time:  7.350249767303467\n",
      "len(delta_T_STDP) : 44954\n",
      "w_per_synapse_list [ 0.24961469 -2.40946288 -1.85883605 -0.21547599  1.09285861 -0.1674509\n",
      "  0.26857954 -0.97329011 -2.03122655  0.07024465]\n",
      "W_STDP_r_homéo time :  5.581589460372925\n",
      "w_per_synapse_list [ 0.24961469 -2.40946288 -1.85883605 -0.21547599  1.09285861 -0.1674509\n",
      "  0.26857954 -0.97329011 -2.03122655  0.07024465]\n",
      "NN time :  5.143849849700928\n",
      "naps <synapses_6.w: array([  7.69355759, -25.04407116, -48.25013819, -11.91118726,\n",
      "        11.47721798,  -3.84188381, -12.57949474,  -6.96047662,\n",
      "       -18.99408374, -12.55124812])>\n",
      "N_EPOCH : 14\n",
      "generation time:  7.843703746795654\n",
      "len(delta_T_STDP) : 47628\n",
      "w_per_synapse_list [ 2.30342148 -1.79389524 -3.15958219  0.38948529 -1.25909647 -1.50305339\n",
      "  1.05210862  0.10089448 -2.42174996  0.17813882]\n",
      "W_STDP_r_homéo time :  6.169636487960815\n",
      "w_per_synapse_list [ 2.30342148 -1.79389524 -3.15958219  0.38948529 -1.25909647 -1.50305339\n",
      "  1.05210862  0.10089448 -2.42174996  0.17813882]\n",
      "NN time :  4.875899791717529\n",
      "naps <synapses_5.w: array([  9.99697907, -26.8379664 , -51.40972038, -11.52170197,\n",
      "        10.21812151,  -5.3449372 , -11.52738613,  -6.85958213,\n",
      "       -21.41583369, -12.3731093 ])>\n",
      "N_EPOCH : 15\n",
      "generation time:  12.620700597763062\n",
      "len(delta_T_STDP) : 46828\n",
      "w_per_synapse_list [ 0.17668469 -1.72379024 -2.22693452 -0.31342871  1.53712419 -0.66932677\n",
      "  0.39172218 -0.40351495 -2.3559668  -1.00662623]\n",
      "W_STDP_r_homéo time :  6.070505142211914\n",
      "w_per_synapse_list [ 0.17668469 -1.72379024 -2.22693452 -0.31342871  1.53712419 -0.66932677\n",
      "  0.39172218 -0.40351495 -2.3559668  -1.00662623]\n",
      "NN time :  4.61156702041626\n",
      "naps <synapses_4.w: array([ 10.17366376, -28.56175664, -53.6366549 , -11.83513068,\n",
      "        11.7552457 ,  -6.01426397, -11.13566395,  -7.26309709,\n",
      "       -23.7718005 , -13.37973553])>\n",
      "N_EPOCH : 16\n",
      "generation time:  7.064917087554932\n",
      "len(delta_T_STDP) : 55080\n",
      "w_per_synapse_list [-8.69623670e-02 -3.29434749e+00 -4.78846607e+00  7.60013226e-02\n",
      "  2.24572440e+00 -3.26800276e-01  3.81287740e-03 -2.41412614e-01\n",
      " -4.08652775e+00  7.13315283e-02]\n",
      "W_STDP_r_homéo time :  6.609786033630371\n",
      "w_per_synapse_list [-8.69623670e-02 -3.29434749e+00 -4.78846607e+00  7.60013226e-02\n",
      "  2.24572440e+00 -3.26800276e-01  3.81287740e-03 -2.41412614e-01\n",
      " -4.08652775e+00  7.13315283e-02]\n",
      "NN time :  4.399019718170166\n",
      "naps <synapses_6.w: array([ 10.08670139, -31.85610413, -58.42512097, -11.75912936,\n",
      "        14.0009701 ,  -6.34106425, -11.13185107,  -7.5045097 ,\n",
      "       -27.85832825, -13.308404  ])>\n",
      "N_EPOCH : 17\n",
      "generation time:  7.352317571640015\n",
      "len(delta_T_STDP) : 56540\n",
      "w_per_synapse_list [-0.08004541 -2.12036913 -3.58709807 -0.71762693  1.60760869 -0.6251059\n",
      " -0.22895151 -0.9449644  -4.09967348  0.42682531]\n",
      "W_STDP_r_homéo time :  6.935541152954102\n",
      "w_per_synapse_list [-0.08004541 -2.12036913 -3.58709807 -0.71762693  1.60760869 -0.6251059\n",
      " -0.22895151 -0.9449644  -4.09967348  0.42682531]\n",
      "NN time :  4.696142911911011\n",
      "naps <synapses_5.w: array([ 10.00665599, -33.97647326, -62.01221905, -12.47675628,\n",
      "        15.60857879,  -6.96617015, -11.36080258,  -8.4494741 ,\n",
      "       -31.95800173, -12.8815787 ])>\n",
      "N_EPOCH : 18\n",
      "generation time:  7.364551544189453\n",
      "len(delta_T_STDP) : 48791\n",
      "w_per_synapse_list [ 1.78768514 -1.59666966 -3.63465428  1.12299627 -1.46761065 -0.77761177\n",
      " -0.48885721 -0.12912496 -3.51173163  0.19883626]\n",
      "W_STDP_r_homéo time :  5.848701477050781\n",
      "w_per_synapse_list [ 1.78768514 -1.59666966 -3.63465428  1.12299627 -1.46761065 -0.77761177\n",
      " -0.48885721 -0.12912496 -3.51173163  0.19883626]\n",
      "NN time :  4.519863128662109\n",
      "naps <synapses_4.w: array([ 11.79434113, -35.57314293, -65.64687332, -11.35376002,\n",
      "        14.14096814,  -7.74378191, -11.84965978,  -8.57859905,\n",
      "       -35.46973336, -12.68274244])>\n",
      "N_EPOCH : 19\n",
      "TIMETOT 435.796347618103\n"
     ]
    }
   ],
   "source": [
    "#avec STDP simple \n",
    "delta_e_out, delta_e_true, delta_e_in, delta_w, naps_w, naps = learn_weight_2 (Ni, n_pattern, duration, nn_j, i_syn)"
   ]
  },
  {
   "cell_type": "code",
   "execution_count": 128,
   "id": "d3805923-0510-429c-a3f5-a1cb3ea7c946",
   "metadata": {},
   "outputs": [
    {
     "data": {
      "text/plain": [
       "105"
      ]
     },
     "execution_count": 128,
     "metadata": {},
     "output_type": "execute_result"
    },
    {
     "data": {
      "image/png": "[encoded data removed]",
      "text/plain": [
       "<Figure size 720x288 with 1 Axes>"
      ]
     },
     "metadata": {
      "needs_background": "light"
     },
     "output_type": "display_data"
    }
   ],
   "source": [
    "plt.figure(figsize=(10,4))\n",
    "for i in range(len(delta_e_out[19])):\n",
    "    plt.scatter(delta_e_out[19][i][0], delta_e_out[19][i][1], marker = '|')\n",
    "len(delta_e_out[19])"
   ]
  },
  {
   "cell_type": "code",
   "execution_count": 129,
   "id": "82cd2d95-6d82-44e2-9347-b372b981ebd1",
   "metadata": {},
   "outputs": [
    {
     "data": {
      "text/plain": [
       "62"
      ]
     },
     "execution_count": 129,
     "metadata": {},
     "output_type": "execute_result"
    },
    {
     "data": {
      "image/png": "[encoded data removed]",
      "text/plain": [
       "<Figure size 720x288 with 1 Axes>"
      ]
     },
     "metadata": {
      "needs_background": "light"
     },
     "output_type": "display_data"
    }
   ],
   "source": [
    "plt.figure(figsize=(10,4))\n",
    "for i in range(len(delta_e_true[19])):\n",
    "    plt.scatter(delta_e_true[19][i][0], delta_e_true[19][i][1], marker = '|')\n",
    "len(delta_e_true[19])"
   ]
  },
  {
   "cell_type": "code",
   "execution_count": 130,
   "id": "0a698053-f539-452a-a6c0-afc91be7d6f4",
   "metadata": {},
   "outputs": [
    {
     "data": {
      "text/plain": [
       "<synapses_4.w: array([ 11.79434113, -35.57314293, -65.64687332, -11.35376002,\n",
       "        14.14096814,  -7.74378191, -11.84965978,  -8.57859905,\n",
       "       -35.46973336, -12.68274244])>"
      ]
     },
     "execution_count": 130,
     "metadata": {},
     "output_type": "execute_result"
    }
   ],
   "source": [
    "naps_w[18]"
   ]
  },
  {
   "cell_type": "code",
   "execution_count": 131,
   "id": "420bd9fc-9e82-479a-8a68-06d3ea75c58d",
   "metadata": {},
   "outputs": [
    {
     "data": {
      "text/plain": [
       "array([5.59890978, 3.18294414, 0.89475128, 0.3233948 , 0.3233948 ,\n",
       "       0.89475128, 3.18294414, 5.59890978])"
      ]
     },
     "execution_count": 131,
     "metadata": {},
     "output_type": "execute_result"
    }
   ],
   "source": [
    "s.w[0,:]"
   ]
  },
  {
   "cell_type": "code",
   "execution_count": 81,
   "id": "a15ddbe3-59ab-48c2-962e-e74c799af55e",
   "metadata": {},
   "outputs": [
    {
     "name": "stdout",
     "output_type": "stream",
     "text": [
      "1 0 [5.59890978]\n",
      "2 0 [3.18294414]\n",
      "5 0 [0.89475128]\n",
      "3 0 [0.3233948]\n",
      "9 0 [0.3233948]\n",
      "7 0 [0.89475128]\n",
      "0 0 [3.18294414]\n",
      "8 0 [5.59890978]\n"
     ]
    }
   ],
   "source": [
    "#les poids que je voudrais \n",
    "for i in s.j : \n",
    "    print(i,0, s.w[0,i])"
   ]
  },
  {
   "cell_type": "code",
   "execution_count": 75,
   "id": "5edb35de-dd5a-4260-88fd-74ae94a974ad",
   "metadata": {},
   "outputs": [
    {
     "name": "stdout",
     "output_type": "stream",
     "text": [
      "1 0 [-42.61412465]\n",
      "2 0 [-33.76137012]\n",
      "5 0 [-14.96327039]\n",
      "3 0 [-7.35336266]\n",
      "9 0 [-8.94745263]\n",
      "7 0 [-1.13299022]\n",
      "0 0 [-15.05140026]\n",
      "8 0 [-41.42243341]\n"
     ]
    }
   ],
   "source": [
    "#les poids appris \n",
    "for i in s.j : \n",
    "    print(i, 0, naps.w[i,0])"
   ]
  },
  {
   "cell_type": "markdown",
   "id": "adbd8b85-4a0b-4c34-91c7-4a9be1e0a594",
   "metadata": {
    "tags": []
   },
   "source": [
    "##### avec STDP simple / initialisation de e_out = e_true / initialisation des poids aléatoire entre -10 et 10 "
   ]
  },
  {
   "cell_type": "code",
   "execution_count": 136,
   "id": "0b936c44-a315-4a08-af06-bb1174792b2c",
   "metadata": {
    "collapsed": true,
    "jupyter": {
     "outputs_hidden": true
    },
    "tags": []
   },
   "outputs": [
    {
     "name": "stdout",
     "output_type": "stream",
     "text": [
      "generation time:  12.912044525146484\n",
      "ind_out :  [0, 0, 0, 0, 0, 0, 0, 0, 0, 0, 0, 0, 0, 0, 0, 0, 0, 0, 0, 0, 0, 0, 0, 0, 0, 0, 0, 0, 0, 0, 0, 0, 0, 0, 0, 0, 0, 0, 0, 0, 0, 0, 0, 0, 0, 0, 0, 0, 0, 0, 0, 0, 0, 0, 0, 0, 0, 0, 0, 0]\n",
      "temps_out :  [175.4 * msecond, 0.5182 * second, 0.6009 * second, 0.7777 * second, 1.0264 * second, 1.1024 * second, 1.1754 * second, 1.2041 * second, 1.3041 * second, 1.3941 * second, 1.5296 * second, 1.5868 * second, 2.071 * second, 2.2745 * second, 2.3333 * second, 2.3442 * second, 2.474 * second, 2.5791 * second, 2.7386 * second, 2.8706 * second, 3.2412 * second, 3.4687 * second, 3.5823 * second, 3.8185 * second, 3.893 * second, 3.9317 * second, 4.0252 * second, 4.2121 * second, 4.3883 * second, 4.4674 * second, 4.6713 * second, 4.8217 * second, 4.9445 * second, 5.1726 * second, 5.2115 * second, 5.6016 * second, 5.9092 * second, 5.9854 * second, 6.1443 * second, 6.2961 * second, 6.513 * second, 6.86 * second, 6.8921 * second, 6.9537 * second, 7.3649 * second, 7.6085 * second, 7.6792 * second, 7.9018 * second, 8.2017 * second, 8.4581 * second, 8.5475 * second, 8.5751 * second, 8.7988 * second, 9.076 * second, 9.1487 * second, 9.2194 * second, 9.4782 * second, 9.6332 * second, 9.832 * second, 9.931 * second]\n",
      "NN time - epoch 0 :  8.01731562614441\n",
      "N_EPOCH : 0\n",
      "generation time:  18.45251154899597\n",
      "len(delta_T_STDP) : 31080\n",
      "w_per_synapse_list [-1.69763729 -0.2890702  -1.24350531  0.14650085  0.45833447  1.24901348\n",
      " -0.71849669 -0.08328163 -1.5271254   0.02444916]\n",
      "W_STDP_r_homéo time :  3.9776523113250732\n",
      "w_per_synapse_list [-1.69763729 -0.2890702  -1.24350531  0.14650085  0.45833447  1.24901348\n",
      " -0.71849669 -0.08328163 -1.5271254   0.02444916]\n",
      "NN time :  8.516541004180908\n",
      "naps <synapses_6.w: array([ -3.69763729,  -1.2890702 ,  -9.24350531,  -5.85349915,\n",
      "        -3.54166553,  -8.75098652,   6.28150331,   8.91671837,\n",
      "       -10.5271254 ,   5.02444916])>\n",
      "N_EPOCH : 1\n",
      "generation time:  10.537750005722046\n",
      "len(delta_T_STDP) : 68251\n",
      "w_per_synapse_list [-0.8260298  -0.02049204  1.16074074 -0.0907189  -0.22450614  0.13429905\n",
      "  1.15670862 -0.40149846  0.11351194 -0.50132089]\n",
      "W_STDP_r_homéo time :  8.259499311447144\n",
      "w_per_synapse_list [-0.8260298  -0.02049204  1.16074074 -0.0907189  -0.22450614  0.13429905\n",
      "  1.15670862 -0.40149846  0.11351194 -0.50132089]\n",
      "NN time :  10.757385015487671\n",
      "naps <synapses_8.w: array([ -4.52366709,  -1.30956225,  -8.08276457,  -5.94421806,\n",
      "        -3.76617167,  -8.61668747,   7.43821193,   8.51521991,\n",
      "       -10.41361346,   4.52312827])>\n",
      "N_EPOCH : 2\n",
      "generation time:  32.71241855621338\n",
      "len(delta_T_STDP) : 56500\n",
      "w_per_synapse_list [-0.68778375  0.7991339   0.71932072  0.07407562 -0.79148538 -1.57158709\n",
      " -0.17343252  0.90944294  0.44821964 -0.51020907]\n",
      "W_STDP_r_homéo time :  7.568257808685303\n",
      "w_per_synapse_list [-0.68778375  0.7991339   0.71932072  0.07407562 -0.79148538 -1.57158709\n",
      " -0.17343252  0.90944294  0.44821964 -0.51020907]\n",
      "NN time :  10.104015588760376\n",
      "naps <synapses_7.w: array([ -5.21145084,  -0.51042834,  -7.36344385,  -5.87014244,\n",
      "        -4.55765706, -10.18827456,   7.26477941,   9.42466285,\n",
      "        -9.96539381,   4.0129192 ])>\n",
      "N_EPOCH : 3\n",
      "generation time:  14.645075559616089\n",
      "len(delta_T_STDP) : 62176\n",
      "w_per_synapse_list [ 0.753481   -1.46907271 -1.61420926 -0.02361781  0.09457558  0.73140543\n",
      " -1.65721547 -0.45732454 -0.96444651  1.78848183]\n",
      "W_STDP_r_homéo time :  7.956664562225342\n",
      "w_per_synapse_list [ 0.753481   -1.46907271 -1.61420926 -0.02361781  0.09457558  0.73140543\n",
      " -1.65721547 -0.45732454 -0.96444651  1.78848183]\n",
      "NN time :  14.510162591934204\n",
      "naps <synapses_6.w: array([ -4.45796984,  -1.97950105,  -8.97765311,  -5.89376025,\n",
      "        -4.46308148,  -9.45686913,   5.60756394,   8.96733832,\n",
      "       -10.92984032,   5.80140103])>\n",
      "N_EPOCH : 4\n",
      "generation time:  8.76628828048706\n",
      "len(delta_T_STDP) : 57680\n",
      "w_per_synapse_list [ 0.4533671  -0.2948635   1.08696808  0.16010295 -1.14392213 -0.75608098\n",
      "  0.88068022  0.55423467 -0.04318975  0.20331659]\n",
      "W_STDP_r_homéo time :  7.718309164047241\n",
      "w_per_synapse_list [ 0.4533671  -0.2948635   1.08696808  0.16010295 -1.14392213 -0.75608098\n",
      "  0.88068022  0.55423467 -0.04318975  0.20331659]\n",
      "NN time :  10.469351053237915\n",
      "naps <synapses_8.w: array([ -4.00460274,  -2.27436455,  -7.89068503,  -5.7336573 ,\n",
      "        -5.60700361, -10.21295011,   6.48824415,   9.52157299,\n",
      "       -10.97303008,   6.00471762])>\n",
      "N_EPOCH : 5\n",
      "generation time:  7.612811088562012\n",
      "len(delta_T_STDP) : 65472\n",
      "w_per_synapse_list [ 0.53498961 -0.77121363 -0.64879439 -1.64841754 -0.54286659  0.2534707\n",
      " -0.66745296  1.02050924 -0.31872481 -0.50019963]\n",
      "W_STDP_r_homéo time :  8.847301244735718\n",
      "w_per_synapse_list [ 0.53498961 -0.77121363 -0.64879439 -1.64841754 -0.54286659  0.2534707\n",
      " -0.66745296  1.02050924 -0.31872481 -0.50019963]\n",
      "NN time :  9.529175996780396\n",
      "naps <synapses_7.w: array([ -3.46961313,  -3.04557818,  -8.53947942,  -7.38207483,\n",
      "        -6.1498702 ,  -9.95947942,   5.82079119,  10.54208223,\n",
      "       -11.29175489,   5.50451799])>\n",
      "N_EPOCH : 6\n",
      "generation time:  8.052604675292969\n",
      "len(delta_T_STDP) : 61560\n",
      "w_per_synapse_list [-1.55351072  0.70428339 -2.53326028 -0.44580529  0.09183621  0.19041503\n",
      "  0.04006225 -0.97927863 -1.17911037 -0.84416623]\n",
      "W_STDP_r_homéo time :  9.240593910217285\n",
      "w_per_synapse_list [-1.55351072  0.70428339 -2.53326028 -0.44580529  0.09183621  0.19041503\n",
      "  0.04006225 -0.97927863 -1.17911037 -0.84416623]\n",
      "NN time :  5.3699891567230225\n",
      "naps <synapses_6.w: array([ -5.02312385,  -2.34129479, -11.0727397 ,  -7.82788012,\n",
      "        -6.05803399,  -9.76906439,   5.86085344,   9.5628036 ,\n",
      "       -12.47086525,   4.66035176])>\n",
      "N_EPOCH : 7\n",
      "generation time:  7.716143608093262\n",
      "len(delta_T_STDP) : 63162\n",
      "w_per_synapse_list [ 1.31237915 -0.18499371 -1.08812329 -0.01042471  0.17317659 -0.22359008\n",
      "  1.14425525 -1.1542891  -0.34097032  0.21894291]\n",
      "W_STDP_r_homéo time :  8.026039361953735\n",
      "w_per_synapse_list [ 1.31237915 -0.18499371 -1.08812329 -0.01042471  0.17317659 -0.22359008\n",
      "  1.14425525 -1.1542891  -0.34097032  0.21894291]\n",
      "NN time :  11.701813220977783\n",
      "naps <synapses_8.w: array([ -3.7107447 ,  -2.5262885 , -12.16086299,  -7.83830483,\n",
      "        -5.8848574 ,  -9.99265446,   7.00510869,   8.4085145 ,\n",
      "       -12.81183557,   4.87929468])>\n",
      "N_EPOCH : 8\n",
      "generation time:  7.535107135772705\n",
      "len(delta_T_STDP) : 61610\n",
      "w_per_synapse_list [ 1.11573047 -0.47780198 -1.63208213 -0.76315329 -0.01100426  0.06296075\n",
      " -0.32174641 -2.52367541 -2.47652093  1.37903261]\n",
      "W_STDP_r_homéo time :  7.4557390213012695\n",
      "w_per_synapse_list [ 1.11573047 -0.47780198 -1.63208213 -0.76315329 -0.01100426  0.06296075\n",
      " -0.32174641 -2.52367541 -2.47652093  1.37903261]\n",
      "NN time :  5.465350389480591\n",
      "naps <synapses_7.w: array([ -2.59501422,  -3.00409048, -13.79294513,  -8.60145812,\n",
      "        -5.89586167,  -9.92969372,   6.68336228,   5.88483909,\n",
      "       -15.2883565 ,   6.25832729])>\n",
      "N_EPOCH : 9\n",
      "generation time:  9.652661561965942\n",
      "len(delta_T_STDP) : 62073\n",
      "w_per_synapse_list [-0.22766575 -0.59019162 -0.86897691  0.41805543  0.35230009 -0.23107657\n",
      "  1.18348565  1.33894739  0.16697049 -1.36099204]\n",
      "W_STDP_r_homéo time :  10.15980839729309\n",
      "w_per_synapse_list [-0.22766575 -0.59019162 -0.86897691  0.41805543  0.35230009 -0.23107657\n",
      "  1.18348565  1.33894739  0.16697049 -1.36099204]\n",
      "NN time :  9.04293417930603\n",
      "naps <synapses_6.w: array([ -2.82267997,  -3.5942821 , -14.66192204,  -8.18340269,\n",
      "        -5.54356157, -10.16077029,   7.86684793,   7.22378648,\n",
      "       -15.12138601,   4.89733525])>\n",
      "N_EPOCH : 10\n",
      "generation time:  10.347421407699585\n",
      "len(delta_T_STDP) : 56166\n",
      "w_per_synapse_list [ 0.01072918  1.25464757 -1.03545099 -0.20527953 -0.15403382 -0.0713242\n",
      " -1.030281    0.72353954 -1.19068055  0.28202164]\n",
      "W_STDP_r_homéo time :  8.407257080078125\n",
      "w_per_synapse_list [ 0.01072918  1.25464757 -1.03545099 -0.20527953 -0.15403382 -0.0713242\n",
      " -1.030281    0.72353954 -1.19068055  0.28202164]\n",
      "NN time :  5.119851589202881\n",
      "naps <synapses_8.w: array([ -2.81195079,  -2.33963454, -15.69737303,  -8.38868222,\n",
      "        -5.69759539, -10.23209448,   6.83656693,   7.94732602,\n",
      "       -16.31206656,   5.17935689])>\n",
      "N_EPOCH : 11\n",
      "generation time:  8.597168207168579\n",
      "len(delta_T_STDP) : 52605\n",
      "w_per_synapse_list [-0.54084324 -0.20957719  0.58015966 -1.60561026 -0.04028721 -0.62659953\n",
      " -0.23246647 -0.20719401  0.71005228  0.87100607]\n",
      "W_STDP_r_homéo time :  6.797189474105835\n",
      "w_per_synapse_list [-0.54084324 -0.20957719  0.58015966 -1.60561026 -0.04028721 -0.62659953\n",
      " -0.23246647 -0.20719401  0.71005228  0.87100607]\n",
      "NN time :  4.424075603485107\n",
      "naps <synapses_7.w: array([ -3.35279402,  -2.54921173, -15.11721338,  -9.99429248,\n",
      "        -5.7378826 , -10.85869401,   6.60410046,   7.74013201,\n",
      "       -15.60201428,   6.05036296])>\n",
      "N_EPOCH : 12\n",
      "generation time:  7.721112012863159\n",
      "len(delta_T_STDP) : 61712\n",
      "w_per_synapse_list [-0.55453646  1.44630186 -0.7873199  -0.17278301 -0.70948615 -0.36030105\n",
      "  0.24403952 -0.23191244 -0.62755573  0.41633627]\n",
      "W_STDP_r_homéo time :  7.515660762786865\n",
      "w_per_synapse_list [-0.55453646  1.44630186 -0.7873199  -0.17278301 -0.70948615 -0.36030105\n",
      "  0.24403952 -0.23191244 -0.62755573  0.41633627]\n",
      "NN time :  4.6095850467681885\n",
      "naps <synapses_6.w: array([ -3.90733049,  -1.10290987, -15.90453327, -10.16707549,\n",
      "        -6.44736875, -11.21899507,   6.84813998,   7.50821956,\n",
      "       -16.22957002,   6.46669924])>\n",
      "N_EPOCH : 13\n",
      "generation time:  7.496898174285889\n",
      "len(delta_T_STDP) : 62400\n",
      "w_per_synapse_list [-1.65386343 -0.92555441 -1.59313503 -1.63650041  0.36733361  0.32480924\n",
      "  0.79122021 -0.05587415 -1.66894532  0.83315923]\n",
      "W_STDP_r_homéo time :  8.405436038970947\n",
      "w_per_synapse_list [-1.65386343 -0.92555441 -1.59313503 -1.63650041  0.36733361  0.32480924\n",
      "  0.79122021 -0.05587415 -1.66894532  0.83315923]\n",
      "NN time :  4.410866737365723\n",
      "naps <synapses_8.w: array([ -5.56119392,  -2.02846429, -17.4976683 , -11.8035759 ,\n",
      "        -6.08003514, -10.89418582,   7.63936018,   7.45234541,\n",
      "       -17.89851533,   7.29985846])>\n",
      "N_EPOCH : 14\n",
      "generation time:  7.4880945682525635\n",
      "len(delta_T_STDP) : 73575\n",
      "w_per_synapse_list [ 0.44807484  0.39259116 -1.92978619  0.47109867  0.31209042 -0.9226052\n",
      " -0.74761644  0.34427905 -1.71436067 -1.76668773]\n",
      "W_STDP_r_homéo time :  9.617753267288208\n",
      "w_per_synapse_list [ 0.44807484  0.39259116 -1.92978619  0.47109867  0.31209042 -0.9226052\n",
      " -0.74761644  0.34427905 -1.71436067 -1.76668773]\n",
      "NN time :  5.040613412857056\n",
      "naps <synapses_7.w: array([ -5.11311908,  -1.63587312, -19.42745449, -11.33247723,\n",
      "        -5.76794472, -11.81679102,   6.89174374,   7.79662446,\n",
      "       -19.612876  ,   5.53317074])>\n",
      "N_EPOCH : 15\n",
      "generation time:  7.515387058258057\n",
      "len(delta_T_STDP) : 57856\n",
      "w_per_synapse_list [-0.13872231  1.05795537 -1.06017515 -1.49168985 -0.58897883 -0.58866151\n",
      "  0.10627397  0.12688835 -0.42228825 -0.15160101]\n",
      "W_STDP_r_homéo time :  7.26717209815979\n",
      "w_per_synapse_list [-0.13872231  1.05795537 -1.06017515 -1.49168985 -0.58897883 -0.58866151\n",
      "  0.10627397  0.12688835 -0.42228825 -0.15160101]\n",
      "NN time :  4.61460280418396\n",
      "naps <synapses_6.w: array([ -5.25184138,  -0.57791775, -20.48762964, -12.82416708,\n",
      "        -6.35692355, -12.40545253,   6.99801771,   7.92351281,\n",
      "       -20.03516426,   5.38156972])>\n",
      "N_EPOCH : 16\n",
      "generation time:  7.789138555526733\n",
      "len(delta_T_STDP) : 51555\n",
      "w_per_synapse_list [-0.18898129 -0.34154129 -0.52980279 -0.01775032 -0.29219432 -0.97933488\n",
      " -0.18247785 -0.31838067 -0.00598291 -1.58784396]\n",
      "W_STDP_r_homéo time :  6.006777048110962\n",
      "w_per_synapse_list [-0.18898129 -0.34154129 -0.52980279 -0.01775032 -0.29219432 -0.97933488\n",
      " -0.18247785 -0.31838067 -0.00598291 -1.58784396]\n",
      "NN time :  12.26387333869934\n",
      "naps <synapses_8.w: array([ -5.44082267,  -0.91945904, -21.01743243, -12.8419174 ,\n",
      "        -6.64911787, -13.38478741,   6.81553985,   7.60513214,\n",
      "       -20.04114717,   3.79372576])>\n",
      "N_EPOCH : 17\n",
      "generation time:  11.0262930393219\n",
      "len(delta_T_STDP) : 57348\n",
      "w_per_synapse_list [ 0.25235369  0.58892871  0.34338954 -0.97996559  0.07787367 -1.14235479\n",
      "  0.26859528 -0.5490951   0.19981544  0.46164305]\n",
      "W_STDP_r_homéo time :  7.078290939331055\n",
      "w_per_synapse_list [ 0.25235369  0.58892871  0.34338954 -0.97996559  0.07787367 -1.14235479\n",
      "  0.26859528 -0.5490951   0.19981544  0.46164305]\n",
      "NN time :  4.983669996261597\n",
      "naps <synapses_7.w: array([ -5.18846898,  -0.33053033, -20.6740429 , -13.82188299,\n",
      "        -6.57124419, -14.52714219,   7.08413513,   7.05603704,\n",
      "       -19.84133173,   4.25536882])>\n",
      "N_EPOCH : 18\n",
      "generation time:  15.638373374938965\n",
      "len(delta_T_STDP) : 65472\n",
      "w_per_synapse_list [ 0.27946328  1.17226254 -0.91536154 -0.03882359 -1.34121849 -0.00360483\n",
      "  0.4167797   0.37589528 -0.19650591  1.91268802]\n",
      "W_STDP_r_homéo time :  9.54664134979248\n",
      "w_per_synapse_list [ 0.27946328  1.17226254 -0.91536154 -0.03882359 -1.34121849 -0.00360483\n",
      "  0.4167797   0.37589528 -0.19650591  1.91268802]\n",
      "NN time :  9.037110090255737\n",
      "naps <synapses_6.w: array([ -4.9090057 ,   0.84173221, -21.58940443, -13.86070658,\n",
      "        -7.91246268, -14.53074703,   7.50091482,   7.43193232,\n",
      "       -20.03783764,   6.16805683])>\n",
      "N_EPOCH : 19\n",
      "TIMETOT 530.6817245483398\n"
     ]
    }
   ],
   "source": [
    "#avec STDP simple \n",
    "delta_e_out, delta_e_true, delta_e_in, delta_w, naps_w, naps = learn_weight_2 (Ni, n_pattern, duration, nn_j, i_syn)"
   ]
  },
  {
   "cell_type": "code",
   "execution_count": 137,
   "id": "998266bf-48ac-43e7-9cd9-ca4c08f01657",
   "metadata": {},
   "outputs": [
    {
     "data": {
      "text/plain": [
       "122"
      ]
     },
     "execution_count": 137,
     "metadata": {},
     "output_type": "execute_result"
    },
    {
     "data": {
      "image/png": "[encoded data removed]",
      "text/plain": [
       "<Figure size 720x288 with 1 Axes>"
      ]
     },
     "metadata": {
      "needs_background": "light"
     },
     "output_type": "display_data"
    }
   ],
   "source": [
    "plt.figure(figsize=(10,4))\n",
    "for i in range(len(delta_e_out[19])):\n",
    "    plt.scatter(delta_e_out[19][i][0], delta_e_out[19][i][1], marker = '|')\n",
    "len(delta_e_out[19])"
   ]
  },
  {
   "cell_type": "code",
   "execution_count": 138,
   "id": "1af7fd18-6b61-4d7b-8764-ce33d7f5beeb",
   "metadata": {},
   "outputs": [
    {
     "data": {
      "text/plain": [
       "59"
      ]
     },
     "execution_count": 138,
     "metadata": {},
     "output_type": "execute_result"
    },
    {
     "data": {
      "image/png": "[encoded data removed]",
      "text/plain": [
       "<Figure size 720x288 with 1 Axes>"
      ]
     },
     "metadata": {
      "needs_background": "light"
     },
     "output_type": "display_data"
    }
   ],
   "source": [
    "plt.figure(figsize=(10,4))\n",
    "for i in range(len(delta_e_true[19])):\n",
    "    plt.scatter(delta_e_true[19][i][0], delta_e_true[19][i][1], marker = '|')\n",
    "len(delta_e_true[19])"
   ]
  },
  {
   "cell_type": "code",
   "execution_count": 139,
   "id": "7c07bd82-5ee5-4563-9337-ba6a5dacb9bf",
   "metadata": {},
   "outputs": [
    {
     "data": {
      "text/plain": [
       "<synapses_6.w: array([ -4.9090057 ,   0.84173221, -21.58940443, -13.86070658,\n",
       "        -7.91246268, -14.53074703,   7.50091482,   7.43193232,\n",
       "       -20.03783764,   6.16805683])>"
      ]
     },
     "execution_count": 139,
     "metadata": {},
     "output_type": "execute_result"
    }
   ],
   "source": [
    "naps_w[18]"
   ]
  },
  {
   "cell_type": "code",
   "execution_count": 140,
   "id": "5df5d4e5-e112-4c3a-a96f-ba21679ebfe9",
   "metadata": {},
   "outputs": [
    {
     "data": {
      "text/plain": [
       "array([5.59890978, 3.18294414, 0.89475128, 0.3233948 , 0.3233948 ,\n",
       "       0.89475128, 3.18294414, 5.59890978])"
      ]
     },
     "execution_count": 140,
     "metadata": {},
     "output_type": "execute_result"
    }
   ],
   "source": [
    "s.w[0,:]"
   ]
  },
  {
   "cell_type": "code",
   "execution_count": 141,
   "id": "4ca4b713-516e-4a75-b1c9-804ab55de537",
   "metadata": {},
   "outputs": [
    {
     "name": "stdout",
     "output_type": "stream",
     "text": [
      "1 0 [5.59890978]\n",
      "2 0 [3.18294414]\n",
      "5 0 [0.89475128]\n",
      "3 0 [0.3233948]\n",
      "9 0 [0.3233948]\n",
      "7 0 [0.89475128]\n",
      "0 0 [3.18294414]\n",
      "8 0 [5.59890978]\n"
     ]
    }
   ],
   "source": [
    "#les poids que je voudrais \n",
    "for i in s.j : \n",
    "    print(i,0, s.w[0,i])"
   ]
  },
  {
   "cell_type": "code",
   "execution_count": 142,
   "id": "f17f035b-ce1a-4f92-8eb7-ca48b9f5859d",
   "metadata": {},
   "outputs": [
    {
     "name": "stdout",
     "output_type": "stream",
     "text": [
      "1 0 [0.84173221]\n",
      "2 0 [-21.58940443]\n",
      "5 0 [-14.53074703]\n",
      "3 0 [-13.86070658]\n",
      "9 0 [6.16805683]\n",
      "7 0 [7.43193232]\n",
      "0 0 [-4.9090057]\n",
      "8 0 [-20.03783764]\n"
     ]
    }
   ],
   "source": [
    "#les poids appris \n",
    "for i in s.j : \n",
    "    print(i, 0, naps.w[i,0])"
   ]
  },
  {
   "cell_type": "markdown",
   "id": "c60f86b1-9984-486d-a7a5-394be774ffc0",
   "metadata": {
    "tags": []
   },
   "source": [
    "##### avec STDP simple / initialisation de e_out = e_true / initialisation des poids entre -3 et 3  "
   ]
  },
  {
   "cell_type": "code",
   "execution_count": 163,
   "id": "49b4cd16-43a9-4ffc-954b-fd6204b5483a",
   "metadata": {
    "tags": []
   },
   "outputs": [
    {
     "name": "stdout",
     "output_type": "stream",
     "text": [
      "generation time:  13.988564252853394\n",
      "ind_out :  [0, 0, 0, 0, 0, 0, 0, 0, 0, 0, 0, 0, 0, 0, 0, 0, 0, 0, 0, 0, 0, 0, 0, 0, 0, 0, 0, 0, 0, 0, 0, 0, 0, 0, 0, 0, 0, 0, 0, 0, 0, 0, 0, 0, 0, 0, 0, 0, 0, 0, 0, 0, 0, 0, 0, 0, 0, 0, 0, 0]\n",
      "temps_out :  [175.4 * msecond, 0.5182 * second, 0.6009 * second, 0.7777 * second, 1.0264 * second, 1.1024 * second, 1.1754 * second, 1.2041 * second, 1.3041 * second, 1.3941 * second, 1.5296 * second, 1.5868 * second, 2.071 * second, 2.2745 * second, 2.3333 * second, 2.3442 * second, 2.474 * second, 2.5791 * second, 2.7386 * second, 2.8706 * second, 3.2412 * second, 3.4687 * second, 3.5823 * second, 3.8185 * second, 3.893 * second, 3.9317 * second, 4.0252 * second, 4.2121 * second, 4.3883 * second, 4.4674 * second, 4.6713 * second, 4.8217 * second, 4.9445 * second, 5.1726 * second, 5.2115 * second, 5.6016 * second, 5.9092 * second, 5.9854 * second, 6.1443 * second, 6.2961 * second, 6.513 * second, 6.86 * second, 6.8921 * second, 6.9537 * second, 7.3649 * second, 7.6085 * second, 7.6792 * second, 7.9018 * second, 8.2017 * second, 8.4581 * second, 8.5475 * second, 8.5751 * second, 8.7988 * second, 9.076 * second, 9.1487 * second, 9.2194 * second, 9.4782 * second, 9.6332 * second, 9.832 * second, 9.931 * second]\n",
      "NN time - epoch 0 :  1.8677480220794678\n",
      "N_EPOCH : 0\n",
      "generation time:  7.415621519088745\n",
      "len(delta_T_STDP) : 31080\n",
      "w_per_synapse_list [-0.27566509  0.24321233 -0.30533951 -0.39914462 -0.21708638 -0.23960785\n",
      " -0.33369772 -1.54947515 -1.0014016  -0.40813798]\n",
      "W_STDP_r_homéo time :  3.917963743209839\n",
      "w_per_synapse_list [-0.27566509  0.24321233 -0.30533951 -0.39914462 -0.21708638 -0.23960785\n",
      " -0.33369772 -1.54947515 -1.0014016  -0.40813798]\n",
      "NN time :  9.655466318130493\n",
      "naps <synapses_7.w: array([-0.27566509,  2.24321233, -3.30533951, -1.39914462,  1.78291362,\n",
      "       -0.23960785,  0.66630228, -2.54947515, -1.0014016 ,  0.59186202])>\n",
      "N_EPOCH : 1\n",
      "generation time:  7.207645416259766\n",
      "len(delta_T_STDP) : 29232\n",
      "w_per_synapse_list [ 0.4355205   1.07481315  1.93708234 -0.15666862 -0.54873845 -0.45342458\n",
      " -0.04369079 -1.28101293  1.66202843 -0.09545291]\n",
      "W_STDP_r_homéo time :  3.678684711456299\n",
      "w_per_synapse_list [ 0.4355205   1.07481315  1.93708234 -0.15666862 -0.54873845 -0.45342458\n",
      " -0.04369079 -1.28101293  1.66202843 -0.09545291]\n",
      "NN time :  9.919034481048584\n",
      "naps <synapses_4.w: array([ 0.1598554 ,  3.31802548, -1.36825717, -1.55581324,  1.23417517,\n",
      "       -0.69303243,  0.62261149, -3.83048808,  0.66062683,  0.49640911])>\n",
      "N_EPOCH : 2\n",
      "generation time:  7.600632429122925\n",
      "len(delta_T_STDP) : 35840\n",
      "w_per_synapse_list [ 0.76263188  0.8489672   1.93626581 -0.78169381  0.59692292  0.77605175\n",
      "  0.59039999 -0.44021833  3.07415463 -0.18203252]\n",
      "W_STDP_r_homéo time :  4.263955116271973\n",
      "w_per_synapse_list [ 0.76263188  0.8489672   1.93626581 -0.78169381  0.59692292  0.77605175\n",
      "  0.59039999 -0.44021833  3.07415463 -0.18203252]\n",
      "NN time :  9.87509036064148\n",
      "naps <synapses_8.w: array([ 0.92248729,  4.16699268,  0.56800864, -2.33750705,  1.83109809,\n",
      "        0.08301932,  1.21301148, -4.27070641,  3.73478146,  0.31437659])>\n",
      "N_EPOCH : 3\n",
      "generation time:  13.386616468429565\n",
      "len(delta_T_STDP) : 71712\n",
      "w_per_synapse_list [ 2.99801752 -0.61476288 -2.17185516 -0.27107038  1.33957628 -0.34260374\n",
      "  1.30816833 -1.4566965   2.00959002 -0.34535297]\n",
      "W_STDP_r_homéo time :  9.50172472000122\n",
      "w_per_synapse_list [ 2.99801752 -0.61476288 -2.17185516 -0.27107038  1.33957628 -0.34260374\n",
      "  1.30816833 -1.4566965   2.00959002 -0.34535297]\n",
      "NN time :  4.5623393058776855\n",
      "naps <synapses_6.w: array([ 3.9205048 ,  3.5522298 , -1.60384652, -2.60857743,  3.17067437,\n",
      "       -0.25958442,  2.52117981, -5.72740291,  5.74437148, -0.03097638])>\n",
      "N_EPOCH : 4\n",
      "generation time:  7.5896711349487305\n",
      "len(delta_T_STDP) : 147443\n",
      "w_per_synapse_list [ 5.49682154 -4.5178739  -4.67119035 -1.14153369 -0.11872377  0.2066247\n",
      " -0.47101304 -0.8022617  -4.4079494  -0.43797045]\n",
      "W_STDP_r_homéo time :  18.232118844985962\n",
      "w_per_synapse_list [ 5.49682154 -4.5178739  -4.67119035 -1.14153369 -0.11872377  0.2066247\n",
      " -0.47101304 -0.8022617  -4.4079494  -0.43797045]\n",
      "NN time :  4.626388072967529\n",
      "naps <synapses_4.w: array([ 9.41732635, -0.9656441 , -6.27503687, -3.75011112,  3.05195059,\n",
      "       -0.05295972,  2.05016676, -6.52966461,  1.33642209, -0.46894683])>\n",
      "N_EPOCH : 5\n",
      "generation time:  13.971587657928467\n",
      "len(delta_T_STDP) : 54670\n",
      "w_per_synapse_list [ 2.08550596 -2.69688434 -1.5403888  -0.39262711  0.24207478 -0.05231921\n",
      "  0.02774783 -2.3867813  -1.46741039  0.78285419]\n",
      "W_STDP_r_homéo time :  6.948047637939453\n",
      "w_per_synapse_list [ 2.08550596 -2.69688434 -1.5403888  -0.39262711  0.24207478 -0.05231921\n",
      "  0.02774783 -2.3867813  -1.46741039  0.78285419]\n",
      "NN time :  4.59526515007019\n",
      "naps <synapses_7.w: array([11.50283231, -3.66252844, -7.81542567, -4.14273823,  3.29402537,\n",
      "       -0.10527893,  2.0779146 , -8.91644591, -0.1309883 ,  0.31390736])>\n",
      "N_EPOCH : 6\n",
      "generation time:  7.087197542190552\n",
      "len(delta_T_STDP) : 45125\n",
      "w_per_synapse_list [-0.63094503 -1.70286162 -2.99570342  0.31958353  0.34503585 -1.40150966\n",
      " -0.67177329  0.55338182 -4.20200463 -0.34050996]\n",
      "W_STDP_r_homéo time :  5.34916877746582\n",
      "w_per_synapse_list [-0.63094503 -1.70286162 -2.99570342  0.31958353  0.34503585 -1.40150966\n",
      " -0.67177329  0.55338182 -4.20200463 -0.34050996]\n",
      "NN time :  9.533474206924438\n",
      "naps <synapses_6.w: array([ 10.87188728,  -5.36539006, -10.81112909,  -3.8231547 ,\n",
      "         3.63906122,  -1.50678859,   1.4061413 ,  -8.36306409,\n",
      "        -4.33299294,  -0.0266026 ])>\n",
      "N_EPOCH : 7\n",
      "generation time:  7.412335157394409\n",
      "len(delta_T_STDP) : 49086\n",
      "w_per_synapse_list [-0.77163983 -1.06190387 -2.68237217  0.71147786 -0.17428447 -0.44549938\n",
      "  0.28815549 -0.78179955 -2.8522846  -0.03479429]\n",
      "W_STDP_r_homéo time :  5.90832781791687\n",
      "w_per_synapse_list [-0.77163983 -1.06190387 -2.68237217  0.71147786 -0.17428447 -0.44549938\n",
      "  0.28815549 -0.78179955 -2.8522846  -0.03479429]\n",
      "NN time :  4.603140115737915\n",
      "naps <synapses_4.w: array([ 10.10024744,  -6.42729393, -13.49350126,  -3.11167684,\n",
      "         3.46477675,  -1.95228798,   1.6942968 ,  -9.14486364,\n",
      "        -7.18527754,  -0.06139689])>\n",
      "N_EPOCH : 8\n",
      "generation time:  7.338629961013794\n",
      "len(delta_T_STDP) : 47970\n",
      "w_per_synapse_list [ 1.31775597 -1.06332704 -2.40940761  0.1373409   0.16063507 -0.45101741\n",
      " -1.17618836 -0.64729973 -2.64275364 -0.05476175]\n",
      "W_STDP_r_homéo time :  5.582161903381348\n",
      "w_per_synapse_list [ 1.31775597 -1.06332704 -2.40940761  0.1373409   0.16063507 -0.45101741\n",
      " -1.17618836 -0.64729973 -2.64275364 -0.05476175]\n",
      "NN time :  9.844968557357788\n",
      "naps <synapses_7.w: array([ 11.41800341,  -7.49062097, -15.90290887,  -2.97433593,\n",
      "         3.62541182,  -2.40330539,   0.51810844,  -9.79216337,\n",
      "        -9.82803117,  -0.11615864])>\n",
      "N_EPOCH : 9\n",
      "generation time:  7.574712514877319\n",
      "len(delta_T_STDP) : 50082\n",
      "w_per_synapse_list [-0.23630347 -3.22319891 -3.39408806 -0.16553879 -0.07839674 -0.07897567\n",
      " -0.41101722 -0.01643971 -3.66759951 -0.02768942]\n",
      "W_STDP_r_homéo time :  6.303891897201538\n",
      "w_per_synapse_list [-0.23630347 -3.22319891 -3.39408806 -0.16553879 -0.07839674 -0.07897567\n",
      " -0.41101722 -0.01643971 -3.66759951 -0.02768942]\n",
      "NN time :  11.459311723709106\n",
      "naps <synapses_6.w: array([ 11.18169994, -10.71381988, -19.29699693,  -3.13987473,\n",
      "         3.54701507,  -2.48228106,   0.10709122,  -9.80860307,\n",
      "       -13.49563068,  -0.14384806])>\n",
      "N_EPOCH : 10\n",
      "generation time:  7.797327995300293\n",
      "len(delta_T_STDP) : 51744\n",
      "w_per_synapse_list [ 0.16864574 -2.89464562 -2.51056203 -0.88229458 -0.50538287 -1.24689115\n",
      " -0.6061704  -0.84168446 -3.40801488  0.09114667]\n",
      "W_STDP_r_homéo time :  6.350324392318726\n",
      "w_per_synapse_list [ 0.16864574 -2.89464562 -2.51056203 -0.88229458 -0.50538287 -1.24689115\n",
      " -0.6061704  -0.84168446 -3.40801488  0.09114667]\n",
      "NN time :  4.594082355499268\n",
      "naps <synapses_4.w: array([ 11.35034568, -13.6084655 , -21.80755896,  -4.0221693 ,\n",
      "         3.0416322 ,  -3.72917221,  -0.49907918, -10.65028753,\n",
      "       -16.90364556,  -0.05270139])>\n",
      "N_EPOCH : 11\n",
      "generation time:  7.153160572052002\n",
      "len(delta_T_STDP) : 51102\n",
      "w_per_synapse_list [ 2.1868605  -1.23680516 -3.72527495 -0.05677449 -1.08968745 -0.74809685\n",
      " -0.84114246  0.29689692 -3.90305289 -0.00773645]\n",
      "W_STDP_r_homéo time :  5.721304178237915\n",
      "w_per_synapse_list [ 2.1868605  -1.23680516 -3.72527495 -0.05677449 -1.08968745 -0.74809685\n",
      " -0.84114246  0.29689692 -3.90305289 -0.00773645]\n",
      "NN time :  4.532592296600342\n",
      "naps <synapses_7.w: array([ 13.53720618, -14.84527066, -25.53283392,  -4.07894379,\n",
      "         1.95194475,  -4.47726906,  -1.34022164, -10.35339061,\n",
      "       -20.80669845,  -0.06043784])>\n",
      "N_EPOCH : 12\n",
      "generation time:  7.118711471557617\n",
      "len(delta_T_STDP) : 31620\n",
      "w_per_synapse_list [ 0.87228927 -2.46481889 -2.73214224  0.50423172 -0.06857857 -0.73911393\n",
      "  0.05184878 -0.60545813 -2.01050401 -0.69121354]\n",
      "W_STDP_r_homéo time :  3.7494559288024902\n",
      "w_per_synapse_list [ 0.87228927 -2.46481889 -2.73214224  0.50423172 -0.06857857 -0.73911393\n",
      "  0.05184878 -0.60545813 -2.01050401 -0.69121354]\n",
      "NN time :  4.609031677246094\n",
      "naps <synapses_6.w: array([ 14.40949545, -17.31008955, -28.26497616,  -3.57471208,\n",
      "         1.88336618,  -5.21638299,  -1.28837285, -10.95884874,\n",
      "       -22.81720246,  -0.75165138])>\n",
      "N_EPOCH : 13\n",
      "generation time:  7.275479078292847\n",
      "len(delta_T_STDP) : 29638\n",
      "w_per_synapse_list [ 0.71945558 -2.52903557 -3.4313339  -0.26940895  0.70224063  0.13118285\n",
      " -0.34173186 -0.01013768 -2.68436831 -0.84401924]\n",
      "W_STDP_r_homéo time :  3.534505605697632\n",
      "w_per_synapse_list [ 0.71945558 -2.52903557 -3.4313339  -0.26940895  0.70224063  0.13118285\n",
      " -0.34173186 -0.01013768 -2.68436831 -0.84401924]\n",
      "NN time :  4.656100273132324\n",
      "naps <synapses_4.w: array([ 15.12895103, -19.83912512, -31.69631006,  -3.84412103,\n",
      "         2.58560681,  -5.08520015,  -1.63010471, -10.96898642,\n",
      "       -25.50157076,  -1.59567062])>\n",
      "N_EPOCH : 14\n",
      "generation time:  7.385327339172363\n",
      "len(delta_T_STDP) : 48609\n",
      "w_per_synapse_list [-0.23956689 -1.02941595 -3.92866708  1.2903736   0.9123814  -1.03030347\n",
      " -0.27923654  0.91480307 -3.33701282 -0.88457841]\n",
      "W_STDP_r_homéo time :  6.325193405151367\n",
      "w_per_synapse_list [-0.23956689 -1.02941595 -3.92866708  1.2903736   0.9123814  -1.03030347\n",
      " -0.27923654  0.91480307 -3.33701282 -0.88457841]\n",
      "NN time :  4.332685708999634\n",
      "naps <synapses_7.w: array([ 14.88938414, -20.86854107, -35.62497714,  -2.55374743,\n",
      "         3.49798821,  -6.11550362,  -1.90934126, -10.05418334,\n",
      "       -28.83858358,  -2.48024902])>\n",
      "N_EPOCH : 15\n",
      "generation time:  7.067985534667969\n",
      "len(delta_T_STDP) : 45760\n",
      "w_per_synapse_list [ 1.11094299 -1.45073623 -1.7470251   0.06644004  0.18728875 -0.80358246\n",
      " -0.00814623  0.29203374 -1.28717413  0.00798674]\n",
      "W_STDP_r_homéo time :  5.356360197067261\n",
      "w_per_synapse_list [ 1.11094299 -1.45073623 -1.7470251   0.06644004  0.18728875 -0.80358246\n",
      " -0.00814623  0.29203374 -1.28717413  0.00798674]\n",
      "NN time :  4.43708348274231\n",
      "naps <synapses_6.w: array([ 16.00032713, -22.3192773 , -37.37200224,  -2.48730739,\n",
      "         3.68527696,  -6.91908608,  -1.91748749,  -9.76214961,\n",
      "       -30.12575772,  -2.47226228])>\n",
      "N_EPOCH : 16\n",
      "generation time:  7.151816129684448\n",
      "len(delta_T_STDP) : 47922\n",
      "w_per_synapse_list [ 2.19866343e-01 -3.00958909e-01 -3.35646959e+00  1.40311645e+00\n",
      "  1.66464857e-01 -2.37841906e-04  4.43500922e-01 -2.36011065e+00\n",
      " -3.83146391e+00  4.72984528e-01]\n",
      "W_STDP_r_homéo time :  6.50339412689209\n",
      "w_per_synapse_list [ 2.19866343e-01 -3.00958909e-01 -3.35646959e+00  1.40311645e+00\n",
      "  1.66464857e-01 -2.37841906e-04  4.43500922e-01 -2.36011065e+00\n",
      " -3.83146391e+00  4.72984528e-01]\n",
      "NN time :  4.3942835330963135\n",
      "naps <synapses_4.w: array([ 16.22019347, -22.62023621, -40.72847183,  -1.08419095,\n",
      "         3.85174181,  -6.91932392,  -1.47398656, -12.12226026,\n",
      "       -33.95722163,  -1.99927775])>\n",
      "N_EPOCH : 17\n",
      "generation time:  7.070572376251221\n",
      "len(delta_T_STDP) : 45501\n",
      "w_per_synapse_list [-1.2097983  -3.41618902 -2.7590796  -0.79550124  1.5151998  -0.35538455\n",
      " -0.00403076 -0.98274918 -3.76339535 -0.03466447]\n",
      "W_STDP_r_homéo time :  5.7558722496032715\n",
      "w_per_synapse_list [-1.2097983  -3.41618902 -2.7590796  -0.79550124  1.5151998  -0.35538455\n",
      " -0.00403076 -0.98274918 -3.76339535 -0.03466447]\n",
      "NN time :  4.483397960662842\n",
      "naps <synapses_7.w: array([ 15.01039517, -26.03642522, -43.48755143,  -1.87969219,\n",
      "         5.36694162,  -7.27470847,  -1.47801733, -13.10500943,\n",
      "       -37.72061697,  -2.03394222])>\n",
      "N_EPOCH : 18\n",
      "generation time:  7.322723388671875\n",
      "len(delta_T_STDP) : 57770\n",
      "w_per_synapse_list [ 0.98562301 -2.25392733 -3.33424861 -1.14827363 -0.06521649  0.79782785\n",
      " -1.74058572 -1.02552197 -2.30910866  0.51529695]\n",
      "W_STDP_r_homéo time :  6.915931463241577\n",
      "w_per_synapse_list [ 0.98562301 -2.25392733 -3.33424861 -1.14827363 -0.06521649  0.79782785\n",
      " -1.74058572 -1.02552197 -2.30910866  0.51529695]\n",
      "NN time :  9.579288244247437\n",
      "naps <synapses_6.w: array([ 15.99601818, -28.29035255, -46.82180004,  -3.02796581,\n",
      "         5.30172512,  -6.47688061,  -3.21860304, -14.1305314 ,\n",
      "       -40.02972563,  -1.51864527])>\n",
      "N_EPOCH : 19\n",
      "TIMETOT 412.49507427215576\n"
     ]
    }
   ],
   "source": [
    "#avec STDP simple \n",
    "delta_e_out, delta_e_true, delta_e_in, delta_w, naps_w, naps = learn_weight_2 (Ni, n_pattern, duration, nn_j, i_syn)"
   ]
  },
  {
   "cell_type": "code",
   "execution_count": 164,
   "id": "72ce80b4-a129-4ec7-8f6c-ed8a5e3d876c",
   "metadata": {},
   "outputs": [
    {
     "data": {
      "text/plain": [
       "100"
      ]
     },
     "execution_count": 164,
     "metadata": {},
     "output_type": "execute_result"
    },
    {
     "data": {
      "image/png": "[encoded data removed]",
      "text/plain": [
       "<Figure size 720x288 with 1 Axes>"
      ]
     },
     "metadata": {
      "needs_background": "light"
     },
     "output_type": "display_data"
    }
   ],
   "source": [
    "plt.figure(figsize=(10,4))\n",
    "for i in range(len(delta_e_out[2])):\n",
    "    plt.scatter(delta_e_out[2][i][0], delta_e_out[2][i][1], marker = '|')\n",
    "len(delta_e_out[19])"
   ]
  },
  {
   "cell_type": "code",
   "execution_count": 165,
   "id": "ea554f95-b5f2-4dba-8ecc-a42d6ba5fea4",
   "metadata": {},
   "outputs": [
    {
     "data": {
      "text/plain": [
       "58"
      ]
     },
     "execution_count": 165,
     "metadata": {},
     "output_type": "execute_result"
    },
    {
     "data": {
      "image/png": "[encoded data removed]",
      "text/plain": [
       "<Figure size 720x288 with 1 Axes>"
      ]
     },
     "metadata": {
      "needs_background": "light"
     },
     "output_type": "display_data"
    }
   ],
   "source": [
    "plt.figure(figsize=(10,4))\n",
    "for i in range(len(delta_e_true[19])):\n",
    "    plt.scatter(delta_e_true[19][i][0], delta_e_true[19][i][1], marker = '|')\n",
    "len(delta_e_true[19])"
   ]
  },
  {
   "cell_type": "code",
   "execution_count": 166,
   "id": "236488ec-6892-4c0d-994f-36b504b14617",
   "metadata": {},
   "outputs": [
    {
     "data": {
      "text/plain": [
       "<synapses_6.w: array([ 15.99601818, -28.29035255, -46.82180004,  -3.02796581,\n",
       "         5.30172512,  -6.47688061,  -3.21860304, -14.1305314 ,\n",
       "       -40.02972563,  -1.51864527])>"
      ]
     },
     "execution_count": 166,
     "metadata": {},
     "output_type": "execute_result"
    }
   ],
   "source": [
    "naps_w[18]"
   ]
  },
  {
   "cell_type": "code",
   "execution_count": 167,
   "id": "4852a1c4-7ae6-4a37-a4ba-d3f8d32935ad",
   "metadata": {},
   "outputs": [
    {
     "data": {
      "text/plain": [
       "array([5.59890978, 3.18294414, 0.89475128, 0.3233948 , 0.3233948 ,\n",
       "       0.89475128, 3.18294414, 5.59890978])"
      ]
     },
     "execution_count": 167,
     "metadata": {},
     "output_type": "execute_result"
    }
   ],
   "source": [
    "s.w[0,:]"
   ]
  },
  {
   "cell_type": "code",
   "execution_count": 168,
   "id": "a0c1b415-bbc4-4a39-b083-79f1f25ac541",
   "metadata": {},
   "outputs": [
    {
     "name": "stdout",
     "output_type": "stream",
     "text": [
      "1 0 [5.59890978]\n",
      "2 0 [3.18294414]\n",
      "5 0 [0.89475128]\n",
      "3 0 [0.3233948]\n",
      "9 0 [0.3233948]\n",
      "7 0 [0.89475128]\n",
      "0 0 [3.18294414]\n",
      "8 0 [5.59890978]\n"
     ]
    }
   ],
   "source": [
    "#les poids que je voudrais \n",
    "for i in s.j : \n",
    "    print(i,0, s.w[0,i])"
   ]
  },
  {
   "cell_type": "code",
   "execution_count": 169,
   "id": "e940b137-8cc5-4c94-bad8-317c435432e5",
   "metadata": {},
   "outputs": [
    {
     "name": "stdout",
     "output_type": "stream",
     "text": [
      "1 0 [-28.29035255]\n",
      "2 0 [-46.82180004]\n",
      "5 0 [-6.47688061]\n",
      "3 0 [-3.02796581]\n",
      "9 0 [-1.51864527]\n",
      "7 0 [-14.1305314]\n",
      "0 0 [15.99601818]\n",
      "8 0 [-40.02972563]\n"
     ]
    }
   ],
   "source": [
    "#les poids appris \n",
    "for i in s.j : \n",
    "    print(i, 0, naps.w[i,0])"
   ]
  },
  {
   "cell_type": "code",
   "execution_count": null,
   "id": "fab8dc68-1323-4150-bec9-efaa9a86bd54",
   "metadata": {},
   "outputs": [],
   "source": []
  }
 ],
 "metadata": {
  "kernelspec": {
   "display_name": "Python 3 (ipykernel)",
   "language": "python",
   "name": "python3"
  },
  "language_info": {
   "codemirror_mode": {
    "name": "ipython",
    "version": 3
   },
   "file_extension": ".py",
   "mimetype": "text/x-python",
   "name": "python",
   "nbconvert_exporter": "python",
   "pygments_lexer": "ipython3",
   "version": "3.9.7"
  }
 },
 "nbformat": 4,
 "nbformat_minor": 5
}
