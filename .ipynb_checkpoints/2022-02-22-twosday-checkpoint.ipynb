{
 "cells": [
  {
   "cell_type": "markdown",
   "id": "864393a5-5122-4a18-8680-03eb4b33adb3",
   "metadata": {},
   "source": [
    "# generative model of PGs "
   ]
  },
  {
   "cell_type": "code",
   "execution_count": 1,
   "id": "d3b1e9e2-6770-450a-b0d5-a2aa24d3fd80",
   "metadata": {},
   "outputs": [],
   "source": [
    "from brian2 import *\n",
    "%matplotlib inline\n",
    "from brian2 import SpikeGeneratorGroup\n",
    "from brian2 import NeuronGroup\n",
    "import numpy as np\n",
    "\n",
    "import random\n",
    "import pandas as pd"
   ]
  },
  {
   "cell_type": "code",
   "execution_count": 2,
   "id": "d696dd85-1247-47f4-bd5b-e538c573d08f",
   "metadata": {},
   "outputs": [],
   "source": [
    "N = 10\n",
    "\n",
    "n_PGs = 10\n",
    "n_noise = n_PGs/2\n",
    "a = np.arange(n_PGs)\n",
    "duration = 1000*ms\n",
    "\n",
    "PGs = {}\n",
    "noise = {}\n",
    "\n",
    "spike_trains = {}\n",
    "adress = []\n",
    "adress_noise = []\n",
    "\n",
    "cmap = plt.cm.get_cmap(\"plasma\")\n",
    "color_dict = pd.Series({i:cmap(i/len(a)) for i,k in enumerate(a)})"
   ]
  },
  {
   "cell_type": "code",
   "execution_count": 3,
   "id": "3b6d300e-21fb-4000-8ec3-0c68319cae4a",
   "metadata": {
    "tags": []
   },
   "outputs": [],
   "source": [
    "for i in range(n_PGs) :\n",
    "    \n",
    "    n_indice = np.random.randint(2, N+1, size = 1)\n",
    "    indices = random.sample(range(N), int(n_indice))\n",
    "    times = np.random.rand(int(n_indice))*100*ms\n",
    "            \n",
    "    G = SpikeGeneratorGroup(10, indices, times)\n",
    "    S = SpikeMonitor(G)\n",
    "    \n",
    "        \n",
    "   # A = SpikeGeneratorGroup(10, , (ga,gb))\n",
    "    #B = SpikeMonitor(A)\n",
    "\n",
    "    run(duration)\n",
    "                \n",
    "    t = S.t/ms\n",
    "    I = S.i\n",
    "    PGs[i] = (t, I)\n",
    "\n",
    "    spike_trains[i] = S.spike_trains()\n",
    "    \n",
    "    \n",
    "for i in range(n_PGs) : \n",
    "    adress.append(spike_trains[i])\n",
    "    \n",
    "spike_per_N = {\n",
    "    k: [d.get(k) for d in adress]\n",
    "    for k in set().union(*adress)\n",
    "}"
   ]
  },
  {
   "cell_type": "code",
   "execution_count": 32,
   "id": "f1011f6e-8fe5-4461-b7a0-d2d841105152",
   "metadata": {},
   "outputs": [
    {
     "data": {
      "text/plain": [
       "{0: [array([], dtype=float64) * second,\n",
       "  array([], dtype=float64) * second,\n",
       "  array([48.3]) * msecond,\n",
       "  array([81.1]) * msecond,\n",
       "  array([], dtype=float64) * second,\n",
       "  array([63.1]) * msecond,\n",
       "  array([99.5]) * msecond,\n",
       "  array([35.7]) * msecond,\n",
       "  array([], dtype=float64) * second,\n",
       "  array([8.5]) * msecond],\n",
       " 1: [array([], dtype=float64) * second,\n",
       "  array([51.8]) * msecond,\n",
       "  array([], dtype=float64) * second,\n",
       "  array([], dtype=float64) * second,\n",
       "  array([96.2]) * msecond,\n",
       "  array([], dtype=float64) * second,\n",
       "  array([], dtype=float64) * second,\n",
       "  array([83.1]) * msecond,\n",
       "  array([81.6]) * msecond,\n",
       "  array([66.2]) * msecond],\n",
       " 2: [array([], dtype=float64) * second,\n",
       "  array([8.3]) * msecond,\n",
       "  array([], dtype=float64) * second,\n",
       "  array([30.5]) * msecond,\n",
       "  array([59.6]) * msecond,\n",
       "  array([], dtype=float64) * second,\n",
       "  array([], dtype=float64) * second,\n",
       "  array([51.]) * msecond,\n",
       "  array([9.4]) * msecond,\n",
       "  array([53.3]) * msecond],\n",
       " 3: [array([], dtype=float64) * second,\n",
       "  array([], dtype=float64) * second,\n",
       "  array([], dtype=float64) * second,\n",
       "  array([], dtype=float64) * second,\n",
       "  array([15.8]) * msecond,\n",
       "  array([], dtype=float64) * second,\n",
       "  array([98.8]) * msecond,\n",
       "  array([36.7]) * msecond,\n",
       "  array([50.4]) * msecond,\n",
       "  array([86.4]) * msecond],\n",
       " 4: [array([36.9]) * msecond,\n",
       "  array([22.9]) * msecond,\n",
       "  array([73.4]) * msecond,\n",
       "  array([], dtype=float64) * second,\n",
       "  array([58.]) * msecond,\n",
       "  array([5.7]) * msecond,\n",
       "  array([77.1]) * msecond,\n",
       "  array([78.6]) * msecond,\n",
       "  array([44.3]) * msecond,\n",
       "  array([21.1]) * msecond],\n",
       " 5: [array([], dtype=float64) * second,\n",
       "  array([], dtype=float64) * second,\n",
       "  array([], dtype=float64) * second,\n",
       "  array([67.7]) * msecond,\n",
       "  array([58.5]) * msecond,\n",
       "  array([], dtype=float64) * second,\n",
       "  array([16.6]) * msecond,\n",
       "  array([87.6]) * msecond,\n",
       "  array([72.6]) * msecond,\n",
       "  array([87.7]) * msecond],\n",
       " 6: [array([], dtype=float64) * second,\n",
       "  array([], dtype=float64) * second,\n",
       "  array([], dtype=float64) * second,\n",
       "  array([], dtype=float64) * second,\n",
       "  array([], dtype=float64) * second,\n",
       "  array([], dtype=float64) * second,\n",
       "  array([90.5]) * msecond,\n",
       "  array([97.4]) * msecond,\n",
       "  array([], dtype=float64) * second,\n",
       "  array([], dtype=float64) * second],\n",
       " 7: [array([79.9]) * msecond,\n",
       "  array([], dtype=float64) * second,\n",
       "  array([], dtype=float64) * second,\n",
       "  array([41.5]) * msecond,\n",
       "  array([65.4]) * msecond,\n",
       "  array([], dtype=float64) * second,\n",
       "  array([22.1]) * msecond,\n",
       "  array([76.5]) * msecond,\n",
       "  array([64.]) * msecond,\n",
       "  array([61.6]) * msecond],\n",
       " 8: [array([58.6]) * msecond,\n",
       "  array([], dtype=float64) * second,\n",
       "  array([], dtype=float64) * second,\n",
       "  array([], dtype=float64) * second,\n",
       "  array([78.9]) * msecond,\n",
       "  array([], dtype=float64) * second,\n",
       "  array([0.4]) * msecond,\n",
       "  array([78.3]) * msecond,\n",
       "  array([41.3]) * msecond,\n",
       "  array([42.1]) * msecond],\n",
       " 9: [array([], dtype=float64) * second,\n",
       "  array([38.1]) * msecond,\n",
       "  array([], dtype=float64) * second,\n",
       "  array([], dtype=float64) * second,\n",
       "  array([], dtype=float64) * second,\n",
       "  array([], dtype=float64) * second,\n",
       "  array([13.3]) * msecond,\n",
       "  array([73.3]) * msecond,\n",
       "  array([41.2]) * msecond,\n",
       "  array([95.3]) * msecond]}"
      ]
     },
     "execution_count": 32,
     "metadata": {},
     "output_type": "execute_result"
    }
   ],
   "source": [
    "spike_per_N"
   ]
  },
  {
   "cell_type": "code",
   "execution_count": 24,
   "id": "8bb3fefe-4ea7-4200-b858-dc35b566f531",
   "metadata": {},
   "outputs": [],
   "source": [
    "a= []\n",
    "a = (spike_per_N.values())"
   ]
  },
  {
   "cell_type": "code",
   "execution_count": 25,
   "id": "086bd098-63c9-4d9f-8aa9-3dc6dc4ade6b",
   "metadata": {},
   "outputs": [
    {
     "data": {
      "text/plain": [
       "dict_values([[array([], dtype=float64) * second, array([], dtype=float64) * second, array([48.3]) * msecond, array([81.1]) * msecond, array([], dtype=float64) * second, array([63.1]) * msecond, array([99.5]) * msecond, array([35.7]) * msecond, array([], dtype=float64) * second, array([8.5]) * msecond], [array([], dtype=float64) * second, array([51.8]) * msecond, array([], dtype=float64) * second, array([], dtype=float64) * second, array([96.2]) * msecond, array([], dtype=float64) * second, array([], dtype=float64) * second, array([83.1]) * msecond, array([81.6]) * msecond, array([66.2]) * msecond], [array([], dtype=float64) * second, array([8.3]) * msecond, array([], dtype=float64) * second, array([30.5]) * msecond, array([59.6]) * msecond, array([], dtype=float64) * second, array([], dtype=float64) * second, array([51.]) * msecond, array([9.4]) * msecond, array([53.3]) * msecond], [array([], dtype=float64) * second, array([], dtype=float64) * second, array([], dtype=float64) * second, array([], dtype=float64) * second, array([15.8]) * msecond, array([], dtype=float64) * second, array([98.8]) * msecond, array([36.7]) * msecond, array([50.4]) * msecond, array([86.4]) * msecond], [array([36.9]) * msecond, array([22.9]) * msecond, array([73.4]) * msecond, array([], dtype=float64) * second, array([58.]) * msecond, array([5.7]) * msecond, array([77.1]) * msecond, array([78.6]) * msecond, array([44.3]) * msecond, array([21.1]) * msecond], [array([], dtype=float64) * second, array([], dtype=float64) * second, array([], dtype=float64) * second, array([67.7]) * msecond, array([58.5]) * msecond, array([], dtype=float64) * second, array([16.6]) * msecond, array([87.6]) * msecond, array([72.6]) * msecond, array([87.7]) * msecond], [array([], dtype=float64) * second, array([], dtype=float64) * second, array([], dtype=float64) * second, array([], dtype=float64) * second, array([], dtype=float64) * second, array([], dtype=float64) * second, array([90.5]) * msecond, array([97.4]) * msecond, array([], dtype=float64) * second, array([], dtype=float64) * second], [array([79.9]) * msecond, array([], dtype=float64) * second, array([], dtype=float64) * second, array([41.5]) * msecond, array([65.4]) * msecond, array([], dtype=float64) * second, array([22.1]) * msecond, array([76.5]) * msecond, array([64.]) * msecond, array([61.6]) * msecond], [array([58.6]) * msecond, array([], dtype=float64) * second, array([], dtype=float64) * second, array([], dtype=float64) * second, array([78.9]) * msecond, array([], dtype=float64) * second, array([0.4]) * msecond, array([78.3]) * msecond, array([41.3]) * msecond, array([42.1]) * msecond], [array([], dtype=float64) * second, array([38.1]) * msecond, array([], dtype=float64) * second, array([], dtype=float64) * second, array([], dtype=float64) * second, array([], dtype=float64) * second, array([13.3]) * msecond, array([73.3]) * msecond, array([41.2]) * msecond, array([95.3]) * msecond]])"
      ]
     },
     "execution_count": 25,
     "metadata": {},
     "output_type": "execute_result"
    }
   ],
   "source": [
    "a"
   ]
  },
  {
   "cell_type": "code",
   "execution_count": 9,
   "id": "a4551aa5-1926-4473-989c-fb2b3f57ffc0",
   "metadata": {},
   "outputs": [
    {
     "ename": "NameError",
     "evalue": "name 'B' is not defined",
     "output_type": "error",
     "traceback": [
      "\u001b[1;31m---------------------------------------------------------------------------\u001b[0m",
      "\u001b[1;31mNameError\u001b[0m                                 Traceback (most recent call last)",
      "\u001b[1;32m~\\AppData\\Local\\Temp/ipykernel_53484/2089550671.py\u001b[0m in \u001b[0;36m<module>\u001b[1;34m\u001b[0m\n\u001b[0;32m     18\u001b[0m \u001b[1;33m\u001b[0m\u001b[0m\n\u001b[0;32m     19\u001b[0m \u001b[1;33m\u001b[0m\u001b[0m\n\u001b[1;32m---> 20\u001b[1;33m \u001b[0mplt\u001b[0m\u001b[1;33m.\u001b[0m\u001b[0mscatter\u001b[0m\u001b[1;33m(\u001b[0m\u001b[0mB\u001b[0m\u001b[1;33m.\u001b[0m\u001b[0mt\u001b[0m\u001b[1;33m,\u001b[0m \u001b[0mB\u001b[0m\u001b[1;33m.\u001b[0m\u001b[0mi\u001b[0m\u001b[1;33m,\u001b[0m \u001b[0mcolor\u001b[0m \u001b[1;33m=\u001b[0m \u001b[1;34m\"k\"\u001b[0m\u001b[1;33m,\u001b[0m \u001b[0mmarker\u001b[0m \u001b[1;33m=\u001b[0m \u001b[1;34m\"|\"\u001b[0m\u001b[1;33m)\u001b[0m\u001b[1;33m\u001b[0m\u001b[1;33m\u001b[0m\u001b[0m\n\u001b[0m\u001b[0;32m     21\u001b[0m \u001b[0mxlabel\u001b[0m\u001b[1;33m(\u001b[0m\u001b[1;34m'Time (ms)'\u001b[0m\u001b[1;33m)\u001b[0m\u001b[1;33m\u001b[0m\u001b[1;33m\u001b[0m\u001b[0m\n\u001b[0;32m     22\u001b[0m \u001b[0mylabel\u001b[0m\u001b[1;33m(\u001b[0m\u001b[1;34m'Neuron index'\u001b[0m\u001b[1;33m)\u001b[0m\u001b[1;33m;\u001b[0m\u001b[1;33m\u001b[0m\u001b[1;33m\u001b[0m\u001b[0m\n",
      "\u001b[1;31mNameError\u001b[0m: name 'B' is not defined"
     ]
    }
   ],
   "source": [
    "n_indice = np.random.randint(2, N+1, size = 1)\n",
    "indices = random.sample(range(N), int(n_indice))\n",
    "times = np.random.rand(int(n_indice))*100*ms\n",
    "            \n",
    "G = SpikeGeneratorGroup(10, indices, times)\n",
    "S = SpikeMonitor(G)\n",
    "    \n",
    "    \n",
    "    \n",
    "run(duration)\n",
    "                \n",
    "t = S.t/ms\n",
    "I = S.i\n",
    "PGs[i] = (t, I)\n",
    "\n",
    "spike_trains[i] = S.spike_trains()\n",
    "\n",
    "\n",
    "\n",
    "plt.scatter(B.t, B.i, color = \"k\", marker = \"|\")\n",
    "xlabel('Time (ms)')\n",
    "ylabel('Neuron index');"
   ]
  },
  {
   "cell_type": "code",
   "execution_count": 45,
   "id": "ffbc33e8-b655-4f25-b29c-323c6eae9dd3",
   "metadata": {},
   "outputs": [
    {
     "ename": "SyntaxError",
     "evalue": "invalid syntax (Temp/ipykernel_49528/2749781252.py, line 5)",
     "output_type": "error",
     "traceback": [
      "\u001b[1;36m  File \u001b[1;32m\"C:\\Users\\camil\\AppData\\Local\\Temp/ipykernel_49528/2749781252.py\"\u001b[1;36m, line \u001b[1;32m5\u001b[0m\n\u001b[1;33m    ind.append(list(np.ones(N)*i))\u001b[0m\n\u001b[1;37m    ^\u001b[0m\n\u001b[1;31mSyntaxError\u001b[0m\u001b[1;31m:\u001b[0m invalid syntax\n"
     ]
    }
   ],
   "source": [
    "gul = np.arange(2,10)\n",
    "for i in gul: \n",
    "    ind = list(np.zeros(N))\n",
    "    ind.append(list(np.ones(N))\n",
    "    ind.append(list(np.ones(N)*i))"
   ]
  },
  {
   "cell_type": "code",
   "execution_count": 44,
   "id": "41bc5920-fd05-42b7-94f2-cc5b32c96258",
   "metadata": {},
   "outputs": [
    {
     "data": {
      "text/plain": [
       "[0.0,\n",
       " 0.0,\n",
       " 0.0,\n",
       " 0.0,\n",
       " 0.0,\n",
       " 0.0,\n",
       " 0.0,\n",
       " 0.0,\n",
       " 0.0,\n",
       " 0.0,\n",
       " array([1., 1., 1., 1., 1., 1., 1., 1., 1., 1.]),\n",
       " array([9., 9., 9., 9., 9., 9., 9., 9., 9., 9.])]"
      ]
     },
     "execution_count": 44,
     "metadata": {},
     "output_type": "execute_result"
    }
   ],
   "source": [
    "ind"
   ]
  },
  {
   "cell_type": "code",
   "execution_count": 15,
   "id": "826c0a14-6466-443b-84c7-073c840335eb",
   "metadata": {},
   "outputs": [
    {
     "data": {
      "text/plain": [
       "<spikemonitor.i: array([], dtype=int32)>"
      ]
     },
     "execution_count": 15,
     "metadata": {},
     "output_type": "execute_result"
    }
   ],
   "source": [
    "B.i"
   ]
  },
  {
   "cell_type": "code",
   "execution_count": 11,
   "id": "0b3146bc-3b74-48ab-92c6-09bb3474b544",
   "metadata": {},
   "outputs": [
    {
     "data": {
      "text/plain": [
       "[array([40.6]) * msecond,\n",
       " array([19.6]) * msecond,\n",
       " array([], dtype=float64) * second,\n",
       " array([], dtype=float64) * second,\n",
       " array([15.2]) * msecond,\n",
       " array([86.8]) * msecond,\n",
       " array([], dtype=float64) * second,\n",
       " array([], dtype=float64) * second,\n",
       " array([94.7]) * msecond,\n",
       " array([74.5]) * msecond]"
      ]
     },
     "execution_count": 11,
     "metadata": {},
     "output_type": "execute_result"
    }
   ],
   "source": [
    "spike_per_N[0]"
   ]
  },
  {
   "cell_type": "code",
   "execution_count": 13,
   "id": "cae80e88-0b92-4735-bc6e-e2e08e93d9f3",
   "metadata": {},
   "outputs": [
    {
     "data": {
      "text/plain": [
       "<spikemonitor_1.i: array([5, 4, 0])>"
      ]
     },
     "execution_count": 13,
     "metadata": {},
     "output_type": "execute_result"
    }
   ],
   "source": [
    "PGs[0][1]"
   ]
  },
  {
   "cell_type": "code",
   "execution_count": 4,
   "id": "514da314-78b8-4588-bf32-fd8b5a86bfe2",
   "metadata": {},
   "outputs": [
    {
     "ename": "MagicError",
     "evalue": "The magic network contains a mix of objects that has been run before and new objects, Brian does not know whether you want to start a new simulation or continue an old one. Consider explicitly creating a Network object. Also note that you can find out which objects will be included in a magic network with the collect() function.",
     "output_type": "error",
     "traceback": [
      "\u001b[1;31m---------------------------------------------------------------------------\u001b[0m",
      "\u001b[1;31mMagicError\u001b[0m                                Traceback (most recent call last)",
      "\u001b[1;32m~\\AppData\\Local\\Temp/ipykernel_49528/34151585.py\u001b[0m in \u001b[0;36m<module>\u001b[1;34m\u001b[0m\n\u001b[0;32m      2\u001b[0m \u001b[0mB\u001b[0m \u001b[1;33m=\u001b[0m \u001b[0mSpikeMonitor\u001b[0m\u001b[1;33m(\u001b[0m\u001b[0mA\u001b[0m\u001b[1;33m)\u001b[0m\u001b[1;33m\u001b[0m\u001b[1;33m\u001b[0m\u001b[0m\n\u001b[0;32m      3\u001b[0m \u001b[1;33m\u001b[0m\u001b[0m\n\u001b[1;32m----> 4\u001b[1;33m \u001b[0mrun\u001b[0m\u001b[1;33m(\u001b[0m\u001b[0mduration\u001b[0m\u001b[1;33m)\u001b[0m\u001b[1;33m\u001b[0m\u001b[1;33m\u001b[0m\u001b[0m\n\u001b[0m",
      "\u001b[1;32m~\\anaconda3\\lib\\site-packages\\brian2\\units\\fundamentalunits.py\u001b[0m in \u001b[0;36mnew_f\u001b[1;34m(*args, **kwds)\u001b[0m\n\u001b[0;32m   2390\u001b[0m                                                      get_dimensions(newkeyset[k]))\n\u001b[0;32m   2391\u001b[0m \u001b[1;33m\u001b[0m\u001b[0m\n\u001b[1;32m-> 2392\u001b[1;33m             \u001b[0mresult\u001b[0m \u001b[1;33m=\u001b[0m \u001b[0mf\u001b[0m\u001b[1;33m(\u001b[0m\u001b[1;33m*\u001b[0m\u001b[0margs\u001b[0m\u001b[1;33m,\u001b[0m \u001b[1;33m**\u001b[0m\u001b[0mkwds\u001b[0m\u001b[1;33m)\u001b[0m\u001b[1;33m\u001b[0m\u001b[1;33m\u001b[0m\u001b[0m\n\u001b[0m\u001b[0;32m   2393\u001b[0m             \u001b[1;32mif\u001b[0m \u001b[1;34m'result'\u001b[0m \u001b[1;32min\u001b[0m \u001b[0mau\u001b[0m\u001b[1;33m:\u001b[0m\u001b[1;33m\u001b[0m\u001b[1;33m\u001b[0m\u001b[0m\n\u001b[0;32m   2394\u001b[0m                 \u001b[1;32mif\u001b[0m \u001b[0mau\u001b[0m\u001b[1;33m[\u001b[0m\u001b[1;34m'result'\u001b[0m\u001b[1;33m]\u001b[0m \u001b[1;33m==\u001b[0m \u001b[0mbool\u001b[0m\u001b[1;33m:\u001b[0m\u001b[1;33m\u001b[0m\u001b[1;33m\u001b[0m\u001b[0m\n",
      "\u001b[1;32m~\\anaconda3\\lib\\site-packages\\brian2\\core\\magic.py\u001b[0m in \u001b[0;36mrun\u001b[1;34m(duration, report, report_period, namespace, profile, level)\u001b[0m\n\u001b[0;32m    371\u001b[0m         \u001b[0mintended\u001b[0m \u001b[0muse\u001b[0m\u001b[1;33m.\u001b[0m \u001b[0mSee\u001b[0m\u001b[0;31m \u001b[0m\u001b[0;31m`\u001b[0m\u001b[0mMagicNetwork\u001b[0m\u001b[0;31m`\u001b[0m \u001b[1;32mfor\u001b[0m \u001b[0mmore\u001b[0m \u001b[0mdetails\u001b[0m\u001b[1;33m.\u001b[0m\u001b[1;33m\u001b[0m\u001b[1;33m\u001b[0m\u001b[0m\n\u001b[0;32m    372\u001b[0m     '''\n\u001b[1;32m--> 373\u001b[1;33m     return magic_network.run(duration, report=report, report_period=report_period,\n\u001b[0m\u001b[0;32m    374\u001b[0m                              namespace=namespace, profile=profile, level=2+level)\n\u001b[0;32m    375\u001b[0m \u001b[0mrun\u001b[0m\u001b[1;33m.\u001b[0m\u001b[0m__module__\u001b[0m \u001b[1;33m=\u001b[0m \u001b[0m__name__\u001b[0m\u001b[1;33m\u001b[0m\u001b[1;33m\u001b[0m\u001b[0m\n",
      "\u001b[1;32m~\\anaconda3\\lib\\site-packages\\brian2\\core\\magic.py\u001b[0m in \u001b[0;36mrun\u001b[1;34m(self, duration, report, report_period, namespace, profile, level)\u001b[0m\n\u001b[0;32m    228\u001b[0m     def run(self, duration, report=None, report_period=10*second,\n\u001b[0;32m    229\u001b[0m             namespace=None, profile=False, level=0):\n\u001b[1;32m--> 230\u001b[1;33m         \u001b[0mself\u001b[0m\u001b[1;33m.\u001b[0m\u001b[0m_update_magic_objects\u001b[0m\u001b[1;33m(\u001b[0m\u001b[0mlevel\u001b[0m\u001b[1;33m=\u001b[0m\u001b[0mlevel\u001b[0m\u001b[1;33m+\u001b[0m\u001b[1;36m1\u001b[0m\u001b[1;33m)\u001b[0m\u001b[1;33m\u001b[0m\u001b[1;33m\u001b[0m\u001b[0m\n\u001b[0m\u001b[0;32m    231\u001b[0m         Network.run(self, duration, report=report, report_period=report_period,\n\u001b[0;32m    232\u001b[0m                     namespace=namespace, profile=profile, level=level+1)\n",
      "\u001b[1;32m~\\anaconda3\\lib\\site-packages\\brian2\\core\\magic.py\u001b[0m in \u001b[0;36m_update_magic_objects\u001b[1;34m(self, level)\u001b[0m\n\u001b[0;32m    182\u001b[0m \u001b[1;33m\u001b[0m\u001b[0m\n\u001b[0;32m    183\u001b[0m         \u001b[1;32mif\u001b[0m \u001b[0msome_known\u001b[0m \u001b[1;32mand\u001b[0m \u001b[0msome_new\u001b[0m\u001b[1;33m:\u001b[0m\u001b[1;33m\u001b[0m\u001b[1;33m\u001b[0m\u001b[0m\n\u001b[1;32m--> 184\u001b[1;33m             raise MagicError(('The magic network contains a mix of objects '\n\u001b[0m\u001b[0;32m    185\u001b[0m                               \u001b[1;34m'that has been run before and new objects, Brian '\u001b[0m\u001b[1;33m\u001b[0m\u001b[1;33m\u001b[0m\u001b[0m\n\u001b[0;32m    186\u001b[0m                               \u001b[1;34m'does not know whether you want to start a new '\u001b[0m\u001b[1;33m\u001b[0m\u001b[1;33m\u001b[0m\u001b[0m\n",
      "\u001b[1;31mMagicError\u001b[0m: The magic network contains a mix of objects that has been run before and new objects, Brian does not know whether you want to start a new simulation or continue an old one. Consider explicitly creating a Network object. Also note that you can find out which objects will be included in a magic network with the collect() function."
     ]
    }
   ],
   "source": [
    "\n",
    "            \n",
    "run(duration)"
   ]
  },
  {
   "cell_type": "code",
   "execution_count": null,
   "id": "62cfb0c2-d7a8-4dd7-84e7-16916f1e1788",
   "metadata": {},
   "outputs": [],
   "source": [
    "# TODO : voir si c'est pas moeux de faire un truc poisson pour le bruit \n",
    "for i in range(n_noise) :\n",
    "    n_indice = np.random.randint(2, N+2, size = 1)\n",
    "    indices = random.sample(range(N), int(n_indice))\n",
    "    times = np.random.rand(int(n_indice))*100*ms\n",
    "            \n",
    "    G = SpikeGeneratorGroup(10, indices, times)\n",
    "    S = SpikeMonitor(G)\n",
    "            \n",
    "    run(duration)\n",
    "                \n",
    "    t = S.t/ms\n",
    "    I = S.i\n",
    "    noise[i] = (t, I)\n",
    "    \n",
    "    spike_trains_noise[i] = S.spike_trains()\n",
    "    \n",
    "for i in range(n_noise) : \n",
    "    adress_noise.append(spike_trains_noise[i])\n",
    "    \n",
    "spike_per_N_noise = {\n",
    "    k: [d.get(k) for d in adress_noise]\n",
    "    for k in set().union(*adress_noise)\n",
    "}"
   ]
  },
  {
   "cell_type": "code",
   "execution_count": 32,
   "id": "64bea3a8-2bf8-4051-b32e-2fb052202528",
   "metadata": {},
   "outputs": [],
   "source": [
    "# TODO : plotter le noise aussi "
   ]
  },
  {
   "cell_type": "code",
   "execution_count": 41,
   "id": "17210b3c-8445-413e-b175-273cc71cf3ad",
   "metadata": {},
   "outputs": [
    {
     "data": {
      "image/png": "[encoded data removed]",
      "text/plain": [
       "<Figure size 432x288 with 1 Axes>"
      ]
     },
     "metadata": {
      "needs_background": "light"
     },
     "output_type": "display_data"
    }
   ],
   "source": [
    "for i in PGs:\n",
    "    plt.scatter(PGs[i][0], PGs[i][1], color = \"k\", marker = \"|\")\n",
    "    xlabel('Time (ms)')\n",
    "    ylabel('Neuron index');"
   ]
  },
  {
   "cell_type": "code",
   "execution_count": 4,
   "id": "fe8247d6-9f87-4c14-9dd2-243e247520f8",
   "metadata": {},
   "outputs": [
    {
     "data": {
      "image/png": "[encoded data removed]",
      "text/plain": [
       "<Figure size 432x288 with 1 Axes>"
      ]
     },
     "metadata": {
      "needs_background": "light"
     },
     "output_type": "display_data"
    }
   ],
   "source": [
    "for i in PGs:\n",
    "    plt.scatter(PGs[i][0], PGs[i][1], color = color_dict[i], marker = \"|\")\n",
    "    xlabel('Time (ms)')\n",
    "    ylabel('Neuron index');"
   ]
  },
  {
   "cell_type": "code",
   "execution_count": 105,
   "id": "06d4dc06-eaac-4153-aa45-63286876a252",
   "metadata": {},
   "outputs": [],
   "source": [
    "last_t = []\n",
    "last_i = []\n",
    "for i in PGs : \n",
    "    last_t.append(PGs[i][0][-1][-1])\n",
    "    last_i.append(PGs[i][1][-1])"
   ]
  },
  {
   "cell_type": "code",
   "execution_count": 111,
   "id": "c4810311-7585-42e1-a13d-6df77ed11c1a",
   "metadata": {},
   "outputs": [
    {
     "data": {
      "image/png": "[encoded data removed]",
      "text/plain": [
       "<Figure size 432x288 with 1 Axes>"
      ]
     },
     "metadata": {
      "needs_background": "light"
     },
     "output_type": "display_data"
    }
   ],
   "source": [
    "for i in PGs:\n",
    "    plt.scatter(last_t[i], last_i[i], color = color_dict[i], marker = \"|\")\n",
    "    xlabel('Time (ms)')\n",
    "    ylabel('Neuron index');"
   ]
  },
  {
   "cell_type": "code",
   "execution_count": 20,
   "id": "f8b28a94-7704-4e0c-a477-3824c37b8619",
   "metadata": {},
   "outputs": [],
   "source": [
    "# faire une courbe d'accord des délais pour chaque groupe p ?"
   ]
  },
  {
   "cell_type": "markdown",
   "id": "37d9b8af-37f7-4ee3-8e67-763df5bb089b",
   "metadata": {},
   "source": [
    "# neural network model for learning PGs "
   ]
  },
  {
   "cell_type": "code",
   "execution_count": 21,
   "id": "b66f981e-14b6-4ddc-913a-8419dbee0b9a",
   "metadata": {},
   "outputs": [],
   "source": [
    "# définir notre réseau en fonction de {w,t,j,i} = {poid, délai, n_pré, n_post} \n",
    "# faire une règle de STDP des délais -> avec ou sans connections parallèles ? "
   ]
  },
  {
   "cell_type": "code",
   "execution_count": 3,
   "id": "4af49a1f-a6b4-4eec-ba1f-dd59528f9a65",
   "metadata": {},
   "outputs": [],
   "source": [
    "temps = np.random.rand(int(5))*100*ms\n",
    "ind = np.arange(0,5,1)\n",
    "\n",
    "CAM = SpikeGeneratorGroup(10, ind, temps)\n",
    "spike_cam = SpikeMonitor(CAM)\n",
    "\n",
    "run(duration)\n",
    "\n"
   ]
  },
  {
   "cell_type": "code",
   "execution_count": 4,
   "id": "0194fc07-d6a9-4466-86a3-46cae093a69d",
   "metadata": {},
   "outputs": [
    {
     "ename": "MagicError",
     "evalue": "The magic network contains a mix of objects that has been run before and new objects, Brian does not know whether you want to start a new simulation or continue an old one. Consider explicitly creating a Network object. Also note that you can find out which objects will be included in a magic network with the collect() function.",
     "output_type": "error",
     "traceback": [
      "\u001b[1;31m---------------------------------------------------------------------------\u001b[0m",
      "\u001b[1;31mMagicError\u001b[0m                                Traceback (most recent call last)",
      "\u001b[1;32m~\\AppData\\Local\\Temp/ipykernel_41592/1071781908.py\u001b[0m in \u001b[0;36m<module>\u001b[1;34m\u001b[0m\n\u001b[0;32m     10\u001b[0m \u001b[0mSyn\u001b[0m\u001b[1;33m.\u001b[0m\u001b[0mconnect\u001b[0m\u001b[1;33m(\u001b[0m\u001b[0mi\u001b[0m\u001b[1;33m=\u001b[0m\u001b[1;36m0\u001b[0m\u001b[1;33m,\u001b[0m \u001b[0mj\u001b[0m\u001b[1;33m=\u001b[0m\u001b[1;36m1\u001b[0m\u001b[1;33m)\u001b[0m\u001b[1;33m\u001b[0m\u001b[1;33m\u001b[0m\u001b[0m\n\u001b[0;32m     11\u001b[0m \u001b[1;33m\u001b[0m\u001b[0m\n\u001b[1;32m---> 12\u001b[1;33m \u001b[0mrun\u001b[0m\u001b[1;33m(\u001b[0m\u001b[0mduration\u001b[0m\u001b[1;33m)\u001b[0m\u001b[1;33m\u001b[0m\u001b[1;33m\u001b[0m\u001b[0m\n\u001b[0m",
      "\u001b[1;32m~\\anaconda3\\lib\\site-packages\\brian2\\units\\fundamentalunits.py\u001b[0m in \u001b[0;36mnew_f\u001b[1;34m(*args, **kwds)\u001b[0m\n\u001b[0;32m   2390\u001b[0m                                                      get_dimensions(newkeyset[k]))\n\u001b[0;32m   2391\u001b[0m \u001b[1;33m\u001b[0m\u001b[0m\n\u001b[1;32m-> 2392\u001b[1;33m             \u001b[0mresult\u001b[0m \u001b[1;33m=\u001b[0m \u001b[0mf\u001b[0m\u001b[1;33m(\u001b[0m\u001b[1;33m*\u001b[0m\u001b[0margs\u001b[0m\u001b[1;33m,\u001b[0m \u001b[1;33m**\u001b[0m\u001b[0mkwds\u001b[0m\u001b[1;33m)\u001b[0m\u001b[1;33m\u001b[0m\u001b[1;33m\u001b[0m\u001b[0m\n\u001b[0m\u001b[0;32m   2393\u001b[0m             \u001b[1;32mif\u001b[0m \u001b[1;34m'result'\u001b[0m \u001b[1;32min\u001b[0m \u001b[0mau\u001b[0m\u001b[1;33m:\u001b[0m\u001b[1;33m\u001b[0m\u001b[1;33m\u001b[0m\u001b[0m\n\u001b[0;32m   2394\u001b[0m                 \u001b[1;32mif\u001b[0m \u001b[0mau\u001b[0m\u001b[1;33m[\u001b[0m\u001b[1;34m'result'\u001b[0m\u001b[1;33m]\u001b[0m \u001b[1;33m==\u001b[0m \u001b[0mbool\u001b[0m\u001b[1;33m:\u001b[0m\u001b[1;33m\u001b[0m\u001b[1;33m\u001b[0m\u001b[0m\n",
      "\u001b[1;32m~\\anaconda3\\lib\\site-packages\\brian2\\core\\magic.py\u001b[0m in \u001b[0;36mrun\u001b[1;34m(duration, report, report_period, namespace, profile, level)\u001b[0m\n\u001b[0;32m    371\u001b[0m         \u001b[0mintended\u001b[0m \u001b[0muse\u001b[0m\u001b[1;33m.\u001b[0m \u001b[0mSee\u001b[0m\u001b[0;31m \u001b[0m\u001b[0;31m`\u001b[0m\u001b[0mMagicNetwork\u001b[0m\u001b[0;31m`\u001b[0m \u001b[1;32mfor\u001b[0m \u001b[0mmore\u001b[0m \u001b[0mdetails\u001b[0m\u001b[1;33m.\u001b[0m\u001b[1;33m\u001b[0m\u001b[1;33m\u001b[0m\u001b[0m\n\u001b[0;32m    372\u001b[0m     '''\n\u001b[1;32m--> 373\u001b[1;33m     return magic_network.run(duration, report=report, report_period=report_period,\n\u001b[0m\u001b[0;32m    374\u001b[0m                              namespace=namespace, profile=profile, level=2+level)\n\u001b[0;32m    375\u001b[0m \u001b[0mrun\u001b[0m\u001b[1;33m.\u001b[0m\u001b[0m__module__\u001b[0m \u001b[1;33m=\u001b[0m \u001b[0m__name__\u001b[0m\u001b[1;33m\u001b[0m\u001b[1;33m\u001b[0m\u001b[0m\n",
      "\u001b[1;32m~\\anaconda3\\lib\\site-packages\\brian2\\core\\magic.py\u001b[0m in \u001b[0;36mrun\u001b[1;34m(self, duration, report, report_period, namespace, profile, level)\u001b[0m\n\u001b[0;32m    228\u001b[0m     def run(self, duration, report=None, report_period=10*second,\n\u001b[0;32m    229\u001b[0m             namespace=None, profile=False, level=0):\n\u001b[1;32m--> 230\u001b[1;33m         \u001b[0mself\u001b[0m\u001b[1;33m.\u001b[0m\u001b[0m_update_magic_objects\u001b[0m\u001b[1;33m(\u001b[0m\u001b[0mlevel\u001b[0m\u001b[1;33m=\u001b[0m\u001b[0mlevel\u001b[0m\u001b[1;33m+\u001b[0m\u001b[1;36m1\u001b[0m\u001b[1;33m)\u001b[0m\u001b[1;33m\u001b[0m\u001b[1;33m\u001b[0m\u001b[0m\n\u001b[0m\u001b[0;32m    231\u001b[0m         Network.run(self, duration, report=report, report_period=report_period,\n\u001b[0;32m    232\u001b[0m                     namespace=namespace, profile=profile, level=level+1)\n",
      "\u001b[1;32m~\\anaconda3\\lib\\site-packages\\brian2\\core\\magic.py\u001b[0m in \u001b[0;36m_update_magic_objects\u001b[1;34m(self, level)\u001b[0m\n\u001b[0;32m    182\u001b[0m \u001b[1;33m\u001b[0m\u001b[0m\n\u001b[0;32m    183\u001b[0m         \u001b[1;32mif\u001b[0m \u001b[0msome_known\u001b[0m \u001b[1;32mand\u001b[0m \u001b[0msome_new\u001b[0m\u001b[1;33m:\u001b[0m\u001b[1;33m\u001b[0m\u001b[1;33m\u001b[0m\u001b[0m\n\u001b[1;32m--> 184\u001b[1;33m             raise MagicError(('The magic network contains a mix of objects '\n\u001b[0m\u001b[0;32m    185\u001b[0m                               \u001b[1;34m'that has been run before and new objects, Brian '\u001b[0m\u001b[1;33m\u001b[0m\u001b[1;33m\u001b[0m\u001b[0m\n\u001b[0;32m    186\u001b[0m                               \u001b[1;34m'does not know whether you want to start a new '\u001b[0m\u001b[1;33m\u001b[0m\u001b[1;33m\u001b[0m\u001b[0m\n",
      "\u001b[1;31mMagicError\u001b[0m: The magic network contains a mix of objects that has been run before and new objects, Brian does not know whether you want to start a new simulation or continue an old one. Consider explicitly creating a Network object. Also note that you can find out which objects will be included in a magic network with the collect() function."
     ]
    }
   ],
   "source": [
    "tau = 10*ms\n",
    "eqs = '''\n",
    "dv/dt = (1-v)/tau : 1\n",
    "'''\n",
    "MILLE = NeuronGroup(2, eqs,threshold='v>1', reset='v = 0', method='exact')\n",
    "spike_mille = SpikeMonitor(MILLE)\n",
    "\n",
    "Syn = Synapses(CAM, MILLE, on_pre='v_post += 0.2')\n",
    "\n",
    "Syn.connect(i=0, j=1)\n",
    "\n",
    "run(duration)\n"
   ]
  },
  {
   "cell_type": "code",
   "execution_count": null,
   "id": "f512b5cd-b3d0-4faa-a670-9205a1485bcf",
   "metadata": {},
   "outputs": [],
   "source": [
    "fig, ax = plt.subplots(1, 1, figsize=(15,15))\n",
    "for k in range(n_PGs):\n",
    "    run(duration)\n",
    "    ax.step(spike_cam.t[k], spike_cam.i[k])"
   ]
  },
  {
   "cell_type": "code",
   "execution_count": 11,
   "id": "a73aba59-82ac-404a-9918-5adf9b9fcb53",
   "metadata": {},
   "outputs": [
    {
     "data": {
      "image/png": "[encoded data removed]",
      "text/plain": [
       "<Figure size 432x288 with 1 Axes>"
      ]
     },
     "metadata": {
      "needs_background": "light"
     },
     "output_type": "display_data"
    }
   ],
   "source": [
    "for i in n_PGs : \n",
    "plt.scatter(spike_cam.t, spike_cam.i, color = \"k\", marker = \"|\")\n",
    "xlabel('Time (ms)')\n",
    "ylabel('Neuron index');"
   ]
  },
  {
   "cell_type": "code",
   "execution_count": 6,
   "id": "9368ebbd-ed69-49c5-b4b7-d0d8976c0e4f",
   "metadata": {},
   "outputs": [],
   "source": [
    "G = []"
   ]
  },
  {
   "cell_type": "code",
   "execution_count": 8,
   "id": "b741ba50-5bc4-4200-915b-77b90f4acd58",
   "metadata": {},
   "outputs": [
    {
     "ename": "IndexError",
     "evalue": "list assignment index out of range",
     "output_type": "error",
     "traceback": [
      "\u001b[1;31m---------------------------------------------------------------------------\u001b[0m",
      "\u001b[1;31mIndexError\u001b[0m                                Traceback (most recent call last)",
      "\u001b[1;32m~\\AppData\\Local\\Temp/ipykernel_41592/920561883.py\u001b[0m in \u001b[0;36m<module>\u001b[1;34m\u001b[0m\n\u001b[0;32m      4\u001b[0m     \u001b[0mtimes\u001b[0m \u001b[1;33m=\u001b[0m \u001b[0mnp\u001b[0m\u001b[1;33m.\u001b[0m\u001b[0mrandom\u001b[0m\u001b[1;33m.\u001b[0m\u001b[0mrand\u001b[0m\u001b[1;33m(\u001b[0m\u001b[0mint\u001b[0m\u001b[1;33m(\u001b[0m\u001b[0mn_indice\u001b[0m\u001b[1;33m)\u001b[0m\u001b[1;33m)\u001b[0m\u001b[1;33m*\u001b[0m\u001b[1;36m100\u001b[0m\u001b[1;33m*\u001b[0m\u001b[0mms\u001b[0m\u001b[1;33m\u001b[0m\u001b[1;33m\u001b[0m\u001b[0m\n\u001b[0;32m      5\u001b[0m \u001b[1;33m\u001b[0m\u001b[0m\n\u001b[1;32m----> 6\u001b[1;33m     \u001b[0mG\u001b[0m\u001b[1;33m[\u001b[0m\u001b[0mi\u001b[0m\u001b[1;33m]\u001b[0m \u001b[1;33m=\u001b[0m \u001b[0mSpikeGeneratorGroup\u001b[0m\u001b[1;33m(\u001b[0m\u001b[1;36m10\u001b[0m\u001b[1;33m,\u001b[0m \u001b[0mindices\u001b[0m\u001b[1;33m,\u001b[0m \u001b[0mtimes\u001b[0m\u001b[1;33m)\u001b[0m\u001b[1;33m\u001b[0m\u001b[1;33m\u001b[0m\u001b[0m\n\u001b[0m\u001b[0;32m      7\u001b[0m     \u001b[0mS\u001b[0m\u001b[1;33m[\u001b[0m\u001b[0mi\u001b[0m\u001b[1;33m]\u001b[0m \u001b[1;33m=\u001b[0m \u001b[0mSpikeMonitor\u001b[0m\u001b[1;33m(\u001b[0m\u001b[0mG\u001b[0m\u001b[1;33m)\u001b[0m\u001b[1;33m\u001b[0m\u001b[1;33m\u001b[0m\u001b[0m\n\u001b[0;32m      8\u001b[0m \u001b[1;33m\u001b[0m\u001b[0m\n",
      "\u001b[1;31mIndexError\u001b[0m: list assignment index out of range"
     ]
    }
   ],
   "source": [
    "for i in range(n_PGs) :\n",
    "    n_indice = np.random.randint(2, N+2, size = 1)\n",
    "    indices = random.sample(range(N), int(n_indice))\n",
    "    times = np.random.rand(int(n_indice))*100*ms\n",
    "            \n",
    "    G = SpikeGeneratorGroup(10, indices, times)\n",
    "    S = SpikeMonitor(G)\n",
    "            \n",
    "    run(duration)\n",
    "                \n",
    "    t = S.t/ms\n",
    "    I = S.i\n",
    "    PGs[i] = (t, I)\n",
    "    \n",
    "    spike_trains[i] = S.spike_trains()"
   ]
  },
  {
   "cell_type": "code",
   "execution_count": null,
   "id": "0507f8d3-28d3-4854-8768-d6a5297614f7",
   "metadata": {},
   "outputs": [],
   "source": [
    "inputt = SpikeGenerator(10, "
   ]
  },
  {
   "cell_type": "markdown",
   "id": "dadb1f70-f448-4c95-8599-0c347368b13e",
   "metadata": {},
   "source": [
    "##      supervised learning "
   ]
  },
  {
   "cell_type": "code",
   "execution_count": 83,
   "id": "a08aec71-3fff-4138-a986-b776e525b686",
   "metadata": {},
   "outputs": [],
   "source": [
    "import torch \n",
    "from torch.utils.data import TensorDataset, DataLoader\n",
    "from torchvision import models\n",
    "import numpy as np\n",
    "import neurodynex3 \n",
    "from neurodynex3.leaky_integrate_and_fire import LIF\n",
    "from neurodynex3.tools import input_factory, plot_tools\n",
    "import brian2 as br\n",
    "import matplotlib.pyplot as plt"
   ]
  },
  {
   "cell_type": "code",
   "execution_count": null,
   "id": "23b52c0c-8c55-4181-9ada-cdbb480decf6",
   "metadata": {},
   "outputs": [],
   "source": [
    "# mes neurones pre seront ceux du spike generator, mes neurones post seront ceux d'un neuron group LIF \n",
    "# il faut définir l'equation du neurongroup pour que ce soir un LIF\n",
    "# sauf que hehe problème : mon spike generator ne génère qu'un PG par run, quand je les supperposent j'obtient les plots du dessus mais je pense que si je connecte et je run plusieurs fois ça va pas le faire, il n'y aura qu'un pg à la fois \n"
   ]
  },
  {
   "cell_type": "code",
   "execution_count": null,
   "id": "bac04218-ecd4-49dc-9965-c5ec1f7616d4",
   "metadata": {},
   "outputs": [],
   "source": []
  },
  {
   "cell_type": "code",
   "execution_count": 85,
   "id": "88f0291b-6188-447c-9186-0f4fb9d64a95",
   "metadata": {},
   "outputs": [],
   "source": [
    "# là j'ai fais un neurone LIF, je pense que ce sera mes neurones de sorties, il faut qu'ils recoivent un courant je crois \n",
    "# voir si ils peuvent recevoir des spikes plutot ou alors faire une étape ou les spikes que j'ai sont transformés en courant \n",
    "# mais il faudrait qu'ils aient un truc de regression logistique pour savoir si ils spikent ou pas \n",
    "# hummmmm"
   ]
  },
  {
   "cell_type": "code",
   "execution_count": 4,
   "id": "934f5ee0-2d6c-477b-80e5-22123d80bd2b",
   "metadata": {},
   "outputs": [
    {
     "name": "stdout",
     "output_type": "stream",
     "text": [
      "Resting potential: -0.07\n",
      "Reset voltage: -0.065\n",
      "Firing threshold: -0.05\n",
      "Membrane resistance: 10000000.0\n",
      "Membrane time-scale: 0.008\n",
      "Absolute refractory period: 0.002\n"
     ]
    }
   ],
   "source": [
    "neurodynex3.leaky_integrate_and_fire.LIF.print_default_parameters()"
   ]
  },
  {
   "cell_type": "code",
   "execution_count": 16,
   "id": "a957fe72-d446-4c2b-897c-0cd416175e7c",
   "metadata": {},
   "outputs": [
    {
     "name": "stdout",
     "output_type": "stream",
     "text": [
      "nr of spikes: 0\n"
     ]
    },
    {
     "data": {
      "image/png": "[encoded data removed]",
      "text/plain": [
       "<Figure size 432x288 with 2 Axes>"
      ]
     },
     "metadata": {
      "needs_background": "light"
     },
     "output_type": "display_data"
    },
    {
     "name": "stdout",
     "output_type": "stream",
     "text": [
      "nr of spikes: 5\n"
     ]
    },
    {
     "data": {
      "image/png": "[encoded data removed]",
      "text/plain": [
       "<Figure size 432x288 with 2 Axes>"
      ]
     },
     "metadata": {
      "needs_background": "light"
     },
     "output_type": "display_data"
    }
   ],
   "source": [
    "neurodynex3.leaky_integrate_and_fire.LIF.getting_started()"
   ]
  },
  {
   "cell_type": "code",
   "execution_count": 68,
   "id": "e4e897b1-e27c-4e79-bb8f-c9d7ba436f87",
   "metadata": {},
   "outputs": [
    {
     "ename": "TypeError",
     "evalue": "'SpikeMonitor' object is not subscriptable",
     "output_type": "error",
     "traceback": [
      "\u001b[1;31m---------------------------------------------------------------------------\u001b[0m",
      "\u001b[1;31mTypeError\u001b[0m                                 Traceback (most recent call last)",
      "\u001b[1;32m~\\AppData\\Local\\Temp/ipykernel_47964/1069231731.py\u001b[0m in \u001b[0;36m<module>\u001b[1;34m\u001b[0m\n\u001b[0;32m     11\u001b[0m \u001b[1;33m(\u001b[0m\u001b[0mstate_monitor\u001b[0m\u001b[1;33m,\u001b[0m\u001b[0mspike_monitor\u001b[0m\u001b[1;33m)\u001b[0m \u001b[1;33m=\u001b[0m \u001b[0mLIF\u001b[0m\u001b[1;33m.\u001b[0m\u001b[0msimulate_LIF_neuron\u001b[0m\u001b[1;33m(\u001b[0m\u001b[0minput_current\u001b[0m\u001b[1;33m=\u001b[0m\u001b[0minput_current\u001b[0m\u001b[1;33m,\u001b[0m \u001b[0msimulation_time\u001b[0m \u001b[1;33m=\u001b[0m \u001b[1;36m100\u001b[0m \u001b[1;33m*\u001b[0m \u001b[0mbr\u001b[0m\u001b[1;33m.\u001b[0m\u001b[0mms\u001b[0m\u001b[1;33m)\u001b[0m\u001b[1;33m\u001b[0m\u001b[1;33m\u001b[0m\u001b[0m\n\u001b[0;32m     12\u001b[0m \u001b[1;33m\u001b[0m\u001b[0m\n\u001b[1;32m---> 13\u001b[1;33m plot_tools.plot_voltage_and_current_traces(spike_monitor[0], \n\u001b[0m\u001b[0;32m     14\u001b[0m                                            \u001b[0minput_current\u001b[0m\u001b[1;33m,\u001b[0m\u001b[1;33m\u001b[0m\u001b[1;33m\u001b[0m\u001b[0m\n\u001b[0;32m     15\u001b[0m                                            \u001b[0mtitle\u001b[0m\u001b[1;33m=\u001b[0m\u001b[1;34m\"my input\"\u001b[0m\u001b[1;33m,\u001b[0m\u001b[1;33m\u001b[0m\u001b[1;33m\u001b[0m\u001b[0m\n",
      "\u001b[1;31mTypeError\u001b[0m: 'SpikeMonitor' object is not subscriptable"
     ]
    }
   ],
   "source": [
    "input_current = input_factory.get_step_current(20, 70, br.ms,2.5*br.nA, )\n",
    "neurodynex3.leaky_integrate_and_fire.LIF.simulate_LIF_neuron(input_current, \n",
    "                                                             simulation_time= 200 * br.msecond, \n",
    "                                                             v_rest=-65 * br.mvolt, \n",
    "                                                             v_reset=-65* br.mvolt, \n",
    "                                                             firing_threshold= -50. * br.mvolt, \n",
    "                                                             membrane_resistance=10. * br.Mohm, \n",
    "                                                             membrane_time_scale=20.0 * br.msecond, \n",
    "                                                             abs_refractory_period=0.1 * br.msecond)\n",
    "\n",
    "(state_monitor,spike_monitor) = LIF.simulate_LIF_neuron(input_current=input_current, simulation_time = 100 * br.ms)\n",
    "\n",
    "plot_tools.plot_voltage_and_current_traces(state_monitor, \n",
    "                                           input_current, \n",
    "                                           title=\"my input\", \n",
    "                                           firing_threshold=-50. * br.mvolt)\n",
    "print(\"nr of spikes: {}\".format(spike_monitor.count[0]))"
   ]
  },
  {
   "cell_type": "code",
   "execution_count": 87,
   "id": "3653d126-5d28-4e8d-a4e3-b750a45d2b5a",
   "metadata": {},
   "outputs": [
    {
     "ename": "AttributeError",
     "evalue": "No attribute with name get_data",
     "output_type": "error",
     "traceback": [
      "\u001b[1;31m---------------------------------------------------------------------------\u001b[0m",
      "\u001b[1;31mKeyError\u001b[0m                                  Traceback (most recent call last)",
      "\u001b[1;32m~\\anaconda3\\lib\\site-packages\\brian2\\groups\\group.py\u001b[0m in \u001b[0;36mstate\u001b[1;34m(self, name, use_units, level)\u001b[0m\n\u001b[0;32m    358\u001b[0m         \u001b[1;32mtry\u001b[0m\u001b[1;33m:\u001b[0m\u001b[1;33m\u001b[0m\u001b[1;33m\u001b[0m\u001b[0m\n\u001b[1;32m--> 359\u001b[1;33m             \u001b[0mvar\u001b[0m \u001b[1;33m=\u001b[0m \u001b[0mself\u001b[0m\u001b[1;33m.\u001b[0m\u001b[0mvariables\u001b[0m\u001b[1;33m[\u001b[0m\u001b[0mname\u001b[0m\u001b[1;33m]\u001b[0m\u001b[1;33m\u001b[0m\u001b[1;33m\u001b[0m\u001b[0m\n\u001b[0m\u001b[0;32m    360\u001b[0m         \u001b[1;32mexcept\u001b[0m \u001b[0mKeyError\u001b[0m\u001b[1;33m:\u001b[0m\u001b[1;33m\u001b[0m\u001b[1;33m\u001b[0m\u001b[0m\n",
      "\u001b[1;32m~\\anaconda3\\lib\\site-packages\\brian2\\core\\variables.py\u001b[0m in \u001b[0;36m__getitem__\u001b[1;34m(self, item)\u001b[0m\n\u001b[0;32m   1403\u001b[0m     \u001b[1;32mdef\u001b[0m \u001b[0m__getitem__\u001b[0m\u001b[1;33m(\u001b[0m\u001b[0mself\u001b[0m\u001b[1;33m,\u001b[0m \u001b[0mitem\u001b[0m\u001b[1;33m)\u001b[0m\u001b[1;33m:\u001b[0m\u001b[1;33m\u001b[0m\u001b[1;33m\u001b[0m\u001b[0m\n\u001b[1;32m-> 1404\u001b[1;33m         \u001b[1;32mreturn\u001b[0m \u001b[0mself\u001b[0m\u001b[1;33m.\u001b[0m\u001b[0m_variables\u001b[0m\u001b[1;33m[\u001b[0m\u001b[0mitem\u001b[0m\u001b[1;33m]\u001b[0m\u001b[1;33m\u001b[0m\u001b[1;33m\u001b[0m\u001b[0m\n\u001b[0m\u001b[0;32m   1405\u001b[0m \u001b[1;33m\u001b[0m\u001b[0m\n",
      "\u001b[1;31mKeyError\u001b[0m: 'get_data'",
      "\nDuring handling of the above exception, another exception occurred:\n",
      "\u001b[1;31mKeyError\u001b[0m                                  Traceback (most recent call last)",
      "\u001b[1;32m~\\anaconda3\\lib\\site-packages\\brian2\\groups\\group.py\u001b[0m in \u001b[0;36m__getattr__\u001b[1;34m(self, name)\u001b[0m\n\u001b[0;32m    394\u001b[0m                 \u001b[0muse_units\u001b[0m \u001b[1;33m=\u001b[0m \u001b[1;32mTrue\u001b[0m\u001b[1;33m\u001b[0m\u001b[1;33m\u001b[0m\u001b[0m\n\u001b[1;32m--> 395\u001b[1;33m             \u001b[1;32mreturn\u001b[0m \u001b[0mself\u001b[0m\u001b[1;33m.\u001b[0m\u001b[0mstate\u001b[0m\u001b[1;33m(\u001b[0m\u001b[0mname\u001b[0m\u001b[1;33m,\u001b[0m \u001b[0muse_units\u001b[0m\u001b[1;33m)\u001b[0m\u001b[1;33m\u001b[0m\u001b[1;33m\u001b[0m\u001b[0m\n\u001b[0m\u001b[0;32m    396\u001b[0m \u001b[1;33m\u001b[0m\u001b[0m\n",
      "\u001b[1;32m~\\anaconda3\\lib\\site-packages\\brian2\\groups\\group.py\u001b[0m in \u001b[0;36mstate\u001b[1;34m(self, name, use_units, level)\u001b[0m\n\u001b[0;32m    360\u001b[0m         \u001b[1;32mexcept\u001b[0m \u001b[0mKeyError\u001b[0m\u001b[1;33m:\u001b[0m\u001b[1;33m\u001b[0m\u001b[1;33m\u001b[0m\u001b[0m\n\u001b[1;32m--> 361\u001b[1;33m             \u001b[1;32mraise\u001b[0m \u001b[0mKeyError\u001b[0m\u001b[1;33m(\u001b[0m\u001b[1;34m\"State variable \"\u001b[0m\u001b[1;33m+\u001b[0m\u001b[0mname\u001b[0m\u001b[1;33m+\u001b[0m\u001b[1;34m\" not found.\"\u001b[0m\u001b[1;33m)\u001b[0m\u001b[1;33m\u001b[0m\u001b[1;33m\u001b[0m\u001b[0m\n\u001b[0m\u001b[0;32m    362\u001b[0m \u001b[1;33m\u001b[0m\u001b[0m\n",
      "\u001b[1;31mKeyError\u001b[0m: 'State variable get_data not found.'",
      "\nDuring handling of the above exception, another exception occurred:\n",
      "\u001b[1;31mAttributeError\u001b[0m                            Traceback (most recent call last)",
      "\u001b[1;32m~\\AppData\\Local\\Temp/ipykernel_47964/626674286.py\u001b[0m in \u001b[0;36m<module>\u001b[1;34m\u001b[0m\n\u001b[1;32m----> 1\u001b[1;33m \u001b[0mspike_monitor\u001b[0m\u001b[1;33m.\u001b[0m\u001b[0mget_data\u001b[0m\u001b[1;33m(\u001b[0m\u001b[1;33m)\u001b[0m\u001b[1;33m\u001b[0m\u001b[1;33m\u001b[0m\u001b[0m\n\u001b[0m",
      "\u001b[1;32m~\\anaconda3\\lib\\site-packages\\brian2\\groups\\group.py\u001b[0m in \u001b[0;36m__getattr__\u001b[1;34m(self, name)\u001b[0m\n\u001b[0;32m    396\u001b[0m \u001b[1;33m\u001b[0m\u001b[0m\n\u001b[0;32m    397\u001b[0m         \u001b[1;32mexcept\u001b[0m \u001b[0mKeyError\u001b[0m\u001b[1;33m:\u001b[0m\u001b[1;33m\u001b[0m\u001b[1;33m\u001b[0m\u001b[0m\n\u001b[1;32m--> 398\u001b[1;33m             \u001b[1;32mraise\u001b[0m \u001b[0mAttributeError\u001b[0m\u001b[1;33m(\u001b[0m\u001b[1;34m'No attribute with name '\u001b[0m \u001b[1;33m+\u001b[0m \u001b[0mname\u001b[0m\u001b[1;33m)\u001b[0m\u001b[1;33m\u001b[0m\u001b[1;33m\u001b[0m\u001b[0m\n\u001b[0m\u001b[0;32m    399\u001b[0m \u001b[1;33m\u001b[0m\u001b[0m\n\u001b[0;32m    400\u001b[0m     \u001b[1;32mdef\u001b[0m \u001b[0m__setattr__\u001b[0m\u001b[1;33m(\u001b[0m\u001b[0mself\u001b[0m\u001b[1;33m,\u001b[0m \u001b[0mname\u001b[0m\u001b[1;33m,\u001b[0m \u001b[0mval\u001b[0m\u001b[1;33m,\u001b[0m \u001b[0mlevel\u001b[0m\u001b[1;33m=\u001b[0m\u001b[1;36m0\u001b[0m\u001b[1;33m)\u001b[0m\u001b[1;33m:\u001b[0m\u001b[1;33m\u001b[0m\u001b[1;33m\u001b[0m\u001b[0m\n",
      "\u001b[1;31mAttributeError\u001b[0m: No attribute with name get_data"
     ]
    }
   ],
   "source": []
  },
  {
   "cell_type": "code",
   "execution_count": 74,
   "id": "366a0db5-dfff-477b-a2b5-c017e35bcce6",
   "metadata": {},
   "outputs": [
    {
     "data": {
      "text/plain": [
       "\u001b[1;31mType:\u001b[0m        SpikeMonitor\n",
       "\u001b[1;31mString form:\u001b[0m <SpikeMonitor, recording from spikemonitor_3>\n",
       "\u001b[1;31mLength:\u001b[0m      3\n",
       "\u001b[1;31mFile:\u001b[0m        c:\\users\\camil\\anaconda3\\lib\\site-packages\\brian2\\monitors\\spikemonitor.py\n",
       "\u001b[1;31mDocstring:\u001b[0m  \n",
       "Record spikes from a `NeuronGroup` or other spike source.\n",
       "\n",
       "The recorded spikes can be accessed in various ways (see Examples below):\n",
       "the attributes `~SpikeMonitor.i` and `~SpikeMonitor.t` store all the indices\n",
       "and spike times, respectively. Alternatively, you can get a dictionary\n",
       "mapping neuron indices to spike trains, by calling the `spike_trains`\n",
       "method. If you record additional variables with the ``variables`` argument,\n",
       "these variables can be accessed by their name (see Examples).\n",
       "\n",
       "Parameters\n",
       "----------\n",
       "source : (`NeuronGroup`, `SpikeSource`)\n",
       "    The source of spikes to record.\n",
       "variables : str or sequence of str, optional\n",
       "    Which variables to record at the time of the spike (in addition to the\n",
       "    index of the neuron). Can be the name of a variable or a list of names.\n",
       "record : bool, optional\n",
       "    Whether or not to record each spike in `i` and `t` (the `count` will\n",
       "    always be recorded). Defaults to ``True``.\n",
       "when : str, optional\n",
       "    When to record the events, by default records events in the same slot\n",
       "    where the event is emitted.\n",
       "order : int, optional\n",
       "    The priority of of this group for operations occurring at the same time\n",
       "    step and in the same scheduling slot. Defaults to the order where the\n",
       "    event is emitted + 1, i.e. it will be recorded directly afterwards.\n",
       "name : str, optional\n",
       "    A unique name for the object, otherwise will use\n",
       "    ``source.name+'_spikemonitor_0'``, etc.\n",
       "codeobj_class : class, optional\n",
       "    The `CodeObject` class to run code with.\n",
       "\n",
       "Examples\n",
       "--------\n",
       ">>> from brian2 import *\n",
       ">>> spikes = SpikeGeneratorGroup(3, [0, 1, 2], [0, 1, 2]*ms)\n",
       ">>> spike_mon = SpikeMonitor(spikes)\n",
       ">>> net = Network(spikes, spike_mon)\n",
       ">>> net.run(3*ms)\n",
       ">>> print(spike_mon.i[:])\n",
       "[0 1 2]\n",
       ">>> print(spike_mon.t[:])\n",
       "[ 0.  1.  2.] ms\n",
       ">>> print(spike_mon.t_[:])\n",
       "[ 0.     0.001  0.002]\n",
       ">>> from brian2 import *\n",
       ">>> G = NeuronGroup(2, \"\"\"counter1 : integer\n",
       "...                       counter2 : integer\n",
       "...                       max_value : integer\"\"\",\n",
       "...                    threshold='counter1 >= max_value',\n",
       "...                    reset='counter1 = 0')\n",
       ">>> G.run_regularly('counter1 += 1; counter2 += 1')  # doctest: +ELLIPSIS\n",
       "CodeRunner(...)\n",
       ">>> G.max_value = [50, 100]\n",
       ">>> mon = SpikeMonitor(G, variables='counter2')\n",
       ">>> net = Network(G, mon)\n",
       ">>> net.run(10*ms)\n",
       ">>> print(mon.i[:])\n",
       "[0 0 1]\n",
       ">>> print(mon.counter2[:])\n",
       "[ 50 100 100]\n"
      ]
     },
     "metadata": {},
     "output_type": "display_data"
    }
   ],
   "source": [
    "spike_monitor?"
   ]
  },
  {
   "cell_type": "code",
   "execution_count": 66,
   "id": "3c33c3c5-7dea-4a46-be13-b35c10e209c9",
   "metadata": {},
   "outputs": [
    {
     "name": "stdout",
     "output_type": "stream",
     "text": [
      "nr of spikes: 7\n"
     ]
    },
    {
     "data": {
      "image/png": "[encoded data removed]",
      "text/plain": [
       "<Figure size 432x288 with 2 Axes>"
      ]
     },
     "metadata": {
      "needs_background": "light"
     },
     "output_type": "display_data"
    }
   ],
   "source": [
    "input_current = input_factory.get_sinusoidal_current(20, 70, unit_time= br.ms,\n",
    "                                            amplitude= 10 * br.namp, frequency=15*br.Hz,\n",
    "                                            direct_current=0* br.namp)\n",
    "\n",
    "(state_monitor,spike_monitor) = LIF.simulate_LIF_neuron(input_current=input_current, simulation_time = 100 * br.ms)\n",
    "\n",
    "plot_tools.plot_voltage_and_current_traces(state_monitor, \n",
    "                                           input_current, \n",
    "                                           title=\"my input\", \n",
    "                                           firing_threshold=-30. * br.mvolt)\n",
    "\n",
    "print(\"nr of spikes: {}\".format(spike_monitor.count[0]))"
   ]
  },
  {
   "cell_type": "code",
   "execution_count": 26,
   "id": "6867ceb6-0c20-4b40-bb1d-7d0dddde641b",
   "metadata": {},
   "outputs": [],
   "source": [
    "tau_stim = 250. # interval between two stimulations\n",
    "# je crois que je n'ai qu'une stim moi, à voir et à modif si c'est le cas, j'en voudrais plusieurs \n",
    "\n",
    "lambda_n = 10. # (Hz) rate of poisson noise -> pour le bruit \n",
    "\n",
    "weight_0, delay_0, delay_min = 10.0, 25., 1.\n",
    "inh_gain = 1.\n",
    "\n",
    "tau = 25.\n",
    "\n",
    "figsize = (15, 8)"
   ]
  },
  {
   "cell_type": "code",
   "execution_count": 34,
   "id": "95990e94-8046-43ed-825e-86cb0845344b",
   "metadata": {},
   "outputs": [
    {
     "ename": "NameError",
     "evalue": "name 'do_COBA' is not defined",
     "output_type": "error",
     "traceback": [
      "\u001b[1;31m---------------------------------------------------------------------------\u001b[0m",
      "\u001b[1;31mNameError\u001b[0m                                 Traceback (most recent call last)",
      "\u001b[1;32m~\\AppData\\Local\\Temp/ipykernel_42744/941809488.py\u001b[0m in \u001b[0;36m<module>\u001b[1;34m\u001b[0m\n\u001b[0;32m      1\u001b[0m \u001b[1;31m###---CELL PARAMETERS-------------------------------------------------------------------------------\u001b[0m\u001b[1;33m\u001b[0m\u001b[1;33m\u001b[0m\u001b[0m\n\u001b[1;32m----> 2\u001b[1;33m \u001b[1;32mif\u001b[0m \u001b[0mdo_COBA\u001b[0m\u001b[1;33m:\u001b[0m\u001b[1;33m\u001b[0m\u001b[1;33m\u001b[0m\u001b[0m\n\u001b[0m\u001b[0;32m      3\u001b[0m         \u001b[1;31m# from https://github.com/NeuralEnsemble/PyNN/blob/adb4ffc70de204a0c6aca792daf5c91b4240af1f/pyNN/standardmodels/cells.py#L165\u001b[0m\u001b[1;33m\u001b[0m\u001b[1;33m\u001b[0m\u001b[0m\n\u001b[0;32m      4\u001b[0m     cell_pars =  {\n\u001b[0;32m      5\u001b[0m             \u001b[1;34m'v_rest'\u001b[0m\u001b[1;33m:\u001b[0m   \u001b[1;33m-\u001b[0m\u001b[1;36m65.0\u001b[0m\u001b[1;33m,\u001b[0m  \u001b[1;31m# Resting membrane potential in mV.\u001b[0m\u001b[1;33m\u001b[0m\u001b[1;33m\u001b[0m\u001b[0m\n",
      "\u001b[1;31mNameError\u001b[0m: name 'do_COBA' is not defined"
     ]
    }
   ],
   "source": []
  },
  {
   "cell_type": "code",
   "execution_count": null,
   "id": "7af8ede9-21ea-4a94-ae6f-ba3fb807aebd",
   "metadata": {},
   "outputs": [],
   "source": []
  }
 ],
 "metadata": {
  "kernelspec": {
   "display_name": "Python 3 (ipykernel)",
   "language": "python",
   "name": "python3"
  },
  "language_info": {
   "codemirror_mode": {
    "name": "ipython",
    "version": 3
   },
   "file_extension": ".py",
   "mimetype": "text/x-python",
   "name": "python",
   "nbconvert_exporter": "python",
   "pygments_lexer": "ipython3",
   "version": "3.9.7"
  }
 },
 "nbformat": 4,
 "nbformat_minor": 5
}
