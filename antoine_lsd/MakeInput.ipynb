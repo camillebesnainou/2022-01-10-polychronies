{
 "cells": [
  {
   "cell_type": "markdown",
   "metadata": {},
   "source": [
    "# Create a structured pattern in noise"
   ]
  },
  {
   "cell_type": "code",
   "execution_count": 1,
   "metadata": {},
   "outputs": [
    {
     "name": "stdout",
     "output_type": "stream",
     "text": [
      "Appending to makeinput.py\n"
     ]
    }
   ],
   "source": [
    "%%writefile -a makeinput.py\n",
    "import numpy as np\n",
    "import matplotlib.pyplot as plt\n",
    "\n",
    "def norm(X):\n",
    "    return (X-X.min())/(X.max()-X.min())\n",
    "\n",
    "def vonmises(N_inputs, A, theta, k=2):\n",
    "    return A*norm(np.exp(k*np.cos(2*np.pi*(np.linspace(0, 1, N_inputs)-theta))))\n",
    "\n",
    "def cospattern(N_inputs, A, theta, k = 4):\n",
    "    return A/2*np.cos(np.linspace(0,k*np.pi,N_inputs)+theta)\n",
    "\n",
    "def linear(N_inputs, A, theta):\n",
    "    return np.linspace(0,A,N_inputs)\n",
    "\n",
    "def make_input(nb_syn, noise_density, nb_stim, simtime, patwindow, function=cospattern):\n",
    "    # draw random gaussian noise spike timings -> shape (nb_syn, nb_ev_noise)\n",
    "    noise = (np.random.random((nb_syn, int(noise_density*simtime)))*simtime).astype(int)\n",
    "    # make time references for stimulus repetition -> pattime\n",
    "    repet = np.linspace(1,nb_stim+1, nb_stim)*simtime/(nb_stim + 2)\n",
    "    pattime = np.tile(repet,(nb_syn,1))\n",
    "    # draw stimulus -> stim\n",
    "    theta = 0\n",
    "    pattern = np.tile(function(nb_syn, patwindow, theta), (nb_stim,1)).T\n",
    "    stim = (pattime + pattern).astype(int)\n",
    "    # make address event representation\n",
    "    time = (np.hstack([noise,stim]).ravel())\n",
    "    addr = np.repeat(np.arange(0,nb_syn),stim.shape[1]+noise.shape[1])\n",
    "    aer = (addr[np.argsort(time)],time[np.argsort(time)])\n",
    "    return noise, stim, aer\n",
    "\n",
    "def plot_input(noise, stimulus):\n",
    "    fig, ax = plt.subplots(figsize = (12, 8))\n",
    "    ax.eventplot(noise, color='grey');\n",
    "    ax.eventplot(stimulus, color='red')"
   ]
  },
  {
   "cell_type": "code",
   "execution_count": 2,
   "metadata": {},
   "outputs": [
    {
     "data": {
      "image/png": "[encoded data removed]",
      "text/plain": [
       "<Figure size 864x576 with 1 Axes>"
      ]
     },
     "metadata": {
      "needs_background": "light"
     },
     "output_type": "display_data"
    }
   ],
   "source": [
    "from makeinput import make_input, plot_input, linear, vonmises, cospattern\n",
    "\n",
    "nb_syn, noise_density, simtime, stimtime = 50, 1e-4, 1e4, 1e3\n",
    "repetitions = int(simtime/(stimtime*10))\n",
    "noise, stim, aer = make_input(nb_syn, noise_density, repetitions, simtime, stimtime, function=cospattern)\n",
    "plot_input(noise, stim)"
   ]
  },
  {
   "cell_type": "code",
   "execution_count": null,
   "metadata": {},
   "outputs": [],
   "source": []
  },
  {
   "cell_type": "code",
   "execution_count": null,
   "metadata": {},
   "outputs": [],
   "source": []
  }
 ],
 "metadata": {
  "kernelspec": {
   "display_name": "Python 3 (ipykernel)",
   "language": "python",
   "name": "python3"
  },
  "language_info": {
   "codemirror_mode": {
    "name": "ipython",
    "version": 3
   },
   "file_extension": ".py",
   "mimetype": "text/x-python",
   "name": "python",
   "nbconvert_exporter": "python",
   "pygments_lexer": "ipython3",
   "version": "3.9.12"
  }
 },
 "nbformat": 4,
 "nbformat_minor": 4
}
