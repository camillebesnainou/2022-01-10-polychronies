{
 "cells": [
  {
   "cell_type": "markdown",
   "id": "864393a5-5122-4a18-8680-03eb4b33adb3",
   "metadata": {},
   "source": [
    "# generative model of PGs "
   ]
  },
  {
   "cell_type": "code",
   "execution_count": 2,
   "id": "d3b1e9e2-6770-450a-b0d5-a2aa24d3fd80",
   "metadata": {},
   "outputs": [],
   "source": [
    "from brian2 import *\n",
    "%matplotlib inline\n",
    "from brian2 import SpikeGeneratorGroup\n",
    "import numpy as np"
   ]
  },
  {
   "cell_type": "code",
   "execution_count": 2,
   "id": "a573aa78-3ba4-49f8-a354-040d18b2f1d9",
   "metadata": {},
   "outputs": [
    {
     "data": {
      "image/png": "[encoded data removed]",
      "text/plain": [
       "<Figure size 432x288 with 1 Axes>"
      ]
     },
     "metadata": {
      "needs_background": "light"
     },
     "output_type": "display_data"
    }
   ],
   "source": [
    "N = 5\n",
    "tau = 10*ms\n",
    "eqs = '''dv/dt = (2-v)/tau : 1 (unless refractory)'''\n",
    "\n",
    "G = NeuronGroup(N, eqs, threshold='v>1', reset='v = 0', refractory=100*ms, method='exact') # N neurones, dont le potentiel de membrane évolue selon eqs, émet un spike quand v>1 et retrouve son potentiel de memb à 0 après ça, puis periode refractaire giga longue pour émission de \n",
    "G.v = 'rand()'\n",
    "\n",
    "S = SpikeMonitor(G) # on enrgistre dans la variable t le moment où les spikes ont été émit et dans la variables i l'adresse du neurone qui l'a émit \n",
    "\n",
    "run(100*ms)\n",
    "\n",
    "plot(S.t/ms, S.i, '.k')\n",
    "xlabel('Time (ms)')\n",
    "ylabel('Neuron index');\n"
   ]
  },
  {
   "cell_type": "code",
   "execution_count": 38,
   "id": "c76e85fd-ac66-44c7-82a2-be976d357377",
   "metadata": {},
   "outputs": [],
   "source": [
    "n_PGs = 10\n",
    "duration = 1000*ms\n",
    "PGs = {}\n",
    "N = 5\n",
    "tau = 10*ms\n",
    "eqs = '''dv/dt = (2-v)/tau : 1 (unless refractory)'''\n",
    "\n",
    "for nb in range(n_PGs) : \n",
    "    G = NeuronGroup(N, eqs, threshold='v>1', reset='v = 0', refractory=duration, method='exact') # N neurones, dont le potentiel de membrane évolue selon eqs, émet un spike quand v>1 et retrouve son potentiel de memb à 0 après ça, puis periode refractaire giga longue pour émission de \n",
    "    G.v = 'rand()'\n",
    "    \n",
    "    S = SpikeMonitor(G) # on enrgistre dans la variable t le moment où les spikes ont été émit et dans la variables i l'adresse du neurone qui l'a émit \n",
    "    \n",
    "    run(duration)\n",
    "    \n",
    "    t = (S.t/ms)\n",
    "    PGs[nb]= t\n",
    "\n",
    "    # à améliorer : tous les neurones spikent, on pourrait faire des PGs n'impliquantt que quelques neurones \n",
    "    # à faire : une liste et un plot avec tous les PGs collés (les uns à la suite des autres et mélangés répétés et tout) et un autre avec le moment d'occcurrence du PG et son identité (donc à la fin je dirais) -> se referer à l'article de cossine "
   ]
  },
  {
   "cell_type": "code",
   "execution_count": 43,
   "id": "68e4a2dc-5f08-45b3-8e2b-ed99ee11b923",
   "metadata": {},
   "outputs": [
    {
     "data": {
      "image/png": "[encoded data removed]",
      "text/plain": [
       "<Figure size 432x288 with 1 Axes>"
      ]
     },
     "metadata": {
      "needs_background": "light"
     },
     "output_type": "display_data"
    }
   ],
   "source": [
    "plot(PGs[5], S.i, '.k')\n",
    "xlabel('Time (ms)')\n",
    "ylabel('Neuron index');"
   ]
  },
  {
   "cell_type": "code",
   "execution_count": 44,
   "id": "d7dc217e-de60-4ecd-8a88-badba93e0c3f",
   "metadata": {},
   "outputs": [
    {
     "name": "stdout",
     "output_type": "stream",
     "text": [
      "[array([0.8, 4.5, 4.6, 6.6, 6.6])]\n"
     ]
    }
   ],
   "source": [
    "for nb in range(n_PGs) : \n",
    "    touslesPGscollés = []\n",
    "    touslesPGscollés.append(PGs[nb])\n",
    "print(touslesPGscollés)    "
   ]
  },
  {
   "cell_type": "code",
   "execution_count": 42,
   "id": "6ffa2b2f-4496-4550-b5cd-95af95f0f8d0",
   "metadata": {},
   "outputs": [
    {
     "name": "stdout",
     "output_type": "stream",
     "text": [
      "[array([0.8, 4.5, 4.6, 6.6, 6.6])]\n"
     ]
    }
   ],
   "source": [
    "print(touslesPGscollés)"
   ]
  },
  {
   "cell_type": "code",
   "execution_count": null,
   "id": "62f3e0e0-b753-4dd5-8e09-7a66690d1e20",
   "metadata": {},
   "outputs": [],
   "source": [
    "for i in range(1, 4): \n",
    "    List.append(i) \n",
    "print(\"\\nListe après l'ajout d'éléments de 1-3: \") \n",
    "print(List) "
   ]
  },
  {
   "cell_type": "code",
   "execution_count": 27,
   "id": "d9a155ef-85aa-483b-b74a-e2912592fb42",
   "metadata": {},
   "outputs": [
    {
     "data": {
      "text/plain": [
       "[<matplotlib.lines.Line2D at 0x274d72ba070>]"
      ]
     },
     "execution_count": 27,
     "metadata": {},
     "output_type": "execute_result"
    },
    {
     "data": {
      "image/png": "[encoded data removed]",
      "text/plain": [
       "<Figure size 432x288 with 1 Axes>"
      ]
     },
     "metadata": {
      "needs_background": "light"
     },
     "output_type": "display_data"
    }
   ],
   "source": [
    "plot(PGs[5], S.i, '.k')\n"
   ]
  },
  {
   "cell_type": "code",
   "execution_count": null,
   "id": "371c88f7-61d2-4c6f-9f87-8c504bfecaa0",
   "metadata": {},
   "outputs": [],
   "source": []
  }
 ],
 "metadata": {
  "kernelspec": {
   "display_name": "Python 3 (ipykernel)",
   "language": "python",
   "name": "python3"
  },
  "language_info": {
   "codemirror_mode": {
    "name": "ipython",
    "version": 3
   },
   "file_extension": ".py",
   "mimetype": "text/x-python",
   "name": "python",
   "nbconvert_exporter": "python",
   "pygments_lexer": "ipython3",
   "version": "3.9.7"
  }
 },
 "nbformat": 4,
 "nbformat_minor": 5
}
