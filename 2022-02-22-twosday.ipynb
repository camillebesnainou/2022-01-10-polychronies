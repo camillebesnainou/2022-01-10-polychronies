{
 "cells": [
  {
   "cell_type": "markdown",
   "id": "864393a5-5122-4a18-8680-03eb4b33adb3",
   "metadata": {},
   "source": [
    "# generative model of PGs "
   ]
  },
  {
   "cell_type": "code",
   "execution_count": 1,
   "id": "d3b1e9e2-6770-450a-b0d5-a2aa24d3fd80",
   "metadata": {},
   "outputs": [],
   "source": [
    "from brian2 import *\n",
    "%matplotlib inline\n",
    "from brian2 import SpikeGeneratorGroup\n",
    "import numpy as np\n",
    "\n",
    "import random\n",
    "import pandas as pd"
   ]
  },
  {
   "cell_type": "code",
   "execution_count": 4,
   "id": "b46df3b6-682a-4874-bf5a-ad8cdf9028bd",
   "metadata": {
    "tags": []
   },
   "outputs": [],
   "source": [
    "N = 10\n",
    "n_PGs = 10\n",
    "duration = 1000*ms\n",
    "PGs = {}\n",
    "a = np.arange(N)\n",
    "\n",
    "cmap = plt.cm.get_cmap('viridis')\n",
    "color_dict = pd.Series({i:cmap(i/len(a)) for i,k in enumerate(a)})\n",
    "\n",
    "for i in range(n_PGs) :\n",
    "    n_indice = np.random.randint(0, N, size = 1)\n",
    "    indices = random.sample(range(N), int(n_indice))\n",
    "    times = np.random.rand(int(n_indice))*100*ms\n",
    "    \n",
    "    G = SpikeGeneratorGroup(10, indices, times)\n",
    "    S = SpikeMonitor(G)\n",
    "    \n",
    "    run(duration)\n",
    "    \n",
    "    t = ([S.t/ms])\n",
    "    I = S.i\n",
    "    PGs[i] = (t, I)"
   ]
  },
  {
   "cell_type": "code",
   "execution_count": 6,
   "id": "fe8247d6-9f87-4c14-9dd2-243e247520f8",
   "metadata": {},
   "outputs": [
    {
     "data": {
      "image/png": "[encoded data removed]",
      "text/plain": [
       "<Figure size 432x288 with 1 Axes>"
      ]
     },
     "metadata": {
      "needs_background": "light"
     },
     "output_type": "display_data"
    }
   ],
   "source": [
    "for i in PGs:\n",
    "    plt.scatter(PGs[i][0], PGs[i][1], color = color_dict[i])\n",
    "    xlabel('Time (ms)')\n",
    "    ylabel('Neuron index');"
   ]
  },
  {
   "cell_type": "code",
   "execution_count": null,
   "id": "06d4dc06-eaac-4153-aa45-63286876a252",
   "metadata": {},
   "outputs": [],
   "source": []
  }
 ],
 "metadata": {
  "kernelspec": {
   "display_name": "Python 3 (ipykernel)",
   "language": "python",
   "name": "python3"
  },
  "language_info": {
   "codemirror_mode": {
    "name": "ipython",
    "version": 3
   },
   "file_extension": ".py",
   "mimetype": "text/x-python",
   "name": "python",
   "nbconvert_exporter": "python",
   "pygments_lexer": "ipython3",
   "version": "3.9.7"
  }
 },
 "nbformat": 4,
 "nbformat_minor": 5
}
