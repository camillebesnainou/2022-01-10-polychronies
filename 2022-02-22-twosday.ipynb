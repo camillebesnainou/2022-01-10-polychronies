{
 "cells": [
  {
   "cell_type": "markdown",
   "id": "864393a5-5122-4a18-8680-03eb4b33adb3",
   "metadata": {},
   "source": [
    "# generative model of PGs "
   ]
  },
  {
   "cell_type": "code",
   "execution_count": 1,
   "id": "d3b1e9e2-6770-450a-b0d5-a2aa24d3fd80",
   "metadata": {},
   "outputs": [],
   "source": [
    "from brian2 import *\n",
    "%matplotlib inline\n",
    "from brian2 import SpikeGeneratorGroup\n",
    "import numpy as np\n",
    "\n",
    "import random\n",
    "import pandas as pd"
   ]
  },
  {
   "cell_type": "code",
   "execution_count": 168,
   "id": "3b6d300e-21fb-4000-8ec3-0c68319cae4a",
   "metadata": {
    "tags": []
   },
   "outputs": [],
   "source": [
    "N = 10\n",
    "n_PGs = 10\n",
    "duration = 1000*ms\n",
    "PGs = {}\n",
    "a = np.arange(N)\n",
    "adress = []\n",
    "\n",
    "cmap = plt.cm.get_cmap(\"plasma\")\n",
    "color_dict = pd.Series({i:cmap(i/len(a)) for i,k in enumerate(a)})\n",
    "\n",
    "for i in range(n_PGs) :\n",
    "    n_indice = np.random.randint(2, N+2, size = 1)\n",
    "    indices = random.sample(range(N), int(n_indice))\n",
    "    times = np.random.rand(int(n_indice))*100*ms\n",
    "            \n",
    "    G = SpikeGeneratorGroup(10, indices, times)\n",
    "    S = SpikeMonitor(G)\n",
    "            \n",
    "    run(duration)\n",
    "                \n",
    "    t = S.t/ms\n",
    "    I = S.i\n",
    "    PGs[i] = (t, I)\n",
    "    \n",
    "    spike_trains[i] = S.spike_trains()"
   ]
  },
  {
   "cell_type": "code",
   "execution_count": 170,
   "id": "82de8f39-1f4f-4f14-b9fc-857a218e90bb",
   "metadata": {},
   "outputs": [],
   "source": [
    "adress = []\n",
    "for i in range(n_PGs) : \n",
    "    adress.append(spike_trains[i])\n",
    "    \n",
    "spike_per_N = {\n",
    "    k: [d.get(k) for d in adress]\n",
    "    for k in set().union(*adress)\n",
    "}"
   ]
  },
  {
   "cell_type": "code",
   "execution_count": 41,
   "id": "17210b3c-8445-413e-b175-273cc71cf3ad",
   "metadata": {},
   "outputs": [
    {
     "data": {
      "image/png": "[encoded data removed]",
      "text/plain": [
       "<Figure size 432x288 with 1 Axes>"
      ]
     },
     "metadata": {
      "needs_background": "light"
     },
     "output_type": "display_data"
    }
   ],
   "source": [
    "for i in PGs:\n",
    "    plt.scatter(PGs[i][0], PGs[i][1], color = \"k\", marker = \"|\")\n",
    "    xlabel('Time (ms)')\n",
    "    ylabel('Neuron index');"
   ]
  },
  {
   "cell_type": "code",
   "execution_count": 4,
   "id": "fe8247d6-9f87-4c14-9dd2-243e247520f8",
   "metadata": {},
   "outputs": [
    {
     "data": {
      "image/png": "[encoded data removed]",
      "text/plain": [
       "<Figure size 432x288 with 1 Axes>"
      ]
     },
     "metadata": {
      "needs_background": "light"
     },
     "output_type": "display_data"
    }
   ],
   "source": [
    "for i in PGs:\n",
    "    plt.scatter(PGs[i][0], PGs[i][1], color = color_dict[i], marker = \"|\")\n",
    "    xlabel('Time (ms)')\n",
    "    ylabel('Neuron index');"
   ]
  },
  {
   "cell_type": "code",
   "execution_count": 105,
   "id": "06d4dc06-eaac-4153-aa45-63286876a252",
   "metadata": {},
   "outputs": [],
   "source": [
    "last_t = []\n",
    "last_i = []\n",
    "for i in PGs : \n",
    "    last_t.append(PGs[i][0][-1][-1])\n",
    "    last_i.append(PGs[i][1][-1])"
   ]
  },
  {
   "cell_type": "code",
   "execution_count": 111,
   "id": "c4810311-7585-42e1-a13d-6df77ed11c1a",
   "metadata": {},
   "outputs": [
    {
     "data": {
      "image/png": "[encoded data removed]",
      "text/plain": [
       "<Figure size 432x288 with 1 Axes>"
      ]
     },
     "metadata": {
      "needs_background": "light"
     },
     "output_type": "display_data"
    }
   ],
   "source": [
    "for i in PGs:\n",
    "    plt.scatter(last_t[i], last_i[i], color = color_dict[i], marker = \"|\")\n",
    "    xlabel('Time (ms)')\n",
    "    ylabel('Neuron index');"
   ]
  },
  {
   "cell_type": "markdown",
   "id": "37d9b8af-37f7-4ee3-8e67-763df5bb089b",
   "metadata": {},
   "source": [
    "# neural network model for learning PGs "
   ]
  },
  {
   "cell_type": "code",
   "execution_count": 188,
   "id": "a08aec71-3fff-4138-a986-b776e525b686",
   "metadata": {},
   "outputs": [],
   "source": [
    "import torch \n",
    "from torch.utils.data import TensorDataset, DataLoader\n",
    "from torchvision import models\n",
    "from torchsummary import summary"
   ]
  },
  {
   "cell_type": "code",
   "execution_count": 189,
   "id": "29d69972-8745-4412-b0e5-103c757502cf",
   "metadata": {},
   "outputs": [],
   "source": [
    "n = 10 \n",
    "k = 5 "
   ]
  },
  {
   "cell_type": "code",
   "execution_count": 190,
   "id": "216cd45d-d416-4ff8-ab68-a8603b2ca7ff",
   "metadata": {},
   "outputs": [],
   "source": [
    "class LogisticRegressionModel(torch.nn.Module):\n",
    "    \n",
    "    def __init__(self, n, k, bias=True): # (self, input_dim, output_dim)\n",
    "        super(LogisticRegressionModel, self).__init__() \n",
    "        self.linear = torch.nn.Linear(n, k, bias=bias) \n",
    "        self.nl = torch.nn.Sigmoid()\n",
    "\n",
    "    def forward(self, x):\n",
    "        return self.nl(self.linear(x))"
   ]
  },
  {
   "cell_type": "code",
   "execution_count": 191,
   "id": "ce344c0f-6990-4765-81ed-6a4d399a63eb",
   "metadata": {},
   "outputs": [],
   "source": [
    "logistic_model =  LogisticRegressionModel(n, k)"
   ]
  },
  {
   "cell_type": "code",
   "execution_count": 196,
   "id": "b0a64d64-a148-4e60-904a-1ec43a35daf8",
   "metadata": {},
   "outputs": [],
   "source": [
    "class Node:\n",
    "    def __init__(self, value, next_node=None):\n",
    "        self.value = value\n",
    "        self.next_node = next_node\n",
    "    \n",
    "    def set_next_node(self, next_node):\n",
    "        self.next_node = next_node\n",
    "    \n",
    "    def get_next_node(self):\n",
    "        return self.next_node\n",
    "  \n",
    "    def get_value(self):\n",
    "        return self.value\n",
    "    \n",
    "n2 = Node(logistic_model, None)    \n",
    "n1 = Node(spike_per_N[0], n2)\n"
   ]
  },
  {
   "cell_type": "code",
   "execution_count": 201,
   "id": "47b32d40-0999-4412-9913-91235778d515",
   "metadata": {},
   "outputs": [
    {
     "ename": "TypeError",
     "evalue": "__init__() missing 1 required positional argument: 'value'",
     "output_type": "error",
     "traceback": [
      "\u001b[1;31m---------------------------------------------------------------------------\u001b[0m",
      "\u001b[1;31mTypeError\u001b[0m                                 Traceback (most recent call last)",
      "\u001b[1;32m~\\AppData\\Local\\Temp/ipykernel_37580/2841738207.py\u001b[0m in \u001b[0;36m<module>\u001b[1;34m\u001b[0m\n\u001b[1;32m----> 1\u001b[1;33m \u001b[0mcc\u001b[0m \u001b[1;33m=\u001b[0m \u001b[0mNode\u001b[0m\u001b[1;33m(\u001b[0m\u001b[1;33m)\u001b[0m\u001b[1;33m\u001b[0m\u001b[1;33m\u001b[0m\u001b[0m\n\u001b[0m\u001b[0;32m      2\u001b[0m \u001b[0mcc\u001b[0m\u001b[1;33m.\u001b[0m\u001b[0mget_value\u001b[0m\u001b[1;33m\u001b[0m\u001b[1;33m\u001b[0m\u001b[0m\n",
      "\u001b[1;31mTypeError\u001b[0m: __init__() missing 1 required positional argument: 'value'"
     ]
    }
   ],
   "source": []
  },
  {
   "cell_type": "code",
   "execution_count": null,
   "id": "cb2c8092-9666-4b6a-b5ad-18f5b415577a",
   "metadata": {},
   "outputs": [],
   "source": []
  }
 ],
 "metadata": {
  "kernelspec": {
   "display_name": "Python 3 (ipykernel)",
   "language": "python",
   "name": "python3"
  },
  "language_info": {
   "codemirror_mode": {
    "name": "ipython",
    "version": 3
   },
   "file_extension": ".py",
   "mimetype": "text/x-python",
   "name": "python",
   "nbconvert_exporter": "python",
   "pygments_lexer": "ipython3",
   "version": "3.9.7"
  }
 },
 "nbformat": 4,
 "nbformat_minor": 5
}
