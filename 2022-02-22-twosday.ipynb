{
 "cells": [
  {
   "cell_type": "markdown",
   "id": "864393a5-5122-4a18-8680-03eb4b33adb3",
   "metadata": {},
   "source": [
    "# generative model of PGs "
   ]
  },
  {
   "cell_type": "code",
   "execution_count": 1,
   "id": "d3b1e9e2-6770-450a-b0d5-a2aa24d3fd80",
   "metadata": {},
   "outputs": [],
   "source": [
    "from brian2 import *\n",
    "%matplotlib inline\n",
    "from brian2 import SpikeGeneratorGroup\n",
    "import numpy as np\n",
    "\n",
    "import random\n",
    "import pandas as pd"
   ]
  },
  {
   "cell_type": "code",
   "execution_count": 2,
   "id": "b46df3b6-682a-4874-bf5a-ad8cdf9028bd",
   "metadata": {
    "tags": []
   },
   "outputs": [],
   "source": [
    "N = 10\n",
    "n_PGs = 10\n",
    "duration = 1000*ms\n",
    "PGs = {}\n",
    "a = np.arange(N)\n",
    "\n",
    "cmap = plt.cm.get_cmap(\"plasma\")\n",
    "color_dict = pd.Series({i:cmap(i/len(a)) for i,k in enumerate(a)})\n",
    "\n",
    "for i in range(n_PGs) :\n",
    "    n_indice = np.random.randint(0, N, size = 1)\n",
    "    indices = random.sample(range(N), int(n_indice))\n",
    "    times = np.random.rand(int(n_indice))*100*ms\n",
    "    \n",
    "    G = SpikeGeneratorGroup(10, indices, times)\n",
    "    S = SpikeMonitor(G)\n",
    "    \n",
    "    run(duration)\n",
    "    \n",
    "    t = ([S.t/ms])\n",
    "    I = S.i\n",
    "    PGs[i] = (t, I)"
   ]
  },
  {
   "cell_type": "code",
   "execution_count": 3,
   "id": "17210b3c-8445-413e-b175-273cc71cf3ad",
   "metadata": {},
   "outputs": [
    {
     "data": {
      "image/png": "[encoded data removed]",
      "text/plain": [
       "<Figure size 432x288 with 1 Axes>"
      ]
     },
     "metadata": {
      "needs_background": "light"
     },
     "output_type": "display_data"
    }
   ],
   "source": [
    "for i in PGs:\n",
    "    plt.scatter(PGs[i][0], PGs[i][1], color = \"k\", marker = \"|\")\n",
    "    xlabel('Time (ms)')\n",
    "    ylabel('Neuron index');"
   ]
  },
  {
   "cell_type": "code",
   "execution_count": 4,
   "id": "fe8247d6-9f87-4c14-9dd2-243e247520f8",
   "metadata": {},
   "outputs": [
    {
     "data": {
      "image/png": "[encoded data removed]",
      "text/plain": [
       "<Figure size 432x288 with 1 Axes>"
      ]
     },
     "metadata": {
      "needs_background": "light"
     },
     "output_type": "display_data"
    }
   ],
   "source": [
    "for i in PGs:\n",
    "    plt.scatter(PGs[i][0], PGs[i][1], color = color_dict[i], marker = \"|\")\n",
    "    xlabel('Time (ms)')\n",
    "    ylabel('Neuron index');"
   ]
  },
  {
   "cell_type": "code",
   "execution_count": 105,
   "id": "06d4dc06-eaac-4153-aa45-63286876a252",
   "metadata": {},
   "outputs": [],
   "source": [
    "last_t = []\n",
    "last_i = []\n",
    "for i in PGs : \n",
    "    last_t.append(PGs[i][0][-1][-1])\n",
    "    last_i.append(PGs[i][1][-1])"
   ]
  },
  {
   "cell_type": "code",
   "execution_count": 111,
   "id": "c4810311-7585-42e1-a13d-6df77ed11c1a",
   "metadata": {},
   "outputs": [
    {
     "data": {
      "image/png": "[encoded data removed]",
      "text/plain": [
       "<Figure size 432x288 with 1 Axes>"
      ]
     },
     "metadata": {
      "needs_background": "light"
     },
     "output_type": "display_data"
    }
   ],
   "source": [
    "for i in PGs:\n",
    "    plt.scatter(last_t[i], last_i[i], color = color_dict[i], marker = \"|\")\n",
    "    xlabel('Time (ms)')\n",
    "    ylabel('Neuron index');"
   ]
  }
 ],
 "metadata": {
  "kernelspec": {
   "display_name": "Python 3 (ipykernel)",
   "language": "python",
   "name": "python3"
  },
  "language_info": {
   "codemirror_mode": {
    "name": "ipython",
    "version": 3
   },
   "file_extension": ".py",
   "mimetype": "text/x-python",
   "name": "python",
   "nbconvert_exporter": "python",
   "pygments_lexer": "ipython3",
   "version": "3.9.7"
  }
 },
 "nbformat": 4,
 "nbformat_minor": 5
}
